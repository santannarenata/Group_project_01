{
 "cells": [
  {
   "cell_type": "code",
   "execution_count": 134,
   "metadata": {
    "scrolled": true
   },
   "outputs": [],
   "source": [
    "# Dependencies and Setup\n",
    "import matplotlib.pyplot as plt\n",
    "import requests\n",
    "import pandas as pd\n",
    "import json\n",
    "import numpy as np\n",
    "import time"
   ]
  },
  {
   "cell_type": "code",
   "execution_count": 135,
   "metadata": {},
   "outputs": [
    {
     "name": "stdout",
     "output_type": "stream",
     "text": [
      "<Response [200]>\n"
     ]
    }
   ],
   "source": [
    "# URL for GET requests to retrieve vehicle data\n",
    "\n",
    "url = \"https://data.cms.gov/resource/tcsp-6e99.json?$limit=200000\"\n",
    "\n",
    "# Create a variable for and print the response object to the console to make sure we have a connection to the API\n",
    "Response = requests.get(url)\n",
    "print(Response)\n"
   ]
  },
  {
   "cell_type": "code",
   "execution_count": 136,
   "metadata": {},
   "outputs": [],
   "source": [
    "# Create a variable to hold the response data in json format\n",
    "Response_Data = Response.json()\n",
    "\n",
    "# print(json.dumps(Response_Data, indent=4, sort_keys=True))\n"
   ]
  },
  {
   "cell_type": "code",
   "execution_count": 137,
   "metadata": {
    "scrolled": true
   },
   "outputs": [
    {
     "data": {
      "text/html": [
       "<div>\n",
       "<style scoped>\n",
       "    .dataframe tbody tr th:only-of-type {\n",
       "        vertical-align: middle;\n",
       "    }\n",
       "\n",
       "    .dataframe tbody tr th {\n",
       "        vertical-align: top;\n",
       "    }\n",
       "\n",
       "    .dataframe thead th {\n",
       "        text-align: right;\n",
       "    }\n",
       "</style>\n",
       "<table border=\"1\" class=\"dataframe\">\n",
       "  <thead>\n",
       "    <tr style=\"text-align: right;\">\n",
       "      <th></th>\n",
       "      <th>drg_definition</th>\n",
       "      <th>provider_id</th>\n",
       "      <th>provider_name</th>\n",
       "      <th>provider_street_address</th>\n",
       "      <th>provider_city</th>\n",
       "      <th>provider_state</th>\n",
       "      <th>provider_zip_code</th>\n",
       "      <th>hospital_referral_region</th>\n",
       "      <th>total_discharges</th>\n",
       "      <th>average_covered_charges</th>\n",
       "      <th>average_total_payments</th>\n",
       "      <th>average_medicare_payments</th>\n",
       "    </tr>\n",
       "  </thead>\n",
       "  <tbody>\n",
       "    <tr>\n",
       "      <th>0</th>\n",
       "      <td>023 - CRANIOTOMY W MAJOR DEVICE IMPLANT OR ACU...</td>\n",
       "      <td>10001</td>\n",
       "      <td>SOUTHEAST ALABAMA MEDICAL CENTER</td>\n",
       "      <td>1108 ROSS CLARK CIRCLE</td>\n",
       "      <td>DOTHAN</td>\n",
       "      <td>AL</td>\n",
       "      <td>36301</td>\n",
       "      <td>AL - Dothan</td>\n",
       "      <td>28</td>\n",
       "      <td>117117.7857</td>\n",
       "      <td>25823.71429</td>\n",
       "      <td>24057.39286</td>\n",
       "    </tr>\n",
       "    <tr>\n",
       "      <th>1</th>\n",
       "      <td>025 - CRANIOTOMY &amp; ENDOVASCULAR INTRACRANIAL P...</td>\n",
       "      <td>10001</td>\n",
       "      <td>SOUTHEAST ALABAMA MEDICAL CENTER</td>\n",
       "      <td>1108 ROSS CLARK CIRCLE</td>\n",
       "      <td>DOTHAN</td>\n",
       "      <td>AL</td>\n",
       "      <td>36301</td>\n",
       "      <td>AL - Dothan</td>\n",
       "      <td>32</td>\n",
       "      <td>98357.5625</td>\n",
       "      <td>20688.34375</td>\n",
       "      <td>19791.40625</td>\n",
       "    </tr>\n",
       "    <tr>\n",
       "      <th>2</th>\n",
       "      <td>027 - CRANIOTOMY &amp; ENDOVASCULAR INTRACRANIAL P...</td>\n",
       "      <td>10001</td>\n",
       "      <td>SOUTHEAST ALABAMA MEDICAL CENTER</td>\n",
       "      <td>1108 ROSS CLARK CIRCLE</td>\n",
       "      <td>DOTHAN</td>\n",
       "      <td>AL</td>\n",
       "      <td>36301</td>\n",
       "      <td>AL - Dothan</td>\n",
       "      <td>11</td>\n",
       "      <td>69153.54546</td>\n",
       "      <td>11811.18182</td>\n",
       "      <td>8194.363636</td>\n",
       "    </tr>\n",
       "    <tr>\n",
       "      <th>3</th>\n",
       "      <td>037 - EXTRACRANIAL PROCEDURES W MCC</td>\n",
       "      <td>10001</td>\n",
       "      <td>SOUTHEAST ALABAMA MEDICAL CENTER</td>\n",
       "      <td>1108 ROSS CLARK CIRCLE</td>\n",
       "      <td>DOTHAN</td>\n",
       "      <td>AL</td>\n",
       "      <td>36301</td>\n",
       "      <td>AL - Dothan</td>\n",
       "      <td>12</td>\n",
       "      <td>100427.3333</td>\n",
       "      <td>19134</td>\n",
       "      <td>18154</td>\n",
       "    </tr>\n",
       "    <tr>\n",
       "      <th>4</th>\n",
       "      <td>038 - EXTRACRANIAL PROCEDURES W CC</td>\n",
       "      <td>10001</td>\n",
       "      <td>SOUTHEAST ALABAMA MEDICAL CENTER</td>\n",
       "      <td>1108 ROSS CLARK CIRCLE</td>\n",
       "      <td>DOTHAN</td>\n",
       "      <td>AL</td>\n",
       "      <td>36301</td>\n",
       "      <td>AL - Dothan</td>\n",
       "      <td>17</td>\n",
       "      <td>58199.47059</td>\n",
       "      <td>8519.470588</td>\n",
       "      <td>6714.882353</td>\n",
       "    </tr>\n",
       "  </tbody>\n",
       "</table>\n",
       "</div>"
      ],
      "text/plain": [
       "                                      drg_definition provider_id  \\\n",
       "0  023 - CRANIOTOMY W MAJOR DEVICE IMPLANT OR ACU...       10001   \n",
       "1  025 - CRANIOTOMY & ENDOVASCULAR INTRACRANIAL P...       10001   \n",
       "2  027 - CRANIOTOMY & ENDOVASCULAR INTRACRANIAL P...       10001   \n",
       "3                037 - EXTRACRANIAL PROCEDURES W MCC       10001   \n",
       "4                 038 - EXTRACRANIAL PROCEDURES W CC       10001   \n",
       "\n",
       "                      provider_name provider_street_address provider_city  \\\n",
       "0  SOUTHEAST ALABAMA MEDICAL CENTER  1108 ROSS CLARK CIRCLE        DOTHAN   \n",
       "1  SOUTHEAST ALABAMA MEDICAL CENTER  1108 ROSS CLARK CIRCLE        DOTHAN   \n",
       "2  SOUTHEAST ALABAMA MEDICAL CENTER  1108 ROSS CLARK CIRCLE        DOTHAN   \n",
       "3  SOUTHEAST ALABAMA MEDICAL CENTER  1108 ROSS CLARK CIRCLE        DOTHAN   \n",
       "4  SOUTHEAST ALABAMA MEDICAL CENTER  1108 ROSS CLARK CIRCLE        DOTHAN   \n",
       "\n",
       "  provider_state provider_zip_code hospital_referral_region total_discharges  \\\n",
       "0             AL             36301              AL - Dothan               28   \n",
       "1             AL             36301              AL - Dothan               32   \n",
       "2             AL             36301              AL - Dothan               11   \n",
       "3             AL             36301              AL - Dothan               12   \n",
       "4             AL             36301              AL - Dothan               17   \n",
       "\n",
       "  average_covered_charges average_total_payments average_medicare_payments  \n",
       "0             117117.7857            25823.71429               24057.39286  \n",
       "1              98357.5625            20688.34375               19791.40625  \n",
       "2             69153.54546            11811.18182               8194.363636  \n",
       "3             100427.3333                  19134                     18154  \n",
       "4             58199.47059            8519.470588               6714.882353  "
      ]
     },
     "execution_count": 137,
     "metadata": {},
     "output_type": "execute_result"
    }
   ],
   "source": [
    "# Generate a DataFrame from the response data\n",
    "DataFrame = pd.DataFrame(Response_Data)\n",
    "\n",
    "# Display top 5 rows of dataframe for reference\n",
    "\n",
    "DataFrame.head()"
   ]
  },
  {
   "cell_type": "code",
   "execution_count": 138,
   "metadata": {},
   "outputs": [
    {
     "data": {
      "text/html": [
       "<div>\n",
       "<style scoped>\n",
       "    .dataframe tbody tr th:only-of-type {\n",
       "        vertical-align: middle;\n",
       "    }\n",
       "\n",
       "    .dataframe tbody tr th {\n",
       "        vertical-align: top;\n",
       "    }\n",
       "\n",
       "    .dataframe thead th {\n",
       "        text-align: right;\n",
       "    }\n",
       "</style>\n",
       "<table border=\"1\" class=\"dataframe\">\n",
       "  <thead>\n",
       "    <tr style=\"text-align: right;\">\n",
       "      <th></th>\n",
       "      <th>drg_definition</th>\n",
       "      <th>provider_id</th>\n",
       "      <th>provider_name</th>\n",
       "      <th>provider_street_address</th>\n",
       "      <th>provider_city</th>\n",
       "      <th>provider_state</th>\n",
       "      <th>provider_zip_code</th>\n",
       "      <th>hospital_referral_region</th>\n",
       "      <th>total_discharges</th>\n",
       "      <th>average_covered_charges</th>\n",
       "      <th>average_total_payments</th>\n",
       "      <th>average_medicare_payments</th>\n",
       "    </tr>\n",
       "  </thead>\n",
       "  <tbody>\n",
       "    <tr>\n",
       "      <th>count</th>\n",
       "      <td>196325</td>\n",
       "      <td>196325</td>\n",
       "      <td>196325</td>\n",
       "      <td>196325</td>\n",
       "      <td>196325</td>\n",
       "      <td>196325</td>\n",
       "      <td>196325</td>\n",
       "      <td>196325</td>\n",
       "      <td>196325</td>\n",
       "      <td>196325</td>\n",
       "      <td>196325</td>\n",
       "      <td>196325</td>\n",
       "    </tr>\n",
       "    <tr>\n",
       "      <th>unique</th>\n",
       "      <td>563</td>\n",
       "      <td>3182</td>\n",
       "      <td>3077</td>\n",
       "      <td>3172</td>\n",
       "      <td>1905</td>\n",
       "      <td>51</td>\n",
       "      <td>2899</td>\n",
       "      <td>306</td>\n",
       "      <td>784</td>\n",
       "      <td>195067</td>\n",
       "      <td>190125</td>\n",
       "      <td>189584</td>\n",
       "    </tr>\n",
       "    <tr>\n",
       "      <th>top</th>\n",
       "      <td>871 - SEPTICEMIA OR SEVERE SEPSIS W/O MV &gt;96 H...</td>\n",
       "      <td>100007</td>\n",
       "      <td>GOOD SAMARITAN HOSPITAL</td>\n",
       "      <td>601 E ROLLINS ST</td>\n",
       "      <td>CHICAGO</td>\n",
       "      <td>CA</td>\n",
       "      <td>77030</td>\n",
       "      <td>MA - Boston</td>\n",
       "      <td>11</td>\n",
       "      <td>36623.83333</td>\n",
       "      <td>5516</td>\n",
       "      <td>5900</td>\n",
       "    </tr>\n",
       "    <tr>\n",
       "      <th>freq</th>\n",
       "      <td>2838</td>\n",
       "      <td>388</td>\n",
       "      <td>532</td>\n",
       "      <td>388</td>\n",
       "      <td>1641</td>\n",
       "      <td>15216</td>\n",
       "      <td>594</td>\n",
       "      <td>4079</td>\n",
       "      <td>15019</td>\n",
       "      <td>4</td>\n",
       "      <td>6</td>\n",
       "      <td>7</td>\n",
       "    </tr>\n",
       "  </tbody>\n",
       "</table>\n",
       "</div>"
      ],
      "text/plain": [
       "                                           drg_definition provider_id  \\\n",
       "count                                              196325      196325   \n",
       "unique                                                563        3182   \n",
       "top     871 - SEPTICEMIA OR SEVERE SEPSIS W/O MV >96 H...      100007   \n",
       "freq                                                 2838         388   \n",
       "\n",
       "                  provider_name provider_street_address provider_city  \\\n",
       "count                    196325                  196325        196325   \n",
       "unique                     3077                    3172          1905   \n",
       "top     GOOD SAMARITAN HOSPITAL        601 E ROLLINS ST       CHICAGO   \n",
       "freq                        532                     388          1641   \n",
       "\n",
       "       provider_state provider_zip_code hospital_referral_region  \\\n",
       "count          196325            196325                   196325   \n",
       "unique             51              2899                      306   \n",
       "top                CA             77030              MA - Boston   \n",
       "freq            15216               594                     4079   \n",
       "\n",
       "       total_discharges average_covered_charges average_total_payments  \\\n",
       "count            196325                  196325                 196325   \n",
       "unique              784                  195067                 190125   \n",
       "top                  11             36623.83333                   5516   \n",
       "freq              15019                       4                      6   \n",
       "\n",
       "       average_medicare_payments  \n",
       "count                     196325  \n",
       "unique                    189584  \n",
       "top                         5900  \n",
       "freq                           7  "
      ]
     },
     "execution_count": 138,
     "metadata": {},
     "output_type": "execute_result"
    }
   ],
   "source": [
    "# Display a statistical overview of the DataFrame for reference\n",
    "\n",
    "DataFrame.describe()"
   ]
  },
  {
   "cell_type": "code",
   "execution_count": 139,
   "metadata": {},
   "outputs": [
    {
     "data": {
      "text/plain": [
       "drg_definition               196325\n",
       "provider_id                  196325\n",
       "provider_name                196325\n",
       "provider_street_address      196325\n",
       "provider_city                196325\n",
       "provider_state               196325\n",
       "provider_zip_code            196325\n",
       "hospital_referral_region     196325\n",
       "total_discharges             196325\n",
       "average_covered_charges      196325\n",
       "average_total_payments       196325\n",
       "average_medicare_payments    196325\n",
       "dtype: int64"
      ]
     },
     "execution_count": 139,
     "metadata": {},
     "output_type": "execute_result"
    }
   ],
   "source": [
    "# Check to see if there are any incomplete rows\n",
    "DataFrame.count()"
   ]
  },
  {
   "cell_type": "code",
   "execution_count": 140,
   "metadata": {},
   "outputs": [
    {
     "data": {
      "text/plain": [
       "563"
      ]
     },
     "execution_count": 140,
     "metadata": {},
     "output_type": "execute_result"
    }
   ],
   "source": [
    "# Calculate the Number of Unique Diagnosis Related Groups (DRGs): \n",
    "Unique_DRGs = len(DataFrame[\"drg_definition\"].unique())\n",
    "Unique_DRGs"
   ]
  },
  {
   "cell_type": "code",
   "execution_count": 141,
   "metadata": {},
   "outputs": [
    {
     "data": {
      "text/plain": [
       "3182"
      ]
     },
     "execution_count": 141,
     "metadata": {},
     "output_type": "execute_result"
    }
   ],
   "source": [
    "# Calculate the Number of Unique Providers: \n",
    "Unique_Provider_count = len(DataFrame[\"provider_id\"].unique())\n",
    "Unique_Provider_count"
   ]
  },
  {
   "cell_type": "code",
   "execution_count": 142,
   "metadata": {},
   "outputs": [
    {
     "data": {
      "text/plain": [
       "51"
      ]
     },
     "execution_count": 142,
     "metadata": {},
     "output_type": "execute_result"
    }
   ],
   "source": [
    "# Calculate the Total Number of Unique States in the DataFrame\n",
    "Unique_State_Count = len(DataFrame[\"provider_state\"].unique())\n",
    "Unique_State_Count"
   ]
  },
  {
   "cell_type": "code",
   "execution_count": 143,
   "metadata": {},
   "outputs": [
    {
     "data": {
      "text/plain": [
       "2899"
      ]
     },
     "execution_count": 143,
     "metadata": {},
     "output_type": "execute_result"
    }
   ],
   "source": [
    "# Calculate the Total Number of Unique Provider Zip Codes in the DataFrame\n",
    "Unique_Provider_ZipCode_Count = len(DataFrame[\"provider_zip_code\"].unique())\n",
    "Unique_Provider_ZipCode_Count"
   ]
  },
  {
   "cell_type": "code",
   "execution_count": 144,
   "metadata": {},
   "outputs": [
    {
     "data": {
      "text/plain": [
       "306"
      ]
     },
     "execution_count": 144,
     "metadata": {},
     "output_type": "execute_result"
    }
   ],
   "source": [
    "# Calculate the Unique Number of hospital_referral_region_description in the DataFrame\n",
    "Unique_Hospital_Referral_Region_count = len(DataFrame[\"hospital_referral_region\"].unique())\n",
    "Unique_Hospital_Referral_Region_count"
   ]
  },
  {
   "cell_type": "code",
   "execution_count": 145,
   "metadata": {},
   "outputs": [
    {
     "data": {
      "text/plain": [
       "drg_definition               object\n",
       "provider_id                  object\n",
       "provider_name                object\n",
       "provider_street_address      object\n",
       "provider_city                object\n",
       "provider_state               object\n",
       "provider_zip_code            object\n",
       "hospital_referral_region     object\n",
       "total_discharges             object\n",
       "average_covered_charges      object\n",
       "average_total_payments       object\n",
       "average_medicare_payments    object\n",
       "dtype: object"
      ]
     },
     "execution_count": 145,
     "metadata": {},
     "output_type": "execute_result"
    }
   ],
   "source": [
    "# Observe the DataTypes of each column\n",
    "DataFrame.dtypes"
   ]
  },
  {
   "cell_type": "code",
   "execution_count": 146,
   "metadata": {},
   "outputs": [],
   "source": [
    "# Use pd.to_numeric() method to convert the datatype of the Discharge Count column\n",
    "DataFrame['total_discharges'] = pd.to_numeric(DataFrame['total_discharges'])\n",
    "\n",
    "# Use pd.to_numeric() method to convert the datatype of the Average Covered Charges column\n",
    "DataFrame['average_covered_charges'] = pd.to_numeric(DataFrame['average_covered_charges'])\n",
    "\n",
    "# Use pd.to_numeric() method to convert the datatype of the Average Medicare Payments column\n",
    "DataFrame['average_medicare_payments'] = pd.to_numeric(DataFrame['average_medicare_payments'])"
   ]
  },
  {
   "cell_type": "code",
   "execution_count": 147,
   "metadata": {},
   "outputs": [
    {
     "data": {
      "text/plain": [
       "drg_definition                object\n",
       "provider_id                   object\n",
       "provider_name                 object\n",
       "provider_street_address       object\n",
       "provider_city                 object\n",
       "provider_state                object\n",
       "provider_zip_code             object\n",
       "hospital_referral_region      object\n",
       "total_discharges               int64\n",
       "average_covered_charges      float64\n",
       "average_total_payments        object\n",
       "average_medicare_payments    float64\n",
       "dtype: object"
      ]
     },
     "execution_count": 147,
     "metadata": {},
     "output_type": "execute_result"
    }
   ],
   "source": [
    "# Observe the updated DataTypes of each column\n",
    "DataFrame.dtypes"
   ]
  },
  {
   "cell_type": "code",
   "execution_count": 148,
   "metadata": {},
   "outputs": [
    {
     "data": {
      "text/plain": [
       "7382688"
      ]
     },
     "execution_count": 148,
     "metadata": {},
     "output_type": "execute_result"
    }
   ],
   "source": [
    "# Calculate the Total Number of Discharges in the DataFrame\n",
    "Discharge_Count = (DataFrame[\"total_discharges\"].sum())\n",
    "Discharge_Count"
   ]
  },
  {
   "cell_type": "code",
   "execution_count": 149,
   "metadata": {},
   "outputs": [
    {
     "data": {
      "text/plain": [
       "61166.151208427254"
      ]
     },
     "execution_count": 149,
     "metadata": {},
     "output_type": "execute_result"
    }
   ],
   "source": [
    "# Cacluate the average covered charges amount\n",
    "Average_Covered_Charges = DataFrame[\"average_covered_charges\"].mean()\n",
    "Average_Covered_Charges"
   ]
  },
  {
   "cell_type": "code",
   "execution_count": 150,
   "metadata": {},
   "outputs": [
    {
     "data": {
      "text/plain": [
       "3325523.355"
      ]
     },
     "execution_count": 150,
     "metadata": {},
     "output_type": "execute_result"
    }
   ],
   "source": [
    "# Cacluate the max covered charge amount\n",
    "Max_Covered_Charges = DataFrame[\"average_covered_charges\"].max()\n",
    "Max_Covered_Charges"
   ]
  },
  {
   "cell_type": "code",
   "execution_count": 151,
   "metadata": {},
   "outputs": [
    {
     "data": {
      "text/plain": [
       "2644.777778"
      ]
     },
     "execution_count": 151,
     "metadata": {},
     "output_type": "execute_result"
    }
   ],
   "source": [
    "# Cacluate the min covered charge amount\n",
    "Min_Covered_Charges = DataFrame[\"average_covered_charges\"].min()\n",
    "Min_Covered_Charges"
   ]
  },
  {
   "cell_type": "code",
   "execution_count": 152,
   "metadata": {},
   "outputs": [
    {
     "data": {
      "text/html": [
       "<div>\n",
       "<style scoped>\n",
       "    .dataframe tbody tr th:only-of-type {\n",
       "        vertical-align: middle;\n",
       "    }\n",
       "\n",
       "    .dataframe tbody tr th {\n",
       "        vertical-align: top;\n",
       "    }\n",
       "\n",
       "    .dataframe thead th {\n",
       "        text-align: right;\n",
       "    }\n",
       "</style>\n",
       "<table border=\"1\" class=\"dataframe\">\n",
       "  <thead>\n",
       "    <tr style=\"text-align: right;\">\n",
       "      <th></th>\n",
       "      <th>Unique DRGs</th>\n",
       "      <th>Unique Providers</th>\n",
       "      <th>Unique Provider States</th>\n",
       "      <th>Unique Provider Zip Codes</th>\n",
       "      <th>Unique Regions</th>\n",
       "      <th>Total Discharge Count</th>\n",
       "      <th>Average Charge</th>\n",
       "      <th>Max Charge</th>\n",
       "      <th>Min Charge</th>\n",
       "    </tr>\n",
       "  </thead>\n",
       "  <tbody>\n",
       "    <tr>\n",
       "      <th>0</th>\n",
       "      <td>563</td>\n",
       "      <td>3182</td>\n",
       "      <td>51</td>\n",
       "      <td>2899</td>\n",
       "      <td>306</td>\n",
       "      <td>7382688</td>\n",
       "      <td>61166.151208</td>\n",
       "      <td>3325523.355</td>\n",
       "      <td>2644.777778</td>\n",
       "    </tr>\n",
       "  </tbody>\n",
       "</table>\n",
       "</div>"
      ],
      "text/plain": [
       "   Unique DRGs  Unique Providers  Unique Provider States  \\\n",
       "0          563              3182                      51   \n",
       "\n",
       "   Unique Provider Zip Codes  Unique Regions  Total Discharge Count  \\\n",
       "0                       2899             306                7382688   \n",
       "\n",
       "   Average Charge   Max Charge   Min Charge  \n",
       "0    61166.151208  3325523.355  2644.777778  "
      ]
     },
     "execution_count": 152,
     "metadata": {},
     "output_type": "execute_result"
    }
   ],
   "source": [
    "# Create a summary data frame to hold the Analysis Results\n",
    "\n",
    "DRG_Analysis_df = pd.DataFrame([\n",
    "    {\"Unique DRGs\": Unique_DRGs, \n",
    "     \"Unique Providers\": Unique_Provider_count, \n",
    "     \"Unique Provider States\": Unique_State_Count, \n",
    "     \"Unique Provider Zip Codes\": Unique_Provider_ZipCode_Count, \n",
    "     \"Unique Regions\": Unique_Hospital_Referral_Region_count,\n",
    "     \"Total Discharge Count\": Discharge_Count,\n",
    "     \"Average Charge\": Average_Covered_Charges,\n",
    "     \"Max Charge\": Max_Covered_Charges,\n",
    "     \"Min Charge\": Min_Covered_Charges\n",
    "    }\n",
    "])\n",
    "DRG_Analysis_df"
   ]
  },
  {
   "cell_type": "code",
   "execution_count": 153,
   "metadata": {},
   "outputs": [
    {
     "data": {
      "text/html": [
       "<div>\n",
       "<style scoped>\n",
       "    .dataframe tbody tr th:only-of-type {\n",
       "        vertical-align: middle;\n",
       "    }\n",
       "\n",
       "    .dataframe tbody tr th {\n",
       "        vertical-align: top;\n",
       "    }\n",
       "\n",
       "    .dataframe thead th {\n",
       "        text-align: right;\n",
       "    }\n",
       "</style>\n",
       "<table border=\"1\" class=\"dataframe\">\n",
       "  <thead>\n",
       "    <tr style=\"text-align: right;\">\n",
       "      <th></th>\n",
       "      <th>Unique DRGs</th>\n",
       "      <th>Unique Providers</th>\n",
       "      <th>Unique Provider States</th>\n",
       "      <th>Unique Provider Zip Codes</th>\n",
       "      <th>Unique Regions</th>\n",
       "      <th>Total Discharge Count</th>\n",
       "      <th>Average Charge</th>\n",
       "      <th>Max Charge</th>\n",
       "      <th>Min Charge</th>\n",
       "    </tr>\n",
       "  </thead>\n",
       "  <tbody>\n",
       "    <tr>\n",
       "      <th>0</th>\n",
       "      <td>563</td>\n",
       "      <td>3182</td>\n",
       "      <td>51</td>\n",
       "      <td>2899</td>\n",
       "      <td>306</td>\n",
       "      <td>7382688</td>\n",
       "      <td>$61,166.15</td>\n",
       "      <td>$3,325,523.35</td>\n",
       "      <td>$2,644.78</td>\n",
       "    </tr>\n",
       "  </tbody>\n",
       "</table>\n",
       "</div>"
      ],
      "text/plain": [
       "   Unique DRGs  Unique Providers  Unique Provider States  \\\n",
       "0          563              3182                      51   \n",
       "\n",
       "   Unique Provider Zip Codes  Unique Regions  Total Discharge Count  \\\n",
       "0                       2899             306                7382688   \n",
       "\n",
       "  Average Charge     Max Charge Min Charge  \n",
       "0     $61,166.15  $3,325,523.35  $2,644.78  "
      ]
     },
     "execution_count": 153,
     "metadata": {},
     "output_type": "execute_result"
    }
   ],
   "source": [
    "# Give the displayed data cleaner formatting\n",
    "\n",
    "DRG_Analysis_Formatted_df = DRG_Analysis_df\n",
    "\n",
    "DRG_Analysis_Formatted_df[\"Average Charge\"] = DRG_Analysis_df[\"Average Charge\"].map(\"${:,.2f}\".format)\n",
    "DRG_Analysis_Formatted_df[\"Max Charge\"] = DRG_Analysis_df[\"Max Charge\"].map(\"${:,.2f}\".format)\n",
    "DRG_Analysis_Formatted_df[\"Min Charge\"] = DRG_Analysis_df[\"Min Charge\"].map(\"${:,.2f}\".format)\n",
    "\n",
    "DRG_Analysis_Formatted_df"
   ]
  },
  {
   "cell_type": "code",
   "execution_count": 154,
   "metadata": {},
   "outputs": [
    {
     "data": {
      "text/html": [
       "<div>\n",
       "<style scoped>\n",
       "    .dataframe tbody tr th:only-of-type {\n",
       "        vertical-align: middle;\n",
       "    }\n",
       "\n",
       "    .dataframe tbody tr th {\n",
       "        vertical-align: top;\n",
       "    }\n",
       "\n",
       "    .dataframe thead th {\n",
       "        text-align: right;\n",
       "    }\n",
       "</style>\n",
       "<table border=\"1\" class=\"dataframe\">\n",
       "  <thead>\n",
       "    <tr style=\"text-align: right;\">\n",
       "      <th></th>\n",
       "      <th>drg_definition</th>\n",
       "      <th>provider_id</th>\n",
       "      <th>provider_name</th>\n",
       "      <th>provider_street_address</th>\n",
       "      <th>provider_city</th>\n",
       "      <th>provider_state</th>\n",
       "      <th>provider_zip_code</th>\n",
       "      <th>hospital_referral_region</th>\n",
       "      <th>total_discharges</th>\n",
       "      <th>average_covered_charges</th>\n",
       "      <th>average_total_payments</th>\n",
       "      <th>average_medicare_payments</th>\n",
       "    </tr>\n",
       "  </thead>\n",
       "  <tbody>\n",
       "    <tr>\n",
       "      <th>162142</th>\n",
       "      <td>190 - CHRONIC OBSTRUCTIVE PULMONARY DISEASE W MCC</td>\n",
       "      <td>440001</td>\n",
       "      <td>UNICOI COUNTY MEMORIAL HOSPITAL</td>\n",
       "      <td>GREENWAY CIRCLE</td>\n",
       "      <td>ERWIN</td>\n",
       "      <td>TN</td>\n",
       "      <td>37650</td>\n",
       "      <td>TN - Johnson City</td>\n",
       "      <td>33</td>\n",
       "      <td>21478.03030</td>\n",
       "      <td>6445.787879</td>\n",
       "      <td>5810.272727</td>\n",
       "    </tr>\n",
       "    <tr>\n",
       "      <th>162143</th>\n",
       "      <td>871 - SEPTICEMIA OR SEVERE SEPSIS W/O MV &gt;96 H...</td>\n",
       "      <td>440001</td>\n",
       "      <td>UNICOI COUNTY MEMORIAL HOSPITAL</td>\n",
       "      <td>GREENWAY CIRCLE</td>\n",
       "      <td>ERWIN</td>\n",
       "      <td>TN</td>\n",
       "      <td>37650</td>\n",
       "      <td>TN - Johnson City</td>\n",
       "      <td>25</td>\n",
       "      <td>23957.88000</td>\n",
       "      <td>9588.52</td>\n",
       "      <td>8595.080000</td>\n",
       "    </tr>\n",
       "    <tr>\n",
       "      <th>162144</th>\n",
       "      <td>003 - ECMO OR TRACH W MV &gt;96 HRS OR PDX EXC FA...</td>\n",
       "      <td>440002</td>\n",
       "      <td>JACKSON-MADISON COUNTY GENERAL HOSPITAL</td>\n",
       "      <td>620 SKYLINE DRIVE</td>\n",
       "      <td>JACKSON</td>\n",
       "      <td>TN</td>\n",
       "      <td>38301</td>\n",
       "      <td>TN - Jackson</td>\n",
       "      <td>21</td>\n",
       "      <td>518677.85710</td>\n",
       "      <td>139743.1905</td>\n",
       "      <td>132983.761900</td>\n",
       "    </tr>\n",
       "    <tr>\n",
       "      <th>162145</th>\n",
       "      <td>004 - TRACH W MV &gt;96 HRS OR PDX EXC FACE, MOUT...</td>\n",
       "      <td>440002</td>\n",
       "      <td>JACKSON-MADISON COUNTY GENERAL HOSPITAL</td>\n",
       "      <td>620 SKYLINE DRIVE</td>\n",
       "      <td>JACKSON</td>\n",
       "      <td>TN</td>\n",
       "      <td>38301</td>\n",
       "      <td>TN - Jackson</td>\n",
       "      <td>25</td>\n",
       "      <td>261867.40000</td>\n",
       "      <td>68447.44</td>\n",
       "      <td>64716.840000</td>\n",
       "    </tr>\n",
       "    <tr>\n",
       "      <th>162146</th>\n",
       "      <td>023 - CRANIOTOMY W MAJOR DEVICE IMPLANT OR ACU...</td>\n",
       "      <td>440002</td>\n",
       "      <td>JACKSON-MADISON COUNTY GENERAL HOSPITAL</td>\n",
       "      <td>620 SKYLINE DRIVE</td>\n",
       "      <td>JACKSON</td>\n",
       "      <td>TN</td>\n",
       "      <td>38301</td>\n",
       "      <td>TN - Jackson</td>\n",
       "      <td>21</td>\n",
       "      <td>75959.14286</td>\n",
       "      <td>28393.71429</td>\n",
       "      <td>27449.904760</td>\n",
       "    </tr>\n",
       "  </tbody>\n",
       "</table>\n",
       "</div>"
      ],
      "text/plain": [
       "                                           drg_definition provider_id  \\\n",
       "162142  190 - CHRONIC OBSTRUCTIVE PULMONARY DISEASE W MCC      440001   \n",
       "162143  871 - SEPTICEMIA OR SEVERE SEPSIS W/O MV >96 H...      440001   \n",
       "162144  003 - ECMO OR TRACH W MV >96 HRS OR PDX EXC FA...      440002   \n",
       "162145  004 - TRACH W MV >96 HRS OR PDX EXC FACE, MOUT...      440002   \n",
       "162146  023 - CRANIOTOMY W MAJOR DEVICE IMPLANT OR ACU...      440002   \n",
       "\n",
       "                                  provider_name provider_street_address  \\\n",
       "162142          UNICOI COUNTY MEMORIAL HOSPITAL         GREENWAY CIRCLE   \n",
       "162143          UNICOI COUNTY MEMORIAL HOSPITAL         GREENWAY CIRCLE   \n",
       "162144  JACKSON-MADISON COUNTY GENERAL HOSPITAL       620 SKYLINE DRIVE   \n",
       "162145  JACKSON-MADISON COUNTY GENERAL HOSPITAL       620 SKYLINE DRIVE   \n",
       "162146  JACKSON-MADISON COUNTY GENERAL HOSPITAL       620 SKYLINE DRIVE   \n",
       "\n",
       "       provider_city provider_state provider_zip_code  \\\n",
       "162142         ERWIN             TN             37650   \n",
       "162143         ERWIN             TN             37650   \n",
       "162144       JACKSON             TN             38301   \n",
       "162145       JACKSON             TN             38301   \n",
       "162146       JACKSON             TN             38301   \n",
       "\n",
       "       hospital_referral_region  total_discharges  average_covered_charges  \\\n",
       "162142        TN - Johnson City                33              21478.03030   \n",
       "162143        TN - Johnson City                25              23957.88000   \n",
       "162144             TN - Jackson                21             518677.85710   \n",
       "162145             TN - Jackson                25             261867.40000   \n",
       "162146             TN - Jackson                21              75959.14286   \n",
       "\n",
       "       average_total_payments  average_medicare_payments  \n",
       "162142            6445.787879                5810.272727  \n",
       "162143                9588.52                8595.080000  \n",
       "162144            139743.1905              132983.761900  \n",
       "162145               68447.44               64716.840000  \n",
       "162146            28393.71429               27449.904760  "
      ]
     },
     "execution_count": 154,
     "metadata": {},
     "output_type": "execute_result"
    }
   ],
   "source": [
    "# Filter the data so that only TN data is in the dataframe\n",
    "\n",
    "DataFrame_TN = DataFrame.loc[DataFrame[\"provider_state\"] == \"TN\", :]\n",
    "DataFrame_TN.head()"
   ]
  },
  {
   "cell_type": "code",
   "execution_count": 155,
   "metadata": {},
   "outputs": [
    {
     "data": {
      "text/html": [
       "<div>\n",
       "<style scoped>\n",
       "    .dataframe tbody tr th:only-of-type {\n",
       "        vertical-align: middle;\n",
       "    }\n",
       "\n",
       "    .dataframe tbody tr th {\n",
       "        vertical-align: top;\n",
       "    }\n",
       "\n",
       "    .dataframe thead th {\n",
       "        text-align: right;\n",
       "    }\n",
       "</style>\n",
       "<table border=\"1\" class=\"dataframe\">\n",
       "  <thead>\n",
       "    <tr style=\"text-align: right;\">\n",
       "      <th></th>\n",
       "      <th>total_discharges</th>\n",
       "      <th>average_covered_charges</th>\n",
       "      <th>average_medicare_payments</th>\n",
       "    </tr>\n",
       "  </thead>\n",
       "  <tbody>\n",
       "    <tr>\n",
       "      <th>count</th>\n",
       "      <td>4932.000000</td>\n",
       "      <td>4.932000e+03</td>\n",
       "      <td>4932.000000</td>\n",
       "    </tr>\n",
       "    <tr>\n",
       "      <th>mean</th>\n",
       "      <td>39.420316</td>\n",
       "      <td>5.485210e+04</td>\n",
       "      <td>10259.199905</td>\n",
       "    </tr>\n",
       "    <tr>\n",
       "      <th>std</th>\n",
       "      <td>61.416728</td>\n",
       "      <td>5.965389e+04</td>\n",
       "      <td>11359.757088</td>\n",
       "    </tr>\n",
       "    <tr>\n",
       "      <th>min</th>\n",
       "      <td>11.000000</td>\n",
       "      <td>5.628885e+03</td>\n",
       "      <td>1825.655172</td>\n",
       "    </tr>\n",
       "    <tr>\n",
       "      <th>25%</th>\n",
       "      <td>15.000000</td>\n",
       "      <td>2.272811e+04</td>\n",
       "      <td>4430.423986</td>\n",
       "    </tr>\n",
       "    <tr>\n",
       "      <th>50%</th>\n",
       "      <td>22.000000</td>\n",
       "      <td>3.694550e+04</td>\n",
       "      <td>6891.458442</td>\n",
       "    </tr>\n",
       "    <tr>\n",
       "      <th>75%</th>\n",
       "      <td>40.000000</td>\n",
       "      <td>6.294048e+04</td>\n",
       "      <td>11152.576390</td>\n",
       "    </tr>\n",
       "    <tr>\n",
       "      <th>max</th>\n",
       "      <td>1290.000000</td>\n",
       "      <td>1.156043e+06</td>\n",
       "      <td>200106.894700</td>\n",
       "    </tr>\n",
       "  </tbody>\n",
       "</table>\n",
       "</div>"
      ],
      "text/plain": [
       "       total_discharges  average_covered_charges  average_medicare_payments\n",
       "count       4932.000000             4.932000e+03                4932.000000\n",
       "mean          39.420316             5.485210e+04               10259.199905\n",
       "std           61.416728             5.965389e+04               11359.757088\n",
       "min           11.000000             5.628885e+03                1825.655172\n",
       "25%           15.000000             2.272811e+04                4430.423986\n",
       "50%           22.000000             3.694550e+04                6891.458442\n",
       "75%           40.000000             6.294048e+04               11152.576390\n",
       "max         1290.000000             1.156043e+06              200106.894700"
      ]
     },
     "execution_count": 155,
     "metadata": {},
     "output_type": "execute_result"
    }
   ],
   "source": [
    "# Display a statistical overview of the TN DataFrame for reference\n",
    "\n",
    "DataFrame_TN.describe()"
   ]
  },
  {
   "cell_type": "code",
   "execution_count": 156,
   "metadata": {},
   "outputs": [
    {
     "data": {
      "text/plain": [
       "367"
      ]
     },
     "execution_count": 156,
     "metadata": {},
     "output_type": "execute_result"
    }
   ],
   "source": [
    "# Calculate the Number of Unique Diagnosis Related Groups (DRGs): \n",
    "Unique_DRGs_TN = len(DataFrame_TN[\"drg_definition\"].unique())\n",
    "Unique_DRGs_TN"
   ]
  },
  {
   "cell_type": "code",
   "execution_count": 157,
   "metadata": {},
   "outputs": [
    {
     "data": {
      "text/plain": [
       "88"
      ]
     },
     "execution_count": 157,
     "metadata": {},
     "output_type": "execute_result"
    }
   ],
   "source": [
    "# Calculate the Number of Unique Providers in TN: \n",
    "Unique_Provider_count_TN = len(DataFrame_TN[\"provider_id\"].unique())\n",
    "Unique_Provider_count_TN"
   ]
  },
  {
   "cell_type": "code",
   "execution_count": 158,
   "metadata": {},
   "outputs": [
    {
     "data": {
      "text/plain": [
       "8"
      ]
     },
     "execution_count": 158,
     "metadata": {},
     "output_type": "execute_result"
    }
   ],
   "source": [
    "# Calculate the Unique Number of hospital_referral_region_description in TN \n",
    "Unique_Hospital_Referral_Region_count_TN = len(DataFrame_TN[\"hospital_referral_region\"].unique())\n",
    "Unique_Hospital_Referral_Region_count_TN"
   ]
  },
  {
   "cell_type": "code",
   "execution_count": 159,
   "metadata": {},
   "outputs": [
    {
     "data": {
      "text/plain": [
       "194421"
      ]
     },
     "execution_count": 159,
     "metadata": {},
     "output_type": "execute_result"
    }
   ],
   "source": [
    "# Calculate the Total Number of Discharges in TN \n",
    "Discharge_Count_TN = (DataFrame_TN[\"total_discharges\"].sum())\n",
    "Discharge_Count_TN\n"
   ]
  },
  {
   "cell_type": "code",
   "execution_count": 160,
   "metadata": {},
   "outputs": [
    {
     "data": {
      "text/plain": [
       "54852.10173436169"
      ]
     },
     "execution_count": 160,
     "metadata": {},
     "output_type": "execute_result"
    }
   ],
   "source": [
    "# Cacluate the average covered charges amount in TN\n",
    "Average_Covered_Charges_TN = DataFrame_TN[\"average_covered_charges\"].mean()\n",
    "Average_Covered_Charges_TN\n"
   ]
  },
  {
   "cell_type": "code",
   "execution_count": 161,
   "metadata": {},
   "outputs": [
    {
     "data": {
      "text/plain": [
       "1156043.0"
      ]
     },
     "execution_count": 161,
     "metadata": {},
     "output_type": "execute_result"
    }
   ],
   "source": [
    "# Cacluate the max covered charge amount in TN\n",
    "Max_Covered_Charges_TN = DataFrame_TN[\"average_covered_charges\"].max()\n",
    "Max_Covered_Charges_TN\n"
   ]
  },
  {
   "cell_type": "code",
   "execution_count": 162,
   "metadata": {},
   "outputs": [
    {
     "data": {
      "text/plain": [
       "5628.884615"
      ]
     },
     "execution_count": 162,
     "metadata": {},
     "output_type": "execute_result"
    }
   ],
   "source": [
    "# Cacluate the min covered charge amount in TN\n",
    "Min_Covered_Charges_TN = DataFrame_TN[\"average_covered_charges\"].min()\n",
    "Min_Covered_Charges_TN\n"
   ]
  },
  {
   "cell_type": "code",
   "execution_count": 163,
   "metadata": {},
   "outputs": [
    {
     "data": {
      "text/plain": [
       "84"
      ]
     },
     "execution_count": 163,
     "metadata": {},
     "output_type": "execute_result"
    }
   ],
   "source": [
    "# Calculate the Total Number of Unique Provider Zip Codes in TN \n",
    "Unique_Provider_ZipCode_Count_TN = len(DataFrame_TN[\"provider_zip_code\"].unique())\n",
    "Unique_Provider_ZipCode_Count_TN\n"
   ]
  },
  {
   "cell_type": "code",
   "execution_count": 164,
   "metadata": {},
   "outputs": [
    {
     "data": {
      "text/html": [
       "<div>\n",
       "<style scoped>\n",
       "    .dataframe tbody tr th:only-of-type {\n",
       "        vertical-align: middle;\n",
       "    }\n",
       "\n",
       "    .dataframe tbody tr th {\n",
       "        vertical-align: top;\n",
       "    }\n",
       "\n",
       "    .dataframe thead th {\n",
       "        text-align: right;\n",
       "    }\n",
       "</style>\n",
       "<table border=\"1\" class=\"dataframe\">\n",
       "  <thead>\n",
       "    <tr style=\"text-align: right;\">\n",
       "      <th></th>\n",
       "      <th>Unique DRGs in TN</th>\n",
       "      <th>Unique Providers in TN</th>\n",
       "      <th>Unique Provider Zip Codes in TN</th>\n",
       "      <th>Unique Regions in TN</th>\n",
       "      <th>Total Discharge Count in TN</th>\n",
       "      <th>Average Charge in TN</th>\n",
       "      <th>Max Charge in TN</th>\n",
       "      <th>Min Charge in TN</th>\n",
       "    </tr>\n",
       "  </thead>\n",
       "  <tbody>\n",
       "    <tr>\n",
       "      <th>0</th>\n",
       "      <td>367</td>\n",
       "      <td>88</td>\n",
       "      <td>84</td>\n",
       "      <td>8</td>\n",
       "      <td>194421</td>\n",
       "      <td>54852.101734</td>\n",
       "      <td>1156043.0</td>\n",
       "      <td>5628.884615</td>\n",
       "    </tr>\n",
       "  </tbody>\n",
       "</table>\n",
       "</div>"
      ],
      "text/plain": [
       "   Unique DRGs in TN  Unique Providers in TN  Unique Provider Zip Codes in TN  \\\n",
       "0                367                      88                               84   \n",
       "\n",
       "   Unique Regions in TN  Total Discharge Count in TN  Average Charge in TN  \\\n",
       "0                     8                       194421          54852.101734   \n",
       "\n",
       "   Max Charge in TN  Min Charge in TN  \n",
       "0         1156043.0       5628.884615  "
      ]
     },
     "execution_count": 164,
     "metadata": {},
     "output_type": "execute_result"
    }
   ],
   "source": [
    "# Create a summary data frame to hold the DRG Analysis Results for TN\n",
    "\n",
    "DRG_Analysis_df_TN = pd.DataFrame([\n",
    "    {\"Unique DRGs in TN\": Unique_DRGs_TN, \n",
    "     \"Unique Providers in TN\": Unique_Provider_count_TN, \n",
    "     \"Unique Provider Zip Codes in TN\": Unique_Provider_ZipCode_Count_TN, \n",
    "     \"Unique Regions in TN\": Unique_Hospital_Referral_Region_count_TN,\n",
    "     \"Total Discharge Count in TN\": Discharge_Count_TN,\n",
    "     \"Average Charge in TN\": Average_Covered_Charges_TN,\n",
    "     \"Max Charge in TN\": Max_Covered_Charges_TN,\n",
    "     \"Min Charge in TN\": Min_Covered_Charges_TN\n",
    "    }\n",
    "])\n",
    "DRG_Analysis_df_TN"
   ]
  },
  {
   "cell_type": "code",
   "execution_count": 165,
   "metadata": {},
   "outputs": [
    {
     "data": {
      "text/html": [
       "<div>\n",
       "<style scoped>\n",
       "    .dataframe tbody tr th:only-of-type {\n",
       "        vertical-align: middle;\n",
       "    }\n",
       "\n",
       "    .dataframe tbody tr th {\n",
       "        vertical-align: top;\n",
       "    }\n",
       "\n",
       "    .dataframe thead th {\n",
       "        text-align: right;\n",
       "    }\n",
       "</style>\n",
       "<table border=\"1\" class=\"dataframe\">\n",
       "  <thead>\n",
       "    <tr style=\"text-align: right;\">\n",
       "      <th></th>\n",
       "      <th>Unique DRGs in TN</th>\n",
       "      <th>Unique Providers in TN</th>\n",
       "      <th>Unique Provider Zip Codes in TN</th>\n",
       "      <th>Unique Regions in TN</th>\n",
       "      <th>Total Discharge Count in TN</th>\n",
       "      <th>Average Charge in TN</th>\n",
       "      <th>Max Charge in TN</th>\n",
       "      <th>Min Charge in TN</th>\n",
       "    </tr>\n",
       "  </thead>\n",
       "  <tbody>\n",
       "    <tr>\n",
       "      <th>0</th>\n",
       "      <td>367</td>\n",
       "      <td>88</td>\n",
       "      <td>84</td>\n",
       "      <td>8</td>\n",
       "      <td>194421</td>\n",
       "      <td>$54,852.10</td>\n",
       "      <td>$1,156,043.00</td>\n",
       "      <td>$5,628.88</td>\n",
       "    </tr>\n",
       "  </tbody>\n",
       "</table>\n",
       "</div>"
      ],
      "text/plain": [
       "   Unique DRGs in TN  Unique Providers in TN  Unique Provider Zip Codes in TN  \\\n",
       "0                367                      88                               84   \n",
       "\n",
       "   Unique Regions in TN  Total Discharge Count in TN Average Charge in TN  \\\n",
       "0                     8                       194421           $54,852.10   \n",
       "\n",
       "  Max Charge in TN Min Charge in TN  \n",
       "0    $1,156,043.00        $5,628.88  "
      ]
     },
     "execution_count": 165,
     "metadata": {},
     "output_type": "execute_result"
    }
   ],
   "source": [
    "# Give the displayed data cleaner formatting\n",
    "\n",
    "DRG_Analysis_Formatted_df_TN = DRG_Analysis_df_TN\n",
    "\n",
    "DRG_Analysis_Formatted_df_TN[\"Average Charge in TN\"] = DRG_Analysis_df_TN[\"Average Charge in TN\"].map(\"${:,.2f}\".format)\n",
    "DRG_Analysis_Formatted_df_TN[\"Max Charge in TN\"] = DRG_Analysis_df_TN[\"Max Charge in TN\"].map(\"${:,.2f}\".format)\n",
    "DRG_Analysis_Formatted_df_TN[\"Min Charge in TN\"] = DRG_Analysis_df_TN[\"Min Charge in TN\"].map(\"${:,.2f}\".format)\n",
    "\n",
    "DRG_Analysis_Formatted_df_TN"
   ]
  },
  {
   "cell_type": "code",
   "execution_count": 166,
   "metadata": {},
   "outputs": [
    {
     "data": {
      "text/html": [
       "<div>\n",
       "<style scoped>\n",
       "    .dataframe tbody tr th:only-of-type {\n",
       "        vertical-align: middle;\n",
       "    }\n",
       "\n",
       "    .dataframe tbody tr th {\n",
       "        vertical-align: top;\n",
       "    }\n",
       "\n",
       "    .dataframe thead th {\n",
       "        text-align: right;\n",
       "    }\n",
       "</style>\n",
       "<table border=\"1\" class=\"dataframe\">\n",
       "  <thead>\n",
       "    <tr style=\"text-align: right;\">\n",
       "      <th></th>\n",
       "      <th>drg_definition</th>\n",
       "      <th>provider_id</th>\n",
       "      <th>provider_name</th>\n",
       "      <th>provider_street_address</th>\n",
       "      <th>provider_city</th>\n",
       "      <th>provider_state</th>\n",
       "      <th>provider_zip_code</th>\n",
       "      <th>hospital_referral_region</th>\n",
       "      <th>total_discharges</th>\n",
       "      <th>average_covered_charges</th>\n",
       "      <th>average_total_payments</th>\n",
       "      <th>average_medicare_payments</th>\n",
       "    </tr>\n",
       "  </thead>\n",
       "  <tbody>\n",
       "    <tr>\n",
       "      <th>70614</th>\n",
       "      <td>189 - PULMONARY EDEMA &amp; RESPIRATORY FAILURE</td>\n",
       "      <td>180004</td>\n",
       "      <td>OWENSBORO HEALTH MUHLENBERG COMMUNITY HOSPITAL</td>\n",
       "      <td>440 HOPKINSVILLE STREET</td>\n",
       "      <td>GREENVILLE</td>\n",
       "      <td>KY</td>\n",
       "      <td>42345</td>\n",
       "      <td>TN - Nashville</td>\n",
       "      <td>20</td>\n",
       "      <td>30361.60000</td>\n",
       "      <td>7464.9</td>\n",
       "      <td>6788.650000</td>\n",
       "    </tr>\n",
       "    <tr>\n",
       "      <th>70615</th>\n",
       "      <td>190 - CHRONIC OBSTRUCTIVE PULMONARY DISEASE W MCC</td>\n",
       "      <td>180004</td>\n",
       "      <td>OWENSBORO HEALTH MUHLENBERG COMMUNITY HOSPITAL</td>\n",
       "      <td>440 HOPKINSVILLE STREET</td>\n",
       "      <td>GREENVILLE</td>\n",
       "      <td>KY</td>\n",
       "      <td>42345</td>\n",
       "      <td>TN - Nashville</td>\n",
       "      <td>43</td>\n",
       "      <td>28130.44186</td>\n",
       "      <td>7269.744186</td>\n",
       "      <td>6345.860465</td>\n",
       "    </tr>\n",
       "    <tr>\n",
       "      <th>70616</th>\n",
       "      <td>191 - CHRONIC OBSTRUCTIVE PULMONARY DISEASE W CC</td>\n",
       "      <td>180004</td>\n",
       "      <td>OWENSBORO HEALTH MUHLENBERG COMMUNITY HOSPITAL</td>\n",
       "      <td>440 HOPKINSVILLE STREET</td>\n",
       "      <td>GREENVILLE</td>\n",
       "      <td>KY</td>\n",
       "      <td>42345</td>\n",
       "      <td>TN - Nashville</td>\n",
       "      <td>21</td>\n",
       "      <td>22967.47619</td>\n",
       "      <td>6292.428571</td>\n",
       "      <td>5408.952381</td>\n",
       "    </tr>\n",
       "    <tr>\n",
       "      <th>70617</th>\n",
       "      <td>192 - CHRONIC OBSTRUCTIVE PULMONARY DISEASE W/...</td>\n",
       "      <td>180004</td>\n",
       "      <td>OWENSBORO HEALTH MUHLENBERG COMMUNITY HOSPITAL</td>\n",
       "      <td>440 HOPKINSVILLE STREET</td>\n",
       "      <td>GREENVILLE</td>\n",
       "      <td>KY</td>\n",
       "      <td>42345</td>\n",
       "      <td>TN - Nashville</td>\n",
       "      <td>15</td>\n",
       "      <td>14440.66667</td>\n",
       "      <td>4847.2</td>\n",
       "      <td>3794.600000</td>\n",
       "    </tr>\n",
       "    <tr>\n",
       "      <th>70618</th>\n",
       "      <td>194 - SIMPLE PNEUMONIA &amp; PLEURISY W CC</td>\n",
       "      <td>180004</td>\n",
       "      <td>OWENSBORO HEALTH MUHLENBERG COMMUNITY HOSPITAL</td>\n",
       "      <td>440 HOPKINSVILLE STREET</td>\n",
       "      <td>GREENVILLE</td>\n",
       "      <td>KY</td>\n",
       "      <td>42345</td>\n",
       "      <td>TN - Nashville</td>\n",
       "      <td>30</td>\n",
       "      <td>23082.80000</td>\n",
       "      <td>6129.7</td>\n",
       "      <td>5067.666667</td>\n",
       "    </tr>\n",
       "  </tbody>\n",
       "</table>\n",
       "</div>"
      ],
      "text/plain": [
       "                                          drg_definition provider_id  \\\n",
       "70614        189 - PULMONARY EDEMA & RESPIRATORY FAILURE      180004   \n",
       "70615  190 - CHRONIC OBSTRUCTIVE PULMONARY DISEASE W MCC      180004   \n",
       "70616   191 - CHRONIC OBSTRUCTIVE PULMONARY DISEASE W CC      180004   \n",
       "70617  192 - CHRONIC OBSTRUCTIVE PULMONARY DISEASE W/...      180004   \n",
       "70618             194 - SIMPLE PNEUMONIA & PLEURISY W CC      180004   \n",
       "\n",
       "                                        provider_name  \\\n",
       "70614  OWENSBORO HEALTH MUHLENBERG COMMUNITY HOSPITAL   \n",
       "70615  OWENSBORO HEALTH MUHLENBERG COMMUNITY HOSPITAL   \n",
       "70616  OWENSBORO HEALTH MUHLENBERG COMMUNITY HOSPITAL   \n",
       "70617  OWENSBORO HEALTH MUHLENBERG COMMUNITY HOSPITAL   \n",
       "70618  OWENSBORO HEALTH MUHLENBERG COMMUNITY HOSPITAL   \n",
       "\n",
       "       provider_street_address provider_city provider_state provider_zip_code  \\\n",
       "70614  440 HOPKINSVILLE STREET    GREENVILLE             KY             42345   \n",
       "70615  440 HOPKINSVILLE STREET    GREENVILLE             KY             42345   \n",
       "70616  440 HOPKINSVILLE STREET    GREENVILLE             KY             42345   \n",
       "70617  440 HOPKINSVILLE STREET    GREENVILLE             KY             42345   \n",
       "70618  440 HOPKINSVILLE STREET    GREENVILLE             KY             42345   \n",
       "\n",
       "      hospital_referral_region  total_discharges  average_covered_charges  \\\n",
       "70614           TN - Nashville                20              30361.60000   \n",
       "70615           TN - Nashville                43              28130.44186   \n",
       "70616           TN - Nashville                21              22967.47619   \n",
       "70617           TN - Nashville                15              14440.66667   \n",
       "70618           TN - Nashville                30              23082.80000   \n",
       "\n",
       "      average_total_payments  average_medicare_payments  \n",
       "70614                 7464.9                6788.650000  \n",
       "70615            7269.744186                6345.860465  \n",
       "70616            6292.428571                5408.952381  \n",
       "70617                 4847.2                3794.600000  \n",
       "70618                 6129.7                5067.666667  "
      ]
     },
     "execution_count": 166,
     "metadata": {},
     "output_type": "execute_result"
    }
   ],
   "source": [
    "# Filter the data so that only TN - Nashville data is in the dataframe\n",
    "\n",
    "DataFrame_TN_Nashville = DataFrame.loc[DataFrame[\"hospital_referral_region\"] == \"TN - Nashville\", :]\n",
    "\n",
    "DataFrame_TN_Nashville.head()"
   ]
  },
  {
   "cell_type": "code",
   "execution_count": 167,
   "metadata": {},
   "outputs": [
    {
     "data": {
      "text/html": [
       "<div>\n",
       "<style scoped>\n",
       "    .dataframe tbody tr th:only-of-type {\n",
       "        vertical-align: middle;\n",
       "    }\n",
       "\n",
       "    .dataframe tbody tr th {\n",
       "        vertical-align: top;\n",
       "    }\n",
       "\n",
       "    .dataframe thead th {\n",
       "        text-align: right;\n",
       "    }\n",
       "</style>\n",
       "<table border=\"1\" class=\"dataframe\">\n",
       "  <thead>\n",
       "    <tr style=\"text-align: right;\">\n",
       "      <th></th>\n",
       "      <th>total_discharges</th>\n",
       "      <th>average_covered_charges</th>\n",
       "      <th>average_medicare_payments</th>\n",
       "    </tr>\n",
       "  </thead>\n",
       "  <tbody>\n",
       "    <tr>\n",
       "      <th>count</th>\n",
       "      <td>2143.000000</td>\n",
       "      <td>2143.000000</td>\n",
       "      <td>2143.000000</td>\n",
       "    </tr>\n",
       "    <tr>\n",
       "      <th>mean</th>\n",
       "      <td>36.260383</td>\n",
       "      <td>54810.476833</td>\n",
       "      <td>10046.600512</td>\n",
       "    </tr>\n",
       "    <tr>\n",
       "      <th>std</th>\n",
       "      <td>50.269408</td>\n",
       "      <td>60296.464567</td>\n",
       "      <td>11364.254846</td>\n",
       "    </tr>\n",
       "    <tr>\n",
       "      <th>min</th>\n",
       "      <td>11.000000</td>\n",
       "      <td>5628.884615</td>\n",
       "      <td>1839.666667</td>\n",
       "    </tr>\n",
       "    <tr>\n",
       "      <th>25%</th>\n",
       "      <td>14.000000</td>\n",
       "      <td>23715.381820</td>\n",
       "      <td>4419.915967</td>\n",
       "    </tr>\n",
       "    <tr>\n",
       "      <th>50%</th>\n",
       "      <td>22.000000</td>\n",
       "      <td>37304.166670</td>\n",
       "      <td>6650.317460</td>\n",
       "    </tr>\n",
       "    <tr>\n",
       "      <th>75%</th>\n",
       "      <td>38.000000</td>\n",
       "      <td>62987.555555</td>\n",
       "      <td>10963.579490</td>\n",
       "    </tr>\n",
       "    <tr>\n",
       "      <th>max</th>\n",
       "      <td>790.000000</td>\n",
       "      <td>963475.809500</td>\n",
       "      <td>195748.270300</td>\n",
       "    </tr>\n",
       "  </tbody>\n",
       "</table>\n",
       "</div>"
      ],
      "text/plain": [
       "       total_discharges  average_covered_charges  average_medicare_payments\n",
       "count       2143.000000              2143.000000                2143.000000\n",
       "mean          36.260383             54810.476833               10046.600512\n",
       "std           50.269408             60296.464567               11364.254846\n",
       "min           11.000000              5628.884615                1839.666667\n",
       "25%           14.000000             23715.381820                4419.915967\n",
       "50%           22.000000             37304.166670                6650.317460\n",
       "75%           38.000000             62987.555555               10963.579490\n",
       "max          790.000000            963475.809500              195748.270300"
      ]
     },
     "execution_count": 167,
     "metadata": {},
     "output_type": "execute_result"
    }
   ],
   "source": [
    "# Display a statistical overview of the TN - Nashville DataFrame for reference\n",
    "\n",
    "DataFrame_TN_Nashville.describe()"
   ]
  },
  {
   "cell_type": "code",
   "execution_count": 168,
   "metadata": {},
   "outputs": [
    {
     "data": {
      "text/plain": [
       "308"
      ]
     },
     "execution_count": 168,
     "metadata": {},
     "output_type": "execute_result"
    }
   ],
   "source": [
    "# Calculate the Number of Unique Diagnosis Related Groups (DRGs) in TN - Nashville\n",
    "Unique_DRGs_TN_Nashville = len(DataFrame_TN_Nashville[\"drg_definition\"].unique())\n",
    "Unique_DRGs_TN_Nashville"
   ]
  },
  {
   "cell_type": "code",
   "execution_count": 169,
   "metadata": {},
   "outputs": [
    {
     "data": {
      "text/plain": [
       "41"
      ]
     },
     "execution_count": 169,
     "metadata": {},
     "output_type": "execute_result"
    }
   ],
   "source": [
    "# Calculate the Number of Unique Providers in TN - Nashville\n",
    "Unique_Provider_count_TN_Nashville = len(DataFrame_TN_Nashville[\"provider_id\"].unique())\n",
    "Unique_Provider_count_TN_Nashville"
   ]
  },
  {
   "cell_type": "code",
   "execution_count": 170,
   "metadata": {},
   "outputs": [
    {
     "data": {
      "text/plain": [
       "77706"
      ]
     },
     "execution_count": 170,
     "metadata": {},
     "output_type": "execute_result"
    }
   ],
   "source": [
    "# Calculate the Total Number of Discharges in TN - Nashville\n",
    "Discharge_Count_TN_Nashville = (DataFrame_TN_Nashville[\"total_discharges\"].sum())\n",
    "Discharge_Count_TN_Nashville"
   ]
  },
  {
   "cell_type": "code",
   "execution_count": 171,
   "metadata": {},
   "outputs": [
    {
     "data": {
      "text/plain": [
       "54810.47683325669"
      ]
     },
     "execution_count": 171,
     "metadata": {},
     "output_type": "execute_result"
    }
   ],
   "source": [
    "# Cacluate the average covered charges amount in TN - Nashville\n",
    "Average_Covered_Charges_TN_Nashville = DataFrame_TN_Nashville[\"average_covered_charges\"].mean()\n",
    "Average_Covered_Charges_TN_Nashville"
   ]
  },
  {
   "cell_type": "code",
   "execution_count": 172,
   "metadata": {},
   "outputs": [
    {
     "data": {
      "text/plain": [
       "963475.8095"
      ]
     },
     "execution_count": 172,
     "metadata": {},
     "output_type": "execute_result"
    }
   ],
   "source": [
    "# Cacluate the max covered charge amount in TN - Nashville\n",
    "Max_Covered_Charges_TN_Nashville = DataFrame_TN_Nashville[\"average_covered_charges\"].max()\n",
    "Max_Covered_Charges_TN_Nashville"
   ]
  },
  {
   "cell_type": "code",
   "execution_count": 173,
   "metadata": {},
   "outputs": [
    {
     "data": {
      "text/plain": [
       "5628.884615"
      ]
     },
     "execution_count": 173,
     "metadata": {},
     "output_type": "execute_result"
    }
   ],
   "source": [
    "# Cacluate the min covered charge amount in TN - Nashville\n",
    "Min_Covered_Charges_TN_Nashville = DataFrame_TN_Nashville[\"average_covered_charges\"].min()\n",
    "Min_Covered_Charges_TN_Nashville"
   ]
  },
  {
   "cell_type": "code",
   "execution_count": 174,
   "metadata": {},
   "outputs": [
    {
     "data": {
      "text/plain": [
       "40"
      ]
     },
     "execution_count": 174,
     "metadata": {},
     "output_type": "execute_result"
    }
   ],
   "source": [
    "# Calculate the Total Number of Unique Provider Zip Codes in TN - Nashville\n",
    "Unique_Provider_ZipCode_Count_TN_Nashville = len(DataFrame_TN_Nashville[\"provider_zip_code\"].unique())\n",
    "Unique_Provider_ZipCode_Count_TN_Nashville"
   ]
  },
  {
   "cell_type": "code",
   "execution_count": 175,
   "metadata": {},
   "outputs": [
    {
     "data": {
      "text/html": [
       "<div>\n",
       "<style scoped>\n",
       "    .dataframe tbody tr th:only-of-type {\n",
       "        vertical-align: middle;\n",
       "    }\n",
       "\n",
       "    .dataframe tbody tr th {\n",
       "        vertical-align: top;\n",
       "    }\n",
       "\n",
       "    .dataframe thead th {\n",
       "        text-align: right;\n",
       "    }\n",
       "</style>\n",
       "<table border=\"1\" class=\"dataframe\">\n",
       "  <thead>\n",
       "    <tr style=\"text-align: right;\">\n",
       "      <th></th>\n",
       "      <th>Unique DRGs in Nashville</th>\n",
       "      <th>Unique Providers in Nashville</th>\n",
       "      <th>Unique Provider Zip Codes in Nashville</th>\n",
       "      <th>Total Discharge Count in Nashville</th>\n",
       "      <th>Average Charge in Nashville</th>\n",
       "      <th>Max Charge in Nashville</th>\n",
       "      <th>Min Charge in Nashville</th>\n",
       "    </tr>\n",
       "  </thead>\n",
       "  <tbody>\n",
       "    <tr>\n",
       "      <th>0</th>\n",
       "      <td>308</td>\n",
       "      <td>41</td>\n",
       "      <td>40</td>\n",
       "      <td>77706</td>\n",
       "      <td>54810.476833</td>\n",
       "      <td>963475.8095</td>\n",
       "      <td>5628.884615</td>\n",
       "    </tr>\n",
       "  </tbody>\n",
       "</table>\n",
       "</div>"
      ],
      "text/plain": [
       "   Unique DRGs in Nashville  Unique Providers in Nashville  \\\n",
       "0                       308                             41   \n",
       "\n",
       "   Unique Provider Zip Codes in Nashville  Total Discharge Count in Nashville  \\\n",
       "0                                      40                               77706   \n",
       "\n",
       "   Average Charge in Nashville  Max Charge in Nashville  \\\n",
       "0                 54810.476833              963475.8095   \n",
       "\n",
       "   Min Charge in Nashville  \n",
       "0              5628.884615  "
      ]
     },
     "execution_count": 175,
     "metadata": {},
     "output_type": "execute_result"
    }
   ],
   "source": [
    "# Create a summary data frame to hold the DRG Analysis Results for TN - Nashville\n",
    "\n",
    "DRG_Analysis_df_TN_Nashville = pd.DataFrame([\n",
    "    {\"Unique DRGs in Nashville\": Unique_DRGs_TN_Nashville, \n",
    "     \"Unique Providers in Nashville\": Unique_Provider_count_TN_Nashville, \n",
    "     \"Unique Provider Zip Codes in Nashville\": Unique_Provider_ZipCode_Count_TN_Nashville, \n",
    "     \"Total Discharge Count in Nashville\": Discharge_Count_TN_Nashville,\n",
    "     \"Average Charge in Nashville\": Average_Covered_Charges_TN_Nashville,\n",
    "     \"Max Charge in Nashville\": Max_Covered_Charges_TN_Nashville,\n",
    "     \"Min Charge in Nashville\": Min_Covered_Charges_TN_Nashville\n",
    "    }\n",
    "])\n",
    "DRG_Analysis_df_TN_Nashville"
   ]
  },
  {
   "cell_type": "code",
   "execution_count": 176,
   "metadata": {},
   "outputs": [
    {
     "data": {
      "text/html": [
       "<div>\n",
       "<style scoped>\n",
       "    .dataframe tbody tr th:only-of-type {\n",
       "        vertical-align: middle;\n",
       "    }\n",
       "\n",
       "    .dataframe tbody tr th {\n",
       "        vertical-align: top;\n",
       "    }\n",
       "\n",
       "    .dataframe thead th {\n",
       "        text-align: right;\n",
       "    }\n",
       "</style>\n",
       "<table border=\"1\" class=\"dataframe\">\n",
       "  <thead>\n",
       "    <tr style=\"text-align: right;\">\n",
       "      <th></th>\n",
       "      <th>Unique DRGs in Nashville</th>\n",
       "      <th>Unique Providers in Nashville</th>\n",
       "      <th>Unique Provider Zip Codes in Nashville</th>\n",
       "      <th>Total Discharge Count in Nashville</th>\n",
       "      <th>Average Charge in Nashville</th>\n",
       "      <th>Max Charge in Nashville</th>\n",
       "      <th>Min Charge in Nashville</th>\n",
       "    </tr>\n",
       "  </thead>\n",
       "  <tbody>\n",
       "    <tr>\n",
       "      <th>0</th>\n",
       "      <td>308</td>\n",
       "      <td>41</td>\n",
       "      <td>40</td>\n",
       "      <td>77706</td>\n",
       "      <td>$54,810.48</td>\n",
       "      <td>$963,475.81</td>\n",
       "      <td>$5,628.88</td>\n",
       "    </tr>\n",
       "  </tbody>\n",
       "</table>\n",
       "</div>"
      ],
      "text/plain": [
       "   Unique DRGs in Nashville  Unique Providers in Nashville  \\\n",
       "0                       308                             41   \n",
       "\n",
       "   Unique Provider Zip Codes in Nashville  Total Discharge Count in Nashville  \\\n",
       "0                                      40                               77706   \n",
       "\n",
       "  Average Charge in Nashville Max Charge in Nashville Min Charge in Nashville  \n",
       "0                  $54,810.48             $963,475.81               $5,628.88  "
      ]
     },
     "execution_count": 176,
     "metadata": {},
     "output_type": "execute_result"
    }
   ],
   "source": [
    "# Give the displayed data cleaner formatting\n",
    "\n",
    "DRG_Analysis_Formatted_df_TN_Nashville = DRG_Analysis_df_TN_Nashville\n",
    "\n",
    "DRG_Analysis_Formatted_df_TN_Nashville[\"Average Charge in Nashville\"] = DRG_Analysis_df_TN_Nashville[\"Average Charge in Nashville\"].map(\"${:,.2f}\".format)\n",
    "DRG_Analysis_Formatted_df_TN_Nashville[\"Max Charge in Nashville\"] = DRG_Analysis_df_TN_Nashville[\"Max Charge in Nashville\"].map(\"${:,.2f}\".format)\n",
    "DRG_Analysis_Formatted_df_TN_Nashville[\"Min Charge in Nashville\"] = DRG_Analysis_df_TN_Nashville[\"Min Charge in Nashville\"].map(\"${:,.2f}\".format)\n",
    "\n",
    "DRG_Analysis_Formatted_df_TN_Nashville"
   ]
  },
  {
   "cell_type": "code",
   "execution_count": 177,
   "metadata": {},
   "outputs": [
    {
     "data": {
      "text/html": [
       "<div>\n",
       "<style scoped>\n",
       "    .dataframe tbody tr th:only-of-type {\n",
       "        vertical-align: middle;\n",
       "    }\n",
       "\n",
       "    .dataframe tbody tr th {\n",
       "        vertical-align: top;\n",
       "    }\n",
       "\n",
       "    .dataframe thead th {\n",
       "        text-align: right;\n",
       "    }\n",
       "</style>\n",
       "<table border=\"1\" class=\"dataframe\">\n",
       "  <thead>\n",
       "    <tr style=\"text-align: right;\">\n",
       "      <th></th>\n",
       "      <th>drg_definition</th>\n",
       "      <th>provider_id</th>\n",
       "      <th>provider_name</th>\n",
       "      <th>provider_street_address</th>\n",
       "      <th>provider_city</th>\n",
       "      <th>provider_state</th>\n",
       "      <th>provider_zip_code</th>\n",
       "      <th>hospital_referral_region</th>\n",
       "      <th>total_discharges</th>\n",
       "      <th>average_covered_charges</th>\n",
       "      <th>average_total_payments</th>\n",
       "      <th>average_medicare_payments</th>\n",
       "    </tr>\n",
       "  </thead>\n",
       "  <tbody>\n",
       "    <tr>\n",
       "      <th>5</th>\n",
       "      <td>039 - EXTRACRANIAL PROCEDURES W/O CC/MCC</td>\n",
       "      <td>10001</td>\n",
       "      <td>SOUTHEAST ALABAMA MEDICAL CENTER</td>\n",
       "      <td>1108 ROSS CLARK CIRCLE</td>\n",
       "      <td>DOTHAN</td>\n",
       "      <td>AL</td>\n",
       "      <td>36301</td>\n",
       "      <td>AL - Dothan</td>\n",
       "      <td>41</td>\n",
       "      <td>41130.56098</td>\n",
       "      <td>5925.95122</td>\n",
       "      <td>4808.000000</td>\n",
       "    </tr>\n",
       "    <tr>\n",
       "      <th>157</th>\n",
       "      <td>039 - EXTRACRANIAL PROCEDURES W/O CC/MCC</td>\n",
       "      <td>10005</td>\n",
       "      <td>MARSHALL MEDICAL CENTER SOUTH</td>\n",
       "      <td>2505 U S HIGHWAY 431 NORTH</td>\n",
       "      <td>BOAZ</td>\n",
       "      <td>AL</td>\n",
       "      <td>35957</td>\n",
       "      <td>AL - Birmingham</td>\n",
       "      <td>37</td>\n",
       "      <td>14450.08108</td>\n",
       "      <td>6039.324324</td>\n",
       "      <td>4976.837838</td>\n",
       "    </tr>\n",
       "    <tr>\n",
       "      <th>231</th>\n",
       "      <td>039 - EXTRACRANIAL PROCEDURES W/O CC/MCC</td>\n",
       "      <td>10006</td>\n",
       "      <td>ELIZA COFFEE MEMORIAL HOSPITAL</td>\n",
       "      <td>205 MARENGO STREET</td>\n",
       "      <td>FLORENCE</td>\n",
       "      <td>AL</td>\n",
       "      <td>35631</td>\n",
       "      <td>AL - Birmingham</td>\n",
       "      <td>19</td>\n",
       "      <td>35486.57895</td>\n",
       "      <td>5486.421053</td>\n",
       "      <td>4137.263158</td>\n",
       "    </tr>\n",
       "    <tr>\n",
       "      <th>365</th>\n",
       "      <td>039 - EXTRACRANIAL PROCEDURES W/O CC/MCC</td>\n",
       "      <td>10011</td>\n",
       "      <td>ST VINCENT'S EAST</td>\n",
       "      <td>50 MEDICAL PARK EAST DRIVE</td>\n",
       "      <td>BIRMINGHAM</td>\n",
       "      <td>AL</td>\n",
       "      <td>35235</td>\n",
       "      <td>AL - Birmingham</td>\n",
       "      <td>20</td>\n",
       "      <td>20318.20000</td>\n",
       "      <td>6471.45</td>\n",
       "      <td>5113.800000</td>\n",
       "    </tr>\n",
       "    <tr>\n",
       "      <th>479</th>\n",
       "      <td>039 - EXTRACRANIAL PROCEDURES W/O CC/MCC</td>\n",
       "      <td>10016</td>\n",
       "      <td>SHELBY BAPTIST MEDICAL CENTER</td>\n",
       "      <td>1000 FIRST STREET NORTH</td>\n",
       "      <td>ALABASTER</td>\n",
       "      <td>AL</td>\n",
       "      <td>35007</td>\n",
       "      <td>AL - Birmingham</td>\n",
       "      <td>16</td>\n",
       "      <td>57239.62500</td>\n",
       "      <td>6419.4375</td>\n",
       "      <td>4268.937500</td>\n",
       "    </tr>\n",
       "  </tbody>\n",
       "</table>\n",
       "</div>"
      ],
      "text/plain": [
       "                               drg_definition provider_id  \\\n",
       "5    039 - EXTRACRANIAL PROCEDURES W/O CC/MCC       10001   \n",
       "157  039 - EXTRACRANIAL PROCEDURES W/O CC/MCC       10005   \n",
       "231  039 - EXTRACRANIAL PROCEDURES W/O CC/MCC       10006   \n",
       "365  039 - EXTRACRANIAL PROCEDURES W/O CC/MCC       10011   \n",
       "479  039 - EXTRACRANIAL PROCEDURES W/O CC/MCC       10016   \n",
       "\n",
       "                        provider_name     provider_street_address  \\\n",
       "5    SOUTHEAST ALABAMA MEDICAL CENTER      1108 ROSS CLARK CIRCLE   \n",
       "157     MARSHALL MEDICAL CENTER SOUTH  2505 U S HIGHWAY 431 NORTH   \n",
       "231    ELIZA COFFEE MEMORIAL HOSPITAL          205 MARENGO STREET   \n",
       "365                 ST VINCENT'S EAST  50 MEDICAL PARK EAST DRIVE   \n",
       "479     SHELBY BAPTIST MEDICAL CENTER     1000 FIRST STREET NORTH   \n",
       "\n",
       "    provider_city provider_state provider_zip_code hospital_referral_region  \\\n",
       "5          DOTHAN             AL             36301              AL - Dothan   \n",
       "157          BOAZ             AL             35957          AL - Birmingham   \n",
       "231      FLORENCE             AL             35631          AL - Birmingham   \n",
       "365    BIRMINGHAM             AL             35235          AL - Birmingham   \n",
       "479     ALABASTER             AL             35007          AL - Birmingham   \n",
       "\n",
       "     total_discharges  average_covered_charges average_total_payments  \\\n",
       "5                  41              41130.56098             5925.95122   \n",
       "157                37              14450.08108            6039.324324   \n",
       "231                19              35486.57895            5486.421053   \n",
       "365                20              20318.20000                6471.45   \n",
       "479                16              57239.62500              6419.4375   \n",
       "\n",
       "     average_medicare_payments  \n",
       "5                  4808.000000  \n",
       "157                4976.837838  \n",
       "231                4137.263158  \n",
       "365                5113.800000  \n",
       "479                4268.937500  "
      ]
     },
     "execution_count": 177,
     "metadata": {},
     "output_type": "execute_result"
    }
   ],
   "source": [
    "# Filter the data so that only a specific procedure is in the dataframe\n",
    "\n",
    "DataFrame_drg_EXTRACRANIAL = DataFrame.loc[DataFrame[\"drg_definition\"] == \"039 - EXTRACRANIAL PROCEDURES W/O CC/MCC\", :]\n",
    "\n",
    "DataFrame_drg_EXTRACRANIAL.head()"
   ]
  },
  {
   "cell_type": "code",
   "execution_count": 178,
   "metadata": {},
   "outputs": [
    {
     "data": {
      "text/html": [
       "<div>\n",
       "<style scoped>\n",
       "    .dataframe tbody tr th:only-of-type {\n",
       "        vertical-align: middle;\n",
       "    }\n",
       "\n",
       "    .dataframe tbody tr th {\n",
       "        vertical-align: top;\n",
       "    }\n",
       "\n",
       "    .dataframe thead th {\n",
       "        text-align: right;\n",
       "    }\n",
       "</style>\n",
       "<table border=\"1\" class=\"dataframe\">\n",
       "  <thead>\n",
       "    <tr style=\"text-align: right;\">\n",
       "      <th></th>\n",
       "      <th>total_discharges</th>\n",
       "      <th>average_covered_charges</th>\n",
       "      <th>average_medicare_payments</th>\n",
       "    </tr>\n",
       "  </thead>\n",
       "  <tbody>\n",
       "    <tr>\n",
       "      <th>count</th>\n",
       "      <td>841.000000</td>\n",
       "      <td>841.000000</td>\n",
       "      <td>841.000000</td>\n",
       "    </tr>\n",
       "    <tr>\n",
       "      <th>mean</th>\n",
       "      <td>26.870392</td>\n",
       "      <td>43233.451687</td>\n",
       "      <td>6225.605548</td>\n",
       "    </tr>\n",
       "    <tr>\n",
       "      <th>std</th>\n",
       "      <td>17.476817</td>\n",
       "      <td>23830.963539</td>\n",
       "      <td>1669.749183</td>\n",
       "    </tr>\n",
       "    <tr>\n",
       "      <th>min</th>\n",
       "      <td>11.000000</td>\n",
       "      <td>6042.780488</td>\n",
       "      <td>3751.307692</td>\n",
       "    </tr>\n",
       "    <tr>\n",
       "      <th>25%</th>\n",
       "      <td>15.000000</td>\n",
       "      <td>27776.050000</td>\n",
       "      <td>5191.266667</td>\n",
       "    </tr>\n",
       "    <tr>\n",
       "      <th>50%</th>\n",
       "      <td>21.000000</td>\n",
       "      <td>36445.444440</td>\n",
       "      <td>5845.916667</td>\n",
       "    </tr>\n",
       "    <tr>\n",
       "      <th>75%</th>\n",
       "      <td>33.000000</td>\n",
       "      <td>52375.818180</td>\n",
       "      <td>6756.367347</td>\n",
       "    </tr>\n",
       "    <tr>\n",
       "      <th>max</th>\n",
       "      <td>150.000000</td>\n",
       "      <td>165231.363600</td>\n",
       "      <td>21389.818180</td>\n",
       "    </tr>\n",
       "  </tbody>\n",
       "</table>\n",
       "</div>"
      ],
      "text/plain": [
       "       total_discharges  average_covered_charges  average_medicare_payments\n",
       "count        841.000000               841.000000                 841.000000\n",
       "mean          26.870392             43233.451687                6225.605548\n",
       "std           17.476817             23830.963539                1669.749183\n",
       "min           11.000000              6042.780488                3751.307692\n",
       "25%           15.000000             27776.050000                5191.266667\n",
       "50%           21.000000             36445.444440                5845.916667\n",
       "75%           33.000000             52375.818180                6756.367347\n",
       "max          150.000000            165231.363600               21389.818180"
      ]
     },
     "execution_count": 178,
     "metadata": {},
     "output_type": "execute_result"
    }
   ],
   "source": [
    "# Display a statistical overview of the EXTRACRANIAL PROCEDURES DataFrame for reference\n",
    "\n",
    "DataFrame_drg_EXTRACRANIAL.describe()"
   ]
  },
  {
   "cell_type": "code",
   "execution_count": 179,
   "metadata": {},
   "outputs": [
    {
     "data": {
      "text/plain": [
       "841"
      ]
     },
     "execution_count": 179,
     "metadata": {},
     "output_type": "execute_result"
    }
   ],
   "source": [
    "# Calculate the Number of Unique Providers that serviced DRG EXTRACRANIAL PROCEDURES\n",
    "Unique_Provider_count_drg_EXTRACRANIAL = len(DataFrame_drg_EXTRACRANIAL[\"provider_id\"].unique())\n",
    "Unique_Provider_count_drg_EXTRACRANIAL"
   ]
  },
  {
   "cell_type": "code",
   "execution_count": 180,
   "metadata": {},
   "outputs": [
    {
     "data": {
      "text/plain": [
       "292"
      ]
     },
     "execution_count": 180,
     "metadata": {},
     "output_type": "execute_result"
    }
   ],
   "source": [
    "# Calculate the Unique Number of hospital_referral_region_description that serviced DRG EXTRACRANIAL PROCEDURES in the DataFrame\n",
    "Unique_Hospital_Referral_Region_count_drg_EXTRACRANIAL = len(DataFrame_drg_EXTRACRANIAL[\"hospital_referral_region\"].unique())\n",
    "Unique_Hospital_Referral_Region_count_drg_EXTRACRANIAL"
   ]
  },
  {
   "cell_type": "code",
   "execution_count": 181,
   "metadata": {},
   "outputs": [
    {
     "data": {
      "text/plain": [
       "22598"
      ]
     },
     "execution_count": 181,
     "metadata": {},
     "output_type": "execute_result"
    }
   ],
   "source": [
    "# Calculate the Total Number of Discharges for DRG EXTRACRANIAL PROCEDURES in the DataFrame\n",
    "Discharge_Count_drg_EXTRACRANIAL = (DataFrame_drg_EXTRACRANIAL[\"total_discharges\"].sum())\n",
    "Discharge_Count_drg_EXTRACRANIAL"
   ]
  },
  {
   "cell_type": "code",
   "execution_count": 182,
   "metadata": {},
   "outputs": [
    {
     "data": {
      "text/plain": [
       "43233.45168708329"
      ]
     },
     "execution_count": 182,
     "metadata": {},
     "output_type": "execute_result"
    }
   ],
   "source": [
    "# Cacluate the average covered charges for DRG EXTRACRANIAL PROCEDURES\n",
    "Average_Covered_Charges_drg_EXTRACRANIAL = DataFrame_drg_EXTRACRANIAL[\"average_covered_charges\"].mean()\n",
    "Average_Covered_Charges_drg_EXTRACRANIAL"
   ]
  },
  {
   "cell_type": "code",
   "execution_count": 183,
   "metadata": {},
   "outputs": [
    {
     "data": {
      "text/plain": [
       "165231.3636"
      ]
     },
     "execution_count": 183,
     "metadata": {},
     "output_type": "execute_result"
    }
   ],
   "source": [
    "# Cacluate the max covered charge amount for DRG EXTRACRANIAL PROCEDURES\n",
    "Max_Covered_Charges_drg_EXTRACRANIAL = DataFrame_drg_EXTRACRANIAL[\"average_covered_charges\"].max()\n",
    "Max_Covered_Charges_drg_EXTRACRANIAL"
   ]
  },
  {
   "cell_type": "code",
   "execution_count": 184,
   "metadata": {},
   "outputs": [
    {
     "data": {
      "text/plain": [
       "6042.780488"
      ]
     },
     "execution_count": 184,
     "metadata": {},
     "output_type": "execute_result"
    }
   ],
   "source": [
    "# Cacluate the min covered charge amount for DRG EXTRACRANIAL PROCEDURES\n",
    "Min_Covered_Charges_drg_EXTRACRANIAL = DataFrame_drg_EXTRACRANIAL[\"average_covered_charges\"].min()\n",
    "Min_Covered_Charges_drg_EXTRACRANIAL"
   ]
  },
  {
   "cell_type": "code",
   "execution_count": 185,
   "metadata": {},
   "outputs": [
    {
     "data": {
      "text/plain": [
       "805"
      ]
     },
     "execution_count": 185,
     "metadata": {},
     "output_type": "execute_result"
    }
   ],
   "source": [
    "# Calculate the Total Number of Unique Provider Zip Codes that serviced DRG EXTRACRANIAL PROCEDURES\n",
    "Unique_Provider_ZipCode_Count_drg_EXTRACRANIAL = len(DataFrame_drg_EXTRACRANIAL[\"provider_zip_code\"].unique())\n",
    "Unique_Provider_ZipCode_Count_drg_EXTRACRANIAL"
   ]
  },
  {
   "cell_type": "code",
   "execution_count": 186,
   "metadata": {},
   "outputs": [
    {
     "data": {
      "text/html": [
       "<div>\n",
       "<style scoped>\n",
       "    .dataframe tbody tr th:only-of-type {\n",
       "        vertical-align: middle;\n",
       "    }\n",
       "\n",
       "    .dataframe tbody tr th {\n",
       "        vertical-align: top;\n",
       "    }\n",
       "\n",
       "    .dataframe thead th {\n",
       "        text-align: right;\n",
       "    }\n",
       "</style>\n",
       "<table border=\"1\" class=\"dataframe\">\n",
       "  <thead>\n",
       "    <tr style=\"text-align: right;\">\n",
       "      <th></th>\n",
       "      <th>Unique Providers that serviced DRG EXTRACRANIAL PROCEDURES</th>\n",
       "      <th>Unique Provider Zip Codes that serviced DRG EXTRACRANIAL PROCEDURES</th>\n",
       "      <th>Total Number of Discharges for DRG EXTRACRANIAL PROCEDURES</th>\n",
       "      <th>Average Charge for DRG EXTRACRANIAL PROCEDURES</th>\n",
       "      <th>Max Charge for DRG EXTRACRANIAL PROCEDURES</th>\n",
       "      <th>Min Charge for DRG EXTRACRANIAL PROCEDURES</th>\n",
       "    </tr>\n",
       "  </thead>\n",
       "  <tbody>\n",
       "    <tr>\n",
       "      <th>0</th>\n",
       "      <td>841</td>\n",
       "      <td>805</td>\n",
       "      <td>22598</td>\n",
       "      <td>43233.451687</td>\n",
       "      <td>165231.3636</td>\n",
       "      <td>6042.780488</td>\n",
       "    </tr>\n",
       "  </tbody>\n",
       "</table>\n",
       "</div>"
      ],
      "text/plain": [
       "   Unique Providers that serviced DRG EXTRACRANIAL PROCEDURES  \\\n",
       "0                                                841            \n",
       "\n",
       "   Unique Provider Zip Codes that serviced DRG EXTRACRANIAL PROCEDURES  \\\n",
       "0                                                805                     \n",
       "\n",
       "   Total Number of Discharges for DRG EXTRACRANIAL PROCEDURES  \\\n",
       "0                                              22598            \n",
       "\n",
       "   Average Charge for DRG EXTRACRANIAL PROCEDURES  \\\n",
       "0                                    43233.451687   \n",
       "\n",
       "   Max Charge for DRG EXTRACRANIAL PROCEDURES  \\\n",
       "0                                 165231.3636   \n",
       "\n",
       "   Min Charge for DRG EXTRACRANIAL PROCEDURES  \n",
       "0                                 6042.780488  "
      ]
     },
     "execution_count": 186,
     "metadata": {},
     "output_type": "execute_result"
    }
   ],
   "source": [
    "# Create a summary data frame to hold the DRG EXTRACRANIAL PROCEDURES Analysis Results\n",
    "\n",
    "DRG_Analysis_df_drg_EXTRACRANIAL = pd.DataFrame([\n",
    "    {\"Unique Providers that serviced DRG EXTRACRANIAL PROCEDURES\": Unique_Provider_count_drg_EXTRACRANIAL, \n",
    "     \"Unique Provider Zip Codes that serviced DRG EXTRACRANIAL PROCEDURES\": Unique_Provider_ZipCode_Count_drg_EXTRACRANIAL, \n",
    "     \"Total Number of Discharges for DRG EXTRACRANIAL PROCEDURES\": Discharge_Count_drg_EXTRACRANIAL,\n",
    "     \"Average Charge for DRG EXTRACRANIAL PROCEDURES\": Average_Covered_Charges_drg_EXTRACRANIAL,\n",
    "     \"Max Charge for DRG EXTRACRANIAL PROCEDURES\": Max_Covered_Charges_drg_EXTRACRANIAL,\n",
    "     \"Min Charge for DRG EXTRACRANIAL PROCEDURES\": Min_Covered_Charges_drg_EXTRACRANIAL\n",
    "    }\n",
    "])\n",
    "DRG_Analysis_df_drg_EXTRACRANIAL"
   ]
  },
  {
   "cell_type": "code",
   "execution_count": 187,
   "metadata": {},
   "outputs": [
    {
     "data": {
      "text/html": [
       "<div>\n",
       "<style scoped>\n",
       "    .dataframe tbody tr th:only-of-type {\n",
       "        vertical-align: middle;\n",
       "    }\n",
       "\n",
       "    .dataframe tbody tr th {\n",
       "        vertical-align: top;\n",
       "    }\n",
       "\n",
       "    .dataframe thead th {\n",
       "        text-align: right;\n",
       "    }\n",
       "</style>\n",
       "<table border=\"1\" class=\"dataframe\">\n",
       "  <thead>\n",
       "    <tr style=\"text-align: right;\">\n",
       "      <th></th>\n",
       "      <th>Unique Providers that serviced DRG EXTRACRANIAL PROCEDURES</th>\n",
       "      <th>Unique Provider Zip Codes that serviced DRG EXTRACRANIAL PROCEDURES</th>\n",
       "      <th>Total Number of Discharges for DRG EXTRACRANIAL PROCEDURES</th>\n",
       "      <th>Average Charge for DRG EXTRACRANIAL PROCEDURES</th>\n",
       "      <th>Max Charge for DRG EXTRACRANIAL PROCEDURES</th>\n",
       "      <th>Min Charge for DRG EXTRACRANIAL PROCEDURES</th>\n",
       "    </tr>\n",
       "  </thead>\n",
       "  <tbody>\n",
       "    <tr>\n",
       "      <th>0</th>\n",
       "      <td>841</td>\n",
       "      <td>805</td>\n",
       "      <td>22598</td>\n",
       "      <td>$43,233.45</td>\n",
       "      <td>$165,231.36</td>\n",
       "      <td>$6,042.78</td>\n",
       "    </tr>\n",
       "  </tbody>\n",
       "</table>\n",
       "</div>"
      ],
      "text/plain": [
       "   Unique Providers that serviced DRG EXTRACRANIAL PROCEDURES  \\\n",
       "0                                                841            \n",
       "\n",
       "   Unique Provider Zip Codes that serviced DRG EXTRACRANIAL PROCEDURES  \\\n",
       "0                                                805                     \n",
       "\n",
       "   Total Number of Discharges for DRG EXTRACRANIAL PROCEDURES  \\\n",
       "0                                              22598            \n",
       "\n",
       "  Average Charge for DRG EXTRACRANIAL PROCEDURES  \\\n",
       "0                                     $43,233.45   \n",
       "\n",
       "  Max Charge for DRG EXTRACRANIAL PROCEDURES  \\\n",
       "0                                $165,231.36   \n",
       "\n",
       "  Min Charge for DRG EXTRACRANIAL PROCEDURES  \n",
       "0                                  $6,042.78  "
      ]
     },
     "execution_count": 187,
     "metadata": {},
     "output_type": "execute_result"
    }
   ],
   "source": [
    "# Give the displayed data to hold the DRG EXTRACRANIAL PROCEDURES Analysis Results with cleaner formatting\n",
    "\n",
    "DRG_Analysis_Formatted_df_drg_EXTRACRANIAL = DRG_Analysis_df_drg_EXTRACRANIAL\n",
    "\n",
    "DRG_Analysis_Formatted_df_drg_EXTRACRANIAL[\"Average Charge for DRG EXTRACRANIAL PROCEDURES\"] = DRG_Analysis_df_drg_EXTRACRANIAL[\"Average Charge for DRG EXTRACRANIAL PROCEDURES\"].map(\"${:,.2f}\".format)\n",
    "DRG_Analysis_Formatted_df_drg_EXTRACRANIAL[\"Max Charge for DRG EXTRACRANIAL PROCEDURES\"] = DRG_Analysis_df_drg_EXTRACRANIAL[\"Max Charge for DRG EXTRACRANIAL PROCEDURES\"].map(\"${:,.2f}\".format)\n",
    "DRG_Analysis_Formatted_df_drg_EXTRACRANIAL[\"Min Charge for DRG EXTRACRANIAL PROCEDURES\"] = DRG_Analysis_df_drg_EXTRACRANIAL[\"Min Charge for DRG EXTRACRANIAL PROCEDURES\"].map(\"${:,.2f}\".format)\n",
    "\n",
    "DRG_Analysis_Formatted_df_drg_EXTRACRANIAL"
   ]
  },
  {
   "cell_type": "code",
   "execution_count": 188,
   "metadata": {},
   "outputs": [
    {
     "data": {
      "text/html": [
       "<div>\n",
       "<style scoped>\n",
       "    .dataframe tbody tr th:only-of-type {\n",
       "        vertical-align: middle;\n",
       "    }\n",
       "\n",
       "    .dataframe tbody tr th {\n",
       "        vertical-align: top;\n",
       "    }\n",
       "\n",
       "    .dataframe thead th {\n",
       "        text-align: right;\n",
       "    }\n",
       "</style>\n",
       "<table border=\"1\" class=\"dataframe\">\n",
       "  <thead>\n",
       "    <tr style=\"text-align: right;\">\n",
       "      <th></th>\n",
       "      <th>drg_definition</th>\n",
       "      <th>provider_id</th>\n",
       "      <th>provider_name</th>\n",
       "      <th>provider_street_address</th>\n",
       "      <th>provider_city</th>\n",
       "      <th>provider_state</th>\n",
       "      <th>provider_zip_code</th>\n",
       "      <th>hospital_referral_region</th>\n",
       "      <th>total_discharges</th>\n",
       "      <th>average_covered_charges</th>\n",
       "      <th>average_total_payments</th>\n",
       "      <th>average_medicare_payments</th>\n",
       "    </tr>\n",
       "  </thead>\n",
       "  <tbody>\n",
       "    <tr>\n",
       "      <th>162152</th>\n",
       "      <td>039 - EXTRACRANIAL PROCEDURES W/O CC/MCC</td>\n",
       "      <td>440002</td>\n",
       "      <td>JACKSON-MADISON COUNTY GENERAL HOSPITAL</td>\n",
       "      <td>620 SKYLINE DRIVE</td>\n",
       "      <td>JACKSON</td>\n",
       "      <td>TN</td>\n",
       "      <td>38301</td>\n",
       "      <td>TN - Jackson</td>\n",
       "      <td>22</td>\n",
       "      <td>28543.45455</td>\n",
       "      <td>6422.181818</td>\n",
       "      <td>5096.545455</td>\n",
       "    </tr>\n",
       "    <tr>\n",
       "      <th>162404</th>\n",
       "      <td>039 - EXTRACRANIAL PROCEDURES W/O CC/MCC</td>\n",
       "      <td>440006</td>\n",
       "      <td>TRISTAR SKYLINE MEDICAL CENTER</td>\n",
       "      <td>3441 DICKERSON PIKE</td>\n",
       "      <td>NASHVILLE</td>\n",
       "      <td>TN</td>\n",
       "      <td>37207</td>\n",
       "      <td>TN - Nashville</td>\n",
       "      <td>11</td>\n",
       "      <td>57714.81818</td>\n",
       "      <td>7188.818182</td>\n",
       "      <td>5300.363636</td>\n",
       "    </tr>\n",
       "    <tr>\n",
       "      <th>162769</th>\n",
       "      <td>039 - EXTRACRANIAL PROCEDURES W/O CC/MCC</td>\n",
       "      <td>440015</td>\n",
       "      <td>UNIVERSITY OF TN MEDICAL CENTER (THE)</td>\n",
       "      <td>1924 ALCOA HIGHWAY</td>\n",
       "      <td>KNOXVILLE</td>\n",
       "      <td>TN</td>\n",
       "      <td>37920</td>\n",
       "      <td>TN - Knoxville</td>\n",
       "      <td>43</td>\n",
       "      <td>29216.16279</td>\n",
       "      <td>7787.55814</td>\n",
       "      <td>5858.116279</td>\n",
       "    </tr>\n",
       "    <tr>\n",
       "      <th>162955</th>\n",
       "      <td>039 - EXTRACRANIAL PROCEDURES W/O CC/MCC</td>\n",
       "      <td>440017</td>\n",
       "      <td>WELLMONT HOLSTON VALLEY MEDICAL CENTER</td>\n",
       "      <td>130 WEST RAVINE ROAD</td>\n",
       "      <td>KINGSPORT</td>\n",
       "      <td>TN</td>\n",
       "      <td>37662</td>\n",
       "      <td>TN - Kingsport</td>\n",
       "      <td>47</td>\n",
       "      <td>26459.34043</td>\n",
       "      <td>6670.468085</td>\n",
       "      <td>4566.489362</td>\n",
       "    </tr>\n",
       "    <tr>\n",
       "      <th>163139</th>\n",
       "      <td>039 - EXTRACRANIAL PROCEDURES W/O CC/MCC</td>\n",
       "      <td>440029</td>\n",
       "      <td>WILLIAMSON MEDICAL CENTER</td>\n",
       "      <td>4321 CAROTHERS PARKWAY</td>\n",
       "      <td>FRANKLIN</td>\n",
       "      <td>TN</td>\n",
       "      <td>37067</td>\n",
       "      <td>TN - Nashville</td>\n",
       "      <td>23</td>\n",
       "      <td>27178.13044</td>\n",
       "      <td>6041</td>\n",
       "      <td>4846.739130</td>\n",
       "    </tr>\n",
       "  </tbody>\n",
       "</table>\n",
       "</div>"
      ],
      "text/plain": [
       "                                  drg_definition provider_id  \\\n",
       "162152  039 - EXTRACRANIAL PROCEDURES W/O CC/MCC      440002   \n",
       "162404  039 - EXTRACRANIAL PROCEDURES W/O CC/MCC      440006   \n",
       "162769  039 - EXTRACRANIAL PROCEDURES W/O CC/MCC      440015   \n",
       "162955  039 - EXTRACRANIAL PROCEDURES W/O CC/MCC      440017   \n",
       "163139  039 - EXTRACRANIAL PROCEDURES W/O CC/MCC      440029   \n",
       "\n",
       "                                  provider_name provider_street_address  \\\n",
       "162152  JACKSON-MADISON COUNTY GENERAL HOSPITAL       620 SKYLINE DRIVE   \n",
       "162404           TRISTAR SKYLINE MEDICAL CENTER     3441 DICKERSON PIKE   \n",
       "162769    UNIVERSITY OF TN MEDICAL CENTER (THE)      1924 ALCOA HIGHWAY   \n",
       "162955   WELLMONT HOLSTON VALLEY MEDICAL CENTER    130 WEST RAVINE ROAD   \n",
       "163139                WILLIAMSON MEDICAL CENTER  4321 CAROTHERS PARKWAY   \n",
       "\n",
       "       provider_city provider_state provider_zip_code  \\\n",
       "162152       JACKSON             TN             38301   \n",
       "162404     NASHVILLE             TN             37207   \n",
       "162769     KNOXVILLE             TN             37920   \n",
       "162955     KINGSPORT             TN             37662   \n",
       "163139      FRANKLIN             TN             37067   \n",
       "\n",
       "       hospital_referral_region  total_discharges  average_covered_charges  \\\n",
       "162152             TN - Jackson                22              28543.45455   \n",
       "162404           TN - Nashville                11              57714.81818   \n",
       "162769           TN - Knoxville                43              29216.16279   \n",
       "162955           TN - Kingsport                47              26459.34043   \n",
       "163139           TN - Nashville                23              27178.13044   \n",
       "\n",
       "       average_total_payments  average_medicare_payments  \n",
       "162152            6422.181818                5096.545455  \n",
       "162404            7188.818182                5300.363636  \n",
       "162769             7787.55814                5858.116279  \n",
       "162955            6670.468085                4566.489362  \n",
       "163139                   6041                4846.739130  "
      ]
     },
     "execution_count": 188,
     "metadata": {},
     "output_type": "execute_result"
    }
   ],
   "source": [
    "# Filter the data so that only a specific procedure in TN is in the dataframe\n",
    "\n",
    "DataFrame_drg_EXTRACRANIAL_TN = DataFrame.loc[(DataFrame[\"drg_definition\"] == \"039 - EXTRACRANIAL PROCEDURES W/O CC/MCC\") & (DataFrame[\"provider_state\"] == \"TN\"), :]\n",
    "\n",
    "DataFrame_drg_EXTRACRANIAL_TN.head()"
   ]
  },
  {
   "cell_type": "code",
   "execution_count": 189,
   "metadata": {},
   "outputs": [
    {
     "data": {
      "text/html": [
       "<div>\n",
       "<style scoped>\n",
       "    .dataframe tbody tr th:only-of-type {\n",
       "        vertical-align: middle;\n",
       "    }\n",
       "\n",
       "    .dataframe tbody tr th {\n",
       "        vertical-align: top;\n",
       "    }\n",
       "\n",
       "    .dataframe thead th {\n",
       "        text-align: right;\n",
       "    }\n",
       "</style>\n",
       "<table border=\"1\" class=\"dataframe\">\n",
       "  <thead>\n",
       "    <tr style=\"text-align: right;\">\n",
       "      <th></th>\n",
       "      <th>total_discharges</th>\n",
       "      <th>average_covered_charges</th>\n",
       "      <th>average_medicare_payments</th>\n",
       "    </tr>\n",
       "  </thead>\n",
       "  <tbody>\n",
       "    <tr>\n",
       "      <th>count</th>\n",
       "      <td>27.000000</td>\n",
       "      <td>27.000000</td>\n",
       "      <td>27.000000</td>\n",
       "    </tr>\n",
       "    <tr>\n",
       "      <th>mean</th>\n",
       "      <td>27.777778</td>\n",
       "      <td>39567.690938</td>\n",
       "      <td>5234.725741</td>\n",
       "    </tr>\n",
       "    <tr>\n",
       "      <th>std</th>\n",
       "      <td>16.472199</td>\n",
       "      <td>28342.804216</td>\n",
       "      <td>721.661427</td>\n",
       "    </tr>\n",
       "    <tr>\n",
       "      <th>min</th>\n",
       "      <td>11.000000</td>\n",
       "      <td>13365.714290</td>\n",
       "      <td>3865.000000</td>\n",
       "    </tr>\n",
       "    <tr>\n",
       "      <th>25%</th>\n",
       "      <td>18.500000</td>\n",
       "      <td>26827.792495</td>\n",
       "      <td>4757.946742</td>\n",
       "    </tr>\n",
       "    <tr>\n",
       "      <th>50%</th>\n",
       "      <td>21.000000</td>\n",
       "      <td>30478.950000</td>\n",
       "      <td>5257.928571</td>\n",
       "    </tr>\n",
       "    <tr>\n",
       "      <th>75%</th>\n",
       "      <td>35.500000</td>\n",
       "      <td>43071.213330</td>\n",
       "      <td>5667.527778</td>\n",
       "    </tr>\n",
       "    <tr>\n",
       "      <th>max</th>\n",
       "      <td>67.000000</td>\n",
       "      <td>150031.437500</td>\n",
       "      <td>6977.000000</td>\n",
       "    </tr>\n",
       "  </tbody>\n",
       "</table>\n",
       "</div>"
      ],
      "text/plain": [
       "       total_discharges  average_covered_charges  average_medicare_payments\n",
       "count         27.000000                27.000000                  27.000000\n",
       "mean          27.777778             39567.690938                5234.725741\n",
       "std           16.472199             28342.804216                 721.661427\n",
       "min           11.000000             13365.714290                3865.000000\n",
       "25%           18.500000             26827.792495                4757.946742\n",
       "50%           21.000000             30478.950000                5257.928571\n",
       "75%           35.500000             43071.213330                5667.527778\n",
       "max           67.000000            150031.437500                6977.000000"
      ]
     },
     "execution_count": 189,
     "metadata": {},
     "output_type": "execute_result"
    }
   ],
   "source": [
    "# Display a statistical overview of the EXTRACRANIAL PROCEDURES TN DataFrame for reference\n",
    "\n",
    "DataFrame_drg_EXTRACRANIAL_TN.describe()"
   ]
  },
  {
   "cell_type": "code",
   "execution_count": 190,
   "metadata": {},
   "outputs": [
    {
     "data": {
      "text/plain": [
       "27"
      ]
     },
     "execution_count": 190,
     "metadata": {},
     "output_type": "execute_result"
    }
   ],
   "source": [
    "# Calculate the Number of Unique Providers that serviced DRG EXTRACRANIAL PROCEDURES in TN\n",
    "Unique_Provider_count_drg_EXTRACRANIAL_TN = len(DataFrame_drg_EXTRACRANIAL_TN[\"provider_id\"].unique())\n",
    "Unique_Provider_count_drg_EXTRACRANIAL_TN"
   ]
  },
  {
   "cell_type": "code",
   "execution_count": 191,
   "metadata": {},
   "outputs": [
    {
     "data": {
      "text/plain": [
       "7"
      ]
     },
     "execution_count": 191,
     "metadata": {},
     "output_type": "execute_result"
    }
   ],
   "source": [
    "# Calculate the Unique Number of hospital_referral_region_description that serviced DRG EXTRACRANIAL PROCEDURES in TN\n",
    "Unique_Hospital_Referral_Region_count_drg_EXTRACRANIAL_TN = len(DataFrame_drg_EXTRACRANIAL_TN[\"hospital_referral_region\"].unique())\n",
    "Unique_Hospital_Referral_Region_count_drg_EXTRACRANIAL_TN"
   ]
  },
  {
   "cell_type": "code",
   "execution_count": 192,
   "metadata": {},
   "outputs": [
    {
     "data": {
      "text/plain": [
       "750"
      ]
     },
     "execution_count": 192,
     "metadata": {},
     "output_type": "execute_result"
    }
   ],
   "source": [
    "# Calculate the Total Number of Discharges for DRG EXTRACRANIAL PROCEDURES in TN\n",
    "Discharge_Count_drg_EXTRACRANIAL_TN = (DataFrame_drg_EXTRACRANIAL_TN[\"total_discharges\"].sum())\n",
    "Discharge_Count_drg_EXTRACRANIAL_TN"
   ]
  },
  {
   "cell_type": "code",
   "execution_count": 193,
   "metadata": {},
   "outputs": [
    {
     "data": {
      "text/plain": [
       "39567.690937777785"
      ]
     },
     "execution_count": 193,
     "metadata": {},
     "output_type": "execute_result"
    }
   ],
   "source": [
    "# Cacluate the average covered charges for DRG EXTRACRANIAL PROCEDURES in TN\n",
    "Average_Covered_Charges_drg_EXTRACRANIAL_TN = DataFrame_drg_EXTRACRANIAL_TN[\"average_covered_charges\"].mean()\n",
    "Average_Covered_Charges_drg_EXTRACRANIAL_TN"
   ]
  },
  {
   "cell_type": "code",
   "execution_count": 194,
   "metadata": {},
   "outputs": [
    {
     "data": {
      "text/plain": [
       "13365.71429"
      ]
     },
     "execution_count": 194,
     "metadata": {},
     "output_type": "execute_result"
    }
   ],
   "source": [
    "# Cacluate the min covered charge amount for DRG EXTRACRANIAL PROCEDURES in TN\n",
    "Min_Covered_Charges_drg_EXTRACRANIAL_TN = DataFrame_drg_EXTRACRANIAL_TN[\"average_covered_charges\"].min()\n",
    "Min_Covered_Charges_drg_EXTRACRANIAL_TN"
   ]
  },
  {
   "cell_type": "code",
   "execution_count": 195,
   "metadata": {},
   "outputs": [
    {
     "data": {
      "text/plain": [
       "150031.4375"
      ]
     },
     "execution_count": 195,
     "metadata": {},
     "output_type": "execute_result"
    }
   ],
   "source": [
    "# Cacluate the max covered charge amount for DRG EXTRACRANIAL PROCEDURES in TN\n",
    "Max_Covered_Charges_drg_EXTRACRANIAL_TN = DataFrame_drg_EXTRACRANIAL_TN[\"average_covered_charges\"].max()\n",
    "Max_Covered_Charges_drg_EXTRACRANIAL_TN"
   ]
  },
  {
   "cell_type": "code",
   "execution_count": 196,
   "metadata": {},
   "outputs": [
    {
     "data": {
      "text/plain": [
       "26"
      ]
     },
     "execution_count": 196,
     "metadata": {},
     "output_type": "execute_result"
    }
   ],
   "source": [
    "# Calculate the Total Number of Unique Provider Zip Codes that serviced DRG EXTRACRANIAL PROCEDURES in TN\n",
    "Unique_Provider_ZipCode_Count_drg_EXTRACRANIAL_TN = len(DataFrame_drg_EXTRACRANIAL_TN[\"provider_zip_code\"].unique())\n",
    "Unique_Provider_ZipCode_Count_drg_EXTRACRANIAL_TN"
   ]
  },
  {
   "cell_type": "code",
   "execution_count": 197,
   "metadata": {},
   "outputs": [
    {
     "data": {
      "text/html": [
       "<div>\n",
       "<style scoped>\n",
       "    .dataframe tbody tr th:only-of-type {\n",
       "        vertical-align: middle;\n",
       "    }\n",
       "\n",
       "    .dataframe tbody tr th {\n",
       "        vertical-align: top;\n",
       "    }\n",
       "\n",
       "    .dataframe thead th {\n",
       "        text-align: right;\n",
       "    }\n",
       "</style>\n",
       "<table border=\"1\" class=\"dataframe\">\n",
       "  <thead>\n",
       "    <tr style=\"text-align: right;\">\n",
       "      <th></th>\n",
       "      <th>Unique Providers that serviced DRG EXTRACRANIAL PROCEDURES in TN</th>\n",
       "      <th>Unique Provider Zip Codes that serviced DRG EXTRACRANIAL PROCEDURES in TN</th>\n",
       "      <th>Total Number of Discharges for DRG EXTRACRANIAL PROCEDURES in TN</th>\n",
       "      <th>Average Charge for DRG EXTRACRANIAL PROCEDURES in TN</th>\n",
       "      <th>Max Charge for DRG EXTRACRANIAL PROCEDURES in TN</th>\n",
       "      <th>Min Charge for DRG EXTRACRANIAL PROCEDURES in TN</th>\n",
       "    </tr>\n",
       "  </thead>\n",
       "  <tbody>\n",
       "    <tr>\n",
       "      <th>0</th>\n",
       "      <td>27</td>\n",
       "      <td>26</td>\n",
       "      <td>750</td>\n",
       "      <td>39567.690938</td>\n",
       "      <td>150031.4375</td>\n",
       "      <td>13365.71429</td>\n",
       "    </tr>\n",
       "  </tbody>\n",
       "</table>\n",
       "</div>"
      ],
      "text/plain": [
       "   Unique Providers that serviced DRG EXTRACRANIAL PROCEDURES in TN  \\\n",
       "0                                                 27                  \n",
       "\n",
       "   Unique Provider Zip Codes that serviced DRG EXTRACRANIAL PROCEDURES in TN  \\\n",
       "0                                                 26                           \n",
       "\n",
       "   Total Number of Discharges for DRG EXTRACRANIAL PROCEDURES in TN  \\\n",
       "0                                                750                  \n",
       "\n",
       "   Average Charge for DRG EXTRACRANIAL PROCEDURES in TN  \\\n",
       "0                                       39567.690938      \n",
       "\n",
       "   Max Charge for DRG EXTRACRANIAL PROCEDURES in TN  \\\n",
       "0                                       150031.4375   \n",
       "\n",
       "   Min Charge for DRG EXTRACRANIAL PROCEDURES in TN  \n",
       "0                                       13365.71429  "
      ]
     },
     "execution_count": 197,
     "metadata": {},
     "output_type": "execute_result"
    }
   ],
   "source": [
    "# Create a summary data frame to hold the DRG EXTRACRANIAL PROCEDURES in TN Analysis Results\n",
    "\n",
    "DRG_Analysis_df_drg_EXTRACRANIAL_TN = pd.DataFrame([\n",
    "    {\"Unique Providers that serviced DRG EXTRACRANIAL PROCEDURES in TN\": Unique_Provider_count_drg_EXTRACRANIAL_TN, \n",
    "     \"Unique Provider Zip Codes that serviced DRG EXTRACRANIAL PROCEDURES in TN\": Unique_Provider_ZipCode_Count_drg_EXTRACRANIAL_TN, \n",
    "     \"Total Number of Discharges for DRG EXTRACRANIAL PROCEDURES in TN\": Discharge_Count_drg_EXTRACRANIAL_TN,\n",
    "     \"Average Charge for DRG EXTRACRANIAL PROCEDURES in TN\": Average_Covered_Charges_drg_EXTRACRANIAL_TN,\n",
    "     \"Max Charge for DRG EXTRACRANIAL PROCEDURES in TN\": Max_Covered_Charges_drg_EXTRACRANIAL_TN,\n",
    "     \"Min Charge for DRG EXTRACRANIAL PROCEDURES in TN\": Min_Covered_Charges_drg_EXTRACRANIAL_TN\n",
    "    }\n",
    "])\n",
    "DRG_Analysis_df_drg_EXTRACRANIAL_TN"
   ]
  },
  {
   "cell_type": "code",
   "execution_count": 198,
   "metadata": {
    "scrolled": true
   },
   "outputs": [
    {
     "data": {
      "text/html": [
       "<div>\n",
       "<style scoped>\n",
       "    .dataframe tbody tr th:only-of-type {\n",
       "        vertical-align: middle;\n",
       "    }\n",
       "\n",
       "    .dataframe tbody tr th {\n",
       "        vertical-align: top;\n",
       "    }\n",
       "\n",
       "    .dataframe thead th {\n",
       "        text-align: right;\n",
       "    }\n",
       "</style>\n",
       "<table border=\"1\" class=\"dataframe\">\n",
       "  <thead>\n",
       "    <tr style=\"text-align: right;\">\n",
       "      <th></th>\n",
       "      <th>Unique Providers that serviced DRG EXTRACRANIAL PROCEDURES in TN</th>\n",
       "      <th>Unique Provider Zip Codes that serviced DRG EXTRACRANIAL PROCEDURES in TN</th>\n",
       "      <th>Total Number of Discharges for DRG EXTRACRANIAL PROCEDURES in TN</th>\n",
       "      <th>Average Charge for DRG EXTRACRANIAL PROCEDURES in TN</th>\n",
       "      <th>Max Charge for DRG EXTRACRANIAL PROCEDURES in TN</th>\n",
       "      <th>Min Charge for DRG EXTRACRANIAL PROCEDURES in TN</th>\n",
       "    </tr>\n",
       "  </thead>\n",
       "  <tbody>\n",
       "    <tr>\n",
       "      <th>0</th>\n",
       "      <td>27</td>\n",
       "      <td>26</td>\n",
       "      <td>750</td>\n",
       "      <td>$39,567.69</td>\n",
       "      <td>$150,031.44</td>\n",
       "      <td>$13,365.71</td>\n",
       "    </tr>\n",
       "  </tbody>\n",
       "</table>\n",
       "</div>"
      ],
      "text/plain": [
       "   Unique Providers that serviced DRG EXTRACRANIAL PROCEDURES in TN  \\\n",
       "0                                                 27                  \n",
       "\n",
       "   Unique Provider Zip Codes that serviced DRG EXTRACRANIAL PROCEDURES in TN  \\\n",
       "0                                                 26                           \n",
       "\n",
       "   Total Number of Discharges for DRG EXTRACRANIAL PROCEDURES in TN  \\\n",
       "0                                                750                  \n",
       "\n",
       "  Average Charge for DRG EXTRACRANIAL PROCEDURES in TN  \\\n",
       "0                                         $39,567.69     \n",
       "\n",
       "  Max Charge for DRG EXTRACRANIAL PROCEDURES in TN  \\\n",
       "0                                      $150,031.44   \n",
       "\n",
       "  Min Charge for DRG EXTRACRANIAL PROCEDURES in TN  \n",
       "0                                       $13,365.71  "
      ]
     },
     "execution_count": 198,
     "metadata": {},
     "output_type": "execute_result"
    }
   ],
   "source": [
    "# Give the displayed data to hold the DRG EXTRACRANIAL PROCEDURES in TN Analysis Results with cleaner formatting\n",
    "\n",
    "DRG_Analysis_Formatted_df_drg_EXTRACRANIAL_TN = DRG_Analysis_df_drg_EXTRACRANIAL_TN\n",
    "\n",
    "DRG_Analysis_Formatted_df_drg_EXTRACRANIAL_TN[\"Average Charge for DRG EXTRACRANIAL PROCEDURES in TN\"] = DRG_Analysis_df_drg_EXTRACRANIAL_TN[\"Average Charge for DRG EXTRACRANIAL PROCEDURES in TN\"].map(\"${:,.2f}\".format)\n",
    "DRG_Analysis_Formatted_df_drg_EXTRACRANIAL_TN[\"Max Charge for DRG EXTRACRANIAL PROCEDURES in TN\"] = DRG_Analysis_df_drg_EXTRACRANIAL_TN[\"Max Charge for DRG EXTRACRANIAL PROCEDURES in TN\"].map(\"${:,.2f}\".format)\n",
    "DRG_Analysis_Formatted_df_drg_EXTRACRANIAL_TN[\"Min Charge for DRG EXTRACRANIAL PROCEDURES in TN\"] = DRG_Analysis_df_drg_EXTRACRANIAL_TN[\"Min Charge for DRG EXTRACRANIAL PROCEDURES in TN\"].map(\"${:,.2f}\".format)\n",
    "\n",
    "DRG_Analysis_Formatted_df_drg_EXTRACRANIAL_TN"
   ]
  },
  {
   "cell_type": "code",
   "execution_count": 199,
   "metadata": {},
   "outputs": [
    {
     "data": {
      "text/html": [
       "<div>\n",
       "<style scoped>\n",
       "    .dataframe tbody tr th:only-of-type {\n",
       "        vertical-align: middle;\n",
       "    }\n",
       "\n",
       "    .dataframe tbody tr th {\n",
       "        vertical-align: top;\n",
       "    }\n",
       "\n",
       "    .dataframe thead th {\n",
       "        text-align: right;\n",
       "    }\n",
       "</style>\n",
       "<table border=\"1\" class=\"dataframe\">\n",
       "  <thead>\n",
       "    <tr style=\"text-align: right;\">\n",
       "      <th></th>\n",
       "      <th>hospital_referral_region</th>\n",
       "      <th>average_covered_charges</th>\n",
       "    </tr>\n",
       "  </thead>\n",
       "  <tbody>\n",
       "    <tr>\n",
       "      <th>0</th>\n",
       "      <td>TN - Chattanooga</td>\n",
       "      <td>31068.985100</td>\n",
       "    </tr>\n",
       "    <tr>\n",
       "      <th>1</th>\n",
       "      <td>TN - Jackson</td>\n",
       "      <td>89287.446025</td>\n",
       "    </tr>\n",
       "    <tr>\n",
       "      <th>2</th>\n",
       "      <td>TN - Johnson City</td>\n",
       "      <td>36475.107140</td>\n",
       "    </tr>\n",
       "    <tr>\n",
       "      <th>3</th>\n",
       "      <td>TN - Kingsport</td>\n",
       "      <td>26459.340430</td>\n",
       "    </tr>\n",
       "    <tr>\n",
       "      <th>4</th>\n",
       "      <td>TN - Knoxville</td>\n",
       "      <td>20602.188268</td>\n",
       "    </tr>\n",
       "  </tbody>\n",
       "</table>\n",
       "</div>"
      ],
      "text/plain": [
       "  hospital_referral_region  average_covered_charges\n",
       "0         TN - Chattanooga             31068.985100\n",
       "1             TN - Jackson             89287.446025\n",
       "2        TN - Johnson City             36475.107140\n",
       "3           TN - Kingsport             26459.340430\n",
       "4           TN - Knoxville             20602.188268"
      ]
     },
     "execution_count": 199,
     "metadata": {},
     "output_type": "execute_result"
    }
   ],
   "source": [
    "# Store the Average Cost Data for the specific procedure Grouped by Region by splitting up the data into groups based upon 'Region'\n",
    "# Filter the DataFrame down only to those columns to chart\n",
    "EXTRACRANIAL_data_grouped_by_Region_in_TN = DataFrame_drg_EXTRACRANIAL_TN.groupby(['hospital_referral_region'])\n",
    "\n",
    "# Convert to DataFrame\n",
    "\n",
    "EXTRACRANIAL_Avg_Charge_data_grouped_by_Region_in_TN_df = EXTRACRANIAL_data_grouped_by_Region_in_TN[[\"average_covered_charges\"]].mean().reset_index()\n",
    "\n",
    "# Preview DataFrame\n",
    "\n",
    "EXTRACRANIAL_Avg_Charge_data_grouped_by_Region_in_TN_df.head()"
   ]
  },
  {
   "cell_type": "code",
   "execution_count": 200,
   "metadata": {},
   "outputs": [
    {
     "data": {
      "text/plain": [
       "['TN - Chattanooga',\n",
       " 'TN - Jackson',\n",
       " 'TN - Johnson City',\n",
       " 'TN - Kingsport',\n",
       " 'TN - Knoxville',\n",
       " 'TN - Memphis',\n",
       " 'TN - Nashville']"
      ]
     },
     "execution_count": 200,
     "metadata": {},
     "output_type": "execute_result"
    }
   ],
   "source": [
    "# Create list to store data of the Regions in TN for the specific procedure\n",
    "\n",
    "drg_EXTRACRANIAL_TN_Region_List = []\n",
    "\n",
    "for Region in EXTRACRANIAL_Avg_Charge_data_grouped_by_Region_in_TN_df[\"hospital_referral_region\"]:\n",
    "    if Region not in drg_EXTRACRANIAL_TN_Region_List:\n",
    "        drg_EXTRACRANIAL_TN_Region_List.append(Region)\n",
    "        \n",
    "drg_EXTRACRANIAL_TN_Region_List"
   ]
  },
  {
   "cell_type": "code",
   "execution_count": 204,
   "metadata": {},
   "outputs": [
    {
     "data": {
      "text/plain": [
       "[31068.9851,\n",
       " 89287.446025,\n",
       " 36475.10714,\n",
       " 26459.34043,\n",
       " 20602.188267999998,\n",
       " 59150.768483333326,\n",
       " 37762.342800833336]"
      ]
     },
     "execution_count": 204,
     "metadata": {},
     "output_type": "execute_result"
    }
   ],
   "source": [
    "# Create list to store data of the Average Charge by Region in TN for the specific procedure\n",
    "\n",
    "drg_EXTRACRANIAL_TN_Average_Covered_Charge_List = []\n",
    "\n",
    "for Cost in EXTRACRANIAL_Avg_Charge_data_grouped_by_Region_in_TN_df[\"average_covered_charges\"]:\n",
    "    if Cost not in drg_EXTRACRANIAL_TN_Average_Covered_Charge_List:\n",
    "        drg_EXTRACRANIAL_TN_Average_Covered_Charge_List.append(Cost)\n",
    "        \n",
    "drg_EXTRACRANIAL_TN_Average_Covered_Charge_List"
   ]
  },
  {
   "cell_type": "code",
   "execution_count": 205,
   "metadata": {},
   "outputs": [
    {
     "data": {
      "text/html": [
       "<div>\n",
       "<style scoped>\n",
       "    .dataframe tbody tr th:only-of-type {\n",
       "        vertical-align: middle;\n",
       "    }\n",
       "\n",
       "    .dataframe tbody tr th {\n",
       "        vertical-align: top;\n",
       "    }\n",
       "\n",
       "    .dataframe thead th {\n",
       "        text-align: right;\n",
       "    }\n",
       "</style>\n",
       "<table border=\"1\" class=\"dataframe\">\n",
       "  <thead>\n",
       "    <tr style=\"text-align: right;\">\n",
       "      <th></th>\n",
       "      <th>DRG</th>\n",
       "      <th>Region</th>\n",
       "      <th>Average Cost</th>\n",
       "    </tr>\n",
       "  </thead>\n",
       "  <tbody>\n",
       "    <tr>\n",
       "      <th>0</th>\n",
       "      <td>039 - EXTRACRANIAL PROCEDURES W/O CC/MCC</td>\n",
       "      <td>TN - Chattanooga</td>\n",
       "      <td>31068.985100</td>\n",
       "    </tr>\n",
       "    <tr>\n",
       "      <th>1</th>\n",
       "      <td>039 - EXTRACRANIAL PROCEDURES W/O CC/MCC</td>\n",
       "      <td>TN - Jackson</td>\n",
       "      <td>89287.446025</td>\n",
       "    </tr>\n",
       "    <tr>\n",
       "      <th>2</th>\n",
       "      <td>039 - EXTRACRANIAL PROCEDURES W/O CC/MCC</td>\n",
       "      <td>TN - Johnson City</td>\n",
       "      <td>36475.107140</td>\n",
       "    </tr>\n",
       "    <tr>\n",
       "      <th>3</th>\n",
       "      <td>039 - EXTRACRANIAL PROCEDURES W/O CC/MCC</td>\n",
       "      <td>TN - Kingsport</td>\n",
       "      <td>26459.340430</td>\n",
       "    </tr>\n",
       "    <tr>\n",
       "      <th>4</th>\n",
       "      <td>039 - EXTRACRANIAL PROCEDURES W/O CC/MCC</td>\n",
       "      <td>TN - Knoxville</td>\n",
       "      <td>20602.188268</td>\n",
       "    </tr>\n",
       "    <tr>\n",
       "      <th>5</th>\n",
       "      <td>039 - EXTRACRANIAL PROCEDURES W/O CC/MCC</td>\n",
       "      <td>TN - Memphis</td>\n",
       "      <td>59150.768483</td>\n",
       "    </tr>\n",
       "    <tr>\n",
       "      <th>6</th>\n",
       "      <td>039 - EXTRACRANIAL PROCEDURES W/O CC/MCC</td>\n",
       "      <td>TN - Nashville</td>\n",
       "      <td>37762.342801</td>\n",
       "    </tr>\n",
       "  </tbody>\n",
       "</table>\n",
       "</div>"
      ],
      "text/plain": [
       "                                        DRG             Region  Average Cost\n",
       "0  039 - EXTRACRANIAL PROCEDURES W/O CC/MCC   TN - Chattanooga  31068.985100\n",
       "1  039 - EXTRACRANIAL PROCEDURES W/O CC/MCC       TN - Jackson  89287.446025\n",
       "2  039 - EXTRACRANIAL PROCEDURES W/O CC/MCC  TN - Johnson City  36475.107140\n",
       "3  039 - EXTRACRANIAL PROCEDURES W/O CC/MCC     TN - Kingsport  26459.340430\n",
       "4  039 - EXTRACRANIAL PROCEDURES W/O CC/MCC     TN - Knoxville  20602.188268\n",
       "5  039 - EXTRACRANIAL PROCEDURES W/O CC/MCC       TN - Memphis  59150.768483\n",
       "6  039 - EXTRACRANIAL PROCEDURES W/O CC/MCC     TN - Nashville  37762.342801"
      ]
     },
     "execution_count": 205,
     "metadata": {},
     "output_type": "execute_result"
    }
   ],
   "source": [
    "# Create a DataFrame of the Average Cost by Region in TN for the specific procedure by merging the lists\n",
    "Average_Cost_of_Extracranial_per_Region_TN = pd.DataFrame({\n",
    "    \"DRG\": \"039 - EXTRACRANIAL PROCEDURES W/O CC/MCC\",\n",
    "    \"Region\": drg_EXTRACRANIAL_TN_Region_List,\n",
    "    \"Average Cost\": drg_EXTRACRANIAL_TN_Average_Covered_Charge_List\n",
    "})\n",
    "Average_Cost_of_Extracranial_per_Region_TN"
   ]
  },
  {
   "cell_type": "code",
   "execution_count": 206,
   "metadata": {},
   "outputs": [
    {
     "data": {
      "text/plain": [
       "Text(0, 0.5, 'Average Cost ($)')"
      ]
     },
     "execution_count": 206,
     "metadata": {},
     "output_type": "execute_result"
    },
    {
     "data": {
      "image/png": "[encoded data removed]",
      "text/plain": [
       "<Figure size 432x288 with 1 Axes>"
      ]
     },
     "metadata": {
      "needs_background": "light"
     },
     "output_type": "display_data"
    }
   ],
   "source": [
    "# Create a Bar Chart of the Average Cost per Region for EXTRACRANIAL PROCEDURES in TN\n",
    "\n",
    "drg_EXTRACRANIAL_TN_Average_Covered_Charge_List_Values = drg_EXTRACRANIAL_TN_Average_Covered_Charge_List\n",
    "drg_EXTRACRANIAL_TN_Region_List_Values = drg_EXTRACRANIAL_TN_Region_List\n",
    "x_axis = np.arange(len(drg_EXTRACRANIAL_TN_Region_List))\n",
    "\n",
    "plt.bar(x_axis, drg_EXTRACRANIAL_TN_Average_Covered_Charge_List_Values, alpha=0.5, align=\"center\")\n",
    "\n",
    "tick_locations = [value for value in x_axis]\n",
    "plt.xticks(tick_locations, drg_EXTRACRANIAL_TN_Region_List_Values, rotation=\"vertical\")\n",
    "\n",
    "plt.xlim(-0.75, len(x_axis)-0.25)\n",
    "\n",
    "plt.title(\"Average Cost per Region for EXTRACRANIAL PROCEDURES in TN\")\n",
    "plt.ylabel(\"Average Cost ($)\")"
   ]
  },
  {
   "cell_type": "code",
   "execution_count": 209,
   "metadata": {},
   "outputs": [
    {
     "data": {
      "text/html": [
       "<div>\n",
       "<style scoped>\n",
       "    .dataframe tbody tr th:only-of-type {\n",
       "        vertical-align: middle;\n",
       "    }\n",
       "\n",
       "    .dataframe tbody tr th {\n",
       "        vertical-align: top;\n",
       "    }\n",
       "\n",
       "    .dataframe thead th {\n",
       "        text-align: right;\n",
       "    }\n",
       "</style>\n",
       "<table border=\"1\" class=\"dataframe\">\n",
       "  <thead>\n",
       "    <tr style=\"text-align: right;\">\n",
       "      <th></th>\n",
       "      <th>drg_definition</th>\n",
       "      <th>provider_id</th>\n",
       "      <th>provider_name</th>\n",
       "      <th>provider_street_address</th>\n",
       "      <th>provider_city</th>\n",
       "      <th>provider_state</th>\n",
       "      <th>provider_zip_code</th>\n",
       "      <th>hospital_referral_region</th>\n",
       "      <th>total_discharges</th>\n",
       "      <th>average_covered_charges</th>\n",
       "      <th>average_total_payments</th>\n",
       "      <th>average_medicare_payments</th>\n",
       "    </tr>\n",
       "  </thead>\n",
       "  <tbody>\n",
       "    <tr>\n",
       "      <th>162404</th>\n",
       "      <td>039 - EXTRACRANIAL PROCEDURES W/O CC/MCC</td>\n",
       "      <td>440006</td>\n",
       "      <td>TRISTAR SKYLINE MEDICAL CENTER</td>\n",
       "      <td>3441 DICKERSON PIKE</td>\n",
       "      <td>NASHVILLE</td>\n",
       "      <td>TN</td>\n",
       "      <td>37207</td>\n",
       "      <td>TN - Nashville</td>\n",
       "      <td>11</td>\n",
       "      <td>57714.81818</td>\n",
       "      <td>7188.818182</td>\n",
       "      <td>5300.363636</td>\n",
       "    </tr>\n",
       "    <tr>\n",
       "      <th>163139</th>\n",
       "      <td>039 - EXTRACRANIAL PROCEDURES W/O CC/MCC</td>\n",
       "      <td>440029</td>\n",
       "      <td>WILLIAMSON MEDICAL CENTER</td>\n",
       "      <td>4321 CAROTHERS PARKWAY</td>\n",
       "      <td>FRANKLIN</td>\n",
       "      <td>TN</td>\n",
       "      <td>37067</td>\n",
       "      <td>TN - Nashville</td>\n",
       "      <td>23</td>\n",
       "      <td>27178.13044</td>\n",
       "      <td>6041</td>\n",
       "      <td>4846.739130</td>\n",
       "    </tr>\n",
       "    <tr>\n",
       "      <th>163347</th>\n",
       "      <td>039 - EXTRACRANIAL PROCEDURES W/O CC/MCC</td>\n",
       "      <td>440035</td>\n",
       "      <td>TENNOVA HEALTHCARE-CLARKSVILLE</td>\n",
       "      <td>651 DUNLOP LANE</td>\n",
       "      <td>CLARKSVILLE</td>\n",
       "      <td>TN</td>\n",
       "      <td>37040</td>\n",
       "      <td>TN - Nashville</td>\n",
       "      <td>18</td>\n",
       "      <td>63008.11111</td>\n",
       "      <td>6765.555556</td>\n",
       "      <td>5603.555556</td>\n",
       "    </tr>\n",
       "    <tr>\n",
       "      <th>163428</th>\n",
       "      <td>039 - EXTRACRANIAL PROCEDURES W/O CC/MCC</td>\n",
       "      <td>440039</td>\n",
       "      <td>VANDERBILT UNIVERSITY MEDICAL CENTER</td>\n",
       "      <td>1211 MEDICAL CENTER DRIVE</td>\n",
       "      <td>NASHVILLE</td>\n",
       "      <td>TN</td>\n",
       "      <td>37232</td>\n",
       "      <td>TN - Nashville</td>\n",
       "      <td>19</td>\n",
       "      <td>42713.89474</td>\n",
       "      <td>10129.89474</td>\n",
       "      <td>6977.000000</td>\n",
       "    </tr>\n",
       "    <tr>\n",
       "      <th>164255</th>\n",
       "      <td>039 - EXTRACRANIAL PROCEDURES W/O CC/MCC</td>\n",
       "      <td>440053</td>\n",
       "      <td>SAINT THOMAS RUTHERFORD HOSPITAL</td>\n",
       "      <td>1700 MEDICAL CENTER PARKWAY</td>\n",
       "      <td>MURFREESBORO</td>\n",
       "      <td>TN</td>\n",
       "      <td>37129</td>\n",
       "      <td>TN - Nashville</td>\n",
       "      <td>24</td>\n",
       "      <td>28275.37500</td>\n",
       "      <td>7025.791667</td>\n",
       "      <td>5174.125000</td>\n",
       "    </tr>\n",
       "  </tbody>\n",
       "</table>\n",
       "</div>"
      ],
      "text/plain": [
       "                                  drg_definition provider_id  \\\n",
       "162404  039 - EXTRACRANIAL PROCEDURES W/O CC/MCC      440006   \n",
       "163139  039 - EXTRACRANIAL PROCEDURES W/O CC/MCC      440029   \n",
       "163347  039 - EXTRACRANIAL PROCEDURES W/O CC/MCC      440035   \n",
       "163428  039 - EXTRACRANIAL PROCEDURES W/O CC/MCC      440039   \n",
       "164255  039 - EXTRACRANIAL PROCEDURES W/O CC/MCC      440053   \n",
       "\n",
       "                               provider_name      provider_street_address  \\\n",
       "162404        TRISTAR SKYLINE MEDICAL CENTER          3441 DICKERSON PIKE   \n",
       "163139             WILLIAMSON MEDICAL CENTER       4321 CAROTHERS PARKWAY   \n",
       "163347        TENNOVA HEALTHCARE-CLARKSVILLE              651 DUNLOP LANE   \n",
       "163428  VANDERBILT UNIVERSITY MEDICAL CENTER    1211 MEDICAL CENTER DRIVE   \n",
       "164255      SAINT THOMAS RUTHERFORD HOSPITAL  1700 MEDICAL CENTER PARKWAY   \n",
       "\n",
       "       provider_city provider_state provider_zip_code  \\\n",
       "162404     NASHVILLE             TN             37207   \n",
       "163139      FRANKLIN             TN             37067   \n",
       "163347   CLARKSVILLE             TN             37040   \n",
       "163428     NASHVILLE             TN             37232   \n",
       "164255  MURFREESBORO             TN             37129   \n",
       "\n",
       "       hospital_referral_region  total_discharges  average_covered_charges  \\\n",
       "162404           TN - Nashville                11              57714.81818   \n",
       "163139           TN - Nashville                23              27178.13044   \n",
       "163347           TN - Nashville                18              63008.11111   \n",
       "163428           TN - Nashville                19              42713.89474   \n",
       "164255           TN - Nashville                24              28275.37500   \n",
       "\n",
       "       average_total_payments  average_medicare_payments  \n",
       "162404            7188.818182                5300.363636  \n",
       "163139                   6041                4846.739130  \n",
       "163347            6765.555556                5603.555556  \n",
       "163428            10129.89474                6977.000000  \n",
       "164255            7025.791667                5174.125000  "
      ]
     },
     "execution_count": 209,
     "metadata": {},
     "output_type": "execute_result"
    }
   ],
   "source": [
    "# Filter the data so that only a specific procedure in Nashville TN is in the dataframe\n",
    "\n",
    "DataFrame_drg_EXTRACRANIAL_TN_Nashville = DataFrame.loc[(DataFrame[\"drg_definition\"] == \"039 - EXTRACRANIAL PROCEDURES W/O CC/MCC\") & (DataFrame[\"provider_state\"] == \"TN\") & (DataFrame[\"hospital_referral_region\"] == \"TN - Nashville\"),:]\n",
    "\n",
    "DataFrame_drg_EXTRACRANIAL_TN_Nashville.head()"
   ]
  },
  {
   "cell_type": "code",
   "execution_count": 210,
   "metadata": {},
   "outputs": [
    {
     "data": {
      "text/html": [
       "<div>\n",
       "<style scoped>\n",
       "    .dataframe tbody tr th:only-of-type {\n",
       "        vertical-align: middle;\n",
       "    }\n",
       "\n",
       "    .dataframe tbody tr th {\n",
       "        vertical-align: top;\n",
       "    }\n",
       "\n",
       "    .dataframe thead th {\n",
       "        text-align: right;\n",
       "    }\n",
       "</style>\n",
       "<table border=\"1\" class=\"dataframe\">\n",
       "  <thead>\n",
       "    <tr style=\"text-align: right;\">\n",
       "      <th></th>\n",
       "      <th>total_discharges</th>\n",
       "      <th>average_covered_charges</th>\n",
       "      <th>average_medicare_payments</th>\n",
       "    </tr>\n",
       "  </thead>\n",
       "  <tbody>\n",
       "    <tr>\n",
       "      <th>count</th>\n",
       "      <td>12.000000</td>\n",
       "      <td>12.000000</td>\n",
       "      <td>12.000000</td>\n",
       "    </tr>\n",
       "    <tr>\n",
       "      <th>mean</th>\n",
       "      <td>22.500000</td>\n",
       "      <td>37762.342801</td>\n",
       "      <td>5373.553619</td>\n",
       "    </tr>\n",
       "    <tr>\n",
       "      <th>std</th>\n",
       "      <td>13.358688</td>\n",
       "      <td>15332.441167</td>\n",
       "      <td>602.931070</td>\n",
       "    </tr>\n",
       "    <tr>\n",
       "      <th>min</th>\n",
       "      <td>11.000000</td>\n",
       "      <td>15454.017540</td>\n",
       "      <td>4687.131579</td>\n",
       "    </tr>\n",
       "    <tr>\n",
       "      <th>25%</th>\n",
       "      <td>12.000000</td>\n",
       "      <td>27279.183925</td>\n",
       "      <td>5034.309782</td>\n",
       "    </tr>\n",
       "    <tr>\n",
       "      <th>50%</th>\n",
       "      <td>19.500000</td>\n",
       "      <td>35451.884090</td>\n",
       "      <td>5283.806818</td>\n",
       "    </tr>\n",
       "    <tr>\n",
       "      <th>75%</th>\n",
       "      <td>24.250000</td>\n",
       "      <td>48660.097500</td>\n",
       "      <td>5500.263889</td>\n",
       "    </tr>\n",
       "    <tr>\n",
       "      <th>max</th>\n",
       "      <td>57.000000</td>\n",
       "      <td>63008.111110</td>\n",
       "      <td>6977.000000</td>\n",
       "    </tr>\n",
       "  </tbody>\n",
       "</table>\n",
       "</div>"
      ],
      "text/plain": [
       "       total_discharges  average_covered_charges  average_medicare_payments\n",
       "count         12.000000                12.000000                  12.000000\n",
       "mean          22.500000             37762.342801                5373.553619\n",
       "std           13.358688             15332.441167                 602.931070\n",
       "min           11.000000             15454.017540                4687.131579\n",
       "25%           12.000000             27279.183925                5034.309782\n",
       "50%           19.500000             35451.884090                5283.806818\n",
       "75%           24.250000             48660.097500                5500.263889\n",
       "max           57.000000             63008.111110                6977.000000"
      ]
     },
     "execution_count": 210,
     "metadata": {},
     "output_type": "execute_result"
    }
   ],
   "source": [
    "# Display a statistical overview of the EXTRACRANIAL PROCEDURES Nashville TN DataFrame for reference\n",
    "\n",
    "DataFrame_drg_EXTRACRANIAL_TN_Nashville.describe()"
   ]
  },
  {
   "cell_type": "code",
   "execution_count": 211,
   "metadata": {},
   "outputs": [
    {
     "data": {
      "text/plain": [
       "12"
      ]
     },
     "execution_count": 211,
     "metadata": {},
     "output_type": "execute_result"
    }
   ],
   "source": [
    "# Calculate the Number of Unique Providers that serviced DRG EXTRACRANIAL PROCEDURES in Nashville TN\n",
    "Unique_Provider_count_drg_EXTRACRANIAL_TN_Nashville = len(DataFrame_drg_EXTRACRANIAL_TN_Nashville[\"provider_id\"].unique())\n",
    "Unique_Provider_count_drg_EXTRACRANIAL_TN_Nashville"
   ]
  },
  {
   "cell_type": "code",
   "execution_count": 212,
   "metadata": {},
   "outputs": [
    {
     "data": {
      "text/plain": [
       "270"
      ]
     },
     "execution_count": 212,
     "metadata": {},
     "output_type": "execute_result"
    }
   ],
   "source": [
    "# Calculate the Total Number of Discharges for DRG EXTRACRANIAL PROCEDURES in Nasvhville TN\n",
    "Discharge_Count_drg_EXTRACRANIAL_TN_Nashville = (DataFrame_drg_EXTRACRANIAL_TN_Nashville[\"total_discharges\"].sum())\n",
    "Discharge_Count_drg_EXTRACRANIAL_TN_Nashville"
   ]
  },
  {
   "cell_type": "code",
   "execution_count": 213,
   "metadata": {},
   "outputs": [
    {
     "data": {
      "text/plain": [
       "37762.342800833336"
      ]
     },
     "execution_count": 213,
     "metadata": {},
     "output_type": "execute_result"
    }
   ],
   "source": [
    "# Cacluate the average covered charges for DRG EXTRACRANIAL PROCEDURES in Nashville TN\n",
    "Average_Covered_Charges_drg_EXTRACRANIAL_TN_Nashville = DataFrame_drg_EXTRACRANIAL_TN_Nashville[\"average_covered_charges\"].mean()\n",
    "Average_Covered_Charges_drg_EXTRACRANIAL_TN_Nashville"
   ]
  },
  {
   "cell_type": "code",
   "execution_count": 214,
   "metadata": {},
   "outputs": [
    {
     "data": {
      "text/plain": [
       "15454.01754"
      ]
     },
     "execution_count": 214,
     "metadata": {},
     "output_type": "execute_result"
    }
   ],
   "source": [
    "# Cacluate the min covered charge amount for DRG EXTRACRANIAL PROCEDURES in Nashville TN\n",
    "Min_Covered_Charges_drg_EXTRACRANIAL_TN_Nashville = DataFrame_drg_EXTRACRANIAL_TN_Nashville[\"average_covered_charges\"].min()\n",
    "Min_Covered_Charges_drg_EXTRACRANIAL_TN_Nashville"
   ]
  },
  {
   "cell_type": "code",
   "execution_count": 215,
   "metadata": {},
   "outputs": [
    {
     "data": {
      "text/plain": [
       "63008.111110000005"
      ]
     },
     "execution_count": 215,
     "metadata": {},
     "output_type": "execute_result"
    }
   ],
   "source": [
    "# Cacluate the max covered charge amount for DRG EXTRACRANIAL PROCEDURES in Nashville TN\n",
    "Max_Covered_Charges_drg_EXTRACRANIAL_TN_Nashville = DataFrame_drg_EXTRACRANIAL_TN_Nashville[\"average_covered_charges\"].max()\n",
    "Max_Covered_Charges_drg_EXTRACRANIAL_TN_Nashville"
   ]
  },
  {
   "cell_type": "code",
   "execution_count": 216,
   "metadata": {},
   "outputs": [
    {
     "data": {
      "text/plain": [
       "12"
      ]
     },
     "execution_count": 216,
     "metadata": {},
     "output_type": "execute_result"
    }
   ],
   "source": [
    "# Calculate the Total Number of Unique Provider Zip Codes that serviced DRG EXTRACRANIAL PROCEDURES in Nashville TN\n",
    "Unique_Provider_ZipCode_Count_drg_EXTRACRANIAL_TN_Nashville = len(DataFrame_drg_EXTRACRANIAL_TN_Nashville[\"provider_zip_code\"].unique())\n",
    "Unique_Provider_ZipCode_Count_drg_EXTRACRANIAL_TN_Nashville"
   ]
  },
  {
   "cell_type": "code",
   "execution_count": 217,
   "metadata": {},
   "outputs": [
    {
     "data": {
      "text/html": [
       "<div>\n",
       "<style scoped>\n",
       "    .dataframe tbody tr th:only-of-type {\n",
       "        vertical-align: middle;\n",
       "    }\n",
       "\n",
       "    .dataframe tbody tr th {\n",
       "        vertical-align: top;\n",
       "    }\n",
       "\n",
       "    .dataframe thead th {\n",
       "        text-align: right;\n",
       "    }\n",
       "</style>\n",
       "<table border=\"1\" class=\"dataframe\">\n",
       "  <thead>\n",
       "    <tr style=\"text-align: right;\">\n",
       "      <th></th>\n",
       "      <th>Unique Providers that serviced DRG EXTRACRANIAL PROCEDURES in Nashville TN</th>\n",
       "      <th>Unique Provider Zip Codes that serviced DRG EXTRACRANIAL PROCEDURES in Nashville TN</th>\n",
       "      <th>Total Number of Discharges for DRG EXTRACRANIAL PROCEDURES in Nashville TN</th>\n",
       "      <th>Average Charge for DRG EXTRACRANIAL PROCEDURES in Nashville TN</th>\n",
       "      <th>Max Charge for DRG EXTRACRANIAL PROCEDURES in Nashville TN</th>\n",
       "      <th>Min Charge for DRG EXTRACRANIAL PROCEDURES in Nashville TN</th>\n",
       "    </tr>\n",
       "  </thead>\n",
       "  <tbody>\n",
       "    <tr>\n",
       "      <th>0</th>\n",
       "      <td>12</td>\n",
       "      <td>12</td>\n",
       "      <td>270</td>\n",
       "      <td>37762.342801</td>\n",
       "      <td>63008.11111</td>\n",
       "      <td>15454.01754</td>\n",
       "    </tr>\n",
       "  </tbody>\n",
       "</table>\n",
       "</div>"
      ],
      "text/plain": [
       "   Unique Providers that serviced DRG EXTRACRANIAL PROCEDURES in Nashville TN  \\\n",
       "0                                                 12                            \n",
       "\n",
       "   Unique Provider Zip Codes that serviced DRG EXTRACRANIAL PROCEDURES in Nashville TN  \\\n",
       "0                                                 12                                     \n",
       "\n",
       "   Total Number of Discharges for DRG EXTRACRANIAL PROCEDURES in Nashville TN  \\\n",
       "0                                                270                            \n",
       "\n",
       "   Average Charge for DRG EXTRACRANIAL PROCEDURES in Nashville TN  \\\n",
       "0                                       37762.342801                \n",
       "\n",
       "   Max Charge for DRG EXTRACRANIAL PROCEDURES in Nashville TN  \\\n",
       "0                                        63008.11111            \n",
       "\n",
       "   Min Charge for DRG EXTRACRANIAL PROCEDURES in Nashville TN  \n",
       "0                                        15454.01754           "
      ]
     },
     "execution_count": 217,
     "metadata": {},
     "output_type": "execute_result"
    }
   ],
   "source": [
    "# Create a summary data frame to hold the DRG EXTRACRANIAL PROCEDURES in Nashville TN Analysis Results\n",
    "\n",
    "DRG_Analysis_df_drg_EXTRACRANIAL_TN_Nashville = pd.DataFrame([\n",
    "    {\"Unique Providers that serviced DRG EXTRACRANIAL PROCEDURES in Nashville TN\": Unique_Provider_count_drg_EXTRACRANIAL_TN_Nashville, \n",
    "     \"Unique Provider Zip Codes that serviced DRG EXTRACRANIAL PROCEDURES in Nashville TN\": Unique_Provider_ZipCode_Count_drg_EXTRACRANIAL_TN_Nashville, \n",
    "     \"Total Number of Discharges for DRG EXTRACRANIAL PROCEDURES in Nashville TN\": Discharge_Count_drg_EXTRACRANIAL_TN_Nashville,\n",
    "     \"Average Charge for DRG EXTRACRANIAL PROCEDURES in Nashville TN\": Average_Covered_Charges_drg_EXTRACRANIAL_TN_Nashville,\n",
    "     \"Max Charge for DRG EXTRACRANIAL PROCEDURES in Nashville TN\": Max_Covered_Charges_drg_EXTRACRANIAL_TN_Nashville,\n",
    "     \"Min Charge for DRG EXTRACRANIAL PROCEDURES in Nashville TN\": Min_Covered_Charges_drg_EXTRACRANIAL_TN_Nashville\n",
    "    }\n",
    "])\n",
    "DRG_Analysis_df_drg_EXTRACRANIAL_TN_Nashville"
   ]
  },
  {
   "cell_type": "code",
   "execution_count": 218,
   "metadata": {},
   "outputs": [
    {
     "data": {
      "text/html": [
       "<div>\n",
       "<style scoped>\n",
       "    .dataframe tbody tr th:only-of-type {\n",
       "        vertical-align: middle;\n",
       "    }\n",
       "\n",
       "    .dataframe tbody tr th {\n",
       "        vertical-align: top;\n",
       "    }\n",
       "\n",
       "    .dataframe thead th {\n",
       "        text-align: right;\n",
       "    }\n",
       "</style>\n",
       "<table border=\"1\" class=\"dataframe\">\n",
       "  <thead>\n",
       "    <tr style=\"text-align: right;\">\n",
       "      <th></th>\n",
       "      <th>Unique Providers that serviced DRG EXTRACRANIAL PROCEDURES in Nashville TN</th>\n",
       "      <th>Unique Provider Zip Codes that serviced DRG EXTRACRANIAL PROCEDURES in Nashville TN</th>\n",
       "      <th>Total Number of Discharges for DRG EXTRACRANIAL PROCEDURES in Nashville TN</th>\n",
       "      <th>Average Charge for DRG EXTRACRANIAL PROCEDURES in Nashville TN</th>\n",
       "      <th>Max Charge for DRG EXTRACRANIAL PROCEDURES in Nashville TN</th>\n",
       "      <th>Min Charge for DRG EXTRACRANIAL PROCEDURES in Nashville TN</th>\n",
       "    </tr>\n",
       "  </thead>\n",
       "  <tbody>\n",
       "    <tr>\n",
       "      <th>0</th>\n",
       "      <td>12</td>\n",
       "      <td>12</td>\n",
       "      <td>270</td>\n",
       "      <td>$37,762.34</td>\n",
       "      <td>$63,008.11</td>\n",
       "      <td>$15,454.02</td>\n",
       "    </tr>\n",
       "  </tbody>\n",
       "</table>\n",
       "</div>"
      ],
      "text/plain": [
       "   Unique Providers that serviced DRG EXTRACRANIAL PROCEDURES in Nashville TN  \\\n",
       "0                                                 12                            \n",
       "\n",
       "   Unique Provider Zip Codes that serviced DRG EXTRACRANIAL PROCEDURES in Nashville TN  \\\n",
       "0                                                 12                                     \n",
       "\n",
       "   Total Number of Discharges for DRG EXTRACRANIAL PROCEDURES in Nashville TN  \\\n",
       "0                                                270                            \n",
       "\n",
       "  Average Charge for DRG EXTRACRANIAL PROCEDURES in Nashville TN  \\\n",
       "0                                         $37,762.34               \n",
       "\n",
       "  Max Charge for DRG EXTRACRANIAL PROCEDURES in Nashville TN  \\\n",
       "0                                         $63,008.11           \n",
       "\n",
       "  Min Charge for DRG EXTRACRANIAL PROCEDURES in Nashville TN  \n",
       "0                                         $15,454.02          "
      ]
     },
     "execution_count": 218,
     "metadata": {},
     "output_type": "execute_result"
    }
   ],
   "source": [
    "# Give the displayed data to hold the DRG EXTRACRANIAL PROCEDURES in Nasvhille TN Analysis Results with cleaner formatting\n",
    "\n",
    "DRG_Analysis_Formatted_df_drg_EXTRACRANIAL_TN_Nashville = DRG_Analysis_df_drg_EXTRACRANIAL_TN_Nashville\n",
    "\n",
    "DRG_Analysis_Formatted_df_drg_EXTRACRANIAL_TN_Nashville[\"Average Charge for DRG EXTRACRANIAL PROCEDURES in Nashville TN\"] = DRG_Analysis_df_drg_EXTRACRANIAL_TN_Nashville[\"Average Charge for DRG EXTRACRANIAL PROCEDURES in Nashville TN\"].map(\"${:,.2f}\".format)\n",
    "DRG_Analysis_Formatted_df_drg_EXTRACRANIAL_TN_Nashville[\"Max Charge for DRG EXTRACRANIAL PROCEDURES in Nashville TN\"] = DRG_Analysis_df_drg_EXTRACRANIAL_TN_Nashville[\"Max Charge for DRG EXTRACRANIAL PROCEDURES in Nashville TN\"].map(\"${:,.2f}\".format)\n",
    "DRG_Analysis_Formatted_df_drg_EXTRACRANIAL_TN_Nashville[\"Min Charge for DRG EXTRACRANIAL PROCEDURES in Nashville TN\"] = DRG_Analysis_df_drg_EXTRACRANIAL_TN_Nashville[\"Min Charge for DRG EXTRACRANIAL PROCEDURES in Nashville TN\"].map(\"${:,.2f}\".format)\n",
    "\n",
    "DRG_Analysis_Formatted_df_drg_EXTRACRANIAL_TN_Nashville"
   ]
  },
  {
   "cell_type": "code",
   "execution_count": 219,
   "metadata": {},
   "outputs": [
    {
     "data": {
      "text/plain": [
       "['TRISTAR SKYLINE MEDICAL CENTER',\n",
       " 'WILLIAMSON MEDICAL CENTER',\n",
       " 'TENNOVA HEALTHCARE-CLARKSVILLE',\n",
       " 'VANDERBILT UNIVERSITY MEDICAL CENTER',\n",
       " 'SAINT THOMAS RUTHERFORD HOSPITAL',\n",
       " 'COOKEVILLE REGIONAL MEDICAL CENTER',\n",
       " 'MAURY REGIONAL HOSPITAL',\n",
       " 'SAINT THOMAS WEST HOSPITAL',\n",
       " 'SAINT THOMAS MIDTOWN HOSPITAL',\n",
       " 'TRISTAR SUMMIT MEDICAL CENTER',\n",
       " 'TRISTAR CENTENNIAL MEDICAL CENTER',\n",
       " 'TRISTAR HENDERSONVILLE MEDICAL CENTER']"
      ]
     },
     "execution_count": 219,
     "metadata": {},
     "output_type": "execute_result"
    }
   ],
   "source": [
    "# Create list to store data of the Providers in Nashville for the specific procedure\n",
    "\n",
    "drg_EXTRACRANIAL_TN_Nashville_ProviderList = []\n",
    "\n",
    "for Provider in DataFrame_drg_EXTRACRANIAL_TN_Nashville[\"provider_name\"]:\n",
    "    if Provider not in drg_EXTRACRANIAL_TN_Nashville_ProviderList:\n",
    "        drg_EXTRACRANIAL_TN_Nashville_ProviderList.append(Provider)\n",
    "        \n",
    "drg_EXTRACRANIAL_TN_Nashville_ProviderList"
   ]
  },
  {
   "cell_type": "code",
   "execution_count": 220,
   "metadata": {},
   "outputs": [
    {
     "data": {
      "text/plain": [
       "[57714.818179999995,\n",
       " 27178.130439999997,\n",
       " 63008.111110000005,\n",
       " 42713.894739999996,\n",
       " 28275.375,\n",
       " 15454.01754,\n",
       " 30478.95,\n",
       " 27312.86842,\n",
       " 19918.5,\n",
       " 53682.75,\n",
       " 46985.88,\n",
       " 40424.81818]"
      ]
     },
     "execution_count": 220,
     "metadata": {},
     "output_type": "execute_result"
    }
   ],
   "source": [
    "# Create list to store data of the Average Charge in Nashville for the specific procedure\n",
    "\n",
    "drg_EXTRACRANIAL_TN_Nashville_Average_Covered_Charge_List = []\n",
    "\n",
    "for Cost in DataFrame_drg_EXTRACRANIAL_TN_Nashville[\"average_covered_charges\"]:\n",
    "    if Cost not in drg_EXTRACRANIAL_TN_Nashville_Average_Covered_Charge_List:\n",
    "        drg_EXTRACRANIAL_TN_Nashville_Average_Covered_Charge_List.append(Cost)\n",
    "        \n",
    "drg_EXTRACRANIAL_TN_Nashville_Average_Covered_Charge_List"
   ]
  },
  {
   "cell_type": "code",
   "execution_count": 221,
   "metadata": {},
   "outputs": [
    {
     "data": {
      "text/html": [
       "<div>\n",
       "<style scoped>\n",
       "    .dataframe tbody tr th:only-of-type {\n",
       "        vertical-align: middle;\n",
       "    }\n",
       "\n",
       "    .dataframe tbody tr th {\n",
       "        vertical-align: top;\n",
       "    }\n",
       "\n",
       "    .dataframe thead th {\n",
       "        text-align: right;\n",
       "    }\n",
       "</style>\n",
       "<table border=\"1\" class=\"dataframe\">\n",
       "  <thead>\n",
       "    <tr style=\"text-align: right;\">\n",
       "      <th></th>\n",
       "      <th>DRG</th>\n",
       "      <th>Provider</th>\n",
       "      <th>Average Cost</th>\n",
       "    </tr>\n",
       "  </thead>\n",
       "  <tbody>\n",
       "    <tr>\n",
       "      <th>0</th>\n",
       "      <td>039 - EXTRACRANIAL PROCEDURES W/O CC/MCC</td>\n",
       "      <td>TRISTAR SKYLINE MEDICAL CENTER</td>\n",
       "      <td>57714.81818</td>\n",
       "    </tr>\n",
       "    <tr>\n",
       "      <th>1</th>\n",
       "      <td>039 - EXTRACRANIAL PROCEDURES W/O CC/MCC</td>\n",
       "      <td>WILLIAMSON MEDICAL CENTER</td>\n",
       "      <td>27178.13044</td>\n",
       "    </tr>\n",
       "    <tr>\n",
       "      <th>2</th>\n",
       "      <td>039 - EXTRACRANIAL PROCEDURES W/O CC/MCC</td>\n",
       "      <td>TENNOVA HEALTHCARE-CLARKSVILLE</td>\n",
       "      <td>63008.11111</td>\n",
       "    </tr>\n",
       "    <tr>\n",
       "      <th>3</th>\n",
       "      <td>039 - EXTRACRANIAL PROCEDURES W/O CC/MCC</td>\n",
       "      <td>VANDERBILT UNIVERSITY MEDICAL CENTER</td>\n",
       "      <td>42713.89474</td>\n",
       "    </tr>\n",
       "    <tr>\n",
       "      <th>4</th>\n",
       "      <td>039 - EXTRACRANIAL PROCEDURES W/O CC/MCC</td>\n",
       "      <td>SAINT THOMAS RUTHERFORD HOSPITAL</td>\n",
       "      <td>28275.37500</td>\n",
       "    </tr>\n",
       "    <tr>\n",
       "      <th>5</th>\n",
       "      <td>039 - EXTRACRANIAL PROCEDURES W/O CC/MCC</td>\n",
       "      <td>COOKEVILLE REGIONAL MEDICAL CENTER</td>\n",
       "      <td>15454.01754</td>\n",
       "    </tr>\n",
       "    <tr>\n",
       "      <th>6</th>\n",
       "      <td>039 - EXTRACRANIAL PROCEDURES W/O CC/MCC</td>\n",
       "      <td>MAURY REGIONAL HOSPITAL</td>\n",
       "      <td>30478.95000</td>\n",
       "    </tr>\n",
       "    <tr>\n",
       "      <th>7</th>\n",
       "      <td>039 - EXTRACRANIAL PROCEDURES W/O CC/MCC</td>\n",
       "      <td>SAINT THOMAS WEST HOSPITAL</td>\n",
       "      <td>27312.86842</td>\n",
       "    </tr>\n",
       "    <tr>\n",
       "      <th>8</th>\n",
       "      <td>039 - EXTRACRANIAL PROCEDURES W/O CC/MCC</td>\n",
       "      <td>SAINT THOMAS MIDTOWN HOSPITAL</td>\n",
       "      <td>19918.50000</td>\n",
       "    </tr>\n",
       "    <tr>\n",
       "      <th>9</th>\n",
       "      <td>039 - EXTRACRANIAL PROCEDURES W/O CC/MCC</td>\n",
       "      <td>TRISTAR SUMMIT MEDICAL CENTER</td>\n",
       "      <td>53682.75000</td>\n",
       "    </tr>\n",
       "    <tr>\n",
       "      <th>10</th>\n",
       "      <td>039 - EXTRACRANIAL PROCEDURES W/O CC/MCC</td>\n",
       "      <td>TRISTAR CENTENNIAL MEDICAL CENTER</td>\n",
       "      <td>46985.88000</td>\n",
       "    </tr>\n",
       "    <tr>\n",
       "      <th>11</th>\n",
       "      <td>039 - EXTRACRANIAL PROCEDURES W/O CC/MCC</td>\n",
       "      <td>TRISTAR HENDERSONVILLE MEDICAL CENTER</td>\n",
       "      <td>40424.81818</td>\n",
       "    </tr>\n",
       "  </tbody>\n",
       "</table>\n",
       "</div>"
      ],
      "text/plain": [
       "                                         DRG  \\\n",
       "0   039 - EXTRACRANIAL PROCEDURES W/O CC/MCC   \n",
       "1   039 - EXTRACRANIAL PROCEDURES W/O CC/MCC   \n",
       "2   039 - EXTRACRANIAL PROCEDURES W/O CC/MCC   \n",
       "3   039 - EXTRACRANIAL PROCEDURES W/O CC/MCC   \n",
       "4   039 - EXTRACRANIAL PROCEDURES W/O CC/MCC   \n",
       "5   039 - EXTRACRANIAL PROCEDURES W/O CC/MCC   \n",
       "6   039 - EXTRACRANIAL PROCEDURES W/O CC/MCC   \n",
       "7   039 - EXTRACRANIAL PROCEDURES W/O CC/MCC   \n",
       "8   039 - EXTRACRANIAL PROCEDURES W/O CC/MCC   \n",
       "9   039 - EXTRACRANIAL PROCEDURES W/O CC/MCC   \n",
       "10  039 - EXTRACRANIAL PROCEDURES W/O CC/MCC   \n",
       "11  039 - EXTRACRANIAL PROCEDURES W/O CC/MCC   \n",
       "\n",
       "                                 Provider  Average Cost  \n",
       "0          TRISTAR SKYLINE MEDICAL CENTER   57714.81818  \n",
       "1               WILLIAMSON MEDICAL CENTER   27178.13044  \n",
       "2          TENNOVA HEALTHCARE-CLARKSVILLE   63008.11111  \n",
       "3    VANDERBILT UNIVERSITY MEDICAL CENTER   42713.89474  \n",
       "4        SAINT THOMAS RUTHERFORD HOSPITAL   28275.37500  \n",
       "5      COOKEVILLE REGIONAL MEDICAL CENTER   15454.01754  \n",
       "6                 MAURY REGIONAL HOSPITAL   30478.95000  \n",
       "7              SAINT THOMAS WEST HOSPITAL   27312.86842  \n",
       "8           SAINT THOMAS MIDTOWN HOSPITAL   19918.50000  \n",
       "9           TRISTAR SUMMIT MEDICAL CENTER   53682.75000  \n",
       "10      TRISTAR CENTENNIAL MEDICAL CENTER   46985.88000  \n",
       "11  TRISTAR HENDERSONVILLE MEDICAL CENTER   40424.81818  "
      ]
     },
     "execution_count": 221,
     "metadata": {},
     "output_type": "execute_result"
    }
   ],
   "source": [
    "# Create a DataFrame of the Average Cost of Extracranial per Provider in Nashville by merging the lists\n",
    "Average_Cost_of_Extracranial_per_Provider_Nashvile_df = pd.DataFrame({\n",
    "    \"DRG\": \"039 - EXTRACRANIAL PROCEDURES W/O CC/MCC\",\n",
    "    \"Provider\": drg_EXTRACRANIAL_TN_Nashville_ProviderList,\n",
    "    \"Average Cost\": drg_EXTRACRANIAL_TN_Nashville_Average_Covered_Charge_List\n",
    "})\n",
    "Average_Cost_of_Extracranial_per_Provider_Nashvile_df"
   ]
  },
  {
   "cell_type": "code",
   "execution_count": 222,
   "metadata": {},
   "outputs": [
    {
     "data": {
      "text/plain": [
       "Text(0, 0.5, 'Average Cost ($)')"
      ]
     },
     "execution_count": 222,
     "metadata": {},
     "output_type": "execute_result"
    },
    {
     "data": {
      "image/png": "[encoded data removed]",
      "text/plain": [
       "<Figure size 432x288 with 1 Axes>"
      ]
     },
     "metadata": {
      "needs_background": "light"
     },
     "output_type": "display_data"
    }
   ],
   "source": [
    "# Create a Bar Chart\n",
    "\n",
    "AverageCostValue = drg_EXTRACRANIAL_TN_Nashville_Average_Covered_Charge_List\n",
    "ProviderValues = drg_EXTRACRANIAL_TN_Nashville_ProviderList\n",
    "x_axis = np.arange(len(drg_EXTRACRANIAL_TN_Nashville_ProviderList))\n",
    "\n",
    "plt.bar(x_axis, AverageCostValue, alpha=0.5, align=\"center\")\n",
    "\n",
    "tick_locations = [value for value in x_axis]\n",
    "plt.xticks(tick_locations, ProviderValues, rotation=\"vertical\")\n",
    "\n",
    "plt.xlim(-0.75, len(x_axis)-0.25)\n",
    "\n",
    "plt.title(\"Average Cost per Provider for EXTRACRANIAL PROCEDURES in Nashville\")\n",
    "plt.ylabel(\"Average Cost ($)\")\n"
   ]
  },
  {
   "cell_type": "code",
   "execution_count": 223,
   "metadata": {},
   "outputs": [
    {
     "data": {
      "text/html": [
       "<div>\n",
       "<style scoped>\n",
       "    .dataframe tbody tr th:only-of-type {\n",
       "        vertical-align: middle;\n",
       "    }\n",
       "\n",
       "    .dataframe tbody tr th {\n",
       "        vertical-align: top;\n",
       "    }\n",
       "\n",
       "    .dataframe thead th {\n",
       "        text-align: right;\n",
       "    }\n",
       "</style>\n",
       "<table border=\"1\" class=\"dataframe\">\n",
       "  <thead>\n",
       "    <tr style=\"text-align: right;\">\n",
       "      <th></th>\n",
       "      <th>provider_state</th>\n",
       "      <th>average_covered_charges</th>\n",
       "    </tr>\n",
       "  </thead>\n",
       "  <tbody>\n",
       "    <tr>\n",
       "      <th>0</th>\n",
       "      <td>AK</td>\n",
       "      <td>55837.040777</td>\n",
       "    </tr>\n",
       "    <tr>\n",
       "      <th>1</th>\n",
       "      <td>AL</td>\n",
       "      <td>44387.996198</td>\n",
       "    </tr>\n",
       "    <tr>\n",
       "      <th>2</th>\n",
       "      <td>AR</td>\n",
       "      <td>30445.479758</td>\n",
       "    </tr>\n",
       "    <tr>\n",
       "      <th>3</th>\n",
       "      <td>AZ</td>\n",
       "      <td>58556.204004</td>\n",
       "    </tr>\n",
       "    <tr>\n",
       "      <th>4</th>\n",
       "      <td>CA</td>\n",
       "      <td>78728.361247</td>\n",
       "    </tr>\n",
       "  </tbody>\n",
       "</table>\n",
       "</div>"
      ],
      "text/plain": [
       "  provider_state  average_covered_charges\n",
       "0             AK             55837.040777\n",
       "1             AL             44387.996198\n",
       "2             AR             30445.479758\n",
       "3             AZ             58556.204004\n",
       "4             CA             78728.361247"
      ]
     },
     "execution_count": 223,
     "metadata": {},
     "output_type": "execute_result"
    }
   ],
   "source": [
    "# Store the Average Cost Data for the specific procedure Grouped by State by splitting up the data into groups based upon 'State'\n",
    "# Filter the DataFrame down only to those columns to chart\n",
    "Average_EXTRACRANIAL_Cost_for_data_grouped_by_State = DataFrame_drg_EXTRACRANIAL.groupby(['provider_state'])\n",
    "\n",
    "# # Convert to DataFrame\n",
    "\n",
    "Average_EXTRACRANIAL_Cost_for_data_grouped_by_State_df = Average_EXTRACRANIAL_Cost_for_data_grouped_by_State[[\"average_covered_charges\"]].mean().reset_index()\n",
    "\n",
    "# Preview DataFrame\n",
    "\n",
    "Average_EXTRACRANIAL_Cost_for_data_grouped_by_State_df.head()"
   ]
  },
  {
   "cell_type": "code",
   "execution_count": 224,
   "metadata": {},
   "outputs": [
    {
     "data": {
      "text/plain": [
       "['AK',\n",
       " 'AL',\n",
       " 'AR',\n",
       " 'AZ',\n",
       " 'CA',\n",
       " 'CO',\n",
       " 'CT',\n",
       " 'DC',\n",
       " 'DE',\n",
       " 'FL',\n",
       " 'GA',\n",
       " 'IA',\n",
       " 'ID',\n",
       " 'IL',\n",
       " 'IN',\n",
       " 'KS',\n",
       " 'KY',\n",
       " 'LA',\n",
       " 'MA',\n",
       " 'MD',\n",
       " 'ME',\n",
       " 'MI',\n",
       " 'MN',\n",
       " 'MO',\n",
       " 'MS',\n",
       " 'MT',\n",
       " 'NC',\n",
       " 'ND',\n",
       " 'NE',\n",
       " 'NH',\n",
       " 'NJ',\n",
       " 'NM',\n",
       " 'NV',\n",
       " 'NY',\n",
       " 'OH',\n",
       " 'OK',\n",
       " 'OR',\n",
       " 'PA',\n",
       " 'RI',\n",
       " 'SC',\n",
       " 'SD',\n",
       " 'TN',\n",
       " 'TX',\n",
       " 'UT',\n",
       " 'VA',\n",
       " 'VT',\n",
       " 'WA',\n",
       " 'WI',\n",
       " 'WV',\n",
       " 'WY']"
      ]
     },
     "execution_count": 224,
     "metadata": {},
     "output_type": "execute_result"
    }
   ],
   "source": [
    "# Create list to store data of the States for the specific procedure\n",
    "\n",
    "drg_EXTRACRANIAL_State_List = []\n",
    "\n",
    "for State in Average_EXTRACRANIAL_Cost_for_data_grouped_by_State_df[\"provider_state\"]:\n",
    "    if State not in drg_EXTRACRANIAL_State_List:\n",
    "        drg_EXTRACRANIAL_State_List.append(State)\n",
    "        \n",
    "drg_EXTRACRANIAL_State_List"
   ]
  },
  {
   "cell_type": "code",
   "execution_count": 225,
   "metadata": {},
   "outputs": [
    {
     "data": {
      "text/plain": [
       "[55837.04077666666,\n",
       " 44387.99619777272,\n",
       " 30445.4797575,\n",
       " 58556.204004117644,\n",
       " 78728.36124673078,\n",
       " 56980.6840709091,\n",
       " 32348.3558,\n",
       " 44497.375,\n",
       " 29155.011,\n",
       " 64307.37375070175,\n",
       " 38826.56883083334,\n",
       " 32169.261334545456,\n",
       " 35689.98856,\n",
       " 43606.55268472224,\n",
       " 42804.67217535714,\n",
       " 33621.76621846153,\n",
       " 39678.752738571435,\n",
       " 39165.39298722222,\n",
       " 27212.255016818177,\n",
       " 13112.356674526318,\n",
       " 22328.636535,\n",
       " 30290.840448,\n",
       " 35218.815955833335,\n",
       " 34264.3828725,\n",
       " 40738.19603,\n",
       " 27291.554826,\n",
       " 35184.5503432,\n",
       " 24948.774822,\n",
       " 28702.88020625,\n",
       " 35992.865294999996,\n",
       " 43576.352208181816,\n",
       " 42832.47235,\n",
       " 57878.68511,\n",
       " 33650.77838631578,\n",
       " 41211.597492941175,\n",
       " 30498.518325555553,\n",
       " 33009.658792222224,\n",
       " 45139.542273714294,\n",
       " 28371.632144999996,\n",
       " 46493.99352833334,\n",
       " 31792.941597499997,\n",
       " 39567.690937777785,\n",
       " 48900.29258423728,\n",
       " 28636.570204,\n",
       " 44690.68817142857,\n",
       " 23500.6,\n",
       " 48476.85002235294,\n",
       " 33443.475731666666,\n",
       " 28145.468866250005,\n",
       " 33989.769230000005]"
      ]
     },
     "execution_count": 225,
     "metadata": {},
     "output_type": "execute_result"
    }
   ],
   "source": [
    "# Create list to store data of the Average Charge by State for the specific procedure\n",
    "\n",
    "drg_EXTRACRANIAL_Average_Covered_Charge_by_State_List = []\n",
    "\n",
    "for Cost in Average_EXTRACRANIAL_Cost_for_data_grouped_by_State_df[\"average_covered_charges\"]:\n",
    "    if Cost not in drg_EXTRACRANIAL_Average_Covered_Charge_by_State_List:\n",
    "        drg_EXTRACRANIAL_Average_Covered_Charge_by_State_List.append(Cost)\n",
    "        \n",
    "drg_EXTRACRANIAL_Average_Covered_Charge_by_State_List"
   ]
  },
  {
   "cell_type": "code",
   "execution_count": 226,
   "metadata": {},
   "outputs": [
    {
     "data": {
      "text/html": [
       "<div>\n",
       "<style scoped>\n",
       "    .dataframe tbody tr th:only-of-type {\n",
       "        vertical-align: middle;\n",
       "    }\n",
       "\n",
       "    .dataframe tbody tr th {\n",
       "        vertical-align: top;\n",
       "    }\n",
       "\n",
       "    .dataframe thead th {\n",
       "        text-align: right;\n",
       "    }\n",
       "</style>\n",
       "<table border=\"1\" class=\"dataframe\">\n",
       "  <thead>\n",
       "    <tr style=\"text-align: right;\">\n",
       "      <th></th>\n",
       "      <th>DRG</th>\n",
       "      <th>State</th>\n",
       "      <th>Average Cost</th>\n",
       "    </tr>\n",
       "  </thead>\n",
       "  <tbody>\n",
       "    <tr>\n",
       "      <th>0</th>\n",
       "      <td>039 - EXTRACRANIAL PROCEDURES W/O CC/MCC</td>\n",
       "      <td>AK</td>\n",
       "      <td>55837.040777</td>\n",
       "    </tr>\n",
       "    <tr>\n",
       "      <th>1</th>\n",
       "      <td>039 - EXTRACRANIAL PROCEDURES W/O CC/MCC</td>\n",
       "      <td>AL</td>\n",
       "      <td>44387.996198</td>\n",
       "    </tr>\n",
       "    <tr>\n",
       "      <th>2</th>\n",
       "      <td>039 - EXTRACRANIAL PROCEDURES W/O CC/MCC</td>\n",
       "      <td>AR</td>\n",
       "      <td>30445.479758</td>\n",
       "    </tr>\n",
       "    <tr>\n",
       "      <th>3</th>\n",
       "      <td>039 - EXTRACRANIAL PROCEDURES W/O CC/MCC</td>\n",
       "      <td>AZ</td>\n",
       "      <td>58556.204004</td>\n",
       "    </tr>\n",
       "    <tr>\n",
       "      <th>4</th>\n",
       "      <td>039 - EXTRACRANIAL PROCEDURES W/O CC/MCC</td>\n",
       "      <td>CA</td>\n",
       "      <td>78728.361247</td>\n",
       "    </tr>\n",
       "    <tr>\n",
       "      <th>5</th>\n",
       "      <td>039 - EXTRACRANIAL PROCEDURES W/O CC/MCC</td>\n",
       "      <td>CO</td>\n",
       "      <td>56980.684071</td>\n",
       "    </tr>\n",
       "    <tr>\n",
       "      <th>6</th>\n",
       "      <td>039 - EXTRACRANIAL PROCEDURES W/O CC/MCC</td>\n",
       "      <td>CT</td>\n",
       "      <td>32348.355800</td>\n",
       "    </tr>\n",
       "    <tr>\n",
       "      <th>7</th>\n",
       "      <td>039 - EXTRACRANIAL PROCEDURES W/O CC/MCC</td>\n",
       "      <td>DC</td>\n",
       "      <td>44497.375000</td>\n",
       "    </tr>\n",
       "    <tr>\n",
       "      <th>8</th>\n",
       "      <td>039 - EXTRACRANIAL PROCEDURES W/O CC/MCC</td>\n",
       "      <td>DE</td>\n",
       "      <td>29155.011000</td>\n",
       "    </tr>\n",
       "    <tr>\n",
       "      <th>9</th>\n",
       "      <td>039 - EXTRACRANIAL PROCEDURES W/O CC/MCC</td>\n",
       "      <td>FL</td>\n",
       "      <td>64307.373751</td>\n",
       "    </tr>\n",
       "    <tr>\n",
       "      <th>10</th>\n",
       "      <td>039 - EXTRACRANIAL PROCEDURES W/O CC/MCC</td>\n",
       "      <td>GA</td>\n",
       "      <td>38826.568831</td>\n",
       "    </tr>\n",
       "    <tr>\n",
       "      <th>11</th>\n",
       "      <td>039 - EXTRACRANIAL PROCEDURES W/O CC/MCC</td>\n",
       "      <td>IA</td>\n",
       "      <td>32169.261335</td>\n",
       "    </tr>\n",
       "    <tr>\n",
       "      <th>12</th>\n",
       "      <td>039 - EXTRACRANIAL PROCEDURES W/O CC/MCC</td>\n",
       "      <td>ID</td>\n",
       "      <td>35689.988560</td>\n",
       "    </tr>\n",
       "    <tr>\n",
       "      <th>13</th>\n",
       "      <td>039 - EXTRACRANIAL PROCEDURES W/O CC/MCC</td>\n",
       "      <td>IL</td>\n",
       "      <td>43606.552685</td>\n",
       "    </tr>\n",
       "    <tr>\n",
       "      <th>14</th>\n",
       "      <td>039 - EXTRACRANIAL PROCEDURES W/O CC/MCC</td>\n",
       "      <td>IN</td>\n",
       "      <td>42804.672175</td>\n",
       "    </tr>\n",
       "    <tr>\n",
       "      <th>15</th>\n",
       "      <td>039 - EXTRACRANIAL PROCEDURES W/O CC/MCC</td>\n",
       "      <td>KS</td>\n",
       "      <td>33621.766218</td>\n",
       "    </tr>\n",
       "    <tr>\n",
       "      <th>16</th>\n",
       "      <td>039 - EXTRACRANIAL PROCEDURES W/O CC/MCC</td>\n",
       "      <td>KY</td>\n",
       "      <td>39678.752739</td>\n",
       "    </tr>\n",
       "    <tr>\n",
       "      <th>17</th>\n",
       "      <td>039 - EXTRACRANIAL PROCEDURES W/O CC/MCC</td>\n",
       "      <td>LA</td>\n",
       "      <td>39165.392987</td>\n",
       "    </tr>\n",
       "    <tr>\n",
       "      <th>18</th>\n",
       "      <td>039 - EXTRACRANIAL PROCEDURES W/O CC/MCC</td>\n",
       "      <td>MA</td>\n",
       "      <td>27212.255017</td>\n",
       "    </tr>\n",
       "    <tr>\n",
       "      <th>19</th>\n",
       "      <td>039 - EXTRACRANIAL PROCEDURES W/O CC/MCC</td>\n",
       "      <td>MD</td>\n",
       "      <td>13112.356675</td>\n",
       "    </tr>\n",
       "    <tr>\n",
       "      <th>20</th>\n",
       "      <td>039 - EXTRACRANIAL PROCEDURES W/O CC/MCC</td>\n",
       "      <td>ME</td>\n",
       "      <td>22328.636535</td>\n",
       "    </tr>\n",
       "    <tr>\n",
       "      <th>21</th>\n",
       "      <td>039 - EXTRACRANIAL PROCEDURES W/O CC/MCC</td>\n",
       "      <td>MI</td>\n",
       "      <td>30290.840448</td>\n",
       "    </tr>\n",
       "    <tr>\n",
       "      <th>22</th>\n",
       "      <td>039 - EXTRACRANIAL PROCEDURES W/O CC/MCC</td>\n",
       "      <td>MN</td>\n",
       "      <td>35218.815956</td>\n",
       "    </tr>\n",
       "    <tr>\n",
       "      <th>23</th>\n",
       "      <td>039 - EXTRACRANIAL PROCEDURES W/O CC/MCC</td>\n",
       "      <td>MO</td>\n",
       "      <td>34264.382872</td>\n",
       "    </tr>\n",
       "    <tr>\n",
       "      <th>24</th>\n",
       "      <td>039 - EXTRACRANIAL PROCEDURES W/O CC/MCC</td>\n",
       "      <td>MS</td>\n",
       "      <td>40738.196030</td>\n",
       "    </tr>\n",
       "    <tr>\n",
       "      <th>25</th>\n",
       "      <td>039 - EXTRACRANIAL PROCEDURES W/O CC/MCC</td>\n",
       "      <td>MT</td>\n",
       "      <td>27291.554826</td>\n",
       "    </tr>\n",
       "    <tr>\n",
       "      <th>26</th>\n",
       "      <td>039 - EXTRACRANIAL PROCEDURES W/O CC/MCC</td>\n",
       "      <td>NC</td>\n",
       "      <td>35184.550343</td>\n",
       "    </tr>\n",
       "    <tr>\n",
       "      <th>27</th>\n",
       "      <td>039 - EXTRACRANIAL PROCEDURES W/O CC/MCC</td>\n",
       "      <td>ND</td>\n",
       "      <td>24948.774822</td>\n",
       "    </tr>\n",
       "    <tr>\n",
       "      <th>28</th>\n",
       "      <td>039 - EXTRACRANIAL PROCEDURES W/O CC/MCC</td>\n",
       "      <td>NE</td>\n",
       "      <td>28702.880206</td>\n",
       "    </tr>\n",
       "    <tr>\n",
       "      <th>29</th>\n",
       "      <td>039 - EXTRACRANIAL PROCEDURES W/O CC/MCC</td>\n",
       "      <td>NH</td>\n",
       "      <td>35992.865295</td>\n",
       "    </tr>\n",
       "    <tr>\n",
       "      <th>30</th>\n",
       "      <td>039 - EXTRACRANIAL PROCEDURES W/O CC/MCC</td>\n",
       "      <td>NJ</td>\n",
       "      <td>43576.352208</td>\n",
       "    </tr>\n",
       "    <tr>\n",
       "      <th>31</th>\n",
       "      <td>039 - EXTRACRANIAL PROCEDURES W/O CC/MCC</td>\n",
       "      <td>NM</td>\n",
       "      <td>42832.472350</td>\n",
       "    </tr>\n",
       "    <tr>\n",
       "      <th>32</th>\n",
       "      <td>039 - EXTRACRANIAL PROCEDURES W/O CC/MCC</td>\n",
       "      <td>NV</td>\n",
       "      <td>57878.685110</td>\n",
       "    </tr>\n",
       "    <tr>\n",
       "      <th>33</th>\n",
       "      <td>039 - EXTRACRANIAL PROCEDURES W/O CC/MCC</td>\n",
       "      <td>NY</td>\n",
       "      <td>33650.778386</td>\n",
       "    </tr>\n",
       "    <tr>\n",
       "      <th>34</th>\n",
       "      <td>039 - EXTRACRANIAL PROCEDURES W/O CC/MCC</td>\n",
       "      <td>OH</td>\n",
       "      <td>41211.597493</td>\n",
       "    </tr>\n",
       "    <tr>\n",
       "      <th>35</th>\n",
       "      <td>039 - EXTRACRANIAL PROCEDURES W/O CC/MCC</td>\n",
       "      <td>OK</td>\n",
       "      <td>30498.518326</td>\n",
       "    </tr>\n",
       "    <tr>\n",
       "      <th>36</th>\n",
       "      <td>039 - EXTRACRANIAL PROCEDURES W/O CC/MCC</td>\n",
       "      <td>OR</td>\n",
       "      <td>33009.658792</td>\n",
       "    </tr>\n",
       "    <tr>\n",
       "      <th>37</th>\n",
       "      <td>039 - EXTRACRANIAL PROCEDURES W/O CC/MCC</td>\n",
       "      <td>PA</td>\n",
       "      <td>45139.542274</td>\n",
       "    </tr>\n",
       "    <tr>\n",
       "      <th>38</th>\n",
       "      <td>039 - EXTRACRANIAL PROCEDURES W/O CC/MCC</td>\n",
       "      <td>RI</td>\n",
       "      <td>28371.632145</td>\n",
       "    </tr>\n",
       "    <tr>\n",
       "      <th>39</th>\n",
       "      <td>039 - EXTRACRANIAL PROCEDURES W/O CC/MCC</td>\n",
       "      <td>SC</td>\n",
       "      <td>46493.993528</td>\n",
       "    </tr>\n",
       "    <tr>\n",
       "      <th>40</th>\n",
       "      <td>039 - EXTRACRANIAL PROCEDURES W/O CC/MCC</td>\n",
       "      <td>SD</td>\n",
       "      <td>31792.941597</td>\n",
       "    </tr>\n",
       "    <tr>\n",
       "      <th>41</th>\n",
       "      <td>039 - EXTRACRANIAL PROCEDURES W/O CC/MCC</td>\n",
       "      <td>TN</td>\n",
       "      <td>39567.690938</td>\n",
       "    </tr>\n",
       "    <tr>\n",
       "      <th>42</th>\n",
       "      <td>039 - EXTRACRANIAL PROCEDURES W/O CC/MCC</td>\n",
       "      <td>TX</td>\n",
       "      <td>48900.292584</td>\n",
       "    </tr>\n",
       "    <tr>\n",
       "      <th>43</th>\n",
       "      <td>039 - EXTRACRANIAL PROCEDURES W/O CC/MCC</td>\n",
       "      <td>UT</td>\n",
       "      <td>28636.570204</td>\n",
       "    </tr>\n",
       "    <tr>\n",
       "      <th>44</th>\n",
       "      <td>039 - EXTRACRANIAL PROCEDURES W/O CC/MCC</td>\n",
       "      <td>VA</td>\n",
       "      <td>44690.688171</td>\n",
       "    </tr>\n",
       "    <tr>\n",
       "      <th>45</th>\n",
       "      <td>039 - EXTRACRANIAL PROCEDURES W/O CC/MCC</td>\n",
       "      <td>VT</td>\n",
       "      <td>23500.600000</td>\n",
       "    </tr>\n",
       "    <tr>\n",
       "      <th>46</th>\n",
       "      <td>039 - EXTRACRANIAL PROCEDURES W/O CC/MCC</td>\n",
       "      <td>WA</td>\n",
       "      <td>48476.850022</td>\n",
       "    </tr>\n",
       "    <tr>\n",
       "      <th>47</th>\n",
       "      <td>039 - EXTRACRANIAL PROCEDURES W/O CC/MCC</td>\n",
       "      <td>WI</td>\n",
       "      <td>33443.475732</td>\n",
       "    </tr>\n",
       "    <tr>\n",
       "      <th>48</th>\n",
       "      <td>039 - EXTRACRANIAL PROCEDURES W/O CC/MCC</td>\n",
       "      <td>WV</td>\n",
       "      <td>28145.468866</td>\n",
       "    </tr>\n",
       "    <tr>\n",
       "      <th>49</th>\n",
       "      <td>039 - EXTRACRANIAL PROCEDURES W/O CC/MCC</td>\n",
       "      <td>WY</td>\n",
       "      <td>33989.769230</td>\n",
       "    </tr>\n",
       "  </tbody>\n",
       "</table>\n",
       "</div>"
      ],
      "text/plain": [
       "                                         DRG State  Average Cost\n",
       "0   039 - EXTRACRANIAL PROCEDURES W/O CC/MCC    AK  55837.040777\n",
       "1   039 - EXTRACRANIAL PROCEDURES W/O CC/MCC    AL  44387.996198\n",
       "2   039 - EXTRACRANIAL PROCEDURES W/O CC/MCC    AR  30445.479758\n",
       "3   039 - EXTRACRANIAL PROCEDURES W/O CC/MCC    AZ  58556.204004\n",
       "4   039 - EXTRACRANIAL PROCEDURES W/O CC/MCC    CA  78728.361247\n",
       "5   039 - EXTRACRANIAL PROCEDURES W/O CC/MCC    CO  56980.684071\n",
       "6   039 - EXTRACRANIAL PROCEDURES W/O CC/MCC    CT  32348.355800\n",
       "7   039 - EXTRACRANIAL PROCEDURES W/O CC/MCC    DC  44497.375000\n",
       "8   039 - EXTRACRANIAL PROCEDURES W/O CC/MCC    DE  29155.011000\n",
       "9   039 - EXTRACRANIAL PROCEDURES W/O CC/MCC    FL  64307.373751\n",
       "10  039 - EXTRACRANIAL PROCEDURES W/O CC/MCC    GA  38826.568831\n",
       "11  039 - EXTRACRANIAL PROCEDURES W/O CC/MCC    IA  32169.261335\n",
       "12  039 - EXTRACRANIAL PROCEDURES W/O CC/MCC    ID  35689.988560\n",
       "13  039 - EXTRACRANIAL PROCEDURES W/O CC/MCC    IL  43606.552685\n",
       "14  039 - EXTRACRANIAL PROCEDURES W/O CC/MCC    IN  42804.672175\n",
       "15  039 - EXTRACRANIAL PROCEDURES W/O CC/MCC    KS  33621.766218\n",
       "16  039 - EXTRACRANIAL PROCEDURES W/O CC/MCC    KY  39678.752739\n",
       "17  039 - EXTRACRANIAL PROCEDURES W/O CC/MCC    LA  39165.392987\n",
       "18  039 - EXTRACRANIAL PROCEDURES W/O CC/MCC    MA  27212.255017\n",
       "19  039 - EXTRACRANIAL PROCEDURES W/O CC/MCC    MD  13112.356675\n",
       "20  039 - EXTRACRANIAL PROCEDURES W/O CC/MCC    ME  22328.636535\n",
       "21  039 - EXTRACRANIAL PROCEDURES W/O CC/MCC    MI  30290.840448\n",
       "22  039 - EXTRACRANIAL PROCEDURES W/O CC/MCC    MN  35218.815956\n",
       "23  039 - EXTRACRANIAL PROCEDURES W/O CC/MCC    MO  34264.382872\n",
       "24  039 - EXTRACRANIAL PROCEDURES W/O CC/MCC    MS  40738.196030\n",
       "25  039 - EXTRACRANIAL PROCEDURES W/O CC/MCC    MT  27291.554826\n",
       "26  039 - EXTRACRANIAL PROCEDURES W/O CC/MCC    NC  35184.550343\n",
       "27  039 - EXTRACRANIAL PROCEDURES W/O CC/MCC    ND  24948.774822\n",
       "28  039 - EXTRACRANIAL PROCEDURES W/O CC/MCC    NE  28702.880206\n",
       "29  039 - EXTRACRANIAL PROCEDURES W/O CC/MCC    NH  35992.865295\n",
       "30  039 - EXTRACRANIAL PROCEDURES W/O CC/MCC    NJ  43576.352208\n",
       "31  039 - EXTRACRANIAL PROCEDURES W/O CC/MCC    NM  42832.472350\n",
       "32  039 - EXTRACRANIAL PROCEDURES W/O CC/MCC    NV  57878.685110\n",
       "33  039 - EXTRACRANIAL PROCEDURES W/O CC/MCC    NY  33650.778386\n",
       "34  039 - EXTRACRANIAL PROCEDURES W/O CC/MCC    OH  41211.597493\n",
       "35  039 - EXTRACRANIAL PROCEDURES W/O CC/MCC    OK  30498.518326\n",
       "36  039 - EXTRACRANIAL PROCEDURES W/O CC/MCC    OR  33009.658792\n",
       "37  039 - EXTRACRANIAL PROCEDURES W/O CC/MCC    PA  45139.542274\n",
       "38  039 - EXTRACRANIAL PROCEDURES W/O CC/MCC    RI  28371.632145\n",
       "39  039 - EXTRACRANIAL PROCEDURES W/O CC/MCC    SC  46493.993528\n",
       "40  039 - EXTRACRANIAL PROCEDURES W/O CC/MCC    SD  31792.941597\n",
       "41  039 - EXTRACRANIAL PROCEDURES W/O CC/MCC    TN  39567.690938\n",
       "42  039 - EXTRACRANIAL PROCEDURES W/O CC/MCC    TX  48900.292584\n",
       "43  039 - EXTRACRANIAL PROCEDURES W/O CC/MCC    UT  28636.570204\n",
       "44  039 - EXTRACRANIAL PROCEDURES W/O CC/MCC    VA  44690.688171\n",
       "45  039 - EXTRACRANIAL PROCEDURES W/O CC/MCC    VT  23500.600000\n",
       "46  039 - EXTRACRANIAL PROCEDURES W/O CC/MCC    WA  48476.850022\n",
       "47  039 - EXTRACRANIAL PROCEDURES W/O CC/MCC    WI  33443.475732\n",
       "48  039 - EXTRACRANIAL PROCEDURES W/O CC/MCC    WV  28145.468866\n",
       "49  039 - EXTRACRANIAL PROCEDURES W/O CC/MCC    WY  33989.769230"
      ]
     },
     "execution_count": 226,
     "metadata": {},
     "output_type": "execute_result"
    }
   ],
   "source": [
    "# Create a DataFrame of the Average Cost by State for the specific procedure by merging the lists\n",
    "Average_Cost_of_Extracranial_per_State = pd.DataFrame({\n",
    "    \"DRG\": \"039 - EXTRACRANIAL PROCEDURES W/O CC/MCC\",\n",
    "    \"State\": drg_EXTRACRANIAL_State_List,\n",
    "    \"Average Cost\": drg_EXTRACRANIAL_Average_Covered_Charge_by_State_List\n",
    "})\n",
    "Average_Cost_of_Extracranial_per_State"
   ]
  },
  {
   "cell_type": "code",
   "execution_count": 227,
   "metadata": {},
   "outputs": [
    {
     "data": {
      "text/plain": [
       "Text(0, 0.5, 'Average Cost ($)')"
      ]
     },
     "execution_count": 227,
     "metadata": {},
     "output_type": "execute_result"
    },
    {
     "data": {
      "image/png": "[encoded data removed]",
      "text/plain": [
       "<Figure size 432x288 with 1 Axes>"
      ]
     },
     "metadata": {
      "needs_background": "light"
     },
     "output_type": "display_data"
    }
   ],
   "source": [
    "# Create a Bar Chart of the Average Cost per State for EXTRACRANIAL PROCEDURES\n",
    "\n",
    "drg_EXTRACRANIAL_Average_Covered_Charge_by_State_List_Values = drg_EXTRACRANIAL_Average_Covered_Charge_by_State_List\n",
    "drg_EXTRACRANIAL_State_List_Values = drg_EXTRACRANIAL_State_List\n",
    "x_axis = np.arange(len(drg_EXTRACRANIAL_State_List))\n",
    "\n",
    "plt.bar(x_axis, drg_EXTRACRANIAL_Average_Covered_Charge_by_State_List_Values, alpha=0.5, align=\"center\")\n",
    "\n",
    "tick_locations = [value for value in x_axis]\n",
    "plt.xticks(tick_locations, drg_EXTRACRANIAL_State_List_Values, rotation=\"vertical\")\n",
    "\n",
    "plt.xlim(-0.75, len(x_axis)-0.25)\n",
    "\n",
    "plt.title(\"Average Cost per State for EXTRACRANIAL PROCEDURES\")\n",
    "plt.ylabel(\"Average Cost ($)\")"
   ]
  },
  {
   "cell_type": "code",
   "execution_count": 228,
   "metadata": {},
   "outputs": [
    {
     "data": {
      "text/html": [
       "<div>\n",
       "<style scoped>\n",
       "    .dataframe tbody tr th:only-of-type {\n",
       "        vertical-align: middle;\n",
       "    }\n",
       "\n",
       "    .dataframe tbody tr th {\n",
       "        vertical-align: top;\n",
       "    }\n",
       "\n",
       "    .dataframe thead th {\n",
       "        text-align: right;\n",
       "    }\n",
       "</style>\n",
       "<table border=\"1\" class=\"dataframe\">\n",
       "  <thead>\n",
       "    <tr style=\"text-align: right;\">\n",
       "      <th></th>\n",
       "      <th>provider_name</th>\n",
       "      <th>total_discharges</th>\n",
       "    </tr>\n",
       "  </thead>\n",
       "  <tbody>\n",
       "    <tr>\n",
       "      <th>0</th>\n",
       "      <td>ABBOTT NORTHWESTERN HOSPITAL</td>\n",
       "      <td>51</td>\n",
       "    </tr>\n",
       "    <tr>\n",
       "      <th>1</th>\n",
       "      <td>ABILENE REGIONAL MEDICAL CENTER</td>\n",
       "      <td>43</td>\n",
       "    </tr>\n",
       "    <tr>\n",
       "      <th>2</th>\n",
       "      <td>ABINGTON MEMORIAL HOSPITAL</td>\n",
       "      <td>14</td>\n",
       "    </tr>\n",
       "    <tr>\n",
       "      <th>3</th>\n",
       "      <td>ABRAZO ARROWHEAD CAMPUS</td>\n",
       "      <td>33</td>\n",
       "    </tr>\n",
       "    <tr>\n",
       "      <th>4</th>\n",
       "      <td>ADENA REGIONAL MEDICAL CENTER</td>\n",
       "      <td>17</td>\n",
       "    </tr>\n",
       "  </tbody>\n",
       "</table>\n",
       "</div>"
      ],
      "text/plain": [
       "                     provider_name  total_discharges\n",
       "0     ABBOTT NORTHWESTERN HOSPITAL                51\n",
       "1  ABILENE REGIONAL MEDICAL CENTER                43\n",
       "2       ABINGTON MEMORIAL HOSPITAL                14\n",
       "3          ABRAZO ARROWHEAD CAMPUS                33\n",
       "4    ADENA REGIONAL MEDICAL CENTER                17"
      ]
     },
     "execution_count": 228,
     "metadata": {},
     "output_type": "execute_result"
    }
   ],
   "source": [
    "# Store the Total Discharge Volume Data for the specific procedure Grouped by Provider by splitting up the data into groups based upon 'Provider'\n",
    "# Filter the DataFrame down only to those columns to chart\n",
    "EXTRACRANIAL_data_grouped_by_Provider = DataFrame_drg_EXTRACRANIAL.groupby(['provider_name'])\n",
    "\n",
    "# # Convert to DataFrame\n",
    "\n",
    "EXTRACRANIAL_Total_Discharge_Volume_for_data_grouped_by_Provider_df = EXTRACRANIAL_data_grouped_by_Provider[[\"total_discharges\"]].sum().reset_index()\n",
    "\n",
    "# Preview DataFrame\n",
    "\n",
    "EXTRACRANIAL_Total_Discharge_Volume_for_data_grouped_by_Provider_df.head()"
   ]
  },
  {
   "cell_type": "code",
   "execution_count": 229,
   "metadata": {},
   "outputs": [
    {
     "data": {
      "text/html": [
       "<div>\n",
       "<style scoped>\n",
       "    .dataframe tbody tr th:only-of-type {\n",
       "        vertical-align: middle;\n",
       "    }\n",
       "\n",
       "    .dataframe tbody tr th {\n",
       "        vertical-align: top;\n",
       "    }\n",
       "\n",
       "    .dataframe thead th {\n",
       "        text-align: right;\n",
       "    }\n",
       "</style>\n",
       "<table border=\"1\" class=\"dataframe\">\n",
       "  <thead>\n",
       "    <tr style=\"text-align: right;\">\n",
       "      <th></th>\n",
       "      <th>provider_name</th>\n",
       "      <th>average_covered_charges</th>\n",
       "    </tr>\n",
       "  </thead>\n",
       "  <tbody>\n",
       "    <tr>\n",
       "      <th>0</th>\n",
       "      <td>ABBOTT NORTHWESTERN HOSPITAL</td>\n",
       "      <td>35748.94118</td>\n",
       "    </tr>\n",
       "    <tr>\n",
       "      <th>1</th>\n",
       "      <td>ABILENE REGIONAL MEDICAL CENTER</td>\n",
       "      <td>55200.13954</td>\n",
       "    </tr>\n",
       "    <tr>\n",
       "      <th>2</th>\n",
       "      <td>ABINGTON MEMORIAL HOSPITAL</td>\n",
       "      <td>35286.35714</td>\n",
       "    </tr>\n",
       "    <tr>\n",
       "      <th>3</th>\n",
       "      <td>ABRAZO ARROWHEAD CAMPUS</td>\n",
       "      <td>48916.39394</td>\n",
       "    </tr>\n",
       "    <tr>\n",
       "      <th>4</th>\n",
       "      <td>ADENA REGIONAL MEDICAL CENTER</td>\n",
       "      <td>64742.58824</td>\n",
       "    </tr>\n",
       "  </tbody>\n",
       "</table>\n",
       "</div>"
      ],
      "text/plain": [
       "                     provider_name  average_covered_charges\n",
       "0     ABBOTT NORTHWESTERN HOSPITAL              35748.94118\n",
       "1  ABILENE REGIONAL MEDICAL CENTER              55200.13954\n",
       "2       ABINGTON MEMORIAL HOSPITAL              35286.35714\n",
       "3          ABRAZO ARROWHEAD CAMPUS              48916.39394\n",
       "4    ADENA REGIONAL MEDICAL CENTER              64742.58824"
      ]
     },
     "execution_count": 229,
     "metadata": {},
     "output_type": "execute_result"
    }
   ],
   "source": [
    "# Store the Average Charge Data for the specific procedure Grouped by Provider \n",
    "# Filter the DataFrame down only to those columns to chart\n",
    "\n",
    "EXTRACRANIAL_Average_Cost_for_data_grouped_by_Provider_df = EXTRACRANIAL_data_grouped_by_Provider[[\"average_covered_charges\"]].mean().reset_index()\n",
    "\n",
    "# Preview DataFrame\n",
    "\n",
    "EXTRACRANIAL_Average_Cost_for_data_grouped_by_Provider_df.head()"
   ]
  },
  {
   "cell_type": "code",
   "execution_count": 230,
   "metadata": {},
   "outputs": [
    {
     "data": {
      "image/png": "[encoded data removed]",
      "text/plain": [
       "<Figure size 432x288 with 1 Axes>"
      ]
     },
     "metadata": {
      "needs_background": "light"
     },
     "output_type": "display_data"
    }
   ],
   "source": [
    "# Build a scatter plot for Total Discharge Volume vs Price\n",
    "plt.scatter(EXTRACRANIAL_Total_Discharge_Volume_for_data_grouped_by_Provider_df[\"total_discharges\"], EXTRACRANIAL_Average_Cost_for_data_grouped_by_Provider_df[\"average_covered_charges\"], marker=\"o\")\n",
    "\n",
    "# Incorporate the other graph properties\n",
    "plt.title(\"Provider EXTRACRANIAL Discharge Volume vs. Price\")\n",
    "plt.ylabel(\"Average Charge ($)\")\n",
    "plt.xlabel(\"Total Discharges\")\n",
    "plt.grid(True)"
   ]
  },
  {
   "cell_type": "code",
   "execution_count": null,
   "metadata": {},
   "outputs": [],
   "source": []
  },
  {
   "cell_type": "code",
   "execution_count": null,
   "metadata": {},
   "outputs": [],
   "source": []
  },
  {
   "cell_type": "code",
   "execution_count": null,
   "metadata": {},
   "outputs": [],
   "source": []
  },
  {
   "cell_type": "code",
   "execution_count": null,
   "metadata": {},
   "outputs": [],
   "source": []
  },
  {
   "cell_type": "code",
   "execution_count": null,
   "metadata": {},
   "outputs": [],
   "source": []
  }
 ],
 "metadata": {
  "anaconda-cloud": {},
  "kernel_info": {
   "name": "python3"
  },
  "kernelspec": {
   "display_name": "Python 3",
   "language": "python",
   "name": "python3"
  },
  "language_info": {
   "codemirror_mode": {
    "name": "ipython",
    "version": 3
   },
   "file_extension": ".py",
   "mimetype": "text/x-python",
   "name": "python",
   "nbconvert_exporter": "python",
   "pygments_lexer": "ipython3",
   "version": "3.6.9"
  },
  "nteract": {
   "version": "0.12.3"
  }
 },
 "nbformat": 4,
 "nbformat_minor": 2
}
