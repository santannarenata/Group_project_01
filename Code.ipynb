{
 "cells": [
  {
   "cell_type": "code",
   "execution_count": 212,
   "metadata": {
    "scrolled": true
   },
   "outputs": [],
   "source": [
    "# Dependencies and Setup\n",
    "import matplotlib.pyplot as plt\n",
    "import requests\n",
    "import pandas as pd\n",
    "import json\n",
    "import numpy as np\n",
    "import time"
   ]
  },
  {
   "cell_type": "code",
   "execution_count": 213,
   "metadata": {},
   "outputs": [
    {
     "name": "stdout",
     "output_type": "stream",
     "text": [
      "<Response [200]>\n"
     ]
    }
   ],
   "source": [
    "# URL for GET requests to retrieve vehicle data\n",
    "\n",
    "url = \"https://data.cms.gov/resource/97k6-zzx3.json\"\n",
    "\n",
    "# Create a variable for and print the response object to the console to make sure we have a connection to the API\n",
    "Response = requests.get(url)\n",
    "print(Response)\n"
   ]
  },
  {
   "cell_type": "code",
   "execution_count": 339,
   "metadata": {},
   "outputs": [],
   "source": [
    "# Create a variable to hold the response data in json format\n",
    "Response_Data = Response.json()\n",
    "\n",
    "# print(json.dumps(Response_Data, indent=4, sort_keys=True))\n"
   ]
  },
  {
   "cell_type": "code",
   "execution_count": 340,
   "metadata": {},
   "outputs": [
    {
     "data": {
      "text/html": [
       "<div>\n",
       "<style scoped>\n",
       "    .dataframe tbody tr th:only-of-type {\n",
       "        vertical-align: middle;\n",
       "    }\n",
       "\n",
       "    .dataframe tbody tr th {\n",
       "        vertical-align: top;\n",
       "    }\n",
       "\n",
       "    .dataframe thead th {\n",
       "        text-align: right;\n",
       "    }\n",
       "</style>\n",
       "<table border=\"1\" class=\"dataframe\">\n",
       "  <thead>\n",
       "    <tr style=\"text-align: right;\">\n",
       "      <th></th>\n",
       "      <th>drg_definition</th>\n",
       "      <th>provider_id</th>\n",
       "      <th>provider_name</th>\n",
       "      <th>provider_street_address</th>\n",
       "      <th>provider_city</th>\n",
       "      <th>provider_state</th>\n",
       "      <th>provider_zip_code</th>\n",
       "      <th>hospital_referral_region_description</th>\n",
       "      <th>total_discharges</th>\n",
       "      <th>average_covered_charges</th>\n",
       "      <th>average_medicare_payments</th>\n",
       "      <th>average_medicare_payments_2</th>\n",
       "    </tr>\n",
       "  </thead>\n",
       "  <tbody>\n",
       "    <tr>\n",
       "      <th>0</th>\n",
       "      <td>039 - EXTRACRANIAL PROCEDURES W/O CC/MCC</td>\n",
       "      <td>10001</td>\n",
       "      <td>SOUTHEAST ALABAMA MEDICAL CENTER</td>\n",
       "      <td>1108 ROSS CLARK CIRCLE</td>\n",
       "      <td>DOTHAN</td>\n",
       "      <td>AL</td>\n",
       "      <td>36301</td>\n",
       "      <td>AL - Dothan</td>\n",
       "      <td>91</td>\n",
       "      <td>32963.07</td>\n",
       "      <td>5777.24</td>\n",
       "      <td>4763.73</td>\n",
       "    </tr>\n",
       "    <tr>\n",
       "      <th>1</th>\n",
       "      <td>039 - EXTRACRANIAL PROCEDURES W/O CC/MCC</td>\n",
       "      <td>10005</td>\n",
       "      <td>MARSHALL MEDICAL CENTER SOUTH</td>\n",
       "      <td>2505 U S HIGHWAY 431 NORTH</td>\n",
       "      <td>BOAZ</td>\n",
       "      <td>AL</td>\n",
       "      <td>35957</td>\n",
       "      <td>AL - Birmingham</td>\n",
       "      <td>14</td>\n",
       "      <td>15131.85</td>\n",
       "      <td>5787.57</td>\n",
       "      <td>4976.71</td>\n",
       "    </tr>\n",
       "    <tr>\n",
       "      <th>2</th>\n",
       "      <td>039 - EXTRACRANIAL PROCEDURES W/O CC/MCC</td>\n",
       "      <td>10006</td>\n",
       "      <td>ELIZA COFFEE MEMORIAL HOSPITAL</td>\n",
       "      <td>205 MARENGO STREET</td>\n",
       "      <td>FLORENCE</td>\n",
       "      <td>AL</td>\n",
       "      <td>35631</td>\n",
       "      <td>AL - Birmingham</td>\n",
       "      <td>24</td>\n",
       "      <td>37560.37</td>\n",
       "      <td>5434.95</td>\n",
       "      <td>4453.79</td>\n",
       "    </tr>\n",
       "    <tr>\n",
       "      <th>3</th>\n",
       "      <td>039 - EXTRACRANIAL PROCEDURES W/O CC/MCC</td>\n",
       "      <td>10011</td>\n",
       "      <td>ST VINCENT'S EAST</td>\n",
       "      <td>50 MEDICAL PARK EAST DRIVE</td>\n",
       "      <td>BIRMINGHAM</td>\n",
       "      <td>AL</td>\n",
       "      <td>35235</td>\n",
       "      <td>AL - Birmingham</td>\n",
       "      <td>25</td>\n",
       "      <td>13998.28</td>\n",
       "      <td>5417.56</td>\n",
       "      <td>4129.16</td>\n",
       "    </tr>\n",
       "    <tr>\n",
       "      <th>4</th>\n",
       "      <td>039 - EXTRACRANIAL PROCEDURES W/O CC/MCC</td>\n",
       "      <td>10016</td>\n",
       "      <td>SHELBY BAPTIST MEDICAL CENTER</td>\n",
       "      <td>1000 FIRST STREET NORTH</td>\n",
       "      <td>ALABASTER</td>\n",
       "      <td>AL</td>\n",
       "      <td>35007</td>\n",
       "      <td>AL - Birmingham</td>\n",
       "      <td>18</td>\n",
       "      <td>31633.27</td>\n",
       "      <td>5658.33</td>\n",
       "      <td>4851.44</td>\n",
       "    </tr>\n",
       "  </tbody>\n",
       "</table>\n",
       "</div>"
      ],
      "text/plain": [
       "                             drg_definition provider_id  \\\n",
       "0  039 - EXTRACRANIAL PROCEDURES W/O CC/MCC       10001   \n",
       "1  039 - EXTRACRANIAL PROCEDURES W/O CC/MCC       10005   \n",
       "2  039 - EXTRACRANIAL PROCEDURES W/O CC/MCC       10006   \n",
       "3  039 - EXTRACRANIAL PROCEDURES W/O CC/MCC       10011   \n",
       "4  039 - EXTRACRANIAL PROCEDURES W/O CC/MCC       10016   \n",
       "\n",
       "                      provider_name     provider_street_address provider_city  \\\n",
       "0  SOUTHEAST ALABAMA MEDICAL CENTER      1108 ROSS CLARK CIRCLE        DOTHAN   \n",
       "1     MARSHALL MEDICAL CENTER SOUTH  2505 U S HIGHWAY 431 NORTH          BOAZ   \n",
       "2    ELIZA COFFEE MEMORIAL HOSPITAL          205 MARENGO STREET      FLORENCE   \n",
       "3                 ST VINCENT'S EAST  50 MEDICAL PARK EAST DRIVE    BIRMINGHAM   \n",
       "4     SHELBY BAPTIST MEDICAL CENTER     1000 FIRST STREET NORTH     ALABASTER   \n",
       "\n",
       "  provider_state provider_zip_code hospital_referral_region_description  \\\n",
       "0             AL             36301                          AL - Dothan   \n",
       "1             AL             35957                      AL - Birmingham   \n",
       "2             AL             35631                      AL - Birmingham   \n",
       "3             AL             35235                      AL - Birmingham   \n",
       "4             AL             35007                      AL - Birmingham   \n",
       "\n",
       "  total_discharges average_covered_charges average_medicare_payments  \\\n",
       "0               91                32963.07                   5777.24   \n",
       "1               14                15131.85                   5787.57   \n",
       "2               24                37560.37                   5434.95   \n",
       "3               25                13998.28                   5417.56   \n",
       "4               18                31633.27                   5658.33   \n",
       "\n",
       "  average_medicare_payments_2  \n",
       "0                     4763.73  \n",
       "1                     4976.71  \n",
       "2                     4453.79  \n",
       "3                     4129.16  \n",
       "4                     4851.44  "
      ]
     },
     "execution_count": 340,
     "metadata": {},
     "output_type": "execute_result"
    }
   ],
   "source": [
    "# Generate a DataFrame from the response data\n",
    "DataFrame = pd.DataFrame(Response_Data)\n",
    "\n",
    "# Display top 5 rows of dataframe for reference\n",
    "\n",
    "DataFrame.head()"
   ]
  },
  {
   "cell_type": "code",
   "execution_count": 341,
   "metadata": {},
   "outputs": [
    {
     "data": {
      "text/html": [
       "<div>\n",
       "<style scoped>\n",
       "    .dataframe tbody tr th:only-of-type {\n",
       "        vertical-align: middle;\n",
       "    }\n",
       "\n",
       "    .dataframe tbody tr th {\n",
       "        vertical-align: top;\n",
       "    }\n",
       "\n",
       "    .dataframe thead th {\n",
       "        text-align: right;\n",
       "    }\n",
       "</style>\n",
       "<table border=\"1\" class=\"dataframe\">\n",
       "  <thead>\n",
       "    <tr style=\"text-align: right;\">\n",
       "      <th></th>\n",
       "      <th>drg_definition</th>\n",
       "      <th>provider_id</th>\n",
       "      <th>provider_name</th>\n",
       "      <th>provider_street_address</th>\n",
       "      <th>provider_city</th>\n",
       "      <th>provider_state</th>\n",
       "      <th>provider_zip_code</th>\n",
       "      <th>hospital_referral_region_description</th>\n",
       "      <th>total_discharges</th>\n",
       "      <th>average_covered_charges</th>\n",
       "      <th>average_medicare_payments</th>\n",
       "      <th>average_medicare_payments_2</th>\n",
       "    </tr>\n",
       "  </thead>\n",
       "  <tbody>\n",
       "    <tr>\n",
       "      <th>count</th>\n",
       "      <td>1000</td>\n",
       "      <td>1000</td>\n",
       "      <td>1000</td>\n",
       "      <td>1000</td>\n",
       "      <td>1000</td>\n",
       "      <td>1000</td>\n",
       "      <td>1000</td>\n",
       "      <td>1000</td>\n",
       "      <td>1000</td>\n",
       "      <td>1000</td>\n",
       "      <td>1000</td>\n",
       "      <td>1000</td>\n",
       "    </tr>\n",
       "    <tr>\n",
       "      <th>unique</th>\n",
       "      <td>1</td>\n",
       "      <td>1000</td>\n",
       "      <td>974</td>\n",
       "      <td>999</td>\n",
       "      <td>683</td>\n",
       "      <td>47</td>\n",
       "      <td>957</td>\n",
       "      <td>282</td>\n",
       "      <td>92</td>\n",
       "      <td>1000</td>\n",
       "      <td>994</td>\n",
       "      <td>998</td>\n",
       "    </tr>\n",
       "    <tr>\n",
       "      <th>top</th>\n",
       "      <td>039 - EXTRACRANIAL PROCEDURES W/O CC/MCC</td>\n",
       "      <td>110007</td>\n",
       "      <td>GOOD SAMARITAN HOSPITAL</td>\n",
       "      <td>800 WASHINGTON STREET</td>\n",
       "      <td>SPRINGFIELD</td>\n",
       "      <td>FL</td>\n",
       "      <td>76104</td>\n",
       "      <td>MA - Boston</td>\n",
       "      <td>11</td>\n",
       "      <td>27373.31</td>\n",
       "      <td>5986</td>\n",
       "      <td>4847.08</td>\n",
       "    </tr>\n",
       "    <tr>\n",
       "      <th>freq</th>\n",
       "      <td>1000</td>\n",
       "      <td>1</td>\n",
       "      <td>6</td>\n",
       "      <td>2</td>\n",
       "      <td>8</td>\n",
       "      <td>81</td>\n",
       "      <td>3</td>\n",
       "      <td>19</td>\n",
       "      <td>57</td>\n",
       "      <td>1</td>\n",
       "      <td>2</td>\n",
       "      <td>2</td>\n",
       "    </tr>\n",
       "  </tbody>\n",
       "</table>\n",
       "</div>"
      ],
      "text/plain": [
       "                                  drg_definition provider_id  \\\n",
       "count                                       1000        1000   \n",
       "unique                                         1        1000   \n",
       "top     039 - EXTRACRANIAL PROCEDURES W/O CC/MCC      110007   \n",
       "freq                                        1000           1   \n",
       "\n",
       "                  provider_name provider_street_address provider_city  \\\n",
       "count                      1000                    1000          1000   \n",
       "unique                      974                     999           683   \n",
       "top     GOOD SAMARITAN HOSPITAL   800 WASHINGTON STREET   SPRINGFIELD   \n",
       "freq                          6                       2             8   \n",
       "\n",
       "       provider_state provider_zip_code hospital_referral_region_description  \\\n",
       "count            1000              1000                                 1000   \n",
       "unique             47               957                                  282   \n",
       "top                FL             76104                          MA - Boston   \n",
       "freq               81                 3                                   19   \n",
       "\n",
       "       total_discharges average_covered_charges average_medicare_payments  \\\n",
       "count              1000                    1000                      1000   \n",
       "unique               92                    1000                       994   \n",
       "top                  11                27373.31                      5986   \n",
       "freq                 57                       1                         2   \n",
       "\n",
       "       average_medicare_payments_2  \n",
       "count                         1000  \n",
       "unique                         998  \n",
       "top                        4847.08  \n",
       "freq                             2  "
      ]
     },
     "execution_count": 341,
     "metadata": {},
     "output_type": "execute_result"
    }
   ],
   "source": [
    "# Display a statistical overview of the DataFrame for reference\n",
    "\n",
    "DataFrame.describe()"
   ]
  },
  {
   "cell_type": "code",
   "execution_count": 342,
   "metadata": {},
   "outputs": [
    {
     "data": {
      "text/plain": [
       "drg_definition                          1000\n",
       "provider_id                             1000\n",
       "provider_name                           1000\n",
       "provider_street_address                 1000\n",
       "provider_city                           1000\n",
       "provider_state                          1000\n",
       "provider_zip_code                       1000\n",
       "hospital_referral_region_description    1000\n",
       "total_discharges                        1000\n",
       "average_covered_charges                 1000\n",
       "average_medicare_payments               1000\n",
       "average_medicare_payments_2             1000\n",
       "dtype: int64"
      ]
     },
     "execution_count": 342,
     "metadata": {},
     "output_type": "execute_result"
    }
   ],
   "source": [
    "# Check to see if there are any incomplete rows\n",
    "DataFrame.count()"
   ]
  },
  {
   "cell_type": "code",
   "execution_count": 219,
   "metadata": {},
   "outputs": [
    {
     "data": {
      "text/plain": [
       "1"
      ]
     },
     "execution_count": 219,
     "metadata": {},
     "output_type": "execute_result"
    }
   ],
   "source": [
    "# Calculate the Number of Unique Diagnosis Related Groups (DRGs): \n",
    "Unique_DRGs = len(DataFrame[\"drg_definition\"].unique())\n",
    "Unique_DRGs"
   ]
  },
  {
   "cell_type": "code",
   "execution_count": 220,
   "metadata": {},
   "outputs": [
    {
     "data": {
      "text/plain": [
       "1000"
      ]
     },
     "execution_count": 220,
     "metadata": {},
     "output_type": "execute_result"
    }
   ],
   "source": [
    "# Calculate the Number of Unique Providers: \n",
    "Unique_Provider_count = len(DataFrame[\"provider_id\"].unique())\n",
    "Unique_Provider_count"
   ]
  },
  {
   "cell_type": "code",
   "execution_count": 221,
   "metadata": {},
   "outputs": [
    {
     "data": {
      "text/plain": [
       "47"
      ]
     },
     "execution_count": 221,
     "metadata": {},
     "output_type": "execute_result"
    }
   ],
   "source": [
    "# Calculate the Total Number of Unique States in the DataFrame\n",
    "Unique_State_Count = len(DataFrame[\"provider_state\"].unique())\n",
    "Unique_State_Count"
   ]
  },
  {
   "cell_type": "code",
   "execution_count": 222,
   "metadata": {},
   "outputs": [
    {
     "data": {
      "text/plain": [
       "957"
      ]
     },
     "execution_count": 222,
     "metadata": {},
     "output_type": "execute_result"
    }
   ],
   "source": [
    "# Calculate the Total Number of Unique Provider Zip Codes in the DataFrame\n",
    "Unique_Provider_ZipCode_Count = len(DataFrame[\"provider_zip_code\"].unique())\n",
    "Unique_Provider_ZipCode_Count"
   ]
  },
  {
   "cell_type": "code",
   "execution_count": 343,
   "metadata": {},
   "outputs": [
    {
     "data": {
      "text/plain": [
       "282"
      ]
     },
     "execution_count": 343,
     "metadata": {},
     "output_type": "execute_result"
    }
   ],
   "source": [
    "# Calculate the Unique Number of hospital_referral_region_description in the DataFrame\n",
    "Unique_Hospital_Referral_Region_count = len(DataFrame[\"hospital_referral_region_description\"].unique())\n",
    "Unique_Hospital_Referral_Region_count"
   ]
  },
  {
   "cell_type": "code",
   "execution_count": 224,
   "metadata": {},
   "outputs": [
    {
     "data": {
      "text/plain": [
       "drg_definition                          object\n",
       "provider_id                             object\n",
       "provider_name                           object\n",
       "provider_street_address                 object\n",
       "provider_city                           object\n",
       "provider_state                          object\n",
       "provider_zip_code                       object\n",
       "hospital_referral_region_description    object\n",
       "total_discharges                        object\n",
       "average_covered_charges                 object\n",
       "average_medicare_payments               object\n",
       "average_medicare_payments_2             object\n",
       "dtype: object"
      ]
     },
     "execution_count": 224,
     "metadata": {},
     "output_type": "execute_result"
    }
   ],
   "source": [
    "# Observe the DataTypes of each column\n",
    "DataFrame.dtypes"
   ]
  },
  {
   "cell_type": "code",
   "execution_count": 225,
   "metadata": {},
   "outputs": [],
   "source": [
    "# Use pd.to_numeric() method to convert the datatype of the Discharge Count column\n",
    "DataFrame['total_discharges'] = pd.to_numeric(DataFrame['total_discharges'])\n",
    "\n",
    "# Use pd.to_numeric() method to convert the datatype of the Average Covered Charges column\n",
    "DataFrame['average_covered_charges'] = pd.to_numeric(DataFrame['average_covered_charges'])\n",
    "\n",
    "# Use pd.to_numeric() method to convert the datatype of the Average Medicare Payments column\n",
    "DataFrame['average_medicare_payments'] = pd.to_numeric(DataFrame['average_medicare_payments'])\n",
    "\n",
    "# Use pd.to_numeric() method to convert the datatype of the Average Medicare Payments 2 column\n",
    "DataFrame['average_medicare_payments_2'] = pd.to_numeric(DataFrame['average_medicare_payments_2'])"
   ]
  },
  {
   "cell_type": "code",
   "execution_count": 226,
   "metadata": {},
   "outputs": [
    {
     "data": {
      "text/plain": [
       "drg_definition                           object\n",
       "provider_id                              object\n",
       "provider_name                            object\n",
       "provider_street_address                  object\n",
       "provider_city                            object\n",
       "provider_state                           object\n",
       "provider_zip_code                        object\n",
       "hospital_referral_region_description     object\n",
       "total_discharges                          int64\n",
       "average_covered_charges                 float64\n",
       "average_medicare_payments               float64\n",
       "average_medicare_payments_2             float64\n",
       "dtype: object"
      ]
     },
     "execution_count": 226,
     "metadata": {},
     "output_type": "execute_result"
    }
   ],
   "source": [
    "# Verify that the Discharge column datatype has been made numeric\n",
    "# DataFrame['total_discharges'].dtype\n",
    "\n",
    "# Observe the updated DataTypes of each column\n",
    "DataFrame.dtypes"
   ]
  },
  {
   "cell_type": "code",
   "execution_count": 227,
   "metadata": {},
   "outputs": [
    {
     "data": {
      "text/plain": [
       "31334"
      ]
     },
     "execution_count": 227,
     "metadata": {},
     "output_type": "execute_result"
    }
   ],
   "source": [
    "# Calculate the Total Number of Discharges in the DataFrame\n",
    "Discharge_Count = (DataFrame[\"total_discharges\"].sum())\n",
    "Discharge_Count"
   ]
  },
  {
   "cell_type": "code",
   "execution_count": 228,
   "metadata": {},
   "outputs": [
    {
     "data": {
      "text/plain": [
       "30764.52741"
      ]
     },
     "execution_count": 228,
     "metadata": {},
     "output_type": "execute_result"
    }
   ],
   "source": [
    "# Cacluate the average covered charges amount\n",
    "Average_Covered_Charges = DataFrame[\"average_covered_charges\"].mean()\n",
    "Average_Covered_Charges"
   ]
  },
  {
   "cell_type": "code",
   "execution_count": 229,
   "metadata": {},
   "outputs": [
    {
     "data": {
      "text/plain": [
       "146892.0"
      ]
     },
     "execution_count": 229,
     "metadata": {},
     "output_type": "execute_result"
    }
   ],
   "source": [
    "# Cacluate the max covered charge amount\n",
    "Max_Covered_Charges = DataFrame[\"average_covered_charges\"].max()\n",
    "Max_Covered_Charges"
   ]
  },
  {
   "cell_type": "code",
   "execution_count": 230,
   "metadata": {},
   "outputs": [
    {
     "data": {
      "text/plain": [
       "5981.05"
      ]
     },
     "execution_count": 230,
     "metadata": {},
     "output_type": "execute_result"
    }
   ],
   "source": [
    "# Cacluate the min covered charge amount\n",
    "Min_Covered_Charges = DataFrame[\"average_covered_charges\"].min()\n",
    "Min_Covered_Charges"
   ]
  },
  {
   "cell_type": "code",
   "execution_count": 231,
   "metadata": {},
   "outputs": [
    {
     "data": {
      "text/html": [
       "<div>\n",
       "<style scoped>\n",
       "    .dataframe tbody tr th:only-of-type {\n",
       "        vertical-align: middle;\n",
       "    }\n",
       "\n",
       "    .dataframe tbody tr th {\n",
       "        vertical-align: top;\n",
       "    }\n",
       "\n",
       "    .dataframe thead th {\n",
       "        text-align: right;\n",
       "    }\n",
       "</style>\n",
       "<table border=\"1\" class=\"dataframe\">\n",
       "  <thead>\n",
       "    <tr style=\"text-align: right;\">\n",
       "      <th></th>\n",
       "      <th>Unique DRGs</th>\n",
       "      <th>Unique Providers</th>\n",
       "      <th>Unique Provider States</th>\n",
       "      <th>Unique Provider Zip Codes</th>\n",
       "      <th>Unique Regions</th>\n",
       "      <th>Total Discharge Count</th>\n",
       "      <th>Average Charge</th>\n",
       "      <th>Max Charge</th>\n",
       "      <th>Min Charge</th>\n",
       "    </tr>\n",
       "  </thead>\n",
       "  <tbody>\n",
       "    <tr>\n",
       "      <th>0</th>\n",
       "      <td>1</td>\n",
       "      <td>1000</td>\n",
       "      <td>47</td>\n",
       "      <td>957</td>\n",
       "      <td>282</td>\n",
       "      <td>31334</td>\n",
       "      <td>30764.52741</td>\n",
       "      <td>146892.0</td>\n",
       "      <td>5981.05</td>\n",
       "    </tr>\n",
       "  </tbody>\n",
       "</table>\n",
       "</div>"
      ],
      "text/plain": [
       "   Unique DRGs  Unique Providers  Unique Provider States  \\\n",
       "0            1              1000                      47   \n",
       "\n",
       "   Unique Provider Zip Codes  Unique Regions  Total Discharge Count  \\\n",
       "0                        957             282                  31334   \n",
       "\n",
       "   Average Charge  Max Charge  Min Charge  \n",
       "0     30764.52741    146892.0     5981.05  "
      ]
     },
     "execution_count": 231,
     "metadata": {},
     "output_type": "execute_result"
    }
   ],
   "source": [
    "# Create a summary data frame to hold the Analysis Results\n",
    "\n",
    "DRG_Analysis_df = pd.DataFrame([\n",
    "    {\"Unique DRGs\": Unique_DRGs, \n",
    "     \"Unique Providers\": Unique_Provider_count, \n",
    "     \"Unique Provider States\": Unique_State_Count, \n",
    "     \"Unique Provider Zip Codes\": Unique_Provider_ZipCode_Count, \n",
    "     \"Unique Regions\": Unique_Hospital_Referral_Region_count,\n",
    "     \"Total Discharge Count\": Discharge_Count,\n",
    "     \"Average Charge\": Average_Covered_Charges,\n",
    "     \"Max Charge\": Max_Covered_Charges,\n",
    "     \"Min Charge\": Min_Covered_Charges\n",
    "    }\n",
    "])\n",
    "DRG_Analysis_df"
   ]
  },
  {
   "cell_type": "code",
   "execution_count": 232,
   "metadata": {},
   "outputs": [
    {
     "data": {
      "text/html": [
       "<div>\n",
       "<style scoped>\n",
       "    .dataframe tbody tr th:only-of-type {\n",
       "        vertical-align: middle;\n",
       "    }\n",
       "\n",
       "    .dataframe tbody tr th {\n",
       "        vertical-align: top;\n",
       "    }\n",
       "\n",
       "    .dataframe thead th {\n",
       "        text-align: right;\n",
       "    }\n",
       "</style>\n",
       "<table border=\"1\" class=\"dataframe\">\n",
       "  <thead>\n",
       "    <tr style=\"text-align: right;\">\n",
       "      <th></th>\n",
       "      <th>Unique DRGs</th>\n",
       "      <th>Unique Providers</th>\n",
       "      <th>Unique Provider States</th>\n",
       "      <th>Unique Provider Zip Codes</th>\n",
       "      <th>Unique Regions</th>\n",
       "      <th>Total Discharge Count</th>\n",
       "      <th>Average Charge</th>\n",
       "      <th>Max Charge</th>\n",
       "      <th>Min Charge</th>\n",
       "    </tr>\n",
       "  </thead>\n",
       "  <tbody>\n",
       "    <tr>\n",
       "      <th>0</th>\n",
       "      <td>1</td>\n",
       "      <td>1000</td>\n",
       "      <td>47</td>\n",
       "      <td>957</td>\n",
       "      <td>282</td>\n",
       "      <td>31334</td>\n",
       "      <td>$30,764.53</td>\n",
       "      <td>$146,892.00</td>\n",
       "      <td>$5,981.05</td>\n",
       "    </tr>\n",
       "  </tbody>\n",
       "</table>\n",
       "</div>"
      ],
      "text/plain": [
       "   Unique DRGs  Unique Providers  Unique Provider States  \\\n",
       "0            1              1000                      47   \n",
       "\n",
       "   Unique Provider Zip Codes  Unique Regions  Total Discharge Count  \\\n",
       "0                        957             282                  31334   \n",
       "\n",
       "  Average Charge   Max Charge Min Charge  \n",
       "0     $30,764.53  $146,892.00  $5,981.05  "
      ]
     },
     "execution_count": 232,
     "metadata": {},
     "output_type": "execute_result"
    }
   ],
   "source": [
    "# Give the displayed data cleaner formatting\n",
    "\n",
    "DRG_Analysis_Formatted_df = DRG_Analysis_df\n",
    "\n",
    "DRG_Analysis_Formatted_df[\"Average Charge\"] = DRG_Analysis_df[\"Average Charge\"].map(\"${:,.2f}\".format)\n",
    "DRG_Analysis_Formatted_df[\"Max Charge\"] = DRG_Analysis_df[\"Max Charge\"].map(\"${:,.2f}\".format)\n",
    "DRG_Analysis_Formatted_df[\"Min Charge\"] = DRG_Analysis_df[\"Min Charge\"].map(\"${:,.2f}\".format)\n",
    "\n",
    "DRG_Analysis_Formatted_df"
   ]
  },
  {
   "cell_type": "code",
   "execution_count": 233,
   "metadata": {},
   "outputs": [
    {
     "data": {
      "text/html": [
       "<div>\n",
       "<style scoped>\n",
       "    .dataframe tbody tr th:only-of-type {\n",
       "        vertical-align: middle;\n",
       "    }\n",
       "\n",
       "    .dataframe tbody tr th {\n",
       "        vertical-align: top;\n",
       "    }\n",
       "\n",
       "    .dataframe thead th {\n",
       "        text-align: right;\n",
       "    }\n",
       "</style>\n",
       "<table border=\"1\" class=\"dataframe\">\n",
       "  <thead>\n",
       "    <tr style=\"text-align: right;\">\n",
       "      <th></th>\n",
       "      <th>drg_definition</th>\n",
       "      <th>provider_id</th>\n",
       "      <th>provider_name</th>\n",
       "      <th>provider_street_address</th>\n",
       "      <th>provider_city</th>\n",
       "      <th>provider_state</th>\n",
       "      <th>provider_zip_code</th>\n",
       "      <th>hospital_referral_region_description</th>\n",
       "      <th>total_discharges</th>\n",
       "      <th>average_covered_charges</th>\n",
       "      <th>average_medicare_payments</th>\n",
       "      <th>average_medicare_payments_2</th>\n",
       "    </tr>\n",
       "  </thead>\n",
       "  <tbody>\n",
       "    <tr>\n",
       "      <th>879</th>\n",
       "      <td>039 - EXTRACRANIAL PROCEDURES W/O CC/MCC</td>\n",
       "      <td>440002</td>\n",
       "      <td>JACKSON-MADISON COUNTY GENERAL HOSPITAL</td>\n",
       "      <td>620 SKYLINE DRIVE</td>\n",
       "      <td>JACKSON</td>\n",
       "      <td>TN</td>\n",
       "      <td>38301</td>\n",
       "      <td>TN - Jackson</td>\n",
       "      <td>44</td>\n",
       "      <td>19872.77</td>\n",
       "      <td>6355.88</td>\n",
       "      <td>4957.81</td>\n",
       "    </tr>\n",
       "    <tr>\n",
       "      <th>881</th>\n",
       "      <td>039 - EXTRACRANIAL PROCEDURES W/O CC/MCC</td>\n",
       "      <td>440006</td>\n",
       "      <td>SKYLINE MEDICAL CENTER</td>\n",
       "      <td>3441 DICKERSON PIKE</td>\n",
       "      <td>NASHVILLE</td>\n",
       "      <td>TN</td>\n",
       "      <td>37207</td>\n",
       "      <td>TN - Nashville</td>\n",
       "      <td>11</td>\n",
       "      <td>41660.09</td>\n",
       "      <td>6186.81</td>\n",
       "      <td>5266.45</td>\n",
       "    </tr>\n",
       "    <tr>\n",
       "      <th>882</th>\n",
       "      <td>039 - EXTRACRANIAL PROCEDURES W/O CC/MCC</td>\n",
       "      <td>440011</td>\n",
       "      <td>BLOUNT MEMORIAL HOSPITAL</td>\n",
       "      <td>907 E LAMAR ALEXANDER PARKWAY</td>\n",
       "      <td>MARYVILLE</td>\n",
       "      <td>TN</td>\n",
       "      <td>37804</td>\n",
       "      <td>TN - Knoxville</td>\n",
       "      <td>13</td>\n",
       "      <td>23726.38</td>\n",
       "      <td>5176.76</td>\n",
       "      <td>4318.30</td>\n",
       "    </tr>\n",
       "    <tr>\n",
       "      <th>883</th>\n",
       "      <td>039 - EXTRACRANIAL PROCEDURES W/O CC/MCC</td>\n",
       "      <td>440012</td>\n",
       "      <td>WELLMONT BRISTOL REGIONAL MEDICAL CENTER</td>\n",
       "      <td>ONE MEDICAL PARK BLVD</td>\n",
       "      <td>BRISTOL</td>\n",
       "      <td>TN</td>\n",
       "      <td>37620</td>\n",
       "      <td>TN - Kingsport</td>\n",
       "      <td>14</td>\n",
       "      <td>16276.78</td>\n",
       "      <td>5571.78</td>\n",
       "      <td>4603.78</td>\n",
       "    </tr>\n",
       "    <tr>\n",
       "      <th>884</th>\n",
       "      <td>039 - EXTRACRANIAL PROCEDURES W/O CC/MCC</td>\n",
       "      <td>440015</td>\n",
       "      <td>UNIVERSITY OF TN MEMORIAL HOSPITAL</td>\n",
       "      <td>1924 ALCOA HIGHWAY</td>\n",
       "      <td>KNOXVILLE</td>\n",
       "      <td>TN</td>\n",
       "      <td>37920</td>\n",
       "      <td>TN - Knoxville</td>\n",
       "      <td>41</td>\n",
       "      <td>19589.43</td>\n",
       "      <td>6720.24</td>\n",
       "      <td>5632.00</td>\n",
       "    </tr>\n",
       "  </tbody>\n",
       "</table>\n",
       "</div>"
      ],
      "text/plain": [
       "                               drg_definition provider_id  \\\n",
       "879  039 - EXTRACRANIAL PROCEDURES W/O CC/MCC      440002   \n",
       "881  039 - EXTRACRANIAL PROCEDURES W/O CC/MCC      440006   \n",
       "882  039 - EXTRACRANIAL PROCEDURES W/O CC/MCC      440011   \n",
       "883  039 - EXTRACRANIAL PROCEDURES W/O CC/MCC      440012   \n",
       "884  039 - EXTRACRANIAL PROCEDURES W/O CC/MCC      440015   \n",
       "\n",
       "                                provider_name        provider_street_address  \\\n",
       "879   JACKSON-MADISON COUNTY GENERAL HOSPITAL              620 SKYLINE DRIVE   \n",
       "881                    SKYLINE MEDICAL CENTER            3441 DICKERSON PIKE   \n",
       "882                  BLOUNT MEMORIAL HOSPITAL  907 E LAMAR ALEXANDER PARKWAY   \n",
       "883  WELLMONT BRISTOL REGIONAL MEDICAL CENTER          ONE MEDICAL PARK BLVD   \n",
       "884        UNIVERSITY OF TN MEMORIAL HOSPITAL             1924 ALCOA HIGHWAY   \n",
       "\n",
       "    provider_city provider_state provider_zip_code  \\\n",
       "879       JACKSON             TN             38301   \n",
       "881     NASHVILLE             TN             37207   \n",
       "882     MARYVILLE             TN             37804   \n",
       "883       BRISTOL             TN             37620   \n",
       "884     KNOXVILLE             TN             37920   \n",
       "\n",
       "    hospital_referral_region_description  total_discharges  \\\n",
       "879                         TN - Jackson                44   \n",
       "881                       TN - Nashville                11   \n",
       "882                       TN - Knoxville                13   \n",
       "883                       TN - Kingsport                14   \n",
       "884                       TN - Knoxville                41   \n",
       "\n",
       "     average_covered_charges  average_medicare_payments  \\\n",
       "879                 19872.77                    6355.88   \n",
       "881                 41660.09                    6186.81   \n",
       "882                 23726.38                    5176.76   \n",
       "883                 16276.78                    5571.78   \n",
       "884                 19589.43                    6720.24   \n",
       "\n",
       "     average_medicare_payments_2  \n",
       "879                      4957.81  \n",
       "881                      5266.45  \n",
       "882                      4318.30  \n",
       "883                      4603.78  \n",
       "884                      5632.00  "
      ]
     },
     "execution_count": 233,
     "metadata": {},
     "output_type": "execute_result"
    }
   ],
   "source": [
    "# Filter the data so that only TN data is in the dataframe\n",
    "\n",
    "DataFrame_TN = DataFrame.loc[DataFrame[\"provider_state\"] == \"TN\", :]\n",
    "\n",
    "DataFrame_TN.head()"
   ]
  },
  {
   "cell_type": "code",
   "execution_count": 234,
   "metadata": {},
   "outputs": [
    {
     "data": {
      "text/html": [
       "<div>\n",
       "<style scoped>\n",
       "    .dataframe tbody tr th:only-of-type {\n",
       "        vertical-align: middle;\n",
       "    }\n",
       "\n",
       "    .dataframe tbody tr th {\n",
       "        vertical-align: top;\n",
       "    }\n",
       "\n",
       "    .dataframe thead th {\n",
       "        text-align: right;\n",
       "    }\n",
       "</style>\n",
       "<table border=\"1\" class=\"dataframe\">\n",
       "  <thead>\n",
       "    <tr style=\"text-align: right;\">\n",
       "      <th></th>\n",
       "      <th>total_discharges</th>\n",
       "      <th>average_covered_charges</th>\n",
       "      <th>average_medicare_payments</th>\n",
       "      <th>average_medicare_payments_2</th>\n",
       "    </tr>\n",
       "  </thead>\n",
       "  <tbody>\n",
       "    <tr>\n",
       "      <th>count</th>\n",
       "      <td>32.000000</td>\n",
       "      <td>32.000000</td>\n",
       "      <td>32.000000</td>\n",
       "      <td>32.000000</td>\n",
       "    </tr>\n",
       "    <tr>\n",
       "      <th>mean</th>\n",
       "      <td>30.812500</td>\n",
       "      <td>26417.375313</td>\n",
       "      <td>6151.375313</td>\n",
       "      <td>4855.665938</td>\n",
       "    </tr>\n",
       "    <tr>\n",
       "      <th>std</th>\n",
       "      <td>20.526046</td>\n",
       "      <td>12412.186946</td>\n",
       "      <td>854.727324</td>\n",
       "      <td>602.435050</td>\n",
       "    </tr>\n",
       "    <tr>\n",
       "      <th>min</th>\n",
       "      <td>11.000000</td>\n",
       "      <td>10904.810000</td>\n",
       "      <td>5176.760000</td>\n",
       "      <td>3882.980000</td>\n",
       "    </tr>\n",
       "    <tr>\n",
       "      <th>25%</th>\n",
       "      <td>15.750000</td>\n",
       "      <td>18825.592500</td>\n",
       "      <td>5666.592500</td>\n",
       "      <td>4453.122500</td>\n",
       "    </tr>\n",
       "    <tr>\n",
       "      <th>50%</th>\n",
       "      <td>23.000000</td>\n",
       "      <td>23295.465000</td>\n",
       "      <td>6048.085000</td>\n",
       "      <td>4767.050000</td>\n",
       "    </tr>\n",
       "    <tr>\n",
       "      <th>75%</th>\n",
       "      <td>40.250000</td>\n",
       "      <td>34618.002500</td>\n",
       "      <td>6359.487500</td>\n",
       "      <td>5062.382500</td>\n",
       "    </tr>\n",
       "    <tr>\n",
       "      <th>max</th>\n",
       "      <td>92.000000</td>\n",
       "      <td>56329.570000</td>\n",
       "      <td>9329.140000</td>\n",
       "      <td>6471.170000</td>\n",
       "    </tr>\n",
       "  </tbody>\n",
       "</table>\n",
       "</div>"
      ],
      "text/plain": [
       "       total_discharges  average_covered_charges  average_medicare_payments  \\\n",
       "count         32.000000                32.000000                  32.000000   \n",
       "mean          30.812500             26417.375313                6151.375313   \n",
       "std           20.526046             12412.186946                 854.727324   \n",
       "min           11.000000             10904.810000                5176.760000   \n",
       "25%           15.750000             18825.592500                5666.592500   \n",
       "50%           23.000000             23295.465000                6048.085000   \n",
       "75%           40.250000             34618.002500                6359.487500   \n",
       "max           92.000000             56329.570000                9329.140000   \n",
       "\n",
       "       average_medicare_payments_2  \n",
       "count                    32.000000  \n",
       "mean                   4855.665938  \n",
       "std                     602.435050  \n",
       "min                    3882.980000  \n",
       "25%                    4453.122500  \n",
       "50%                    4767.050000  \n",
       "75%                    5062.382500  \n",
       "max                    6471.170000  "
      ]
     },
     "execution_count": 234,
     "metadata": {},
     "output_type": "execute_result"
    }
   ],
   "source": [
    "# Display a statistical overview of the TN DataFrame for reference\n",
    "\n",
    "DataFrame_TN.describe()"
   ]
  },
  {
   "cell_type": "code",
   "execution_count": 235,
   "metadata": {},
   "outputs": [
    {
     "data": {
      "text/plain": [
       "1"
      ]
     },
     "execution_count": 235,
     "metadata": {},
     "output_type": "execute_result"
    }
   ],
   "source": [
    "# Calculate the Number of Unique Diagnosis Related Groups (DRGs): \n",
    "Unique_DRGs_TN = len(DataFrame_TN[\"drg_definition\"].unique())\n",
    "Unique_DRGs_TN\n",
    "\n",
    "\n",
    "\n"
   ]
  },
  {
   "cell_type": "code",
   "execution_count": 236,
   "metadata": {},
   "outputs": [
    {
     "data": {
      "text/plain": [
       "32"
      ]
     },
     "execution_count": 236,
     "metadata": {},
     "output_type": "execute_result"
    }
   ],
   "source": [
    "# Calculate the Number of Unique Providers in TN: \n",
    "Unique_Provider_count_TN = len(DataFrame_TN[\"provider_id\"].unique())\n",
    "Unique_Provider_count_TN\n",
    "\n"
   ]
  },
  {
   "cell_type": "code",
   "execution_count": 237,
   "metadata": {},
   "outputs": [
    {
     "data": {
      "text/plain": [
       "7"
      ]
     },
     "execution_count": 237,
     "metadata": {},
     "output_type": "execute_result"
    }
   ],
   "source": [
    "# Calculate the Unique Number of hospital_referral_region_description in TN \n",
    "Unique_Hospital_Referral_Region_count_TN = len(DataFrame_TN[\"hospital_referral_region_description\"].unique())\n",
    "Unique_Hospital_Referral_Region_count_TN\n"
   ]
  },
  {
   "cell_type": "code",
   "execution_count": 238,
   "metadata": {},
   "outputs": [
    {
     "data": {
      "text/plain": [
       "986"
      ]
     },
     "execution_count": 238,
     "metadata": {},
     "output_type": "execute_result"
    }
   ],
   "source": [
    "# Calculate the Total Number of Discharges in TN \n",
    "Discharge_Count_TN = (DataFrame_TN[\"total_discharges\"].sum())\n",
    "Discharge_Count_TN\n"
   ]
  },
  {
   "cell_type": "code",
   "execution_count": 239,
   "metadata": {},
   "outputs": [
    {
     "data": {
      "text/plain": [
       "26417.3753125"
      ]
     },
     "execution_count": 239,
     "metadata": {},
     "output_type": "execute_result"
    }
   ],
   "source": [
    "# Cacluate the average covered charges amount in TN\n",
    "Average_Covered_Charges_TN = DataFrame_TN[\"average_covered_charges\"].mean()\n",
    "Average_Covered_Charges_TN\n"
   ]
  },
  {
   "cell_type": "code",
   "execution_count": 240,
   "metadata": {},
   "outputs": [
    {
     "data": {
      "text/plain": [
       "56329.57"
      ]
     },
     "execution_count": 240,
     "metadata": {},
     "output_type": "execute_result"
    }
   ],
   "source": [
    "# Cacluate the max covered charge amount in TN\n",
    "Max_Covered_Charges_TN = DataFrame_TN[\"average_covered_charges\"].max()\n",
    "Max_Covered_Charges_TN\n"
   ]
  },
  {
   "cell_type": "code",
   "execution_count": 241,
   "metadata": {},
   "outputs": [
    {
     "data": {
      "text/plain": [
       "10904.81"
      ]
     },
     "execution_count": 241,
     "metadata": {},
     "output_type": "execute_result"
    }
   ],
   "source": [
    "# Cacluate the min covered charge amount in TN\n",
    "Min_Covered_Charges_TN = DataFrame_TN[\"average_covered_charges\"].min()\n",
    "Min_Covered_Charges_TN\n"
   ]
  },
  {
   "cell_type": "code",
   "execution_count": 242,
   "metadata": {},
   "outputs": [
    {
     "data": {
      "text/plain": [
       "31"
      ]
     },
     "execution_count": 242,
     "metadata": {},
     "output_type": "execute_result"
    }
   ],
   "source": [
    "# Calculate the Total Number of Unique Provider Zip Codes in TN \n",
    "Unique_Provider_ZipCode_Count_TN = len(DataFrame_TN[\"provider_zip_code\"].unique())\n",
    "Unique_Provider_ZipCode_Count_TN\n"
   ]
  },
  {
   "cell_type": "code",
   "execution_count": 243,
   "metadata": {},
   "outputs": [
    {
     "data": {
      "text/html": [
       "<div>\n",
       "<style scoped>\n",
       "    .dataframe tbody tr th:only-of-type {\n",
       "        vertical-align: middle;\n",
       "    }\n",
       "\n",
       "    .dataframe tbody tr th {\n",
       "        vertical-align: top;\n",
       "    }\n",
       "\n",
       "    .dataframe thead th {\n",
       "        text-align: right;\n",
       "    }\n",
       "</style>\n",
       "<table border=\"1\" class=\"dataframe\">\n",
       "  <thead>\n",
       "    <tr style=\"text-align: right;\">\n",
       "      <th></th>\n",
       "      <th>Unique DRGs in TN</th>\n",
       "      <th>Unique Providers in TN</th>\n",
       "      <th>Unique Provider Zip Codes in TN</th>\n",
       "      <th>Unique Regions in TN</th>\n",
       "      <th>Total Discharge Count in TN</th>\n",
       "      <th>Average Charge in TN</th>\n",
       "      <th>Max Charge in TN</th>\n",
       "      <th>Min Charge in TN</th>\n",
       "    </tr>\n",
       "  </thead>\n",
       "  <tbody>\n",
       "    <tr>\n",
       "      <th>0</th>\n",
       "      <td>1</td>\n",
       "      <td>32</td>\n",
       "      <td>31</td>\n",
       "      <td>7</td>\n",
       "      <td>986</td>\n",
       "      <td>26417.375313</td>\n",
       "      <td>56329.57</td>\n",
       "      <td>10904.81</td>\n",
       "    </tr>\n",
       "  </tbody>\n",
       "</table>\n",
       "</div>"
      ],
      "text/plain": [
       "   Unique DRGs in TN  Unique Providers in TN  Unique Provider Zip Codes in TN  \\\n",
       "0                  1                      32                               31   \n",
       "\n",
       "   Unique Regions in TN  Total Discharge Count in TN  Average Charge in TN  \\\n",
       "0                     7                          986          26417.375313   \n",
       "\n",
       "   Max Charge in TN  Min Charge in TN  \n",
       "0          56329.57          10904.81  "
      ]
     },
     "execution_count": 243,
     "metadata": {},
     "output_type": "execute_result"
    }
   ],
   "source": [
    "# Create a summary data frame to hold the DRG Analysis Results for TN\n",
    "\n",
    "DRG_Analysis_df_TN = pd.DataFrame([\n",
    "    {\"Unique DRGs in TN\": Unique_DRGs_TN, \n",
    "     \"Unique Providers in TN\": Unique_Provider_count_TN, \n",
    "     \"Unique Provider Zip Codes in TN\": Unique_Provider_ZipCode_Count_TN, \n",
    "     \"Unique Regions in TN\": Unique_Hospital_Referral_Region_count_TN,\n",
    "     \"Total Discharge Count in TN\": Discharge_Count_TN,\n",
    "     \"Average Charge in TN\": Average_Covered_Charges_TN,\n",
    "     \"Max Charge in TN\": Max_Covered_Charges_TN,\n",
    "     \"Min Charge in TN\": Min_Covered_Charges_TN\n",
    "    }\n",
    "])\n",
    "DRG_Analysis_df_TN\n",
    "\n"
   ]
  },
  {
   "cell_type": "code",
   "execution_count": 244,
   "metadata": {},
   "outputs": [
    {
     "data": {
      "text/html": [
       "<div>\n",
       "<style scoped>\n",
       "    .dataframe tbody tr th:only-of-type {\n",
       "        vertical-align: middle;\n",
       "    }\n",
       "\n",
       "    .dataframe tbody tr th {\n",
       "        vertical-align: top;\n",
       "    }\n",
       "\n",
       "    .dataframe thead th {\n",
       "        text-align: right;\n",
       "    }\n",
       "</style>\n",
       "<table border=\"1\" class=\"dataframe\">\n",
       "  <thead>\n",
       "    <tr style=\"text-align: right;\">\n",
       "      <th></th>\n",
       "      <th>Unique DRGs in TN</th>\n",
       "      <th>Unique Providers in TN</th>\n",
       "      <th>Unique Provider Zip Codes in TN</th>\n",
       "      <th>Unique Regions in TN</th>\n",
       "      <th>Total Discharge Count in TN</th>\n",
       "      <th>Average Charge in TN</th>\n",
       "      <th>Max Charge in TN</th>\n",
       "      <th>Min Charge in TN</th>\n",
       "    </tr>\n",
       "  </thead>\n",
       "  <tbody>\n",
       "    <tr>\n",
       "      <th>0</th>\n",
       "      <td>1</td>\n",
       "      <td>32</td>\n",
       "      <td>31</td>\n",
       "      <td>7</td>\n",
       "      <td>986</td>\n",
       "      <td>$26,417.38</td>\n",
       "      <td>$56,329.57</td>\n",
       "      <td>$10,904.81</td>\n",
       "    </tr>\n",
       "  </tbody>\n",
       "</table>\n",
       "</div>"
      ],
      "text/plain": [
       "   Unique DRGs in TN  Unique Providers in TN  Unique Provider Zip Codes in TN  \\\n",
       "0                  1                      32                               31   \n",
       "\n",
       "   Unique Regions in TN  Total Discharge Count in TN Average Charge in TN  \\\n",
       "0                     7                          986           $26,417.38   \n",
       "\n",
       "  Max Charge in TN Min Charge in TN  \n",
       "0       $56,329.57       $10,904.81  "
      ]
     },
     "execution_count": 244,
     "metadata": {},
     "output_type": "execute_result"
    }
   ],
   "source": [
    "# Give the displayed data cleaner formatting\n",
    "\n",
    "DRG_Analysis_Formatted_df_TN = DRG_Analysis_df_TN\n",
    "\n",
    "DRG_Analysis_Formatted_df_TN[\"Average Charge in TN\"] = DRG_Analysis_df_TN[\"Average Charge in TN\"].map(\"${:,.2f}\".format)\n",
    "DRG_Analysis_Formatted_df_TN[\"Max Charge in TN\"] = DRG_Analysis_df_TN[\"Max Charge in TN\"].map(\"${:,.2f}\".format)\n",
    "DRG_Analysis_Formatted_df_TN[\"Min Charge in TN\"] = DRG_Analysis_df_TN[\"Min Charge in TN\"].map(\"${:,.2f}\".format)\n",
    "\n",
    "DRG_Analysis_Formatted_df_TN\n"
   ]
  },
  {
   "cell_type": "code",
   "execution_count": 245,
   "metadata": {},
   "outputs": [
    {
     "data": {
      "text/html": [
       "<div>\n",
       "<style scoped>\n",
       "    .dataframe tbody tr th:only-of-type {\n",
       "        vertical-align: middle;\n",
       "    }\n",
       "\n",
       "    .dataframe tbody tr th {\n",
       "        vertical-align: top;\n",
       "    }\n",
       "\n",
       "    .dataframe thead th {\n",
       "        text-align: right;\n",
       "    }\n",
       "</style>\n",
       "<table border=\"1\" class=\"dataframe\">\n",
       "  <thead>\n",
       "    <tr style=\"text-align: right;\">\n",
       "      <th></th>\n",
       "      <th>Unique DRGs in TN</th>\n",
       "      <th>Unique Providers in TN</th>\n",
       "      <th>Unique Provider Zip Codes in TN</th>\n",
       "      <th>Unique Regions in TN</th>\n",
       "      <th>Total Discharge Count in TN</th>\n",
       "      <th>Average Charge in TN</th>\n",
       "      <th>Max Charge in TN</th>\n",
       "      <th>Min Charge in TN</th>\n",
       "    </tr>\n",
       "  </thead>\n",
       "  <tbody>\n",
       "    <tr>\n",
       "      <th>0</th>\n",
       "      <td>1</td>\n",
       "      <td>32</td>\n",
       "      <td>31</td>\n",
       "      <td>7</td>\n",
       "      <td>986</td>\n",
       "      <td>$26,417.38</td>\n",
       "      <td>$56,329.57</td>\n",
       "      <td>$10,904.81</td>\n",
       "    </tr>\n",
       "  </tbody>\n",
       "</table>\n",
       "</div>"
      ],
      "text/plain": [
       "   Unique DRGs in TN  Unique Providers in TN  Unique Provider Zip Codes in TN  \\\n",
       "0                  1                      32                               31   \n",
       "\n",
       "   Unique Regions in TN  Total Discharge Count in TN Average Charge in TN  \\\n",
       "0                     7                          986           $26,417.38   \n",
       "\n",
       "  Max Charge in TN Min Charge in TN  \n",
       "0       $56,329.57       $10,904.81  "
      ]
     },
     "execution_count": 245,
     "metadata": {},
     "output_type": "execute_result"
    }
   ],
   "source": [
    "# This is a test\n",
    "\n",
    "DRG_Analysis_Formatted_df_TN.head()"
   ]
  },
  {
   "cell_type": "code",
   "execution_count": 246,
   "metadata": {},
   "outputs": [
    {
     "data": {
      "text/html": [
       "<div>\n",
       "<style scoped>\n",
       "    .dataframe tbody tr th:only-of-type {\n",
       "        vertical-align: middle;\n",
       "    }\n",
       "\n",
       "    .dataframe tbody tr th {\n",
       "        vertical-align: top;\n",
       "    }\n",
       "\n",
       "    .dataframe thead th {\n",
       "        text-align: right;\n",
       "    }\n",
       "</style>\n",
       "<table border=\"1\" class=\"dataframe\">\n",
       "  <thead>\n",
       "    <tr style=\"text-align: right;\">\n",
       "      <th></th>\n",
       "      <th>drg_definition</th>\n",
       "      <th>provider_id</th>\n",
       "      <th>provider_name</th>\n",
       "      <th>provider_street_address</th>\n",
       "      <th>provider_city</th>\n",
       "      <th>provider_state</th>\n",
       "      <th>provider_zip_code</th>\n",
       "      <th>hospital_referral_region_description</th>\n",
       "      <th>total_discharges</th>\n",
       "      <th>average_covered_charges</th>\n",
       "      <th>average_medicare_payments</th>\n",
       "      <th>average_medicare_payments_2</th>\n",
       "    </tr>\n",
       "  </thead>\n",
       "  <tbody>\n",
       "    <tr>\n",
       "      <th>401</th>\n",
       "      <td>039 - EXTRACRANIAL PROCEDURES W/O CC/MCC</td>\n",
       "      <td>180013</td>\n",
       "      <td>THE MEDICAL CENTER AT BOWLING GREEN</td>\n",
       "      <td>250 PARK STREET</td>\n",
       "      <td>BOWLING GREEN</td>\n",
       "      <td>KY</td>\n",
       "      <td>42101</td>\n",
       "      <td>TN - Nashville</td>\n",
       "      <td>65</td>\n",
       "      <td>18149.16</td>\n",
       "      <td>6416.32</td>\n",
       "      <td>5282.30</td>\n",
       "    </tr>\n",
       "    <tr>\n",
       "      <th>408</th>\n",
       "      <td>039 - EXTRACRANIAL PROCEDURES W/O CC/MCC</td>\n",
       "      <td>180051</td>\n",
       "      <td>JENNIE STUART MEDICAL CENTER</td>\n",
       "      <td>320 WEST 18TH STREET</td>\n",
       "      <td>HOPKINSVILLE</td>\n",
       "      <td>KY</td>\n",
       "      <td>42240</td>\n",
       "      <td>TN - Nashville</td>\n",
       "      <td>14</td>\n",
       "      <td>15505.00</td>\n",
       "      <td>5833.35</td>\n",
       "      <td>4955.35</td>\n",
       "    </tr>\n",
       "    <tr>\n",
       "      <th>881</th>\n",
       "      <td>039 - EXTRACRANIAL PROCEDURES W/O CC/MCC</td>\n",
       "      <td>440006</td>\n",
       "      <td>SKYLINE MEDICAL CENTER</td>\n",
       "      <td>3441 DICKERSON PIKE</td>\n",
       "      <td>NASHVILLE</td>\n",
       "      <td>TN</td>\n",
       "      <td>37207</td>\n",
       "      <td>TN - Nashville</td>\n",
       "      <td>11</td>\n",
       "      <td>41660.09</td>\n",
       "      <td>6186.81</td>\n",
       "      <td>5266.45</td>\n",
       "    </tr>\n",
       "    <tr>\n",
       "      <th>886</th>\n",
       "      <td>039 - EXTRACRANIAL PROCEDURES W/O CC/MCC</td>\n",
       "      <td>440029</td>\n",
       "      <td>WILLIAMSON MEDICAL CENTER</td>\n",
       "      <td>4321 CAROTHERS PARKWAY</td>\n",
       "      <td>FRANKLIN</td>\n",
       "      <td>TN</td>\n",
       "      <td>37067</td>\n",
       "      <td>TN - Nashville</td>\n",
       "      <td>23</td>\n",
       "      <td>20155.47</td>\n",
       "      <td>5723.65</td>\n",
       "      <td>4303.86</td>\n",
       "    </tr>\n",
       "    <tr>\n",
       "      <th>889</th>\n",
       "      <td>039 - EXTRACRANIAL PROCEDURES W/O CC/MCC</td>\n",
       "      <td>440035</td>\n",
       "      <td>GATEWAY MEDICAL CENTER</td>\n",
       "      <td>651 DUNLOP LANE</td>\n",
       "      <td>CLARKSVILLE</td>\n",
       "      <td>TN</td>\n",
       "      <td>37040</td>\n",
       "      <td>TN - Nashville</td>\n",
       "      <td>20</td>\n",
       "      <td>27194.25</td>\n",
       "      <td>6021.85</td>\n",
       "      <td>4833.30</td>\n",
       "    </tr>\n",
       "  </tbody>\n",
       "</table>\n",
       "</div>"
      ],
      "text/plain": [
       "                               drg_definition provider_id  \\\n",
       "401  039 - EXTRACRANIAL PROCEDURES W/O CC/MCC      180013   \n",
       "408  039 - EXTRACRANIAL PROCEDURES W/O CC/MCC      180051   \n",
       "881  039 - EXTRACRANIAL PROCEDURES W/O CC/MCC      440006   \n",
       "886  039 - EXTRACRANIAL PROCEDURES W/O CC/MCC      440029   \n",
       "889  039 - EXTRACRANIAL PROCEDURES W/O CC/MCC      440035   \n",
       "\n",
       "                           provider_name provider_street_address  \\\n",
       "401  THE MEDICAL CENTER AT BOWLING GREEN         250 PARK STREET   \n",
       "408         JENNIE STUART MEDICAL CENTER    320 WEST 18TH STREET   \n",
       "881               SKYLINE MEDICAL CENTER     3441 DICKERSON PIKE   \n",
       "886            WILLIAMSON MEDICAL CENTER  4321 CAROTHERS PARKWAY   \n",
       "889               GATEWAY MEDICAL CENTER         651 DUNLOP LANE   \n",
       "\n",
       "     provider_city provider_state provider_zip_code  \\\n",
       "401  BOWLING GREEN             KY             42101   \n",
       "408   HOPKINSVILLE             KY             42240   \n",
       "881      NASHVILLE             TN             37207   \n",
       "886       FRANKLIN             TN             37067   \n",
       "889    CLARKSVILLE             TN             37040   \n",
       "\n",
       "    hospital_referral_region_description  total_discharges  \\\n",
       "401                       TN - Nashville                65   \n",
       "408                       TN - Nashville                14   \n",
       "881                       TN - Nashville                11   \n",
       "886                       TN - Nashville                23   \n",
       "889                       TN - Nashville                20   \n",
       "\n",
       "     average_covered_charges  average_medicare_payments  \\\n",
       "401                 18149.16                    6416.32   \n",
       "408                 15505.00                    5833.35   \n",
       "881                 41660.09                    6186.81   \n",
       "886                 20155.47                    5723.65   \n",
       "889                 27194.25                    6021.85   \n",
       "\n",
       "     average_medicare_payments_2  \n",
       "401                      5282.30  \n",
       "408                      4955.35  \n",
       "881                      5266.45  \n",
       "886                      4303.86  \n",
       "889                      4833.30  "
      ]
     },
     "execution_count": 246,
     "metadata": {},
     "output_type": "execute_result"
    }
   ],
   "source": [
    "# Filter the data so that only TN - Nashville data is in the dataframe\n",
    "\n",
    "DataFrame_TN_Nashville = DataFrame.loc[DataFrame[\"hospital_referral_region_description\"] == \"TN - Nashville\", :]\n",
    "\n",
    "DataFrame_TN_Nashville.head()"
   ]
  },
  {
   "cell_type": "code",
   "execution_count": 247,
   "metadata": {},
   "outputs": [
    {
     "data": {
      "text/html": [
       "<div>\n",
       "<style scoped>\n",
       "    .dataframe tbody tr th:only-of-type {\n",
       "        vertical-align: middle;\n",
       "    }\n",
       "\n",
       "    .dataframe tbody tr th {\n",
       "        vertical-align: top;\n",
       "    }\n",
       "\n",
       "    .dataframe thead th {\n",
       "        text-align: right;\n",
       "    }\n",
       "</style>\n",
       "<table border=\"1\" class=\"dataframe\">\n",
       "  <thead>\n",
       "    <tr style=\"text-align: right;\">\n",
       "      <th></th>\n",
       "      <th>total_discharges</th>\n",
       "      <th>average_covered_charges</th>\n",
       "      <th>average_medicare_payments</th>\n",
       "      <th>average_medicare_payments_2</th>\n",
       "    </tr>\n",
       "  </thead>\n",
       "  <tbody>\n",
       "    <tr>\n",
       "      <th>count</th>\n",
       "      <td>16.000000</td>\n",
       "      <td>16.000000</td>\n",
       "      <td>16.000000</td>\n",
       "      <td>16.000000</td>\n",
       "    </tr>\n",
       "    <tr>\n",
       "      <th>mean</th>\n",
       "      <td>27.937500</td>\n",
       "      <td>28433.611875</td>\n",
       "      <td>6318.749375</td>\n",
       "      <td>4983.566875</td>\n",
       "    </tr>\n",
       "    <tr>\n",
       "      <th>std</th>\n",
       "      <td>18.634981</td>\n",
       "      <td>12633.136455</td>\n",
       "      <td>849.651244</td>\n",
       "      <td>522.797141</td>\n",
       "    </tr>\n",
       "    <tr>\n",
       "      <th>min</th>\n",
       "      <td>11.000000</td>\n",
       "      <td>12781.980000</td>\n",
       "      <td>5684.750000</td>\n",
       "      <td>4303.860000</td>\n",
       "    </tr>\n",
       "    <tr>\n",
       "      <th>25%</th>\n",
       "      <td>17.000000</td>\n",
       "      <td>17745.390000</td>\n",
       "      <td>5974.725000</td>\n",
       "      <td>4705.887500</td>\n",
       "    </tr>\n",
       "    <tr>\n",
       "      <th>50%</th>\n",
       "      <td>22.500000</td>\n",
       "      <td>26372.940000</td>\n",
       "      <td>6127.570000</td>\n",
       "      <td>4926.315000</td>\n",
       "    </tr>\n",
       "    <tr>\n",
       "      <th>75%</th>\n",
       "      <td>28.000000</td>\n",
       "      <td>35358.657500</td>\n",
       "      <td>6365.297500</td>\n",
       "      <td>5178.587500</td>\n",
       "    </tr>\n",
       "    <tr>\n",
       "      <th>max</th>\n",
       "      <td>74.000000</td>\n",
       "      <td>56329.570000</td>\n",
       "      <td>9329.140000</td>\n",
       "      <td>6471.170000</td>\n",
       "    </tr>\n",
       "  </tbody>\n",
       "</table>\n",
       "</div>"
      ],
      "text/plain": [
       "       total_discharges  average_covered_charges  average_medicare_payments  \\\n",
       "count         16.000000                16.000000                  16.000000   \n",
       "mean          27.937500             28433.611875                6318.749375   \n",
       "std           18.634981             12633.136455                 849.651244   \n",
       "min           11.000000             12781.980000                5684.750000   \n",
       "25%           17.000000             17745.390000                5974.725000   \n",
       "50%           22.500000             26372.940000                6127.570000   \n",
       "75%           28.000000             35358.657500                6365.297500   \n",
       "max           74.000000             56329.570000                9329.140000   \n",
       "\n",
       "       average_medicare_payments_2  \n",
       "count                    16.000000  \n",
       "mean                   4983.566875  \n",
       "std                     522.797141  \n",
       "min                    4303.860000  \n",
       "25%                    4705.887500  \n",
       "50%                    4926.315000  \n",
       "75%                    5178.587500  \n",
       "max                    6471.170000  "
      ]
     },
     "execution_count": 247,
     "metadata": {},
     "output_type": "execute_result"
    }
   ],
   "source": [
    "# Display a statistical overview of the TN - Nashville DataFrame for reference\n",
    "\n",
    "DataFrame_TN_Nashville.describe()"
   ]
  },
  {
   "cell_type": "code",
   "execution_count": 248,
   "metadata": {},
   "outputs": [
    {
     "data": {
      "text/plain": [
       "1"
      ]
     },
     "execution_count": 248,
     "metadata": {},
     "output_type": "execute_result"
    }
   ],
   "source": [
    "# Calculate the Number of Unique Diagnosis Related Groups (DRGs) in TN - Nashville\n",
    "Unique_DRGs_TN_Nashville = len(DataFrame_TN_Nashville[\"drg_definition\"].unique())\n",
    "Unique_DRGs_TN_Nashville"
   ]
  },
  {
   "cell_type": "code",
   "execution_count": 249,
   "metadata": {},
   "outputs": [
    {
     "data": {
      "text/plain": [
       "16"
      ]
     },
     "execution_count": 249,
     "metadata": {},
     "output_type": "execute_result"
    }
   ],
   "source": [
    "# Calculate the Number of Unique Providers in TN - Nashville\n",
    "Unique_Provider_count_TN_Nashville = len(DataFrame_TN_Nashville[\"provider_id\"].unique())\n",
    "Unique_Provider_count_TN_Nashville"
   ]
  },
  {
   "cell_type": "code",
   "execution_count": 250,
   "metadata": {},
   "outputs": [
    {
     "data": {
      "text/plain": [
       "447"
      ]
     },
     "execution_count": 250,
     "metadata": {},
     "output_type": "execute_result"
    }
   ],
   "source": [
    "# Calculate the Total Number of Discharges in TN - Nashville\n",
    "Discharge_Count_TN_Nashville = (DataFrame_TN_Nashville[\"total_discharges\"].sum())\n",
    "Discharge_Count_TN_Nashville"
   ]
  },
  {
   "cell_type": "code",
   "execution_count": 251,
   "metadata": {},
   "outputs": [
    {
     "data": {
      "text/plain": [
       "28433.611875000002"
      ]
     },
     "execution_count": 251,
     "metadata": {},
     "output_type": "execute_result"
    }
   ],
   "source": [
    "# Cacluate the average covered charges amount in TN - Nashville\n",
    "Average_Covered_Charges_TN_Nashville = DataFrame_TN_Nashville[\"average_covered_charges\"].mean()\n",
    "Average_Covered_Charges_TN_Nashville"
   ]
  },
  {
   "cell_type": "code",
   "execution_count": 252,
   "metadata": {},
   "outputs": [
    {
     "data": {
      "text/plain": [
       "56329.57"
      ]
     },
     "execution_count": 252,
     "metadata": {},
     "output_type": "execute_result"
    }
   ],
   "source": [
    "# Cacluate the max covered charge amount in TN - Nashville\n",
    "Max_Covered_Charges_TN_Nashville = DataFrame_TN_Nashville[\"average_covered_charges\"].max()\n",
    "Max_Covered_Charges_TN_Nashville"
   ]
  },
  {
   "cell_type": "code",
   "execution_count": 253,
   "metadata": {},
   "outputs": [
    {
     "data": {
      "text/plain": [
       "12781.98"
      ]
     },
     "execution_count": 253,
     "metadata": {},
     "output_type": "execute_result"
    }
   ],
   "source": [
    "# Cacluate the min covered charge amount in TN - Nashville\n",
    "Min_Covered_Charges_TN_Nashville = DataFrame_TN_Nashville[\"average_covered_charges\"].min()\n",
    "Min_Covered_Charges_TN_Nashville"
   ]
  },
  {
   "cell_type": "code",
   "execution_count": 254,
   "metadata": {},
   "outputs": [
    {
     "data": {
      "text/plain": [
       "16"
      ]
     },
     "execution_count": 254,
     "metadata": {},
     "output_type": "execute_result"
    }
   ],
   "source": [
    "# Calculate the Total Number of Unique Provider Zip Codes in TN - Nashville\n",
    "Unique_Provider_ZipCode_Count_TN_Nashville = len(DataFrame_TN_Nashville[\"provider_zip_code\"].unique())\n",
    "Unique_Provider_ZipCode_Count_TN_Nashville"
   ]
  },
  {
   "cell_type": "code",
   "execution_count": 255,
   "metadata": {},
   "outputs": [
    {
     "data": {
      "text/html": [
       "<div>\n",
       "<style scoped>\n",
       "    .dataframe tbody tr th:only-of-type {\n",
       "        vertical-align: middle;\n",
       "    }\n",
       "\n",
       "    .dataframe tbody tr th {\n",
       "        vertical-align: top;\n",
       "    }\n",
       "\n",
       "    .dataframe thead th {\n",
       "        text-align: right;\n",
       "    }\n",
       "</style>\n",
       "<table border=\"1\" class=\"dataframe\">\n",
       "  <thead>\n",
       "    <tr style=\"text-align: right;\">\n",
       "      <th></th>\n",
       "      <th>Unique DRGs in Nashville</th>\n",
       "      <th>Unique Providers in Nashville</th>\n",
       "      <th>Unique Provider Zip Codes in Nashville</th>\n",
       "      <th>Total Discharge Count in Nashville</th>\n",
       "      <th>Average Charge in Nashville</th>\n",
       "      <th>Max Charge in Nashville</th>\n",
       "      <th>Min Charge in Nashville</th>\n",
       "    </tr>\n",
       "  </thead>\n",
       "  <tbody>\n",
       "    <tr>\n",
       "      <th>0</th>\n",
       "      <td>1</td>\n",
       "      <td>16</td>\n",
       "      <td>16</td>\n",
       "      <td>447</td>\n",
       "      <td>28433.611875</td>\n",
       "      <td>56329.57</td>\n",
       "      <td>12781.98</td>\n",
       "    </tr>\n",
       "  </tbody>\n",
       "</table>\n",
       "</div>"
      ],
      "text/plain": [
       "   Unique DRGs in Nashville  Unique Providers in Nashville  \\\n",
       "0                         1                             16   \n",
       "\n",
       "   Unique Provider Zip Codes in Nashville  Total Discharge Count in Nashville  \\\n",
       "0                                      16                                 447   \n",
       "\n",
       "   Average Charge in Nashville  Max Charge in Nashville  \\\n",
       "0                 28433.611875                 56329.57   \n",
       "\n",
       "   Min Charge in Nashville  \n",
       "0                 12781.98  "
      ]
     },
     "execution_count": 255,
     "metadata": {},
     "output_type": "execute_result"
    }
   ],
   "source": [
    "# Create a summary data frame to hold the DRG Analysis Results for TN - Nashville\n",
    "\n",
    "DRG_Analysis_df_TN_Nashville = pd.DataFrame([\n",
    "    {\"Unique DRGs in Nashville\": Unique_DRGs_TN_Nashville, \n",
    "     \"Unique Providers in Nashville\": Unique_Provider_count_TN_Nashville, \n",
    "     \"Unique Provider Zip Codes in Nashville\": Unique_Provider_ZipCode_Count_TN_Nashville, \n",
    "     \"Total Discharge Count in Nashville\": Discharge_Count_TN_Nashville,\n",
    "     \"Average Charge in Nashville\": Average_Covered_Charges_TN_Nashville,\n",
    "     \"Max Charge in Nashville\": Max_Covered_Charges_TN_Nashville,\n",
    "     \"Min Charge in Nashville\": Min_Covered_Charges_TN_Nashville\n",
    "    }\n",
    "])\n",
    "DRG_Analysis_df_TN_Nashville"
   ]
  },
  {
   "cell_type": "code",
   "execution_count": 256,
   "metadata": {},
   "outputs": [
    {
     "data": {
      "text/html": [
       "<div>\n",
       "<style scoped>\n",
       "    .dataframe tbody tr th:only-of-type {\n",
       "        vertical-align: middle;\n",
       "    }\n",
       "\n",
       "    .dataframe tbody tr th {\n",
       "        vertical-align: top;\n",
       "    }\n",
       "\n",
       "    .dataframe thead th {\n",
       "        text-align: right;\n",
       "    }\n",
       "</style>\n",
       "<table border=\"1\" class=\"dataframe\">\n",
       "  <thead>\n",
       "    <tr style=\"text-align: right;\">\n",
       "      <th></th>\n",
       "      <th>Unique DRGs in Nashville</th>\n",
       "      <th>Unique Providers in Nashville</th>\n",
       "      <th>Unique Provider Zip Codes in Nashville</th>\n",
       "      <th>Total Discharge Count in Nashville</th>\n",
       "      <th>Average Charge in Nashville</th>\n",
       "      <th>Max Charge in Nashville</th>\n",
       "      <th>Min Charge in Nashville</th>\n",
       "    </tr>\n",
       "  </thead>\n",
       "  <tbody>\n",
       "    <tr>\n",
       "      <th>0</th>\n",
       "      <td>1</td>\n",
       "      <td>16</td>\n",
       "      <td>16</td>\n",
       "      <td>447</td>\n",
       "      <td>$28,433.61</td>\n",
       "      <td>$56,329.57</td>\n",
       "      <td>$12,781.98</td>\n",
       "    </tr>\n",
       "  </tbody>\n",
       "</table>\n",
       "</div>"
      ],
      "text/plain": [
       "   Unique DRGs in Nashville  Unique Providers in Nashville  \\\n",
       "0                         1                             16   \n",
       "\n",
       "   Unique Provider Zip Codes in Nashville  Total Discharge Count in Nashville  \\\n",
       "0                                      16                                 447   \n",
       "\n",
       "  Average Charge in Nashville Max Charge in Nashville Min Charge in Nashville  \n",
       "0                  $28,433.61              $56,329.57              $12,781.98  "
      ]
     },
     "execution_count": 256,
     "metadata": {},
     "output_type": "execute_result"
    }
   ],
   "source": [
    "# Give the displayed data cleaner formatting\n",
    "\n",
    "DRG_Analysis_Formatted_df_TN_Nashville = DRG_Analysis_df_TN_Nashville\n",
    "\n",
    "DRG_Analysis_Formatted_df_TN_Nashville[\"Average Charge in Nashville\"] = DRG_Analysis_df_TN_Nashville[\"Average Charge in Nashville\"].map(\"${:,.2f}\".format)\n",
    "DRG_Analysis_Formatted_df_TN_Nashville[\"Max Charge in Nashville\"] = DRG_Analysis_df_TN_Nashville[\"Max Charge in Nashville\"].map(\"${:,.2f}\".format)\n",
    "DRG_Analysis_Formatted_df_TN_Nashville[\"Min Charge in Nashville\"] = DRG_Analysis_df_TN_Nashville[\"Min Charge in Nashville\"].map(\"${:,.2f}\".format)\n",
    "\n",
    "DRG_Analysis_Formatted_df_TN_Nashville"
   ]
  },
  {
   "cell_type": "code",
   "execution_count": 257,
   "metadata": {},
   "outputs": [
    {
     "data": {
      "text/html": [
       "<div>\n",
       "<style scoped>\n",
       "    .dataframe tbody tr th:only-of-type {\n",
       "        vertical-align: middle;\n",
       "    }\n",
       "\n",
       "    .dataframe tbody tr th {\n",
       "        vertical-align: top;\n",
       "    }\n",
       "\n",
       "    .dataframe thead th {\n",
       "        text-align: right;\n",
       "    }\n",
       "</style>\n",
       "<table border=\"1\" class=\"dataframe\">\n",
       "  <thead>\n",
       "    <tr style=\"text-align: right;\">\n",
       "      <th></th>\n",
       "      <th>drg_definition</th>\n",
       "      <th>provider_id</th>\n",
       "      <th>provider_name</th>\n",
       "      <th>provider_street_address</th>\n",
       "      <th>provider_city</th>\n",
       "      <th>provider_state</th>\n",
       "      <th>provider_zip_code</th>\n",
       "      <th>hospital_referral_region_description</th>\n",
       "      <th>total_discharges</th>\n",
       "      <th>average_covered_charges</th>\n",
       "      <th>average_medicare_payments</th>\n",
       "      <th>average_medicare_payments_2</th>\n",
       "    </tr>\n",
       "  </thead>\n",
       "  <tbody>\n",
       "    <tr>\n",
       "      <th>0</th>\n",
       "      <td>039 - EXTRACRANIAL PROCEDURES W/O CC/MCC</td>\n",
       "      <td>10001</td>\n",
       "      <td>SOUTHEAST ALABAMA MEDICAL CENTER</td>\n",
       "      <td>1108 ROSS CLARK CIRCLE</td>\n",
       "      <td>DOTHAN</td>\n",
       "      <td>AL</td>\n",
       "      <td>36301</td>\n",
       "      <td>AL - Dothan</td>\n",
       "      <td>91</td>\n",
       "      <td>32963.07</td>\n",
       "      <td>5777.24</td>\n",
       "      <td>4763.73</td>\n",
       "    </tr>\n",
       "    <tr>\n",
       "      <th>1</th>\n",
       "      <td>039 - EXTRACRANIAL PROCEDURES W/O CC/MCC</td>\n",
       "      <td>10005</td>\n",
       "      <td>MARSHALL MEDICAL CENTER SOUTH</td>\n",
       "      <td>2505 U S HIGHWAY 431 NORTH</td>\n",
       "      <td>BOAZ</td>\n",
       "      <td>AL</td>\n",
       "      <td>35957</td>\n",
       "      <td>AL - Birmingham</td>\n",
       "      <td>14</td>\n",
       "      <td>15131.85</td>\n",
       "      <td>5787.57</td>\n",
       "      <td>4976.71</td>\n",
       "    </tr>\n",
       "    <tr>\n",
       "      <th>2</th>\n",
       "      <td>039 - EXTRACRANIAL PROCEDURES W/O CC/MCC</td>\n",
       "      <td>10006</td>\n",
       "      <td>ELIZA COFFEE MEMORIAL HOSPITAL</td>\n",
       "      <td>205 MARENGO STREET</td>\n",
       "      <td>FLORENCE</td>\n",
       "      <td>AL</td>\n",
       "      <td>35631</td>\n",
       "      <td>AL - Birmingham</td>\n",
       "      <td>24</td>\n",
       "      <td>37560.37</td>\n",
       "      <td>5434.95</td>\n",
       "      <td>4453.79</td>\n",
       "    </tr>\n",
       "    <tr>\n",
       "      <th>3</th>\n",
       "      <td>039 - EXTRACRANIAL PROCEDURES W/O CC/MCC</td>\n",
       "      <td>10011</td>\n",
       "      <td>ST VINCENT'S EAST</td>\n",
       "      <td>50 MEDICAL PARK EAST DRIVE</td>\n",
       "      <td>BIRMINGHAM</td>\n",
       "      <td>AL</td>\n",
       "      <td>35235</td>\n",
       "      <td>AL - Birmingham</td>\n",
       "      <td>25</td>\n",
       "      <td>13998.28</td>\n",
       "      <td>5417.56</td>\n",
       "      <td>4129.16</td>\n",
       "    </tr>\n",
       "    <tr>\n",
       "      <th>4</th>\n",
       "      <td>039 - EXTRACRANIAL PROCEDURES W/O CC/MCC</td>\n",
       "      <td>10016</td>\n",
       "      <td>SHELBY BAPTIST MEDICAL CENTER</td>\n",
       "      <td>1000 FIRST STREET NORTH</td>\n",
       "      <td>ALABASTER</td>\n",
       "      <td>AL</td>\n",
       "      <td>35007</td>\n",
       "      <td>AL - Birmingham</td>\n",
       "      <td>18</td>\n",
       "      <td>31633.27</td>\n",
       "      <td>5658.33</td>\n",
       "      <td>4851.44</td>\n",
       "    </tr>\n",
       "  </tbody>\n",
       "</table>\n",
       "</div>"
      ],
      "text/plain": [
       "                             drg_definition provider_id  \\\n",
       "0  039 - EXTRACRANIAL PROCEDURES W/O CC/MCC       10001   \n",
       "1  039 - EXTRACRANIAL PROCEDURES W/O CC/MCC       10005   \n",
       "2  039 - EXTRACRANIAL PROCEDURES W/O CC/MCC       10006   \n",
       "3  039 - EXTRACRANIAL PROCEDURES W/O CC/MCC       10011   \n",
       "4  039 - EXTRACRANIAL PROCEDURES W/O CC/MCC       10016   \n",
       "\n",
       "                      provider_name     provider_street_address provider_city  \\\n",
       "0  SOUTHEAST ALABAMA MEDICAL CENTER      1108 ROSS CLARK CIRCLE        DOTHAN   \n",
       "1     MARSHALL MEDICAL CENTER SOUTH  2505 U S HIGHWAY 431 NORTH          BOAZ   \n",
       "2    ELIZA COFFEE MEMORIAL HOSPITAL          205 MARENGO STREET      FLORENCE   \n",
       "3                 ST VINCENT'S EAST  50 MEDICAL PARK EAST DRIVE    BIRMINGHAM   \n",
       "4     SHELBY BAPTIST MEDICAL CENTER     1000 FIRST STREET NORTH     ALABASTER   \n",
       "\n",
       "  provider_state provider_zip_code hospital_referral_region_description  \\\n",
       "0             AL             36301                          AL - Dothan   \n",
       "1             AL             35957                      AL - Birmingham   \n",
       "2             AL             35631                      AL - Birmingham   \n",
       "3             AL             35235                      AL - Birmingham   \n",
       "4             AL             35007                      AL - Birmingham   \n",
       "\n",
       "   total_discharges  average_covered_charges  average_medicare_payments  \\\n",
       "0                91                 32963.07                    5777.24   \n",
       "1                14                 15131.85                    5787.57   \n",
       "2                24                 37560.37                    5434.95   \n",
       "3                25                 13998.28                    5417.56   \n",
       "4                18                 31633.27                    5658.33   \n",
       "\n",
       "   average_medicare_payments_2  \n",
       "0                      4763.73  \n",
       "1                      4976.71  \n",
       "2                      4453.79  \n",
       "3                      4129.16  \n",
       "4                      4851.44  "
      ]
     },
     "execution_count": 257,
     "metadata": {},
     "output_type": "execute_result"
    }
   ],
   "source": [
    "# Filter the data so that only a specific procedure is in the dataframe\n",
    "\n",
    "DataFrame_drg_EXTRACRANIAL = DataFrame.loc[DataFrame[\"drg_definition\"] == \"039 - EXTRACRANIAL PROCEDURES W/O CC/MCC\", :]\n",
    "\n",
    "DataFrame_drg_EXTRACRANIAL.head()"
   ]
  },
  {
   "cell_type": "code",
   "execution_count": 258,
   "metadata": {},
   "outputs": [
    {
     "data": {
      "text/html": [
       "<div>\n",
       "<style scoped>\n",
       "    .dataframe tbody tr th:only-of-type {\n",
       "        vertical-align: middle;\n",
       "    }\n",
       "\n",
       "    .dataframe tbody tr th {\n",
       "        vertical-align: top;\n",
       "    }\n",
       "\n",
       "    .dataframe thead th {\n",
       "        text-align: right;\n",
       "    }\n",
       "</style>\n",
       "<table border=\"1\" class=\"dataframe\">\n",
       "  <thead>\n",
       "    <tr style=\"text-align: right;\">\n",
       "      <th></th>\n",
       "      <th>total_discharges</th>\n",
       "      <th>average_covered_charges</th>\n",
       "      <th>average_medicare_payments</th>\n",
       "      <th>average_medicare_payments_2</th>\n",
       "    </tr>\n",
       "  </thead>\n",
       "  <tbody>\n",
       "    <tr>\n",
       "      <th>count</th>\n",
       "      <td>1000.000000</td>\n",
       "      <td>1000.000000</td>\n",
       "      <td>1000.000000</td>\n",
       "      <td>1000.000000</td>\n",
       "    </tr>\n",
       "    <tr>\n",
       "      <th>mean</th>\n",
       "      <td>31.334000</td>\n",
       "      <td>30764.527410</td>\n",
       "      <td>6967.502010</td>\n",
       "      <td>5575.505550</td>\n",
       "    </tr>\n",
       "    <tr>\n",
       "      <th>std</th>\n",
       "      <td>21.807522</td>\n",
       "      <td>16177.078199</td>\n",
       "      <td>1492.145685</td>\n",
       "      <td>1261.369332</td>\n",
       "    </tr>\n",
       "    <tr>\n",
       "      <th>min</th>\n",
       "      <td>11.000000</td>\n",
       "      <td>5981.050000</td>\n",
       "      <td>4968.000000</td>\n",
       "      <td>3592.850000</td>\n",
       "    </tr>\n",
       "    <tr>\n",
       "      <th>25%</th>\n",
       "      <td>16.000000</td>\n",
       "      <td>19812.082500</td>\n",
       "      <td>6003.065000</td>\n",
       "      <td>4761.220000</td>\n",
       "    </tr>\n",
       "    <tr>\n",
       "      <th>50%</th>\n",
       "      <td>24.000000</td>\n",
       "      <td>26958.160000</td>\n",
       "      <td>6587.160000</td>\n",
       "      <td>5267.605000</td>\n",
       "    </tr>\n",
       "    <tr>\n",
       "      <th>75%</th>\n",
       "      <td>40.000000</td>\n",
       "      <td>37167.672500</td>\n",
       "      <td>7529.992500</td>\n",
       "      <td>6057.345000</td>\n",
       "    </tr>\n",
       "    <tr>\n",
       "      <th>max</th>\n",
       "      <td>190.000000</td>\n",
       "      <td>146892.000000</td>\n",
       "      <td>18420.560000</td>\n",
       "      <td>15855.180000</td>\n",
       "    </tr>\n",
       "  </tbody>\n",
       "</table>\n",
       "</div>"
      ],
      "text/plain": [
       "       total_discharges  average_covered_charges  average_medicare_payments  \\\n",
       "count       1000.000000              1000.000000                1000.000000   \n",
       "mean          31.334000             30764.527410                6967.502010   \n",
       "std           21.807522             16177.078199                1492.145685   \n",
       "min           11.000000              5981.050000                4968.000000   \n",
       "25%           16.000000             19812.082500                6003.065000   \n",
       "50%           24.000000             26958.160000                6587.160000   \n",
       "75%           40.000000             37167.672500                7529.992500   \n",
       "max          190.000000            146892.000000               18420.560000   \n",
       "\n",
       "       average_medicare_payments_2  \n",
       "count                  1000.000000  \n",
       "mean                   5575.505550  \n",
       "std                    1261.369332  \n",
       "min                    3592.850000  \n",
       "25%                    4761.220000  \n",
       "50%                    5267.605000  \n",
       "75%                    6057.345000  \n",
       "max                   15855.180000  "
      ]
     },
     "execution_count": 258,
     "metadata": {},
     "output_type": "execute_result"
    }
   ],
   "source": [
    "# Display a statistical overview of the EXTRACRANIAL PROCEDURES DataFrame for reference\n",
    "\n",
    "DataFrame_drg_EXTRACRANIAL.describe()"
   ]
  },
  {
   "cell_type": "code",
   "execution_count": 259,
   "metadata": {},
   "outputs": [
    {
     "data": {
      "text/plain": [
       "1000"
      ]
     },
     "execution_count": 259,
     "metadata": {},
     "output_type": "execute_result"
    }
   ],
   "source": [
    "# Calculate the Number of Unique Providers that serviced DRG EXTRACRANIAL PROCEDURES\n",
    "Unique_Provider_count_drg_EXTRACRANIAL = len(DataFrame_drg_EXTRACRANIAL[\"provider_id\"].unique())\n",
    "Unique_Provider_count_drg_EXTRACRANIAL"
   ]
  },
  {
   "cell_type": "code",
   "execution_count": 260,
   "metadata": {},
   "outputs": [
    {
     "data": {
      "text/plain": [
       "282"
      ]
     },
     "execution_count": 260,
     "metadata": {},
     "output_type": "execute_result"
    }
   ],
   "source": [
    "# Calculate the Unique Number of hospital_referral_region_description that serviced DRG EXTRACRANIAL PROCEDURES in the DataFrame\n",
    "Unique_Hospital_Referral_Region_count_drg_EXTRACRANIAL = len(DataFrame_drg_EXTRACRANIAL[\"hospital_referral_region_description\"].unique())\n",
    "Unique_Hospital_Referral_Region_count_drg_EXTRACRANIAL"
   ]
  },
  {
   "cell_type": "code",
   "execution_count": 261,
   "metadata": {},
   "outputs": [
    {
     "data": {
      "text/plain": [
       "31334"
      ]
     },
     "execution_count": 261,
     "metadata": {},
     "output_type": "execute_result"
    }
   ],
   "source": [
    "# Calculate the Total Number of Discharges for DRG EXTRACRANIAL PROCEDURES in the DataFrame\n",
    "Discharge_Count_drg_EXTRACRANIAL = (DataFrame_drg_EXTRACRANIAL[\"total_discharges\"].sum())\n",
    "Discharge_Count_drg_EXTRACRANIAL"
   ]
  },
  {
   "cell_type": "code",
   "execution_count": 262,
   "metadata": {},
   "outputs": [
    {
     "data": {
      "text/plain": [
       "30764.52741"
      ]
     },
     "execution_count": 262,
     "metadata": {},
     "output_type": "execute_result"
    }
   ],
   "source": [
    "# Cacluate the average covered charges for DRG EXTRACRANIAL PROCEDURES\n",
    "Average_Covered_Charges_drg_EXTRACRANIAL = DataFrame_drg_EXTRACRANIAL[\"average_covered_charges\"].mean()\n",
    "Average_Covered_Charges_drg_EXTRACRANIAL"
   ]
  },
  {
   "cell_type": "code",
   "execution_count": 263,
   "metadata": {},
   "outputs": [
    {
     "data": {
      "text/plain": [
       "146892.0"
      ]
     },
     "execution_count": 263,
     "metadata": {},
     "output_type": "execute_result"
    }
   ],
   "source": [
    "# Cacluate the max covered charge amount for DRG EXTRACRANIAL PROCEDURES\n",
    "Max_Covered_Charges_drg_EXTRACRANIAL = DataFrame_drg_EXTRACRANIAL[\"average_covered_charges\"].max()\n",
    "Max_Covered_Charges_drg_EXTRACRANIAL"
   ]
  },
  {
   "cell_type": "code",
   "execution_count": 264,
   "metadata": {},
   "outputs": [
    {
     "data": {
      "text/plain": [
       "5981.05"
      ]
     },
     "execution_count": 264,
     "metadata": {},
     "output_type": "execute_result"
    }
   ],
   "source": [
    "# Cacluate the min covered charge amount for DRG EXTRACRANIAL PROCEDURES\n",
    "Min_Covered_Charges_drg_EXTRACRANIAL = DataFrame_drg_EXTRACRANIAL[\"average_covered_charges\"].min()\n",
    "Min_Covered_Charges_drg_EXTRACRANIAL"
   ]
  },
  {
   "cell_type": "code",
   "execution_count": 265,
   "metadata": {},
   "outputs": [
    {
     "data": {
      "text/plain": [
       "957"
      ]
     },
     "execution_count": 265,
     "metadata": {},
     "output_type": "execute_result"
    }
   ],
   "source": [
    "# Calculate the Total Number of Unique Provider Zip Codes that serviced DRG EXTRACRANIAL PROCEDURES\n",
    "Unique_Provider_ZipCode_Count_drg_EXTRACRANIAL = len(DataFrame_drg_EXTRACRANIAL[\"provider_zip_code\"].unique())\n",
    "Unique_Provider_ZipCode_Count_drg_EXTRACRANIAL"
   ]
  },
  {
   "cell_type": "code",
   "execution_count": 266,
   "metadata": {},
   "outputs": [
    {
     "data": {
      "text/html": [
       "<div>\n",
       "<style scoped>\n",
       "    .dataframe tbody tr th:only-of-type {\n",
       "        vertical-align: middle;\n",
       "    }\n",
       "\n",
       "    .dataframe tbody tr th {\n",
       "        vertical-align: top;\n",
       "    }\n",
       "\n",
       "    .dataframe thead th {\n",
       "        text-align: right;\n",
       "    }\n",
       "</style>\n",
       "<table border=\"1\" class=\"dataframe\">\n",
       "  <thead>\n",
       "    <tr style=\"text-align: right;\">\n",
       "      <th></th>\n",
       "      <th>Unique Providers that serviced DRG EXTRACRANIAL PROCEDURES</th>\n",
       "      <th>Unique Provider Zip Codes that serviced DRG EXTRACRANIAL PROCEDURES</th>\n",
       "      <th>Total Number of Discharges for DRG EXTRACRANIAL PROCEDURES</th>\n",
       "      <th>Average Charge for DRG EXTRACRANIAL PROCEDURES</th>\n",
       "      <th>Max Charge for DRG EXTRACRANIAL PROCEDURES</th>\n",
       "      <th>Min Charge for DRG EXTRACRANIAL PROCEDURES</th>\n",
       "    </tr>\n",
       "  </thead>\n",
       "  <tbody>\n",
       "    <tr>\n",
       "      <th>0</th>\n",
       "      <td>1000</td>\n",
       "      <td>957</td>\n",
       "      <td>31334</td>\n",
       "      <td>30764.52741</td>\n",
       "      <td>146892.0</td>\n",
       "      <td>5981.05</td>\n",
       "    </tr>\n",
       "  </tbody>\n",
       "</table>\n",
       "</div>"
      ],
      "text/plain": [
       "   Unique Providers that serviced DRG EXTRACRANIAL PROCEDURES  \\\n",
       "0                                               1000            \n",
       "\n",
       "   Unique Provider Zip Codes that serviced DRG EXTRACRANIAL PROCEDURES  \\\n",
       "0                                                957                     \n",
       "\n",
       "   Total Number of Discharges for DRG EXTRACRANIAL PROCEDURES  \\\n",
       "0                                              31334            \n",
       "\n",
       "   Average Charge for DRG EXTRACRANIAL PROCEDURES  \\\n",
       "0                                     30764.52741   \n",
       "\n",
       "   Max Charge for DRG EXTRACRANIAL PROCEDURES  \\\n",
       "0                                    146892.0   \n",
       "\n",
       "   Min Charge for DRG EXTRACRANIAL PROCEDURES  \n",
       "0                                     5981.05  "
      ]
     },
     "execution_count": 266,
     "metadata": {},
     "output_type": "execute_result"
    }
   ],
   "source": [
    "# Create a summary data frame to hold the DRG EXTRACRANIAL PROCEDURES Analysis Results\n",
    "\n",
    "DRG_Analysis_df_drg_EXTRACRANIAL = pd.DataFrame([\n",
    "    {\"Unique Providers that serviced DRG EXTRACRANIAL PROCEDURES\": Unique_Provider_count_drg_EXTRACRANIAL, \n",
    "     \"Unique Provider Zip Codes that serviced DRG EXTRACRANIAL PROCEDURES\": Unique_Provider_ZipCode_Count_drg_EXTRACRANIAL, \n",
    "     \"Total Number of Discharges for DRG EXTRACRANIAL PROCEDURES\": Discharge_Count_drg_EXTRACRANIAL,\n",
    "     \"Average Charge for DRG EXTRACRANIAL PROCEDURES\": Average_Covered_Charges_drg_EXTRACRANIAL,\n",
    "     \"Max Charge for DRG EXTRACRANIAL PROCEDURES\": Max_Covered_Charges_drg_EXTRACRANIAL,\n",
    "     \"Min Charge for DRG EXTRACRANIAL PROCEDURES\": Min_Covered_Charges_drg_EXTRACRANIAL\n",
    "    }\n",
    "])\n",
    "DRG_Analysis_df_drg_EXTRACRANIAL"
   ]
  },
  {
   "cell_type": "code",
   "execution_count": 267,
   "metadata": {},
   "outputs": [
    {
     "data": {
      "text/html": [
       "<div>\n",
       "<style scoped>\n",
       "    .dataframe tbody tr th:only-of-type {\n",
       "        vertical-align: middle;\n",
       "    }\n",
       "\n",
       "    .dataframe tbody tr th {\n",
       "        vertical-align: top;\n",
       "    }\n",
       "\n",
       "    .dataframe thead th {\n",
       "        text-align: right;\n",
       "    }\n",
       "</style>\n",
       "<table border=\"1\" class=\"dataframe\">\n",
       "  <thead>\n",
       "    <tr style=\"text-align: right;\">\n",
       "      <th></th>\n",
       "      <th>Unique Providers that serviced DRG EXTRACRANIAL PROCEDURES</th>\n",
       "      <th>Unique Provider Zip Codes that serviced DRG EXTRACRANIAL PROCEDURES</th>\n",
       "      <th>Total Number of Discharges for DRG EXTRACRANIAL PROCEDURES</th>\n",
       "      <th>Average Charge for DRG EXTRACRANIAL PROCEDURES</th>\n",
       "      <th>Max Charge for DRG EXTRACRANIAL PROCEDURES</th>\n",
       "      <th>Min Charge for DRG EXTRACRANIAL PROCEDURES</th>\n",
       "    </tr>\n",
       "  </thead>\n",
       "  <tbody>\n",
       "    <tr>\n",
       "      <th>0</th>\n",
       "      <td>1000</td>\n",
       "      <td>957</td>\n",
       "      <td>31334</td>\n",
       "      <td>$30,764.53</td>\n",
       "      <td>$146,892.00</td>\n",
       "      <td>$5,981.05</td>\n",
       "    </tr>\n",
       "  </tbody>\n",
       "</table>\n",
       "</div>"
      ],
      "text/plain": [
       "   Unique Providers that serviced DRG EXTRACRANIAL PROCEDURES  \\\n",
       "0                                               1000            \n",
       "\n",
       "   Unique Provider Zip Codes that serviced DRG EXTRACRANIAL PROCEDURES  \\\n",
       "0                                                957                     \n",
       "\n",
       "   Total Number of Discharges for DRG EXTRACRANIAL PROCEDURES  \\\n",
       "0                                              31334            \n",
       "\n",
       "  Average Charge for DRG EXTRACRANIAL PROCEDURES  \\\n",
       "0                                     $30,764.53   \n",
       "\n",
       "  Max Charge for DRG EXTRACRANIAL PROCEDURES  \\\n",
       "0                                $146,892.00   \n",
       "\n",
       "  Min Charge for DRG EXTRACRANIAL PROCEDURES  \n",
       "0                                  $5,981.05  "
      ]
     },
     "execution_count": 267,
     "metadata": {},
     "output_type": "execute_result"
    }
   ],
   "source": [
    "# Give the displayed data to hold the DRG EXTRACRANIAL PROCEDURES Analysis Results with cleaner formatting\n",
    "\n",
    "DRG_Analysis_Formatted_df_drg_EXTRACRANIAL = DRG_Analysis_df_drg_EXTRACRANIAL\n",
    "\n",
    "DRG_Analysis_Formatted_df_drg_EXTRACRANIAL[\"Average Charge for DRG EXTRACRANIAL PROCEDURES\"] = DRG_Analysis_df_drg_EXTRACRANIAL[\"Average Charge for DRG EXTRACRANIAL PROCEDURES\"].map(\"${:,.2f}\".format)\n",
    "DRG_Analysis_Formatted_df_drg_EXTRACRANIAL[\"Max Charge for DRG EXTRACRANIAL PROCEDURES\"] = DRG_Analysis_df_drg_EXTRACRANIAL[\"Max Charge for DRG EXTRACRANIAL PROCEDURES\"].map(\"${:,.2f}\".format)\n",
    "DRG_Analysis_Formatted_df_drg_EXTRACRANIAL[\"Min Charge for DRG EXTRACRANIAL PROCEDURES\"] = DRG_Analysis_df_drg_EXTRACRANIAL[\"Min Charge for DRG EXTRACRANIAL PROCEDURES\"].map(\"${:,.2f}\".format)\n",
    "\n",
    "DRG_Analysis_Formatted_df_drg_EXTRACRANIAL"
   ]
  },
  {
   "cell_type": "code",
   "execution_count": 269,
   "metadata": {},
   "outputs": [
    {
     "data": {
      "text/html": [
       "<div>\n",
       "<style scoped>\n",
       "    .dataframe tbody tr th:only-of-type {\n",
       "        vertical-align: middle;\n",
       "    }\n",
       "\n",
       "    .dataframe tbody tr th {\n",
       "        vertical-align: top;\n",
       "    }\n",
       "\n",
       "    .dataframe thead th {\n",
       "        text-align: right;\n",
       "    }\n",
       "</style>\n",
       "<table border=\"1\" class=\"dataframe\">\n",
       "  <thead>\n",
       "    <tr style=\"text-align: right;\">\n",
       "      <th></th>\n",
       "      <th>drg_definition</th>\n",
       "      <th>provider_id</th>\n",
       "      <th>provider_name</th>\n",
       "      <th>provider_street_address</th>\n",
       "      <th>provider_city</th>\n",
       "      <th>provider_state</th>\n",
       "      <th>provider_zip_code</th>\n",
       "      <th>hospital_referral_region_description</th>\n",
       "      <th>total_discharges</th>\n",
       "      <th>average_covered_charges</th>\n",
       "      <th>average_medicare_payments</th>\n",
       "      <th>average_medicare_payments_2</th>\n",
       "    </tr>\n",
       "  </thead>\n",
       "  <tbody>\n",
       "    <tr>\n",
       "      <th>879</th>\n",
       "      <td>039 - EXTRACRANIAL PROCEDURES W/O CC/MCC</td>\n",
       "      <td>440002</td>\n",
       "      <td>JACKSON-MADISON COUNTY GENERAL HOSPITAL</td>\n",
       "      <td>620 SKYLINE DRIVE</td>\n",
       "      <td>JACKSON</td>\n",
       "      <td>TN</td>\n",
       "      <td>38301</td>\n",
       "      <td>TN - Jackson</td>\n",
       "      <td>44</td>\n",
       "      <td>19872.77</td>\n",
       "      <td>6355.88</td>\n",
       "      <td>4957.81</td>\n",
       "    </tr>\n",
       "    <tr>\n",
       "      <th>881</th>\n",
       "      <td>039 - EXTRACRANIAL PROCEDURES W/O CC/MCC</td>\n",
       "      <td>440006</td>\n",
       "      <td>SKYLINE MEDICAL CENTER</td>\n",
       "      <td>3441 DICKERSON PIKE</td>\n",
       "      <td>NASHVILLE</td>\n",
       "      <td>TN</td>\n",
       "      <td>37207</td>\n",
       "      <td>TN - Nashville</td>\n",
       "      <td>11</td>\n",
       "      <td>41660.09</td>\n",
       "      <td>6186.81</td>\n",
       "      <td>5266.45</td>\n",
       "    </tr>\n",
       "    <tr>\n",
       "      <th>882</th>\n",
       "      <td>039 - EXTRACRANIAL PROCEDURES W/O CC/MCC</td>\n",
       "      <td>440011</td>\n",
       "      <td>BLOUNT MEMORIAL HOSPITAL</td>\n",
       "      <td>907 E LAMAR ALEXANDER PARKWAY</td>\n",
       "      <td>MARYVILLE</td>\n",
       "      <td>TN</td>\n",
       "      <td>37804</td>\n",
       "      <td>TN - Knoxville</td>\n",
       "      <td>13</td>\n",
       "      <td>23726.38</td>\n",
       "      <td>5176.76</td>\n",
       "      <td>4318.30</td>\n",
       "    </tr>\n",
       "    <tr>\n",
       "      <th>883</th>\n",
       "      <td>039 - EXTRACRANIAL PROCEDURES W/O CC/MCC</td>\n",
       "      <td>440012</td>\n",
       "      <td>WELLMONT BRISTOL REGIONAL MEDICAL CENTER</td>\n",
       "      <td>ONE MEDICAL PARK BLVD</td>\n",
       "      <td>BRISTOL</td>\n",
       "      <td>TN</td>\n",
       "      <td>37620</td>\n",
       "      <td>TN - Kingsport</td>\n",
       "      <td>14</td>\n",
       "      <td>16276.78</td>\n",
       "      <td>5571.78</td>\n",
       "      <td>4603.78</td>\n",
       "    </tr>\n",
       "    <tr>\n",
       "      <th>884</th>\n",
       "      <td>039 - EXTRACRANIAL PROCEDURES W/O CC/MCC</td>\n",
       "      <td>440015</td>\n",
       "      <td>UNIVERSITY OF TN MEMORIAL HOSPITAL</td>\n",
       "      <td>1924 ALCOA HIGHWAY</td>\n",
       "      <td>KNOXVILLE</td>\n",
       "      <td>TN</td>\n",
       "      <td>37920</td>\n",
       "      <td>TN - Knoxville</td>\n",
       "      <td>41</td>\n",
       "      <td>19589.43</td>\n",
       "      <td>6720.24</td>\n",
       "      <td>5632.00</td>\n",
       "    </tr>\n",
       "  </tbody>\n",
       "</table>\n",
       "</div>"
      ],
      "text/plain": [
       "                               drg_definition provider_id  \\\n",
       "879  039 - EXTRACRANIAL PROCEDURES W/O CC/MCC      440002   \n",
       "881  039 - EXTRACRANIAL PROCEDURES W/O CC/MCC      440006   \n",
       "882  039 - EXTRACRANIAL PROCEDURES W/O CC/MCC      440011   \n",
       "883  039 - EXTRACRANIAL PROCEDURES W/O CC/MCC      440012   \n",
       "884  039 - EXTRACRANIAL PROCEDURES W/O CC/MCC      440015   \n",
       "\n",
       "                                provider_name        provider_street_address  \\\n",
       "879   JACKSON-MADISON COUNTY GENERAL HOSPITAL              620 SKYLINE DRIVE   \n",
       "881                    SKYLINE MEDICAL CENTER            3441 DICKERSON PIKE   \n",
       "882                  BLOUNT MEMORIAL HOSPITAL  907 E LAMAR ALEXANDER PARKWAY   \n",
       "883  WELLMONT BRISTOL REGIONAL MEDICAL CENTER          ONE MEDICAL PARK BLVD   \n",
       "884        UNIVERSITY OF TN MEMORIAL HOSPITAL             1924 ALCOA HIGHWAY   \n",
       "\n",
       "    provider_city provider_state provider_zip_code  \\\n",
       "879       JACKSON             TN             38301   \n",
       "881     NASHVILLE             TN             37207   \n",
       "882     MARYVILLE             TN             37804   \n",
       "883       BRISTOL             TN             37620   \n",
       "884     KNOXVILLE             TN             37920   \n",
       "\n",
       "    hospital_referral_region_description  total_discharges  \\\n",
       "879                         TN - Jackson                44   \n",
       "881                       TN - Nashville                11   \n",
       "882                       TN - Knoxville                13   \n",
       "883                       TN - Kingsport                14   \n",
       "884                       TN - Knoxville                41   \n",
       "\n",
       "     average_covered_charges  average_medicare_payments  \\\n",
       "879                 19872.77                    6355.88   \n",
       "881                 41660.09                    6186.81   \n",
       "882                 23726.38                    5176.76   \n",
       "883                 16276.78                    5571.78   \n",
       "884                 19589.43                    6720.24   \n",
       "\n",
       "     average_medicare_payments_2  \n",
       "879                      4957.81  \n",
       "881                      5266.45  \n",
       "882                      4318.30  \n",
       "883                      4603.78  \n",
       "884                      5632.00  "
      ]
     },
     "execution_count": 269,
     "metadata": {},
     "output_type": "execute_result"
    }
   ],
   "source": [
    "# Filter the data so that only a specific procedure in TN is in the dataframe\n",
    "\n",
    "DataFrame_drg_EXTRACRANIAL_TN = DataFrame.loc[(DataFrame[\"drg_definition\"] == \"039 - EXTRACRANIAL PROCEDURES W/O CC/MCC\") & (DataFrame[\"provider_state\"] == \"TN\"), :]\n",
    "\n",
    "DataFrame_drg_EXTRACRANIAL_TN.head()"
   ]
  },
  {
   "cell_type": "code",
   "execution_count": 270,
   "metadata": {},
   "outputs": [
    {
     "data": {
      "text/html": [
       "<div>\n",
       "<style scoped>\n",
       "    .dataframe tbody tr th:only-of-type {\n",
       "        vertical-align: middle;\n",
       "    }\n",
       "\n",
       "    .dataframe tbody tr th {\n",
       "        vertical-align: top;\n",
       "    }\n",
       "\n",
       "    .dataframe thead th {\n",
       "        text-align: right;\n",
       "    }\n",
       "</style>\n",
       "<table border=\"1\" class=\"dataframe\">\n",
       "  <thead>\n",
       "    <tr style=\"text-align: right;\">\n",
       "      <th></th>\n",
       "      <th>total_discharges</th>\n",
       "      <th>average_covered_charges</th>\n",
       "      <th>average_medicare_payments</th>\n",
       "      <th>average_medicare_payments_2</th>\n",
       "    </tr>\n",
       "  </thead>\n",
       "  <tbody>\n",
       "    <tr>\n",
       "      <th>count</th>\n",
       "      <td>32.000000</td>\n",
       "      <td>32.000000</td>\n",
       "      <td>32.000000</td>\n",
       "      <td>32.000000</td>\n",
       "    </tr>\n",
       "    <tr>\n",
       "      <th>mean</th>\n",
       "      <td>30.812500</td>\n",
       "      <td>26417.375313</td>\n",
       "      <td>6151.375313</td>\n",
       "      <td>4855.665938</td>\n",
       "    </tr>\n",
       "    <tr>\n",
       "      <th>std</th>\n",
       "      <td>20.526046</td>\n",
       "      <td>12412.186946</td>\n",
       "      <td>854.727324</td>\n",
       "      <td>602.435050</td>\n",
       "    </tr>\n",
       "    <tr>\n",
       "      <th>min</th>\n",
       "      <td>11.000000</td>\n",
       "      <td>10904.810000</td>\n",
       "      <td>5176.760000</td>\n",
       "      <td>3882.980000</td>\n",
       "    </tr>\n",
       "    <tr>\n",
       "      <th>25%</th>\n",
       "      <td>15.750000</td>\n",
       "      <td>18825.592500</td>\n",
       "      <td>5666.592500</td>\n",
       "      <td>4453.122500</td>\n",
       "    </tr>\n",
       "    <tr>\n",
       "      <th>50%</th>\n",
       "      <td>23.000000</td>\n",
       "      <td>23295.465000</td>\n",
       "      <td>6048.085000</td>\n",
       "      <td>4767.050000</td>\n",
       "    </tr>\n",
       "    <tr>\n",
       "      <th>75%</th>\n",
       "      <td>40.250000</td>\n",
       "      <td>34618.002500</td>\n",
       "      <td>6359.487500</td>\n",
       "      <td>5062.382500</td>\n",
       "    </tr>\n",
       "    <tr>\n",
       "      <th>max</th>\n",
       "      <td>92.000000</td>\n",
       "      <td>56329.570000</td>\n",
       "      <td>9329.140000</td>\n",
       "      <td>6471.170000</td>\n",
       "    </tr>\n",
       "  </tbody>\n",
       "</table>\n",
       "</div>"
      ],
      "text/plain": [
       "       total_discharges  average_covered_charges  average_medicare_payments  \\\n",
       "count         32.000000                32.000000                  32.000000   \n",
       "mean          30.812500             26417.375313                6151.375313   \n",
       "std           20.526046             12412.186946                 854.727324   \n",
       "min           11.000000             10904.810000                5176.760000   \n",
       "25%           15.750000             18825.592500                5666.592500   \n",
       "50%           23.000000             23295.465000                6048.085000   \n",
       "75%           40.250000             34618.002500                6359.487500   \n",
       "max           92.000000             56329.570000                9329.140000   \n",
       "\n",
       "       average_medicare_payments_2  \n",
       "count                    32.000000  \n",
       "mean                   4855.665938  \n",
       "std                     602.435050  \n",
       "min                    3882.980000  \n",
       "25%                    4453.122500  \n",
       "50%                    4767.050000  \n",
       "75%                    5062.382500  \n",
       "max                    6471.170000  "
      ]
     },
     "execution_count": 270,
     "metadata": {},
     "output_type": "execute_result"
    }
   ],
   "source": [
    "# Display a statistical overview of the EXTRACRANIAL PROCEDURES TN DataFrame for reference\n",
    "\n",
    "DataFrame_drg_EXTRACRANIAL_TN.describe()"
   ]
  },
  {
   "cell_type": "code",
   "execution_count": 271,
   "metadata": {},
   "outputs": [
    {
     "data": {
      "text/plain": [
       "32"
      ]
     },
     "execution_count": 271,
     "metadata": {},
     "output_type": "execute_result"
    }
   ],
   "source": [
    "# Calculate the Number of Unique Providers that serviced DRG EXTRACRANIAL PROCEDURES in TN\n",
    "Unique_Provider_count_drg_EXTRACRANIAL_TN = len(DataFrame_drg_EXTRACRANIAL_TN[\"provider_id\"].unique())\n",
    "Unique_Provider_count_drg_EXTRACRANIAL_TN"
   ]
  },
  {
   "cell_type": "code",
   "execution_count": 272,
   "metadata": {},
   "outputs": [
    {
     "data": {
      "text/plain": [
       "7"
      ]
     },
     "execution_count": 272,
     "metadata": {},
     "output_type": "execute_result"
    }
   ],
   "source": [
    "# Calculate the Unique Number of hospital_referral_region_description that serviced DRG EXTRACRANIAL PROCEDURES in TN\n",
    "Unique_Hospital_Referral_Region_count_drg_EXTRACRANIAL_TN = len(DataFrame_drg_EXTRACRANIAL_TN[\"hospital_referral_region_description\"].unique())\n",
    "Unique_Hospital_Referral_Region_count_drg_EXTRACRANIAL_TN"
   ]
  },
  {
   "cell_type": "code",
   "execution_count": 273,
   "metadata": {},
   "outputs": [
    {
     "data": {
      "text/plain": [
       "986"
      ]
     },
     "execution_count": 273,
     "metadata": {},
     "output_type": "execute_result"
    }
   ],
   "source": [
    "# Calculate the Total Number of Discharges for DRG EXTRACRANIAL PROCEDURES in TN\n",
    "Discharge_Count_drg_EXTRACRANIAL_TN = (DataFrame_drg_EXTRACRANIAL_TN[\"total_discharges\"].sum())\n",
    "Discharge_Count_drg_EXTRACRANIAL_TN"
   ]
  },
  {
   "cell_type": "code",
   "execution_count": 274,
   "metadata": {},
   "outputs": [
    {
     "data": {
      "text/plain": [
       "26417.3753125"
      ]
     },
     "execution_count": 274,
     "metadata": {},
     "output_type": "execute_result"
    }
   ],
   "source": [
    "# Cacluate the average covered charges for DRG EXTRACRANIAL PROCEDURES in TN\n",
    "Average_Covered_Charges_drg_EXTRACRANIAL_TN = DataFrame_drg_EXTRACRANIAL_TN[\"average_covered_charges\"].mean()\n",
    "Average_Covered_Charges_drg_EXTRACRANIAL_TN"
   ]
  },
  {
   "cell_type": "code",
   "execution_count": 275,
   "metadata": {},
   "outputs": [
    {
     "data": {
      "text/plain": [
       "10904.81"
      ]
     },
     "execution_count": 275,
     "metadata": {},
     "output_type": "execute_result"
    }
   ],
   "source": [
    "# Cacluate the min covered charge amount for DRG EXTRACRANIAL PROCEDURES in TN\n",
    "Min_Covered_Charges_drg_EXTRACRANIAL_TN = DataFrame_drg_EXTRACRANIAL_TN[\"average_covered_charges\"].min()\n",
    "Min_Covered_Charges_drg_EXTRACRANIAL_TN"
   ]
  },
  {
   "cell_type": "code",
   "execution_count": 278,
   "metadata": {},
   "outputs": [
    {
     "data": {
      "text/plain": [
       "56329.57"
      ]
     },
     "execution_count": 278,
     "metadata": {},
     "output_type": "execute_result"
    }
   ],
   "source": [
    "# Cacluate the max covered charge amount for DRG EXTRACRANIAL PROCEDURES in TN\n",
    "Max_Covered_Charges_drg_EXTRACRANIAL_TN = DataFrame_drg_EXTRACRANIAL_TN[\"average_covered_charges\"].max()\n",
    "Max_Covered_Charges_drg_EXTRACRANIAL_TN"
   ]
  },
  {
   "cell_type": "code",
   "execution_count": 279,
   "metadata": {},
   "outputs": [
    {
     "data": {
      "text/plain": [
       "31"
      ]
     },
     "execution_count": 279,
     "metadata": {},
     "output_type": "execute_result"
    }
   ],
   "source": [
    "# Calculate the Total Number of Unique Provider Zip Codes that serviced DRG EXTRACRANIAL PROCEDURES in TN\n",
    "Unique_Provider_ZipCode_Count_drg_EXTRACRANIAL_TN = len(DataFrame_drg_EXTRACRANIAL_TN[\"provider_zip_code\"].unique())\n",
    "Unique_Provider_ZipCode_Count_drg_EXTRACRANIAL_TN"
   ]
  },
  {
   "cell_type": "code",
   "execution_count": 280,
   "metadata": {},
   "outputs": [
    {
     "data": {
      "text/html": [
       "<div>\n",
       "<style scoped>\n",
       "    .dataframe tbody tr th:only-of-type {\n",
       "        vertical-align: middle;\n",
       "    }\n",
       "\n",
       "    .dataframe tbody tr th {\n",
       "        vertical-align: top;\n",
       "    }\n",
       "\n",
       "    .dataframe thead th {\n",
       "        text-align: right;\n",
       "    }\n",
       "</style>\n",
       "<table border=\"1\" class=\"dataframe\">\n",
       "  <thead>\n",
       "    <tr style=\"text-align: right;\">\n",
       "      <th></th>\n",
       "      <th>Unique Providers that serviced DRG EXTRACRANIAL PROCEDURES in TN</th>\n",
       "      <th>Unique Provider Zip Codes that serviced DRG EXTRACRANIAL PROCEDURES in TN</th>\n",
       "      <th>Total Number of Discharges for DRG EXTRACRANIAL PROCEDURES in TN</th>\n",
       "      <th>Average Charge for DRG EXTRACRANIAL PROCEDURES in TN</th>\n",
       "      <th>Max Charge for DRG EXTRACRANIAL PROCEDURES in TN</th>\n",
       "      <th>Min Charge for DRG EXTRACRANIAL PROCEDURES in TN</th>\n",
       "    </tr>\n",
       "  </thead>\n",
       "  <tbody>\n",
       "    <tr>\n",
       "      <th>0</th>\n",
       "      <td>32</td>\n",
       "      <td>31</td>\n",
       "      <td>986</td>\n",
       "      <td>26417.375313</td>\n",
       "      <td>56329.57</td>\n",
       "      <td>10904.81</td>\n",
       "    </tr>\n",
       "  </tbody>\n",
       "</table>\n",
       "</div>"
      ],
      "text/plain": [
       "   Unique Providers that serviced DRG EXTRACRANIAL PROCEDURES in TN  \\\n",
       "0                                                 32                  \n",
       "\n",
       "   Unique Provider Zip Codes that serviced DRG EXTRACRANIAL PROCEDURES in TN  \\\n",
       "0                                                 31                           \n",
       "\n",
       "   Total Number of Discharges for DRG EXTRACRANIAL PROCEDURES in TN  \\\n",
       "0                                                986                  \n",
       "\n",
       "   Average Charge for DRG EXTRACRANIAL PROCEDURES in TN  \\\n",
       "0                                       26417.375313      \n",
       "\n",
       "   Max Charge for DRG EXTRACRANIAL PROCEDURES in TN  \\\n",
       "0                                          56329.57   \n",
       "\n",
       "   Min Charge for DRG EXTRACRANIAL PROCEDURES in TN  \n",
       "0                                          10904.81  "
      ]
     },
     "execution_count": 280,
     "metadata": {},
     "output_type": "execute_result"
    }
   ],
   "source": [
    "# Create a summary data frame to hold the DRG EXTRACRANIAL PROCEDURES in TN Analysis Results\n",
    "\n",
    "DRG_Analysis_df_drg_EXTRACRANIAL_TN = pd.DataFrame([\n",
    "    {\"Unique Providers that serviced DRG EXTRACRANIAL PROCEDURES in TN\": Unique_Provider_count_drg_EXTRACRANIAL_TN, \n",
    "     \"Unique Provider Zip Codes that serviced DRG EXTRACRANIAL PROCEDURES in TN\": Unique_Provider_ZipCode_Count_drg_EXTRACRANIAL_TN, \n",
    "     \"Total Number of Discharges for DRG EXTRACRANIAL PROCEDURES in TN\": Discharge_Count_drg_EXTRACRANIAL_TN,\n",
    "     \"Average Charge for DRG EXTRACRANIAL PROCEDURES in TN\": Average_Covered_Charges_drg_EXTRACRANIAL_TN,\n",
    "     \"Max Charge for DRG EXTRACRANIAL PROCEDURES in TN\": Max_Covered_Charges_drg_EXTRACRANIAL_TN,\n",
    "     \"Min Charge for DRG EXTRACRANIAL PROCEDURES in TN\": Min_Covered_Charges_drg_EXTRACRANIAL_TN\n",
    "    }\n",
    "])\n",
    "DRG_Analysis_df_drg_EXTRACRANIAL_TN"
   ]
  },
  {
   "cell_type": "code",
   "execution_count": 281,
   "metadata": {
    "scrolled": true
   },
   "outputs": [
    {
     "data": {
      "text/html": [
       "<div>\n",
       "<style scoped>\n",
       "    .dataframe tbody tr th:only-of-type {\n",
       "        vertical-align: middle;\n",
       "    }\n",
       "\n",
       "    .dataframe tbody tr th {\n",
       "        vertical-align: top;\n",
       "    }\n",
       "\n",
       "    .dataframe thead th {\n",
       "        text-align: right;\n",
       "    }\n",
       "</style>\n",
       "<table border=\"1\" class=\"dataframe\">\n",
       "  <thead>\n",
       "    <tr style=\"text-align: right;\">\n",
       "      <th></th>\n",
       "      <th>Unique Providers that serviced DRG EXTRACRANIAL PROCEDURES in TN</th>\n",
       "      <th>Unique Provider Zip Codes that serviced DRG EXTRACRANIAL PROCEDURES in TN</th>\n",
       "      <th>Total Number of Discharges for DRG EXTRACRANIAL PROCEDURES in TN</th>\n",
       "      <th>Average Charge for DRG EXTRACRANIAL PROCEDURES in TN</th>\n",
       "      <th>Max Charge for DRG EXTRACRANIAL PROCEDURES in TN</th>\n",
       "      <th>Min Charge for DRG EXTRACRANIAL PROCEDURES in TN</th>\n",
       "    </tr>\n",
       "  </thead>\n",
       "  <tbody>\n",
       "    <tr>\n",
       "      <th>0</th>\n",
       "      <td>32</td>\n",
       "      <td>31</td>\n",
       "      <td>986</td>\n",
       "      <td>$26,417.38</td>\n",
       "      <td>$56,329.57</td>\n",
       "      <td>$10,904.81</td>\n",
       "    </tr>\n",
       "  </tbody>\n",
       "</table>\n",
       "</div>"
      ],
      "text/plain": [
       "   Unique Providers that serviced DRG EXTRACRANIAL PROCEDURES in TN  \\\n",
       "0                                                 32                  \n",
       "\n",
       "   Unique Provider Zip Codes that serviced DRG EXTRACRANIAL PROCEDURES in TN  \\\n",
       "0                                                 31                           \n",
       "\n",
       "   Total Number of Discharges for DRG EXTRACRANIAL PROCEDURES in TN  \\\n",
       "0                                                986                  \n",
       "\n",
       "  Average Charge for DRG EXTRACRANIAL PROCEDURES in TN  \\\n",
       "0                                         $26,417.38     \n",
       "\n",
       "  Max Charge for DRG EXTRACRANIAL PROCEDURES in TN  \\\n",
       "0                                       $56,329.57   \n",
       "\n",
       "  Min Charge for DRG EXTRACRANIAL PROCEDURES in TN  \n",
       "0                                       $10,904.81  "
      ]
     },
     "execution_count": 281,
     "metadata": {},
     "output_type": "execute_result"
    }
   ],
   "source": [
    "# Give the displayed data to hold the DRG EXTRACRANIAL PROCEDURES in TN Analysis Results with cleaner formatting\n",
    "\n",
    "DRG_Analysis_Formatted_df_drg_EXTRACRANIAL_TN = DRG_Analysis_df_drg_EXTRACRANIAL_TN\n",
    "\n",
    "DRG_Analysis_Formatted_df_drg_EXTRACRANIAL_TN[\"Average Charge for DRG EXTRACRANIAL PROCEDURES in TN\"] = DRG_Analysis_df_drg_EXTRACRANIAL_TN[\"Average Charge for DRG EXTRACRANIAL PROCEDURES in TN\"].map(\"${:,.2f}\".format)\n",
    "DRG_Analysis_Formatted_df_drg_EXTRACRANIAL_TN[\"Max Charge for DRG EXTRACRANIAL PROCEDURES in TN\"] = DRG_Analysis_df_drg_EXTRACRANIAL_TN[\"Max Charge for DRG EXTRACRANIAL PROCEDURES in TN\"].map(\"${:,.2f}\".format)\n",
    "DRG_Analysis_Formatted_df_drg_EXTRACRANIAL_TN[\"Min Charge for DRG EXTRACRANIAL PROCEDURES in TN\"] = DRG_Analysis_df_drg_EXTRACRANIAL_TN[\"Min Charge for DRG EXTRACRANIAL PROCEDURES in TN\"].map(\"${:,.2f}\".format)\n",
    "\n",
    "DRG_Analysis_Formatted_df_drg_EXTRACRANIAL_TN"
   ]
  },
  {
   "cell_type": "code",
   "execution_count": 329,
   "metadata": {},
   "outputs": [
    {
     "data": {
      "text/plain": [
       "['TN - Jackson',\n",
       " 'TN - Nashville',\n",
       " 'TN - Knoxville',\n",
       " 'TN - Kingsport',\n",
       " 'TN - Memphis',\n",
       " 'TN - Johnson City',\n",
       " 'TN - Chattanooga']"
      ]
     },
     "execution_count": 329,
     "metadata": {},
     "output_type": "execute_result"
    }
   ],
   "source": [
    "# Create list to store data of the Regions in TN for the specific procedure\n",
    "\n",
    "drg_EXTRACRANIAL_TN_Region_List = []\n",
    "\n",
    "for Region in DataFrame_drg_EXTRACRANIAL_TN[\"hospital_referral_region_description\"]:\n",
    "    if Region not in drg_EXTRACRANIAL_TN_Region_List:\n",
    "        drg_EXTRACRANIAL_TN_Region_List.append(Region)\n",
    "        \n",
    "drg_EXTRACRANIAL_TN_Region_List"
   ]
  },
  {
   "cell_type": "code",
   "execution_count": 331,
   "metadata": {},
   "outputs": [
    {
     "data": {
      "text/html": [
       "<div>\n",
       "<style scoped>\n",
       "    .dataframe tbody tr th:only-of-type {\n",
       "        vertical-align: middle;\n",
       "    }\n",
       "\n",
       "    .dataframe tbody tr th {\n",
       "        vertical-align: top;\n",
       "    }\n",
       "\n",
       "    .dataframe thead th {\n",
       "        text-align: right;\n",
       "    }\n",
       "</style>\n",
       "<table border=\"1\" class=\"dataframe\">\n",
       "  <thead>\n",
       "    <tr style=\"text-align: right;\">\n",
       "      <th></th>\n",
       "      <th>hospital_referral_region_description</th>\n",
       "      <th>average_covered_charges</th>\n",
       "    </tr>\n",
       "  </thead>\n",
       "  <tbody>\n",
       "    <tr>\n",
       "      <th>0</th>\n",
       "      <td>TN - Chattanooga</td>\n",
       "      <td>28377.190000</td>\n",
       "    </tr>\n",
       "    <tr>\n",
       "      <th>1</th>\n",
       "      <td>TN - Jackson</td>\n",
       "      <td>37687.990000</td>\n",
       "    </tr>\n",
       "    <tr>\n",
       "      <th>2</th>\n",
       "      <td>TN - Johnson City</td>\n",
       "      <td>24760.560000</td>\n",
       "    </tr>\n",
       "    <tr>\n",
       "      <th>3</th>\n",
       "      <td>TN - Kingsport</td>\n",
       "      <td>18264.405000</td>\n",
       "    </tr>\n",
       "    <tr>\n",
       "      <th>4</th>\n",
       "      <td>TN - Knoxville</td>\n",
       "      <td>16318.077143</td>\n",
       "    </tr>\n",
       "  </tbody>\n",
       "</table>\n",
       "</div>"
      ],
      "text/plain": [
       "  hospital_referral_region_description  average_covered_charges\n",
       "0                     TN - Chattanooga             28377.190000\n",
       "1                         TN - Jackson             37687.990000\n",
       "2                    TN - Johnson City             24760.560000\n",
       "3                       TN - Kingsport             18264.405000\n",
       "4                       TN - Knoxville             16318.077143"
      ]
     },
     "execution_count": 331,
     "metadata": {},
     "output_type": "execute_result"
    }
   ],
   "source": [
    "# Store the Average Cost Data for the specific procedure Grouped by Region by splitting up the data into groups based upon 'Region'\n",
    "# Filter the DataFrame down only to those columns to chart\n",
    "Average_EXTRACRANIAL_Cost_for_data_grouped_by_Region_in_TN = DataFrame_drg_EXTRACRANIAL_TN.groupby(['hospital_referral_region_description'])\n",
    "\n",
    "# Convert to DataFrame\n",
    "\n",
    "Average_EXTRACRANIAL_Cost_for_data_grouped_by_Region_in_TN_df = Average_EXTRACRANIAL_Cost_for_data_grouped_by_Region_in_TN[[\"average_covered_charges\"]].mean().reset_index()\n",
    "\n",
    "# Preview DataFrame\n",
    "\n",
    "Average_EXTRACRANIAL_Cost_for_data_grouped_by_Region_in_TN_df.head()"
   ]
  },
  {
   "cell_type": "code",
   "execution_count": 332,
   "metadata": {},
   "outputs": [
    {
     "data": {
      "text/plain": [
       "['TN - Chattanooga',\n",
       " 'TN - Jackson',\n",
       " 'TN - Johnson City',\n",
       " 'TN - Kingsport',\n",
       " 'TN - Knoxville',\n",
       " 'TN - Memphis',\n",
       " 'TN - Nashville']"
      ]
     },
     "execution_count": 332,
     "metadata": {},
     "output_type": "execute_result"
    }
   ],
   "source": [
    "# Create list to store data of the Regions in TN for the specific procedure\n",
    "\n",
    "drg_EXTRACRANIAL_TN_Region_List = []\n",
    "\n",
    "for Region in Average_EXTRACRANIAL_Cost_for_data_grouped_by_Region_in_TN_df[\"hospital_referral_region_description\"]:\n",
    "    if Region not in drg_EXTRACRANIAL_TN_Region_List:\n",
    "        drg_EXTRACRANIAL_TN_Region_List.append(Region)\n",
    "        \n",
    "drg_EXTRACRANIAL_TN_Region_List"
   ]
  },
  {
   "cell_type": "code",
   "execution_count": 333,
   "metadata": {},
   "outputs": [
    {
     "data": {
      "text/plain": [
       "[28377.190000000002,\n",
       " 37687.99,\n",
       " 24760.56,\n",
       " 18264.405,\n",
       " 16318.077142857142,\n",
       " 29835.864999999998,\n",
       " 30091.687857142857]"
      ]
     },
     "execution_count": 333,
     "metadata": {},
     "output_type": "execute_result"
    }
   ],
   "source": [
    "# Create list to store data of the Average Charge by Region in TN for the specific procedure\n",
    "\n",
    "drg_EXTRACRANIAL_TN_Average_Covered_Charge_List = []\n",
    "\n",
    "for Cost in Average_EXTRACRANIAL_Cost_for_data_grouped_by_Region_in_TN_df[\"average_covered_charges\"]:\n",
    "    if Cost not in drg_EXTRACRANIAL_TN_Average_Covered_Charge_List:\n",
    "        drg_EXTRACRANIAL_TN_Average_Covered_Charge_List.append(Cost)\n",
    "        \n",
    "drg_EXTRACRANIAL_TN_Average_Covered_Charge_List"
   ]
  },
  {
   "cell_type": "code",
   "execution_count": 335,
   "metadata": {},
   "outputs": [
    {
     "data": {
      "text/html": [
       "<div>\n",
       "<style scoped>\n",
       "    .dataframe tbody tr th:only-of-type {\n",
       "        vertical-align: middle;\n",
       "    }\n",
       "\n",
       "    .dataframe tbody tr th {\n",
       "        vertical-align: top;\n",
       "    }\n",
       "\n",
       "    .dataframe thead th {\n",
       "        text-align: right;\n",
       "    }\n",
       "</style>\n",
       "<table border=\"1\" class=\"dataframe\">\n",
       "  <thead>\n",
       "    <tr style=\"text-align: right;\">\n",
       "      <th></th>\n",
       "      <th>DRG</th>\n",
       "      <th>Region</th>\n",
       "      <th>Average Cost</th>\n",
       "    </tr>\n",
       "  </thead>\n",
       "  <tbody>\n",
       "    <tr>\n",
       "      <th>0</th>\n",
       "      <td>039 - EXTRACRANIAL PROCEDURES W/O CC/MCC</td>\n",
       "      <td>TN - Chattanooga</td>\n",
       "      <td>28377.190000</td>\n",
       "    </tr>\n",
       "    <tr>\n",
       "      <th>1</th>\n",
       "      <td>039 - EXTRACRANIAL PROCEDURES W/O CC/MCC</td>\n",
       "      <td>TN - Jackson</td>\n",
       "      <td>37687.990000</td>\n",
       "    </tr>\n",
       "    <tr>\n",
       "      <th>2</th>\n",
       "      <td>039 - EXTRACRANIAL PROCEDURES W/O CC/MCC</td>\n",
       "      <td>TN - Johnson City</td>\n",
       "      <td>24760.560000</td>\n",
       "    </tr>\n",
       "    <tr>\n",
       "      <th>3</th>\n",
       "      <td>039 - EXTRACRANIAL PROCEDURES W/O CC/MCC</td>\n",
       "      <td>TN - Kingsport</td>\n",
       "      <td>18264.405000</td>\n",
       "    </tr>\n",
       "    <tr>\n",
       "      <th>4</th>\n",
       "      <td>039 - EXTRACRANIAL PROCEDURES W/O CC/MCC</td>\n",
       "      <td>TN - Knoxville</td>\n",
       "      <td>16318.077143</td>\n",
       "    </tr>\n",
       "    <tr>\n",
       "      <th>5</th>\n",
       "      <td>039 - EXTRACRANIAL PROCEDURES W/O CC/MCC</td>\n",
       "      <td>TN - Memphis</td>\n",
       "      <td>29835.865000</td>\n",
       "    </tr>\n",
       "    <tr>\n",
       "      <th>6</th>\n",
       "      <td>039 - EXTRACRANIAL PROCEDURES W/O CC/MCC</td>\n",
       "      <td>TN - Nashville</td>\n",
       "      <td>30091.687857</td>\n",
       "    </tr>\n",
       "  </tbody>\n",
       "</table>\n",
       "</div>"
      ],
      "text/plain": [
       "                                        DRG             Region  Average Cost\n",
       "0  039 - EXTRACRANIAL PROCEDURES W/O CC/MCC   TN - Chattanooga  28377.190000\n",
       "1  039 - EXTRACRANIAL PROCEDURES W/O CC/MCC       TN - Jackson  37687.990000\n",
       "2  039 - EXTRACRANIAL PROCEDURES W/O CC/MCC  TN - Johnson City  24760.560000\n",
       "3  039 - EXTRACRANIAL PROCEDURES W/O CC/MCC     TN - Kingsport  18264.405000\n",
       "4  039 - EXTRACRANIAL PROCEDURES W/O CC/MCC     TN - Knoxville  16318.077143\n",
       "5  039 - EXTRACRANIAL PROCEDURES W/O CC/MCC       TN - Memphis  29835.865000\n",
       "6  039 - EXTRACRANIAL PROCEDURES W/O CC/MCC     TN - Nashville  30091.687857"
      ]
     },
     "execution_count": 335,
     "metadata": {},
     "output_type": "execute_result"
    }
   ],
   "source": [
    "# Create a DataFrame of the Average Cost by Region in TN for the specific procedure by merging the lists\n",
    "Average_Cost_of_Extracranial_per_Region_TN = pd.DataFrame({\n",
    "    \"DRG\": \"039 - EXTRACRANIAL PROCEDURES W/O CC/MCC\",\n",
    "    \"Region\": drg_EXTRACRANIAL_TN_Region_List,\n",
    "    \"Average Cost\": drg_EXTRACRANIAL_TN_Average_Covered_Charge_List\n",
    "})\n",
    "Average_Cost_of_Extracranial_per_Region_TN"
   ]
  },
  {
   "cell_type": "code",
   "execution_count": 337,
   "metadata": {},
   "outputs": [
    {
     "data": {
      "text/plain": [
       "Text(0, 0.5, 'Average Cost ($)')"
      ]
     },
     "execution_count": 337,
     "metadata": {},
     "output_type": "execute_result"
    },
    {
     "data": {
      "image/png": "[encoded data removed]",
      "text/plain": [
       "<Figure size 432x288 with 1 Axes>"
      ]
     },
     "metadata": {
      "needs_background": "light"
     },
     "output_type": "display_data"
    }
   ],
   "source": [
    "# Create a Bar Chart of the Average Cost per Region for EXTRACRANIAL PROCEDURES in TN\n",
    "\n",
    "drg_EXTRACRANIAL_TN_Average_Covered_Charge_List_Values = drg_EXTRACRANIAL_TN_Average_Covered_Charge_List\n",
    "drg_EXTRACRANIAL_TN_Region_List_Values = drg_EXTRACRANIAL_TN_Region_List\n",
    "x_axis = np.arange(len(drg_EXTRACRANIAL_TN_Region_List))\n",
    "\n",
    "plt.bar(x_axis, drg_EXTRACRANIAL_TN_Average_Covered_Charge_List_Values, alpha=0.5, align=\"center\")\n",
    "\n",
    "tick_locations = [value for value in x_axis]\n",
    "plt.xticks(tick_locations, drg_EXTRACRANIAL_TN_Region_List_Values, rotation=\"vertical\")\n",
    "\n",
    "plt.xlim(-0.75, len(x_axis)-0.25)\n",
    "\n",
    "plt.title(\"Average Cost per Region for EXTRACRANIAL PROCEDURES in TN\")\n",
    "plt.ylabel(\"Average Cost ($)\")"
   ]
  },
  {
   "cell_type": "code",
   "execution_count": 283,
   "metadata": {},
   "outputs": [
    {
     "data": {
      "text/html": [
       "<div>\n",
       "<style scoped>\n",
       "    .dataframe tbody tr th:only-of-type {\n",
       "        vertical-align: middle;\n",
       "    }\n",
       "\n",
       "    .dataframe tbody tr th {\n",
       "        vertical-align: top;\n",
       "    }\n",
       "\n",
       "    .dataframe thead th {\n",
       "        text-align: right;\n",
       "    }\n",
       "</style>\n",
       "<table border=\"1\" class=\"dataframe\">\n",
       "  <thead>\n",
       "    <tr style=\"text-align: right;\">\n",
       "      <th></th>\n",
       "      <th>drg_definition</th>\n",
       "      <th>provider_id</th>\n",
       "      <th>provider_name</th>\n",
       "      <th>provider_street_address</th>\n",
       "      <th>provider_city</th>\n",
       "      <th>provider_state</th>\n",
       "      <th>provider_zip_code</th>\n",
       "      <th>hospital_referral_region_description</th>\n",
       "      <th>total_discharges</th>\n",
       "      <th>average_covered_charges</th>\n",
       "      <th>average_medicare_payments</th>\n",
       "      <th>average_medicare_payments_2</th>\n",
       "    </tr>\n",
       "  </thead>\n",
       "  <tbody>\n",
       "    <tr>\n",
       "      <th>881</th>\n",
       "      <td>039 - EXTRACRANIAL PROCEDURES W/O CC/MCC</td>\n",
       "      <td>440006</td>\n",
       "      <td>SKYLINE MEDICAL CENTER</td>\n",
       "      <td>3441 DICKERSON PIKE</td>\n",
       "      <td>NASHVILLE</td>\n",
       "      <td>TN</td>\n",
       "      <td>37207</td>\n",
       "      <td>TN - Nashville</td>\n",
       "      <td>11</td>\n",
       "      <td>41660.09</td>\n",
       "      <td>6186.81</td>\n",
       "      <td>5266.45</td>\n",
       "    </tr>\n",
       "    <tr>\n",
       "      <th>886</th>\n",
       "      <td>039 - EXTRACRANIAL PROCEDURES W/O CC/MCC</td>\n",
       "      <td>440029</td>\n",
       "      <td>WILLIAMSON MEDICAL CENTER</td>\n",
       "      <td>4321 CAROTHERS PARKWAY</td>\n",
       "      <td>FRANKLIN</td>\n",
       "      <td>TN</td>\n",
       "      <td>37067</td>\n",
       "      <td>TN - Nashville</td>\n",
       "      <td>23</td>\n",
       "      <td>20155.47</td>\n",
       "      <td>5723.65</td>\n",
       "      <td>4303.86</td>\n",
       "    </tr>\n",
       "    <tr>\n",
       "      <th>889</th>\n",
       "      <td>039 - EXTRACRANIAL PROCEDURES W/O CC/MCC</td>\n",
       "      <td>440035</td>\n",
       "      <td>GATEWAY MEDICAL CENTER</td>\n",
       "      <td>651 DUNLOP LANE</td>\n",
       "      <td>CLARKSVILLE</td>\n",
       "      <td>TN</td>\n",
       "      <td>37040</td>\n",
       "      <td>TN - Nashville</td>\n",
       "      <td>20</td>\n",
       "      <td>27194.25</td>\n",
       "      <td>6021.85</td>\n",
       "      <td>4833.30</td>\n",
       "    </tr>\n",
       "    <tr>\n",
       "      <th>890</th>\n",
       "      <td>039 - EXTRACRANIAL PROCEDURES W/O CC/MCC</td>\n",
       "      <td>440039</td>\n",
       "      <td>VANDERBILT UNIVERSITY HOSPITAL</td>\n",
       "      <td>1161 21ST AVENUE SOUTH</td>\n",
       "      <td>NASHVILLE</td>\n",
       "      <td>TN</td>\n",
       "      <td>37232</td>\n",
       "      <td>TN - Nashville</td>\n",
       "      <td>34</td>\n",
       "      <td>34467.02</td>\n",
       "      <td>9329.14</td>\n",
       "      <td>6471.17</td>\n",
       "    </tr>\n",
       "    <tr>\n",
       "      <th>893</th>\n",
       "      <td>039 - EXTRACRANIAL PROCEDURES W/O CC/MCC</td>\n",
       "      <td>440053</td>\n",
       "      <td>MIDDLE TENNESSEE MEDICAL CENTER INC</td>\n",
       "      <td>1700 MEDICAL CENTER PARKWAY</td>\n",
       "      <td>MURFREESBORO</td>\n",
       "      <td>TN</td>\n",
       "      <td>37129</td>\n",
       "      <td>TN - Nashville</td>\n",
       "      <td>22</td>\n",
       "      <td>25551.63</td>\n",
       "      <td>6651.50</td>\n",
       "      <td>4480.18</td>\n",
       "    </tr>\n",
       "  </tbody>\n",
       "</table>\n",
       "</div>"
      ],
      "text/plain": [
       "                               drg_definition provider_id  \\\n",
       "881  039 - EXTRACRANIAL PROCEDURES W/O CC/MCC      440006   \n",
       "886  039 - EXTRACRANIAL PROCEDURES W/O CC/MCC      440029   \n",
       "889  039 - EXTRACRANIAL PROCEDURES W/O CC/MCC      440035   \n",
       "890  039 - EXTRACRANIAL PROCEDURES W/O CC/MCC      440039   \n",
       "893  039 - EXTRACRANIAL PROCEDURES W/O CC/MCC      440053   \n",
       "\n",
       "                           provider_name      provider_street_address  \\\n",
       "881               SKYLINE MEDICAL CENTER          3441 DICKERSON PIKE   \n",
       "886            WILLIAMSON MEDICAL CENTER       4321 CAROTHERS PARKWAY   \n",
       "889               GATEWAY MEDICAL CENTER              651 DUNLOP LANE   \n",
       "890       VANDERBILT UNIVERSITY HOSPITAL       1161 21ST AVENUE SOUTH   \n",
       "893  MIDDLE TENNESSEE MEDICAL CENTER INC  1700 MEDICAL CENTER PARKWAY   \n",
       "\n",
       "    provider_city provider_state provider_zip_code  \\\n",
       "881     NASHVILLE             TN             37207   \n",
       "886      FRANKLIN             TN             37067   \n",
       "889   CLARKSVILLE             TN             37040   \n",
       "890     NASHVILLE             TN             37232   \n",
       "893  MURFREESBORO             TN             37129   \n",
       "\n",
       "    hospital_referral_region_description  total_discharges  \\\n",
       "881                       TN - Nashville                11   \n",
       "886                       TN - Nashville                23   \n",
       "889                       TN - Nashville                20   \n",
       "890                       TN - Nashville                34   \n",
       "893                       TN - Nashville                22   \n",
       "\n",
       "     average_covered_charges  average_medicare_payments  \\\n",
       "881                 41660.09                    6186.81   \n",
       "886                 20155.47                    5723.65   \n",
       "889                 27194.25                    6021.85   \n",
       "890                 34467.02                    9329.14   \n",
       "893                 25551.63                    6651.50   \n",
       "\n",
       "     average_medicare_payments_2  \n",
       "881                      5266.45  \n",
       "886                      4303.86  \n",
       "889                      4833.30  \n",
       "890                      6471.17  \n",
       "893                      4480.18  "
      ]
     },
     "execution_count": 283,
     "metadata": {},
     "output_type": "execute_result"
    }
   ],
   "source": [
    "# Filter the data so that only a specific procedure in Nashville TN is in the dataframe\n",
    "\n",
    "DataFrame_drg_EXTRACRANIAL_TN_Nashville = DataFrame.loc[(DataFrame[\"drg_definition\"] == \"039 - EXTRACRANIAL PROCEDURES W/O CC/MCC\") & (DataFrame[\"provider_state\"] == \"TN\") & (DataFrame[\"hospital_referral_region_description\"] == \"TN - Nashville\"),:]\n",
    "\n",
    "DataFrame_drg_EXTRACRANIAL_TN_Nashville.head()"
   ]
  },
  {
   "cell_type": "code",
   "execution_count": 284,
   "metadata": {},
   "outputs": [
    {
     "data": {
      "text/html": [
       "<div>\n",
       "<style scoped>\n",
       "    .dataframe tbody tr th:only-of-type {\n",
       "        vertical-align: middle;\n",
       "    }\n",
       "\n",
       "    .dataframe tbody tr th {\n",
       "        vertical-align: top;\n",
       "    }\n",
       "\n",
       "    .dataframe thead th {\n",
       "        text-align: right;\n",
       "    }\n",
       "</style>\n",
       "<table border=\"1\" class=\"dataframe\">\n",
       "  <thead>\n",
       "    <tr style=\"text-align: right;\">\n",
       "      <th></th>\n",
       "      <th>total_discharges</th>\n",
       "      <th>average_covered_charges</th>\n",
       "      <th>average_medicare_payments</th>\n",
       "      <th>average_medicare_payments_2</th>\n",
       "    </tr>\n",
       "  </thead>\n",
       "  <tbody>\n",
       "    <tr>\n",
       "      <th>count</th>\n",
       "      <td>14.000000</td>\n",
       "      <td>14.000000</td>\n",
       "      <td>14.000000</td>\n",
       "      <td>14.000000</td>\n",
       "    </tr>\n",
       "    <tr>\n",
       "      <th>mean</th>\n",
       "      <td>26.285714</td>\n",
       "      <td>30091.687857</td>\n",
       "      <td>6346.451429</td>\n",
       "      <td>4964.244286</td>\n",
       "    </tr>\n",
       "    <tr>\n",
       "      <th>std</th>\n",
       "      <td>16.647608</td>\n",
       "      <td>12656.813524</td>\n",
       "      <td>901.824318</td>\n",
       "      <td>555.011297</td>\n",
       "    </tr>\n",
       "    <tr>\n",
       "      <th>min</th>\n",
       "      <td>11.000000</td>\n",
       "      <td>12781.980000</td>\n",
       "      <td>5684.750000</td>\n",
       "      <td>4303.860000</td>\n",
       "    </tr>\n",
       "    <tr>\n",
       "      <th>25%</th>\n",
       "      <td>18.250000</td>\n",
       "      <td>20990.177500</td>\n",
       "      <td>6025.450000</td>\n",
       "      <td>4581.902500</td>\n",
       "    </tr>\n",
       "    <tr>\n",
       "      <th>50%</th>\n",
       "      <td>22.500000</td>\n",
       "      <td>27528.955000</td>\n",
       "      <td>6127.570000</td>\n",
       "      <td>4918.355000</td>\n",
       "    </tr>\n",
       "    <tr>\n",
       "      <th>75%</th>\n",
       "      <td>25.500000</td>\n",
       "      <td>35934.072500</td>\n",
       "      <td>6341.690000</td>\n",
       "      <td>5120.327500</td>\n",
       "    </tr>\n",
       "    <tr>\n",
       "      <th>max</th>\n",
       "      <td>74.000000</td>\n",
       "      <td>56329.570000</td>\n",
       "      <td>9329.140000</td>\n",
       "      <td>6471.170000</td>\n",
       "    </tr>\n",
       "  </tbody>\n",
       "</table>\n",
       "</div>"
      ],
      "text/plain": [
       "       total_discharges  average_covered_charges  average_medicare_payments  \\\n",
       "count         14.000000                14.000000                  14.000000   \n",
       "mean          26.285714             30091.687857                6346.451429   \n",
       "std           16.647608             12656.813524                 901.824318   \n",
       "min           11.000000             12781.980000                5684.750000   \n",
       "25%           18.250000             20990.177500                6025.450000   \n",
       "50%           22.500000             27528.955000                6127.570000   \n",
       "75%           25.500000             35934.072500                6341.690000   \n",
       "max           74.000000             56329.570000                9329.140000   \n",
       "\n",
       "       average_medicare_payments_2  \n",
       "count                    14.000000  \n",
       "mean                   4964.244286  \n",
       "std                     555.011297  \n",
       "min                    4303.860000  \n",
       "25%                    4581.902500  \n",
       "50%                    4918.355000  \n",
       "75%                    5120.327500  \n",
       "max                    6471.170000  "
      ]
     },
     "execution_count": 284,
     "metadata": {},
     "output_type": "execute_result"
    }
   ],
   "source": [
    "# Display a statistical overview of the EXTRACRANIAL PROCEDURES Nashville TN DataFrame for reference\n",
    "\n",
    "DataFrame_drg_EXTRACRANIAL_TN_Nashville.describe()"
   ]
  },
  {
   "cell_type": "code",
   "execution_count": 285,
   "metadata": {},
   "outputs": [
    {
     "data": {
      "text/plain": [
       "14"
      ]
     },
     "execution_count": 285,
     "metadata": {},
     "output_type": "execute_result"
    }
   ],
   "source": [
    "# Calculate the Number of Unique Providers that serviced DRG EXTRACRANIAL PROCEDURES in Nashville TN\n",
    "Unique_Provider_count_drg_EXTRACRANIAL_TN_Nashville = len(DataFrame_drg_EXTRACRANIAL_TN_Nashville[\"provider_id\"].unique())\n",
    "Unique_Provider_count_drg_EXTRACRANIAL_TN_Nashville"
   ]
  },
  {
   "cell_type": "code",
   "execution_count": 286,
   "metadata": {},
   "outputs": [
    {
     "data": {
      "text/plain": [
       "368"
      ]
     },
     "execution_count": 286,
     "metadata": {},
     "output_type": "execute_result"
    }
   ],
   "source": [
    "# Calculate the Total Number of Discharges for DRG EXTRACRANIAL PROCEDURES in Nasvhville TN\n",
    "Discharge_Count_drg_EXTRACRANIAL_TN_Nashville = (DataFrame_drg_EXTRACRANIAL_TN_Nashville[\"total_discharges\"].sum())\n",
    "Discharge_Count_drg_EXTRACRANIAL_TN_Nashville"
   ]
  },
  {
   "cell_type": "code",
   "execution_count": 287,
   "metadata": {},
   "outputs": [
    {
     "data": {
      "text/plain": [
       "30091.687857142857"
      ]
     },
     "execution_count": 287,
     "metadata": {},
     "output_type": "execute_result"
    }
   ],
   "source": [
    "# Cacluate the average covered charges for DRG EXTRACRANIAL PROCEDURES in Nashville TN\n",
    "Average_Covered_Charges_drg_EXTRACRANIAL_TN_Nashville = DataFrame_drg_EXTRACRANIAL_TN_Nashville[\"average_covered_charges\"].mean()\n",
    "Average_Covered_Charges_drg_EXTRACRANIAL_TN_Nashville"
   ]
  },
  {
   "cell_type": "code",
   "execution_count": 288,
   "metadata": {},
   "outputs": [
    {
     "data": {
      "text/plain": [
       "12781.98"
      ]
     },
     "execution_count": 288,
     "metadata": {},
     "output_type": "execute_result"
    }
   ],
   "source": [
    "# Cacluate the min covered charge amount for DRG EXTRACRANIAL PROCEDURES in Nashville TN\n",
    "Min_Covered_Charges_drg_EXTRACRANIAL_TN_Nashville = DataFrame_drg_EXTRACRANIAL_TN_Nashville[\"average_covered_charges\"].min()\n",
    "Min_Covered_Charges_drg_EXTRACRANIAL_TN_Nashville"
   ]
  },
  {
   "cell_type": "code",
   "execution_count": 289,
   "metadata": {},
   "outputs": [
    {
     "data": {
      "text/plain": [
       "56329.57"
      ]
     },
     "execution_count": 289,
     "metadata": {},
     "output_type": "execute_result"
    }
   ],
   "source": [
    "# Cacluate the max covered charge amount for DRG EXTRACRANIAL PROCEDURES in Nashville TN\n",
    "Max_Covered_Charges_drg_EXTRACRANIAL_TN_Nashville = DataFrame_drg_EXTRACRANIAL_TN_Nashville[\"average_covered_charges\"].max()\n",
    "Max_Covered_Charges_drg_EXTRACRANIAL_TN_Nashville"
   ]
  },
  {
   "cell_type": "code",
   "execution_count": 290,
   "metadata": {},
   "outputs": [
    {
     "data": {
      "text/plain": [
       "14"
      ]
     },
     "execution_count": 290,
     "metadata": {},
     "output_type": "execute_result"
    }
   ],
   "source": [
    "# Calculate the Total Number of Unique Provider Zip Codes that serviced DRG EXTRACRANIAL PROCEDURES in Nashville TN\n",
    "Unique_Provider_ZipCode_Count_drg_EXTRACRANIAL_TN_Nashville = len(DataFrame_drg_EXTRACRANIAL_TN_Nashville[\"provider_zip_code\"].unique())\n",
    "Unique_Provider_ZipCode_Count_drg_EXTRACRANIAL_TN_Nashville"
   ]
  },
  {
   "cell_type": "code",
   "execution_count": 291,
   "metadata": {},
   "outputs": [
    {
     "data": {
      "text/html": [
       "<div>\n",
       "<style scoped>\n",
       "    .dataframe tbody tr th:only-of-type {\n",
       "        vertical-align: middle;\n",
       "    }\n",
       "\n",
       "    .dataframe tbody tr th {\n",
       "        vertical-align: top;\n",
       "    }\n",
       "\n",
       "    .dataframe thead th {\n",
       "        text-align: right;\n",
       "    }\n",
       "</style>\n",
       "<table border=\"1\" class=\"dataframe\">\n",
       "  <thead>\n",
       "    <tr style=\"text-align: right;\">\n",
       "      <th></th>\n",
       "      <th>Unique Providers that serviced DRG EXTRACRANIAL PROCEDURES in Nashville TN</th>\n",
       "      <th>Unique Provider Zip Codes that serviced DRG EXTRACRANIAL PROCEDURES in Nashville TN</th>\n",
       "      <th>Total Number of Discharges for DRG EXTRACRANIAL PROCEDURES in Nashville TN</th>\n",
       "      <th>Average Charge for DRG EXTRACRANIAL PROCEDURES in Nashville TN</th>\n",
       "      <th>Max Charge for DRG EXTRACRANIAL PROCEDURES in Nashville TN</th>\n",
       "      <th>Min Charge for DRG EXTRACRANIAL PROCEDURES in Nashville TN</th>\n",
       "    </tr>\n",
       "  </thead>\n",
       "  <tbody>\n",
       "    <tr>\n",
       "      <th>0</th>\n",
       "      <td>14</td>\n",
       "      <td>14</td>\n",
       "      <td>368</td>\n",
       "      <td>30091.687857</td>\n",
       "      <td>56329.57</td>\n",
       "      <td>12781.98</td>\n",
       "    </tr>\n",
       "  </tbody>\n",
       "</table>\n",
       "</div>"
      ],
      "text/plain": [
       "   Unique Providers that serviced DRG EXTRACRANIAL PROCEDURES in Nashville TN  \\\n",
       "0                                                 14                            \n",
       "\n",
       "   Unique Provider Zip Codes that serviced DRG EXTRACRANIAL PROCEDURES in Nashville TN  \\\n",
       "0                                                 14                                     \n",
       "\n",
       "   Total Number of Discharges for DRG EXTRACRANIAL PROCEDURES in Nashville TN  \\\n",
       "0                                                368                            \n",
       "\n",
       "   Average Charge for DRG EXTRACRANIAL PROCEDURES in Nashville TN  \\\n",
       "0                                       30091.687857                \n",
       "\n",
       "   Max Charge for DRG EXTRACRANIAL PROCEDURES in Nashville TN  \\\n",
       "0                                           56329.57            \n",
       "\n",
       "   Min Charge for DRG EXTRACRANIAL PROCEDURES in Nashville TN  \n",
       "0                                           12781.98           "
      ]
     },
     "execution_count": 291,
     "metadata": {},
     "output_type": "execute_result"
    }
   ],
   "source": [
    "# Create a summary data frame to hold the DRG EXTRACRANIAL PROCEDURES in Nashville TN Analysis Results\n",
    "\n",
    "DRG_Analysis_df_drg_EXTRACRANIAL_TN_Nashville = pd.DataFrame([\n",
    "    {\"Unique Providers that serviced DRG EXTRACRANIAL PROCEDURES in Nashville TN\": Unique_Provider_count_drg_EXTRACRANIAL_TN_Nashville, \n",
    "     \"Unique Provider Zip Codes that serviced DRG EXTRACRANIAL PROCEDURES in Nashville TN\": Unique_Provider_ZipCode_Count_drg_EXTRACRANIAL_TN_Nashville, \n",
    "     \"Total Number of Discharges for DRG EXTRACRANIAL PROCEDURES in Nashville TN\": Discharge_Count_drg_EXTRACRANIAL_TN_Nashville,\n",
    "     \"Average Charge for DRG EXTRACRANIAL PROCEDURES in Nashville TN\": Average_Covered_Charges_drg_EXTRACRANIAL_TN_Nashville,\n",
    "     \"Max Charge for DRG EXTRACRANIAL PROCEDURES in Nashville TN\": Max_Covered_Charges_drg_EXTRACRANIAL_TN_Nashville,\n",
    "     \"Min Charge for DRG EXTRACRANIAL PROCEDURES in Nashville TN\": Min_Covered_Charges_drg_EXTRACRANIAL_TN_Nashville\n",
    "    }\n",
    "])\n",
    "DRG_Analysis_df_drg_EXTRACRANIAL_TN_Nashville"
   ]
  },
  {
   "cell_type": "code",
   "execution_count": 292,
   "metadata": {},
   "outputs": [
    {
     "data": {
      "text/html": [
       "<div>\n",
       "<style scoped>\n",
       "    .dataframe tbody tr th:only-of-type {\n",
       "        vertical-align: middle;\n",
       "    }\n",
       "\n",
       "    .dataframe tbody tr th {\n",
       "        vertical-align: top;\n",
       "    }\n",
       "\n",
       "    .dataframe thead th {\n",
       "        text-align: right;\n",
       "    }\n",
       "</style>\n",
       "<table border=\"1\" class=\"dataframe\">\n",
       "  <thead>\n",
       "    <tr style=\"text-align: right;\">\n",
       "      <th></th>\n",
       "      <th>Unique Providers that serviced DRG EXTRACRANIAL PROCEDURES in Nashville TN</th>\n",
       "      <th>Unique Provider Zip Codes that serviced DRG EXTRACRANIAL PROCEDURES in Nashville TN</th>\n",
       "      <th>Total Number of Discharges for DRG EXTRACRANIAL PROCEDURES in Nashville TN</th>\n",
       "      <th>Average Charge for DRG EXTRACRANIAL PROCEDURES in Nashville TN</th>\n",
       "      <th>Max Charge for DRG EXTRACRANIAL PROCEDURES in Nashville TN</th>\n",
       "      <th>Min Charge for DRG EXTRACRANIAL PROCEDURES in Nashville TN</th>\n",
       "    </tr>\n",
       "  </thead>\n",
       "  <tbody>\n",
       "    <tr>\n",
       "      <th>0</th>\n",
       "      <td>14</td>\n",
       "      <td>14</td>\n",
       "      <td>368</td>\n",
       "      <td>$30,091.69</td>\n",
       "      <td>$56,329.57</td>\n",
       "      <td>$12,781.98</td>\n",
       "    </tr>\n",
       "  </tbody>\n",
       "</table>\n",
       "</div>"
      ],
      "text/plain": [
       "   Unique Providers that serviced DRG EXTRACRANIAL PROCEDURES in Nashville TN  \\\n",
       "0                                                 14                            \n",
       "\n",
       "   Unique Provider Zip Codes that serviced DRG EXTRACRANIAL PROCEDURES in Nashville TN  \\\n",
       "0                                                 14                                     \n",
       "\n",
       "   Total Number of Discharges for DRG EXTRACRANIAL PROCEDURES in Nashville TN  \\\n",
       "0                                                368                            \n",
       "\n",
       "  Average Charge for DRG EXTRACRANIAL PROCEDURES in Nashville TN  \\\n",
       "0                                         $30,091.69               \n",
       "\n",
       "  Max Charge for DRG EXTRACRANIAL PROCEDURES in Nashville TN  \\\n",
       "0                                         $56,329.57           \n",
       "\n",
       "  Min Charge for DRG EXTRACRANIAL PROCEDURES in Nashville TN  \n",
       "0                                         $12,781.98          "
      ]
     },
     "execution_count": 292,
     "metadata": {},
     "output_type": "execute_result"
    }
   ],
   "source": [
    "# Give the displayed data to hold the DRG EXTRACRANIAL PROCEDURES in Nasvhille TN Analysis Results with cleaner formatting\n",
    "\n",
    "DRG_Analysis_Formatted_df_drg_EXTRACRANIAL_TN_Nashville = DRG_Analysis_df_drg_EXTRACRANIAL_TN_Nashville\n",
    "\n",
    "DRG_Analysis_Formatted_df_drg_EXTRACRANIAL_TN_Nashville[\"Average Charge for DRG EXTRACRANIAL PROCEDURES in Nashville TN\"] = DRG_Analysis_df_drg_EXTRACRANIAL_TN_Nashville[\"Average Charge for DRG EXTRACRANIAL PROCEDURES in Nashville TN\"].map(\"${:,.2f}\".format)\n",
    "DRG_Analysis_Formatted_df_drg_EXTRACRANIAL_TN_Nashville[\"Max Charge for DRG EXTRACRANIAL PROCEDURES in Nashville TN\"] = DRG_Analysis_df_drg_EXTRACRANIAL_TN_Nashville[\"Max Charge for DRG EXTRACRANIAL PROCEDURES in Nashville TN\"].map(\"${:,.2f}\".format)\n",
    "DRG_Analysis_Formatted_df_drg_EXTRACRANIAL_TN_Nashville[\"Min Charge for DRG EXTRACRANIAL PROCEDURES in Nashville TN\"] = DRG_Analysis_df_drg_EXTRACRANIAL_TN_Nashville[\"Min Charge for DRG EXTRACRANIAL PROCEDURES in Nashville TN\"].map(\"${:,.2f}\".format)\n",
    "\n",
    "DRG_Analysis_Formatted_df_drg_EXTRACRANIAL_TN_Nashville"
   ]
  },
  {
   "cell_type": "code",
   "execution_count": 323,
   "metadata": {},
   "outputs": [
    {
     "data": {
      "text/plain": [
       "['SKYLINE MEDICAL CENTER',\n",
       " 'WILLIAMSON MEDICAL CENTER',\n",
       " 'GATEWAY MEDICAL CENTER',\n",
       " 'VANDERBILT UNIVERSITY HOSPITAL',\n",
       " 'MIDDLE TENNESSEE MEDICAL CENTER INC',\n",
       " 'COOKEVILLE REGIONAL MEDICAL CENTER',\n",
       " 'MAURY REGIONAL HOSPITAL',\n",
       " 'ST THOMAS HOSPITAL',\n",
       " 'BAPTIST HOSPITAL',\n",
       " 'HERITAGE MEDICAL CENTER',\n",
       " 'HARTON REGIONAL MEDICAL CENTER',\n",
       " 'SUMMIT MEDICAL CENTER',\n",
       " 'CENTENNIAL MEDICAL CENTER',\n",
       " 'UNIVERSITY MEDICAL CENTER']"
      ]
     },
     "execution_count": 323,
     "metadata": {},
     "output_type": "execute_result"
    }
   ],
   "source": [
    "# Create list to store data of the Providers in Nashville for the specific procedure\n",
    "\n",
    "drg_EXTRACRANIAL_TN_Nashville_ProviderList = []\n",
    "\n",
    "for Provider in DataFrame_drg_EXTRACRANIAL_TN_Nashville[\"provider_name\"]:\n",
    "    if Provider not in drg_EXTRACRANIAL_TN_Nashville_ProviderList:\n",
    "        drg_EXTRACRANIAL_TN_Nashville_ProviderList.append(Provider)\n",
    "        \n",
    "drg_EXTRACRANIAL_TN_Nashville_ProviderList"
   ]
  },
  {
   "cell_type": "code",
   "execution_count": 299,
   "metadata": {},
   "outputs": [
    {
     "data": {
      "text/plain": [
       "[41660.09,\n",
       " 20155.47,\n",
       " 27194.25,\n",
       " 34467.02,\n",
       " 25551.63,\n",
       " 12781.98,\n",
       " 23494.3,\n",
       " 15979.77,\n",
       " 16534.08,\n",
       " 27863.66,\n",
       " 47979.08,\n",
       " 36221.78,\n",
       " 35070.95,\n",
       " 56329.57]"
      ]
     },
     "execution_count": 299,
     "metadata": {},
     "output_type": "execute_result"
    }
   ],
   "source": [
    "# Create list to store data of the Average Charge in Nashville for the specific procedure\n",
    "\n",
    "drg_EXTRACRANIAL_TN_Nashville_Average_Covered_Charge_List = []\n",
    "\n",
    "for Cost in DataFrame_drg_EXTRACRANIAL_TN_Nashville[\"average_covered_charges\"]:\n",
    "    if Cost not in drg_EXTRACRANIAL_TN_Nashville_Average_Covered_Charge_List:\n",
    "        drg_EXTRACRANIAL_TN_Nashville_Average_Covered_Charge_List.append(Cost)\n",
    "        \n",
    "drg_EXTRACRANIAL_TN_Nashville_Average_Covered_Charge_List"
   ]
  },
  {
   "cell_type": "code",
   "execution_count": 334,
   "metadata": {},
   "outputs": [
    {
     "data": {
      "text/html": [
       "<div>\n",
       "<style scoped>\n",
       "    .dataframe tbody tr th:only-of-type {\n",
       "        vertical-align: middle;\n",
       "    }\n",
       "\n",
       "    .dataframe tbody tr th {\n",
       "        vertical-align: top;\n",
       "    }\n",
       "\n",
       "    .dataframe thead th {\n",
       "        text-align: right;\n",
       "    }\n",
       "</style>\n",
       "<table border=\"1\" class=\"dataframe\">\n",
       "  <thead>\n",
       "    <tr style=\"text-align: right;\">\n",
       "      <th></th>\n",
       "      <th>DRG</th>\n",
       "      <th>Provider</th>\n",
       "      <th>Average Cost</th>\n",
       "    </tr>\n",
       "  </thead>\n",
       "  <tbody>\n",
       "    <tr>\n",
       "      <th>0</th>\n",
       "      <td>039 - EXTRACRANIAL PROCEDURES W/O CC/MCC</td>\n",
       "      <td>SKYLINE MEDICAL CENTER</td>\n",
       "      <td>41660.09</td>\n",
       "    </tr>\n",
       "    <tr>\n",
       "      <th>1</th>\n",
       "      <td>039 - EXTRACRANIAL PROCEDURES W/O CC/MCC</td>\n",
       "      <td>WILLIAMSON MEDICAL CENTER</td>\n",
       "      <td>20155.47</td>\n",
       "    </tr>\n",
       "    <tr>\n",
       "      <th>2</th>\n",
       "      <td>039 - EXTRACRANIAL PROCEDURES W/O CC/MCC</td>\n",
       "      <td>GATEWAY MEDICAL CENTER</td>\n",
       "      <td>27194.25</td>\n",
       "    </tr>\n",
       "    <tr>\n",
       "      <th>3</th>\n",
       "      <td>039 - EXTRACRANIAL PROCEDURES W/O CC/MCC</td>\n",
       "      <td>VANDERBILT UNIVERSITY HOSPITAL</td>\n",
       "      <td>34467.02</td>\n",
       "    </tr>\n",
       "    <tr>\n",
       "      <th>4</th>\n",
       "      <td>039 - EXTRACRANIAL PROCEDURES W/O CC/MCC</td>\n",
       "      <td>MIDDLE TENNESSEE MEDICAL CENTER INC</td>\n",
       "      <td>25551.63</td>\n",
       "    </tr>\n",
       "    <tr>\n",
       "      <th>5</th>\n",
       "      <td>039 - EXTRACRANIAL PROCEDURES W/O CC/MCC</td>\n",
       "      <td>COOKEVILLE REGIONAL MEDICAL CENTER</td>\n",
       "      <td>12781.98</td>\n",
       "    </tr>\n",
       "    <tr>\n",
       "      <th>6</th>\n",
       "      <td>039 - EXTRACRANIAL PROCEDURES W/O CC/MCC</td>\n",
       "      <td>MAURY REGIONAL HOSPITAL</td>\n",
       "      <td>23494.30</td>\n",
       "    </tr>\n",
       "    <tr>\n",
       "      <th>7</th>\n",
       "      <td>039 - EXTRACRANIAL PROCEDURES W/O CC/MCC</td>\n",
       "      <td>ST THOMAS HOSPITAL</td>\n",
       "      <td>15979.77</td>\n",
       "    </tr>\n",
       "    <tr>\n",
       "      <th>8</th>\n",
       "      <td>039 - EXTRACRANIAL PROCEDURES W/O CC/MCC</td>\n",
       "      <td>BAPTIST HOSPITAL</td>\n",
       "      <td>16534.08</td>\n",
       "    </tr>\n",
       "    <tr>\n",
       "      <th>9</th>\n",
       "      <td>039 - EXTRACRANIAL PROCEDURES W/O CC/MCC</td>\n",
       "      <td>HERITAGE MEDICAL CENTER</td>\n",
       "      <td>27863.66</td>\n",
       "    </tr>\n",
       "    <tr>\n",
       "      <th>10</th>\n",
       "      <td>039 - EXTRACRANIAL PROCEDURES W/O CC/MCC</td>\n",
       "      <td>HARTON REGIONAL MEDICAL CENTER</td>\n",
       "      <td>47979.08</td>\n",
       "    </tr>\n",
       "    <tr>\n",
       "      <th>11</th>\n",
       "      <td>039 - EXTRACRANIAL PROCEDURES W/O CC/MCC</td>\n",
       "      <td>SUMMIT MEDICAL CENTER</td>\n",
       "      <td>36221.78</td>\n",
       "    </tr>\n",
       "    <tr>\n",
       "      <th>12</th>\n",
       "      <td>039 - EXTRACRANIAL PROCEDURES W/O CC/MCC</td>\n",
       "      <td>CENTENNIAL MEDICAL CENTER</td>\n",
       "      <td>35070.95</td>\n",
       "    </tr>\n",
       "    <tr>\n",
       "      <th>13</th>\n",
       "      <td>039 - EXTRACRANIAL PROCEDURES W/O CC/MCC</td>\n",
       "      <td>UNIVERSITY MEDICAL CENTER</td>\n",
       "      <td>56329.57</td>\n",
       "    </tr>\n",
       "  </tbody>\n",
       "</table>\n",
       "</div>"
      ],
      "text/plain": [
       "                                         DRG  \\\n",
       "0   039 - EXTRACRANIAL PROCEDURES W/O CC/MCC   \n",
       "1   039 - EXTRACRANIAL PROCEDURES W/O CC/MCC   \n",
       "2   039 - EXTRACRANIAL PROCEDURES W/O CC/MCC   \n",
       "3   039 - EXTRACRANIAL PROCEDURES W/O CC/MCC   \n",
       "4   039 - EXTRACRANIAL PROCEDURES W/O CC/MCC   \n",
       "5   039 - EXTRACRANIAL PROCEDURES W/O CC/MCC   \n",
       "6   039 - EXTRACRANIAL PROCEDURES W/O CC/MCC   \n",
       "7   039 - EXTRACRANIAL PROCEDURES W/O CC/MCC   \n",
       "8   039 - EXTRACRANIAL PROCEDURES W/O CC/MCC   \n",
       "9   039 - EXTRACRANIAL PROCEDURES W/O CC/MCC   \n",
       "10  039 - EXTRACRANIAL PROCEDURES W/O CC/MCC   \n",
       "11  039 - EXTRACRANIAL PROCEDURES W/O CC/MCC   \n",
       "12  039 - EXTRACRANIAL PROCEDURES W/O CC/MCC   \n",
       "13  039 - EXTRACRANIAL PROCEDURES W/O CC/MCC   \n",
       "\n",
       "                               Provider  Average Cost  \n",
       "0                SKYLINE MEDICAL CENTER      41660.09  \n",
       "1             WILLIAMSON MEDICAL CENTER      20155.47  \n",
       "2                GATEWAY MEDICAL CENTER      27194.25  \n",
       "3        VANDERBILT UNIVERSITY HOSPITAL      34467.02  \n",
       "4   MIDDLE TENNESSEE MEDICAL CENTER INC      25551.63  \n",
       "5    COOKEVILLE REGIONAL MEDICAL CENTER      12781.98  \n",
       "6               MAURY REGIONAL HOSPITAL      23494.30  \n",
       "7                    ST THOMAS HOSPITAL      15979.77  \n",
       "8                      BAPTIST HOSPITAL      16534.08  \n",
       "9               HERITAGE MEDICAL CENTER      27863.66  \n",
       "10       HARTON REGIONAL MEDICAL CENTER      47979.08  \n",
       "11                SUMMIT MEDICAL CENTER      36221.78  \n",
       "12            CENTENNIAL MEDICAL CENTER      35070.95  \n",
       "13            UNIVERSITY MEDICAL CENTER      56329.57  "
      ]
     },
     "execution_count": 334,
     "metadata": {},
     "output_type": "execute_result"
    }
   ],
   "source": [
    "# Create a DataFrame of the Average Cost of Extracranial per Provider in Nashville by merging the lists\n",
    "Average_Cost_of_Extracranial_per_Provider_Nashvile_df = pd.DataFrame({\n",
    "    \"DRG\": \"039 - EXTRACRANIAL PROCEDURES W/O CC/MCC\",\n",
    "    \"Provider\": drg_EXTRACRANIAL_TN_Nashville_ProviderList,\n",
    "    \"Average Cost\": drg_EXTRACRANIAL_TN_Nashville_Average_Covered_Charge_List\n",
    "})\n",
    "Average_Cost_of_Extracranial_per_Provider_Nashvile_df"
   ]
  },
  {
   "cell_type": "code",
   "execution_count": 328,
   "metadata": {},
   "outputs": [
    {
     "data": {
      "text/plain": [
       "Text(0, 0.5, 'Average Cost ($)')"
      ]
     },
     "execution_count": 328,
     "metadata": {},
     "output_type": "execute_result"
    },
    {
     "data": {
      "image/png": "[encoded data removed]",
      "text/plain": [
       "<Figure size 432x288 with 1 Axes>"
      ]
     },
     "metadata": {
      "needs_background": "light"
     },
     "output_type": "display_data"
    }
   ],
   "source": [
    "# Create a Bar Chart\n",
    "\n",
    "AverageCostValue = drg_EXTRACRANIAL_TN_Nashville_Average_Covered_Charge_List\n",
    "ProviderValues = drg_EXTRACRANIAL_TN_Nashville_ProviderList\n",
    "x_axis = np.arange(len(drg_EXTRACRANIAL_TN_Nashville_ProviderList))\n",
    "\n",
    "plt.bar(x_axis, AverageCostValue, alpha=0.5, align=\"center\")\n",
    "\n",
    "tick_locations = [value for value in x_axis]\n",
    "plt.xticks(tick_locations, ProviderValues, rotation=\"vertical\")\n",
    "\n",
    "plt.xlim(-0.75, len(x_axis)-0.25)\n",
    "\n",
    "plt.title(\"Average Cost per Provider for EXTRACRANIAL PROCEDURES in Nashville\")\n",
    "plt.ylabel(\"Average Cost ($)\")\n"
   ]
  },
  {
   "cell_type": "code",
   "execution_count": null,
   "metadata": {},
   "outputs": [],
   "source": []
  }
 ],
 "metadata": {
  "anaconda-cloud": {},
  "kernel_info": {
   "name": "python3"
  },
  "kernelspec": {
   "display_name": "Python 3",
   "language": "python",
   "name": "python3"
  },
  "language_info": {
   "codemirror_mode": {
    "name": "ipython",
    "version": 3
   },
   "file_extension": ".py",
   "mimetype": "text/x-python",
   "name": "python",
   "nbconvert_exporter": "python",
   "pygments_lexer": "ipython3",
   "version": "3.6.9"
  },
  "nteract": {
   "version": "0.12.3"
  }
 },
 "nbformat": 4,
 "nbformat_minor": 2
}
