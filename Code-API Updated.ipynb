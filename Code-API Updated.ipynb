{
 "cells": [
  {
   "cell_type": "markdown",
   "metadata": {},
   "source": [
    "# Dependencies, set up and API"
   ]
  },
  {
   "cell_type": "code",
   "execution_count": null,
   "metadata": {
    "scrolled": true
   },
   "outputs": [],
   "source": [
    "# Dependencies and Setup\n",
    "import matplotlib.pyplot as plt\n",
    "import requests\n",
    "import pandas as pd\n",
    "import json\n",
    "import numpy as np\n",
    "import time"
   ]
  },
  {
   "cell_type": "code",
   "execution_count": null,
   "metadata": {},
   "outputs": [],
   "source": [
    "# URL for GET requests to retrieve vehicle data\n",
    "\n",
    "url = \"https://data.cms.gov/resource/tcsp-6e99.json?$limit=200000\"\n",
    "\n",
    "# Create a variable for and print the response object to the console to make sure we have a connection to the API\n",
    "Response = requests.get(url)\n",
    "print(Response)\n"
   ]
  },
  {
   "cell_type": "code",
   "execution_count": null,
   "metadata": {},
   "outputs": [],
   "source": [
    "# Create a variable to hold the response data in json format\n",
    "Response_Data = Response.json()\n",
    "\n",
    "# print(json.dumps(Response_Data, indent=4, sort_keys=True))\n"
   ]
  },
  {
   "cell_type": "markdown",
   "metadata": {},
   "source": [
    "# Understanding the entire dataset - 196,325 observations"
   ]
  },
  {
   "cell_type": "code",
   "execution_count": null,
   "metadata": {
    "scrolled": true
   },
   "outputs": [],
   "source": [
    "# Generate a DataFrame from the response data\n",
    "DataFrame = pd.DataFrame(Response_Data)\n",
    "\n",
    "# Display top 5 rows of dataframe for reference\n",
    "\n",
    "DataFrame.head()"
   ]
  },
  {
   "cell_type": "code",
   "execution_count": null,
   "metadata": {},
   "outputs": [],
   "source": [
    "# Display a statistical overview of the DataFrame for reference\n",
    "\n",
    "DataFrame.describe()"
   ]
  },
  {
   "cell_type": "code",
   "execution_count": null,
   "metadata": {},
   "outputs": [],
   "source": [
    "# Check to see if there are any incomplete rows\n",
    "DataFrame.count()"
   ]
  },
  {
   "cell_type": "code",
   "execution_count": null,
   "metadata": {},
   "outputs": [],
   "source": [
    "# Calculate the Number of Unique Diagnosis Related Groups (DRGs): \n",
    "Unique_DRGs = len(DataFrame[\"drg_definition\"].unique())\n",
    "Unique_DRGs"
   ]
  },
  {
   "cell_type": "code",
   "execution_count": null,
   "metadata": {},
   "outputs": [],
   "source": [
    "# Calculate the Number of Unique Providers: \n",
    "Unique_Provider_count = len(DataFrame[\"provider_id\"].unique())\n",
    "Unique_Provider_count"
   ]
  },
  {
   "cell_type": "code",
   "execution_count": null,
   "metadata": {},
   "outputs": [],
   "source": [
    "# Calculate the Total Number of Unique States in the DataFrame\n",
    "Unique_State_Count = len(DataFrame[\"provider_state\"].unique())\n",
    "Unique_State_Count"
   ]
  },
  {
   "cell_type": "code",
   "execution_count": null,
   "metadata": {},
   "outputs": [],
   "source": [
    "# Calculate the Total Number of Unique Provider Zip Codes in the DataFrame\n",
    "Unique_Provider_ZipCode_Count = len(DataFrame[\"provider_zip_code\"].unique())\n",
    "Unique_Provider_ZipCode_Count"
   ]
  },
  {
   "cell_type": "code",
   "execution_count": null,
   "metadata": {},
   "outputs": [],
   "source": [
    "# Calculate the Unique Number of hospital_referral_region_description in the DataFrame\n",
    "Unique_Hospital_Referral_Region_count = len(DataFrame[\"hospital_referral_region\"].unique())\n",
    "Unique_Hospital_Referral_Region_count"
   ]
  },
  {
   "cell_type": "code",
   "execution_count": null,
   "metadata": {},
   "outputs": [],
   "source": [
    "# Observe the DataTypes of each column\n",
    "DataFrame.dtypes"
   ]
  },
  {
   "cell_type": "code",
   "execution_count": null,
   "metadata": {},
   "outputs": [],
   "source": [
    "# Use pd.to_numeric() method to convert the datatype of the Discharge Count column\n",
    "DataFrame['total_discharges'] = pd.to_numeric(DataFrame['total_discharges'])\n",
    "\n",
    "# Use pd.to_numeric() method to convert the datatype of the Average Covered Charges column\n",
    "DataFrame['average_covered_charges'] = pd.to_numeric(DataFrame['average_covered_charges'])\n",
    "\n",
    "# Use pd.to_numeric() method to convert the datatype of the Average Medicare Payments column\n",
    "DataFrame['average_medicare_payments'] = pd.to_numeric(DataFrame['average_medicare_payments'])"
   ]
  },
  {
   "cell_type": "code",
   "execution_count": null,
   "metadata": {},
   "outputs": [],
   "source": [
    "# Observe the updated DataTypes of each column\n",
    "DataFrame.dtypes"
   ]
  },
  {
   "cell_type": "code",
   "execution_count": null,
   "metadata": {},
   "outputs": [],
   "source": [
    "# Calculate the Total Number of Discharges in the DataFrame\n",
    "Discharge_Count = (DataFrame[\"total_discharges\"].sum())\n",
    "Discharge_Count"
   ]
  },
  {
   "cell_type": "code",
   "execution_count": null,
   "metadata": {},
   "outputs": [],
   "source": [
    "# Cacluate the average covered charges amount\n",
    "Average_Covered_Charges = DataFrame[\"average_covered_charges\"].mean()\n",
    "Average_Covered_Charges"
   ]
  },
  {
   "cell_type": "code",
   "execution_count": null,
   "metadata": {},
   "outputs": [],
   "source": [
    "# Cacluate the max covered charge amount\n",
    "Max_Covered_Charges = DataFrame[\"average_covered_charges\"].max()\n",
    "Max_Covered_Charges"
   ]
  },
  {
   "cell_type": "code",
   "execution_count": null,
   "metadata": {},
   "outputs": [],
   "source": [
    "# Cacluate the min covered charge amount\n",
    "Min_Covered_Charges = DataFrame[\"average_covered_charges\"].min()\n",
    "Min_Covered_Charges"
   ]
  },
  {
   "cell_type": "code",
   "execution_count": null,
   "metadata": {},
   "outputs": [],
   "source": [
    "# Create a summary data frame to hold the Analysis Results\n",
    "\n",
    "DRG_Analysis_df = pd.DataFrame([\n",
    "    {\"Unique DRGs\": Unique_DRGs, \n",
    "     \"Unique Providers\": Unique_Provider_count, \n",
    "     \"Unique Provider States\": Unique_State_Count, \n",
    "     \"Unique Provider Zip Codes\": Unique_Provider_ZipCode_Count, \n",
    "     \"Unique Regions\": Unique_Hospital_Referral_Region_count,\n",
    "     \"Total Discharge Count\": Discharge_Count,\n",
    "     \"Average Charge\": Average_Covered_Charges,\n",
    "     \"Max Charge\": Max_Covered_Charges,\n",
    "     \"Min Charge\": Min_Covered_Charges\n",
    "    }\n",
    "])\n",
    "DRG_Analysis_df"
   ]
  },
  {
   "cell_type": "code",
   "execution_count": null,
   "metadata": {},
   "outputs": [],
   "source": [
    "# Give the displayed data cleaner formatting\n",
    "\n",
    "DRG_Analysis_Formatted_df = DRG_Analysis_df\n",
    "\n",
    "DRG_Analysis_Formatted_df[\"Average Charge\"] = DRG_Analysis_df[\"Average Charge\"].map(\"${:,.2f}\".format)\n",
    "DRG_Analysis_Formatted_df[\"Max Charge\"] = DRG_Analysis_df[\"Max Charge\"].map(\"${:,.2f}\".format)\n",
    "DRG_Analysis_Formatted_df[\"Min Charge\"] = DRG_Analysis_df[\"Min Charge\"].map(\"${:,.2f}\".format)\n",
    "\n",
    "DRG_Analysis_Formatted_df"
   ]
  },
  {
   "cell_type": "markdown",
   "metadata": {},
   "source": [
    "# Filtering the dataset for TN"
   ]
  },
  {
   "cell_type": "code",
   "execution_count": null,
   "metadata": {},
   "outputs": [],
   "source": [
    "# Filter the data so that only TN data is in the dataframe\n",
    "\n",
    "DataFrame_TN = DataFrame.loc[DataFrame[\"provider_state\"] == \"TN\", :]\n",
    "DataFrame_TN.head()"
   ]
  },
  {
   "cell_type": "code",
   "execution_count": null,
   "metadata": {},
   "outputs": [],
   "source": [
    "# Display a statistical overview of the TN DataFrame for reference\n",
    "\n",
    "DataFrame_TN.describe()"
   ]
  },
  {
   "cell_type": "code",
   "execution_count": null,
   "metadata": {},
   "outputs": [],
   "source": [
    "# Calculate the Number of Unique Diagnosis Related Groups (DRGs): \n",
    "Unique_DRGs_TN = len(DataFrame_TN[\"drg_definition\"].unique())\n",
    "Unique_DRGs_TN"
   ]
  },
  {
   "cell_type": "code",
   "execution_count": null,
   "metadata": {},
   "outputs": [],
   "source": [
    "# Calculate the Number of Unique Providers in TN: \n",
    "Unique_Provider_count_TN = len(DataFrame_TN[\"provider_id\"].unique())\n",
    "Unique_Provider_count_TN"
   ]
  },
  {
   "cell_type": "code",
   "execution_count": null,
   "metadata": {},
   "outputs": [],
   "source": [
    "# Calculate the Unique Number of hospital_referral_region_description in TN \n",
    "Unique_Hospital_Referral_Region_count_TN = len(DataFrame_TN[\"hospital_referral_region\"].unique())\n",
    "Unique_Hospital_Referral_Region_count_TN"
   ]
  },
  {
   "cell_type": "code",
   "execution_count": null,
   "metadata": {},
   "outputs": [],
   "source": [
    "# Calculate the Total Number of Discharges in TN \n",
    "Discharge_Count_TN = (DataFrame_TN[\"total_discharges\"].sum())\n",
    "Discharge_Count_TN\n"
   ]
  },
  {
   "cell_type": "code",
   "execution_count": null,
   "metadata": {},
   "outputs": [],
   "source": [
    "# Cacluate the average covered charges amount in TN\n",
    "Average_Covered_Charges_TN = DataFrame_TN[\"average_covered_charges\"].mean()\n",
    "Average_Covered_Charges_TN\n"
   ]
  },
  {
   "cell_type": "code",
   "execution_count": null,
   "metadata": {},
   "outputs": [],
   "source": [
    "# Cacluate the max covered charge amount in TN\n",
    "Max_Covered_Charges_TN = DataFrame_TN[\"average_covered_charges\"].max()\n",
    "Max_Covered_Charges_TN\n"
   ]
  },
  {
   "cell_type": "code",
   "execution_count": null,
   "metadata": {},
   "outputs": [],
   "source": [
    "# Cacluate the min covered charge amount in TN\n",
    "Min_Covered_Charges_TN = DataFrame_TN[\"average_covered_charges\"].min()\n",
    "Min_Covered_Charges_TN\n"
   ]
  },
  {
   "cell_type": "code",
   "execution_count": null,
   "metadata": {},
   "outputs": [],
   "source": [
    "# Calculate the Total Number of Unique Provider Zip Codes in TN \n",
    "Unique_Provider_ZipCode_Count_TN = len(DataFrame_TN[\"provider_zip_code\"].unique())\n",
    "Unique_Provider_ZipCode_Count_TN\n"
   ]
  },
  {
   "cell_type": "code",
   "execution_count": null,
   "metadata": {},
   "outputs": [],
   "source": [
    "# Create a summary data frame to hold the DRG Analysis Results for TN\n",
    "\n",
    "DRG_Analysis_df_TN = pd.DataFrame([\n",
    "    {\"Unique DRGs in TN\": Unique_DRGs_TN, \n",
    "     \"Unique Providers in TN\": Unique_Provider_count_TN, \n",
    "     \"Unique Provider Zip Codes in TN\": Unique_Provider_ZipCode_Count_TN, \n",
    "     \"Unique Regions in TN\": Unique_Hospital_Referral_Region_count_TN,\n",
    "     \"Total Discharge Count in TN\": Discharge_Count_TN,\n",
    "     \"Average Charge in TN\": Average_Covered_Charges_TN,\n",
    "     \"Max Charge in TN\": Max_Covered_Charges_TN,\n",
    "     \"Min Charge in TN\": Min_Covered_Charges_TN\n",
    "    }\n",
    "])\n",
    "DRG_Analysis_df_TN"
   ]
  },
  {
   "cell_type": "code",
   "execution_count": null,
   "metadata": {},
   "outputs": [],
   "source": [
    "# Give the displayed data cleaner formatting\n",
    "\n",
    "DRG_Analysis_Formatted_df_TN = DRG_Analysis_df_TN\n",
    "\n",
    "DRG_Analysis_Formatted_df_TN[\"Average Charge in TN\"] = DRG_Analysis_df_TN[\"Average Charge in TN\"].map(\"${:,.2f}\".format)\n",
    "DRG_Analysis_Formatted_df_TN[\"Max Charge in TN\"] = DRG_Analysis_df_TN[\"Max Charge in TN\"].map(\"${:,.2f}\".format)\n",
    "DRG_Analysis_Formatted_df_TN[\"Min Charge in TN\"] = DRG_Analysis_df_TN[\"Min Charge in TN\"].map(\"${:,.2f}\".format)\n",
    "\n",
    "DRG_Analysis_Formatted_df_TN"
   ]
  },
  {
   "cell_type": "markdown",
   "metadata": {},
   "source": [
    "# Filtering the dataset for Nashville - TN "
   ]
  },
  {
   "cell_type": "code",
   "execution_count": null,
   "metadata": {},
   "outputs": [],
   "source": [
    "# Filter the data so that only TN - Nashville data is in the dataframe\n",
    "\n",
    "DataFrame_TN_Nashville = DataFrame.loc[DataFrame[\"hospital_referral_region\"] == \"TN - Nashville\", :]\n",
    "\n",
    "DataFrame_TN_Nashville.head()"
   ]
  },
  {
   "cell_type": "code",
   "execution_count": null,
   "metadata": {},
   "outputs": [],
   "source": [
    "# Display a statistical overview of the TN - Nashville DataFrame for reference\n",
    "\n",
    "DataFrame_TN_Nashville.describe()"
   ]
  },
  {
   "cell_type": "code",
   "execution_count": null,
   "metadata": {},
   "outputs": [],
   "source": [
    "# Calculate the Number of Unique Diagnosis Related Groups (DRGs) in TN - Nashville\n",
    "Unique_DRGs_TN_Nashville = len(DataFrame_TN_Nashville[\"drg_definition\"].unique())\n",
    "Unique_DRGs_TN_Nashville"
   ]
  },
  {
   "cell_type": "code",
   "execution_count": null,
   "metadata": {},
   "outputs": [],
   "source": [
    "# Calculate the Number of Unique Providers in TN - Nashville\n",
    "Unique_Provider_count_TN_Nashville = len(DataFrame_TN_Nashville[\"provider_id\"].unique())\n",
    "Unique_Provider_count_TN_Nashville"
   ]
  },
  {
   "cell_type": "code",
   "execution_count": null,
   "metadata": {},
   "outputs": [],
   "source": [
    "# Calculate the Total Number of Discharges in TN - Nashville\n",
    "Discharge_Count_TN_Nashville = (DataFrame_TN_Nashville[\"total_discharges\"].sum())\n",
    "Discharge_Count_TN_Nashville"
   ]
  },
  {
   "cell_type": "code",
   "execution_count": null,
   "metadata": {},
   "outputs": [],
   "source": [
    "# Cacluate the average covered charges amount in TN - Nashville\n",
    "Average_Covered_Charges_TN_Nashville = DataFrame_TN_Nashville[\"average_covered_charges\"].mean()\n",
    "Average_Covered_Charges_TN_Nashville"
   ]
  },
  {
   "cell_type": "code",
   "execution_count": null,
   "metadata": {},
   "outputs": [],
   "source": [
    "# Cacluate the max covered charge amount in TN - Nashville\n",
    "Max_Covered_Charges_TN_Nashville = DataFrame_TN_Nashville[\"average_covered_charges\"].max()\n",
    "Max_Covered_Charges_TN_Nashville"
   ]
  },
  {
   "cell_type": "code",
   "execution_count": null,
   "metadata": {},
   "outputs": [],
   "source": [
    "# Cacluate the min covered charge amount in TN - Nashville\n",
    "Min_Covered_Charges_TN_Nashville = DataFrame_TN_Nashville[\"average_covered_charges\"].min()\n",
    "Min_Covered_Charges_TN_Nashville"
   ]
  },
  {
   "cell_type": "code",
   "execution_count": null,
   "metadata": {},
   "outputs": [],
   "source": [
    "# Calculate the Total Number of Unique Provider Zip Codes in TN - Nashville\n",
    "Unique_Provider_ZipCode_Count_TN_Nashville = len(DataFrame_TN_Nashville[\"provider_zip_code\"].unique())\n",
    "Unique_Provider_ZipCode_Count_TN_Nashville"
   ]
  },
  {
   "cell_type": "code",
   "execution_count": null,
   "metadata": {},
   "outputs": [],
   "source": [
    "# Create a summary data frame to hold the DRG Analysis Results for TN - Nashville\n",
    "\n",
    "DRG_Analysis_df_TN_Nashville = pd.DataFrame([\n",
    "    {\"Unique DRGs in Nashville\": Unique_DRGs_TN_Nashville, \n",
    "     \"Unique Providers in Nashville\": Unique_Provider_count_TN_Nashville, \n",
    "     \"Unique Provider Zip Codes in Nashville\": Unique_Provider_ZipCode_Count_TN_Nashville, \n",
    "     \"Total Discharge Count in Nashville\": Discharge_Count_TN_Nashville,\n",
    "     \"Average Charge in Nashville\": Average_Covered_Charges_TN_Nashville,\n",
    "     \"Max Charge in Nashville\": Max_Covered_Charges_TN_Nashville,\n",
    "     \"Min Charge in Nashville\": Min_Covered_Charges_TN_Nashville\n",
    "    }\n",
    "])\n",
    "DRG_Analysis_df_TN_Nashville"
   ]
  },
  {
   "cell_type": "code",
   "execution_count": null,
   "metadata": {},
   "outputs": [],
   "source": [
    "# Give the displayed data cleaner formatting\n",
    "\n",
    "DRG_Analysis_Formatted_df_TN_Nashville = DRG_Analysis_df_TN_Nashville\n",
    "\n",
    "DRG_Analysis_Formatted_df_TN_Nashville[\"Average Charge in Nashville\"] = DRG_Analysis_df_TN_Nashville[\"Average Charge in Nashville\"].map(\"${:,.2f}\".format)\n",
    "DRG_Analysis_Formatted_df_TN_Nashville[\"Max Charge in Nashville\"] = DRG_Analysis_df_TN_Nashville[\"Max Charge in Nashville\"].map(\"${:,.2f}\".format)\n",
    "DRG_Analysis_Formatted_df_TN_Nashville[\"Min Charge in Nashville\"] = DRG_Analysis_df_TN_Nashville[\"Min Charge in Nashville\"].map(\"${:,.2f}\".format)\n",
    "\n",
    "DRG_Analysis_Formatted_df_TN_Nashville"
   ]
  },
  {
   "cell_type": "markdown",
   "metadata": {},
   "source": [
    "# Alcohol/ Drug REHAB"
   ]
  },
  {
   "cell_type": "code",
   "execution_count": null,
   "metadata": {},
   "outputs": [],
   "source": [
    "# Filter the data so that only a specific procedure is in the dataframe\n",
    "\n",
    "DataFrame_drg_ALCOHOL_DRUG_REHAB= DataFrame.loc[DataFrame[\"drg_definition\"] == \"897 - ALCOHOL/DRUG ABUSE OR DEPENDENCE W/O REHABILITATION THERAPY W/O MCC\", :]\n",
    "\n",
    "DataFrame_drg_ALCOHOL_DRUG_REHAB.head()\n",
    "\n",
    "# Display a statistical overview of the ALCOHOL_DRUG_REHABPROCEDURES DataFrame for reference\n",
    "\n",
    "DataFrame_drg_ALCOHOL_DRUG_REHAB.describe()\n",
    "\n"
   ]
  },
  {
   "cell_type": "code",
   "execution_count": null,
   "metadata": {},
   "outputs": [],
   "source": [
    "# Calculate the Number of Unique Providers that serviced DRG ALCOHOL_DRUG_REHABPROCEDURES\n",
    "Unique_Provider_count_drg_ALCOHOL_DRUG_REHAB= len(DataFrame_drg_ALCOHOL_DRUG_REHAB[\"provider_id\"].unique())\n",
    "Unique_Provider_count_drg_ALCOHOL_DRUG_REHAB\n",
    "\n",
    "# Calculate the Unique Number of hospital_referral_region_description that serviced DRG ALCOHOL_DRUG_REHABPROCEDURES in the DataFrame\n",
    "Unique_Hospital_Referral_Region_count_drg_ALCOHOL_DRUG_REHAB= len(DataFrame_drg_ALCOHOL_DRUG_REHAB[\"hospital_referral_region\"].unique())\n",
    "Unique_Hospital_Referral_Region_count_drg_ALCOHOL_DRUG_REHAB\n",
    "\n",
    "# Calculate the Total Number of Discharges for DRG ALCOHOL_DRUG_REHABPROCEDURES in the DataFrame\n",
    "Discharge_Count_drg_ALCOHOL_DRUG_REHAB= (DataFrame_drg_ALCOHOL_DRUG_REHAB[\"total_discharges\"].sum())\n",
    "Discharge_Count_drg_ALCOHOL_DRUG_REHAB\n",
    "\n",
    "# Cacluate the average covered charges for DRG ALCOHOL_DRUG_REHABPROCEDURES\n",
    "Average_Covered_Charges_drg_ALCOHOL_DRUG_REHAB= DataFrame_drg_ALCOHOL_DRUG_REHAB[\"average_covered_charges\"].mean()\n",
    "Average_Covered_Charges_drg_ALCOHOL_DRUG_REHAB\n",
    "\n",
    "# Cacluate the max covered charge amount for DRG ALCOHOL_DRUG_REHABPROCEDURES\n",
    "Max_Covered_Charges_drg_ALCOHOL_DRUG_REHAB= DataFrame_drg_ALCOHOL_DRUG_REHAB[\"average_covered_charges\"].max()\n",
    "Max_Covered_Charges_drg_ALCOHOL_DRUG_REHAB\n",
    "\n",
    "# Cacluate the min covered charge amount for DRG ALCOHOL_DRUG_REHABPROCEDURES\n",
    "Min_Covered_Charges_drg_ALCOHOL_DRUG_REHAB= DataFrame_drg_ALCOHOL_DRUG_REHAB[\"average_covered_charges\"].min()\n",
    "Min_Covered_Charges_drg_ALCOHOL_DRUG_REHAB\n",
    "\n",
    "# Calculate the Total Number of Unique Provider Zip Codes that serviced DRG ALCOHOL_DRUG_REHABPROCEDURES\n",
    "Unique_Provider_ZipCode_Count_drg_ALCOHOL_DRUG_REHAB= len(DataFrame_drg_ALCOHOL_DRUG_REHAB[\"provider_zip_code\"].unique())\n",
    "Unique_Provider_ZipCode_Count_drg_ALCOHOL_DRUG_REHAB\n",
    "\n"
   ]
  },
  {
   "cell_type": "code",
   "execution_count": null,
   "metadata": {},
   "outputs": [],
   "source": [
    "# Create a summary data frame to hold the DRG ALCOHOL_DRUG_REHABPROCEDURES Analysis Results\n",
    "\n",
    "DRG_Analysis_df_drg_ALCOHOL_DRUG_REHAB= pd.DataFrame([\n",
    "    {\"Unique Providers that serviced DRG ALCOHOL_DRUG_REHABPROCEDURES\": Unique_Provider_count_drg_ALCOHOL_DRUG_REHAB, \n",
    "     \"Unique Provider Zip Codes that serviced DRG ALCOHOL_DRUG_REHABPROCEDURES\": Unique_Provider_ZipCode_Count_drg_ALCOHOL_DRUG_REHAB, \n",
    "     \"Total Number of Discharges for DRG ALCOHOL_DRUG_REHABPROCEDURES\": Discharge_Count_drg_ALCOHOL_DRUG_REHAB,\n",
    "     \"Average Charge for DRG ALCOHOL_DRUG_REHABPROCEDURES\": Average_Covered_Charges_drg_ALCOHOL_DRUG_REHAB,\n",
    "     \"Max Charge for DRG ALCOHOL_DRUG_REHABPROCEDURES\": Max_Covered_Charges_drg_ALCOHOL_DRUG_REHAB,\n",
    "     \"Min Charge for DRG ALCOHOL_DRUG_REHABPROCEDURES\": Min_Covered_Charges_drg_ALCOHOL_DRUG_REHAB\n",
    "    }\n",
    "])\n",
    "DRG_Analysis_df_drg_ALCOHOL_DRUG_REHAB\n"
   ]
  },
  {
   "cell_type": "code",
   "execution_count": null,
   "metadata": {},
   "outputs": [],
   "source": [
    "# Give the displayed data to hold the DRG ALCOHOL_DRUG_REHABPROCEDURES Analysis Results with cleaner formatting\n",
    "\n",
    "DRG_Analysis_Formatted_df_drg_ALCOHOL_DRUG_REHAB= DRG_Analysis_df_drg_ALCOHOL_DRUG_REHAB\n",
    "\n",
    "DRG_Analysis_Formatted_df_drg_ALCOHOL_DRUG_REHAB[\"Average Charge for DRG ALCOHOL_DRUG_REHABPROCEDURES\"] = DRG_Analysis_df_drg_ALCOHOL_DRUG_REHAB[\"Average Charge for DRG ALCOHOL_DRUG_REHABPROCEDURES\"].map(\"${:,.2f}\".format)\n",
    "DRG_Analysis_Formatted_df_drg_ALCOHOL_DRUG_REHAB[\"Max Charge for DRG ALCOHOL_DRUG_REHABPROCEDURES\"] = DRG_Analysis_df_drg_ALCOHOL_DRUG_REHAB[\"Max Charge for DRG ALCOHOL_DRUG_REHABPROCEDURES\"].map(\"${:,.2f}\".format)\n",
    "DRG_Analysis_Formatted_df_drg_ALCOHOL_DRUG_REHAB[\"Min Charge for DRG ALCOHOL_DRUG_REHABPROCEDURES\"] = DRG_Analysis_df_drg_ALCOHOL_DRUG_REHAB[\"Min Charge for DRG ALCOHOL_DRUG_REHABPROCEDURES\"].map(\"${:,.2f}\".format)\n",
    "\n",
    "DRG_Analysis_Formatted_df_drg_ALCOHOL_DRUG_REHAB\n",
    "\n"
   ]
  },
  {
   "cell_type": "code",
   "execution_count": null,
   "metadata": {},
   "outputs": [],
   "source": [
    "# Filter the data so that only a specific procedure in TN is in the dataframe\n",
    "\n",
    "DataFrame_drg_ALCOHOL_DRUG_REHAB_TN = DataFrame.loc[(DataFrame[\"drg_definition\"] == \"897 - ALCOHOL/DRUG ABUSE OR DEPENDENCE W/O REHABILITATION THERAPY W/O MCC\") & (DataFrame[\"provider_state\"] == \"TN\"), :]\n",
    "\n",
    "DataFrame_drg_ALCOHOL_DRUG_REHAB_TN.head()\n",
    "\n"
   ]
  },
  {
   "cell_type": "code",
   "execution_count": null,
   "metadata": {},
   "outputs": [],
   "source": [
    "# Display a statistical overview of the ALCOHOL_DRUG_REHABPROCEDURES TN DataFrame for reference\n",
    "\n",
    "DataFrame_drg_ALCOHOL_DRUG_REHAB_TN.describe()\n"
   ]
  },
  {
   "cell_type": "code",
   "execution_count": null,
   "metadata": {},
   "outputs": [],
   "source": [
    "# Calculate the Number of Unique Providers that serviced DRG ALCOHOL_DRUG_REHABPROCEDURES in TN\n",
    "Unique_Provider_count_drg_ALCOHOL_DRUG_REHAB_TN = len(DataFrame_drg_ALCOHOL_DRUG_REHAB_TN[\"provider_id\"].unique())\n",
    "Unique_Provider_count_drg_ALCOHOL_DRUG_REHAB_TN\n",
    "\n",
    "# Calculate the Unique Number of hospital_referral_region_description that serviced DRG ALCOHOL_DRUG_REHABPROCEDURES in TN\n",
    "Unique_Hospital_Referral_Region_count_drg_ALCOHOL_DRUG_REHAB_TN = len(DataFrame_drg_ALCOHOL_DRUG_REHAB_TN[\"hospital_referral_region\"].unique())\n",
    "Unique_Hospital_Referral_Region_count_drg_ALCOHOL_DRUG_REHAB_TN\n",
    "\n",
    "# Calculate the Total Number of Discharges for DRG ALCOHOL_DRUG_REHABPROCEDURES in TN\n",
    "Discharge_Count_drg_ALCOHOL_DRUG_REHAB_TN = (DataFrame_drg_ALCOHOL_DRUG_REHAB_TN[\"total_discharges\"].sum())\n",
    "Discharge_Count_drg_ALCOHOL_DRUG_REHAB_TN\n",
    "\n",
    "# Cacluate the average covered charges for DRG ALCOHOL_DRUG_REHABPROCEDURES in TN\n",
    "Average_Covered_Charges_drg_ALCOHOL_DRUG_REHAB_TN = DataFrame_drg_ALCOHOL_DRUG_REHAB_TN[\"average_covered_charges\"].mean()\n",
    "Average_Covered_Charges_drg_ALCOHOL_DRUG_REHAB_TN\n",
    "\n",
    "# Cacluate the min covered charge amount for DRG ALCOHOL_DRUG_REHABPROCEDURES in TN\n",
    "Min_Covered_Charges_drg_ALCOHOL_DRUG_REHAB_TN = DataFrame_drg_ALCOHOL_DRUG_REHAB_TN[\"average_covered_charges\"].min()\n",
    "Min_Covered_Charges_drg_ALCOHOL_DRUG_REHAB_TN\n",
    "\n",
    "# Cacluate the max covered charge amount for DRG ALCOHOL_DRUG_REHABPROCEDURES in TN\n",
    "Max_Covered_Charges_drg_ALCOHOL_DRUG_REHAB_TN = DataFrame_drg_ALCOHOL_DRUG_REHAB_TN[\"average_covered_charges\"].max()\n",
    "Max_Covered_Charges_drg_ALCOHOL_DRUG_REHAB_TN\n",
    "\n",
    "# Calculate the Total Number of Unique Provider Zip Codes that serviced DRG ALCOHOL_DRUG_REHABPROCEDURES in TN\n",
    "Unique_Provider_ZipCode_Count_drg_ALCOHOL_DRUG_REHAB_TN = len(DataFrame_drg_ALCOHOL_DRUG_REHAB_TN[\"provider_zip_code\"].unique())\n",
    "Unique_Provider_ZipCode_Count_drg_ALCOHOL_DRUG_REHAB_TN\n"
   ]
  },
  {
   "cell_type": "code",
   "execution_count": null,
   "metadata": {},
   "outputs": [],
   "source": [
    "# Create a summary data frame to hold the DRG ALCOHOL_DRUG_REHABPROCEDURES in TN Analysis Results\n",
    "\n",
    "DRG_Analysis_df_drg_ALCOHOL_DRUG_REHAB_TN = pd.DataFrame([\n",
    "    {\"Unique Providers that serviced DRG ALCOHOL_DRUG_REHABPROCEDURES in TN\": Unique_Provider_count_drg_ALCOHOL_DRUG_REHAB_TN, \n",
    "     \"Unique Provider Zip Codes that serviced DRG ALCOHOL_DRUG_REHABPROCEDURES in TN\": Unique_Provider_ZipCode_Count_drg_ALCOHOL_DRUG_REHAB_TN, \n",
    "     \"Total Number of Discharges for DRG ALCOHOL_DRUG_REHABPROCEDURES in TN\": Discharge_Count_drg_ALCOHOL_DRUG_REHAB_TN,\n",
    "     \"Average Charge for DRG ALCOHOL_DRUG_REHABPROCEDURES in TN\": Average_Covered_Charges_drg_ALCOHOL_DRUG_REHAB_TN,\n",
    "     \"Max Charge for DRG ALCOHOL_DRUG_REHABPROCEDURES in TN\": Max_Covered_Charges_drg_ALCOHOL_DRUG_REHAB_TN,\n",
    "     \"Min Charge for DRG ALCOHOL_DRUG_REHABPROCEDURES in TN\": Min_Covered_Charges_drg_ALCOHOL_DRUG_REHAB_TN\n",
    "    }\n",
    "])\n",
    "DRG_Analysis_df_drg_ALCOHOL_DRUG_REHAB_TN\n"
   ]
  },
  {
   "cell_type": "code",
   "execution_count": null,
   "metadata": {},
   "outputs": [],
   "source": [
    "# Give the displayed data to hold the DRG ALCOHOL_DRUG_REHABPROCEDURES in TN Analysis Results with cleaner formatting\n",
    "\n",
    "DRG_Analysis_Formatted_df_drg_ALCOHOL_DRUG_REHAB_TN = DRG_Analysis_df_drg_ALCOHOL_DRUG_REHAB_TN\n",
    "\n",
    "DRG_Analysis_Formatted_df_drg_ALCOHOL_DRUG_REHAB_TN[\"Average Charge for DRG ALCOHOL_DRUG_REHABPROCEDURES in TN\"] = DRG_Analysis_df_drg_ALCOHOL_DRUG_REHAB_TN[\"Average Charge for DRG ALCOHOL_DRUG_REHABPROCEDURES in TN\"].map(\"${:,.2f}\".format)\n",
    "DRG_Analysis_Formatted_df_drg_ALCOHOL_DRUG_REHAB_TN[\"Max Charge for DRG ALCOHOL_DRUG_REHABPROCEDURES in TN\"] = DRG_Analysis_df_drg_ALCOHOL_DRUG_REHAB_TN[\"Max Charge for DRG ALCOHOL_DRUG_REHABPROCEDURES in TN\"].map(\"${:,.2f}\".format)\n",
    "DRG_Analysis_Formatted_df_drg_ALCOHOL_DRUG_REHAB_TN[\"Min Charge for DRG ALCOHOL_DRUG_REHABPROCEDURES in TN\"] = DRG_Analysis_df_drg_ALCOHOL_DRUG_REHAB_TN[\"Min Charge for DRG ALCOHOL_DRUG_REHABPROCEDURES in TN\"].map(\"${:,.2f}\".format)\n",
    "\n",
    "DRG_Analysis_Formatted_df_drg_ALCOHOL_DRUG_REHAB_TN"
   ]
  },
  {
   "cell_type": "code",
   "execution_count": null,
   "metadata": {},
   "outputs": [],
   "source": [
    "# Store the Average Charge Data for the specific procedure Grouped by Region by splitting up the data into groups based upon 'Region'\n",
    "# Filter the DataFrame down only to those columns to chart\n",
    "ALCOHOL_DRUG_REHAB_data_grouped_by_Region_in_TN = DataFrame_drg_ALCOHOL_DRUG_REHAB_TN.groupby(['hospital_referral_region'])\n",
    "\n",
    "# Convert to DataFrame\n",
    "\n",
    "ALCOHOL_DRUG_REHAB_Avg_Charge_data_grouped_by_Region_in_TN_df = ALCOHOL_DRUG_REHAB_data_grouped_by_Region_in_TN[[\"average_covered_charges\"]].mean().reset_index()\n",
    "\n",
    "# Preview DataFrame\n",
    "\n",
    "ALCOHOL_DRUG_REHAB_Avg_Charge_data_grouped_by_Region_in_TN_df.head()\n"
   ]
  },
  {
   "cell_type": "code",
   "execution_count": null,
   "metadata": {},
   "outputs": [],
   "source": [
    "# Create list to store data of the Regions in TN for the specific procedure\n",
    "\n",
    "drg_ALCOHOL_DRUG_REHAB_TN_Region_List = []\n",
    "\n",
    "for Region in ALCOHOL_DRUG_REHAB_Avg_Charge_data_grouped_by_Region_in_TN_df[\"hospital_referral_region\"]:\n",
    "    if Region not in drg_ALCOHOL_DRUG_REHAB_TN_Region_List:\n",
    "        drg_ALCOHOL_DRUG_REHAB_TN_Region_List.append(Region)\n",
    "        \n",
    "drg_ALCOHOL_DRUG_REHAB_TN_Region_List\n"
   ]
  },
  {
   "cell_type": "code",
   "execution_count": null,
   "metadata": {},
   "outputs": [],
   "source": [
    "# Create list to store data of the Average Charge by Region in TN for the specific procedure\n",
    "\n",
    "drg_ALCOHOL_DRUG_REHAB_TN_Average_Covered_Charge_List = []\n",
    "\n",
    "for Charge in ALCOHOL_DRUG_REHAB_Avg_Charge_data_grouped_by_Region_in_TN_df[\"average_covered_charges\"]:\n",
    "    if Charge not in drg_ALCOHOL_DRUG_REHAB_TN_Average_Covered_Charge_List:\n",
    "        drg_ALCOHOL_DRUG_REHAB_TN_Average_Covered_Charge_List.append(Charge)\n",
    "        \n",
    "drg_ALCOHOL_DRUG_REHAB_TN_Average_Covered_Charge_List\n"
   ]
  },
  {
   "cell_type": "code",
   "execution_count": null,
   "metadata": {},
   "outputs": [],
   "source": [
    "# Create a DataFrame of the Average Charge by Region in TN for the specific procedure by merging the lists\n",
    "Average_Charge_of_ALCOHOL_DRUG_REHAB_per_Region_TN = pd.DataFrame({\n",
    "    \"DRG\": \"897 - ALCOHOL/DRUG ABUSE OR DEPENDENCE W/O REHABILITATION THERAPY W/O MCC\",\n",
    "    \"Region\": drg_ALCOHOL_DRUG_REHAB_TN_Region_List,\n",
    "    \"Average Charge\": drg_ALCOHOL_DRUG_REHAB_TN_Average_Covered_Charge_List\n",
    "})\n",
    "Average_Charge_of_ALCOHOL_DRUG_REHAB_per_Region_TN\n"
   ]
  },
  {
   "cell_type": "code",
   "execution_count": null,
   "metadata": {},
   "outputs": [],
   "source": [
    "# Create a Bar Chart of the Average Charge per Region for ALCOHOL_DRUG_REHABPROCEDURES in TN\n",
    "\n",
    "drg_ALCOHOL_DRUG_REHAB_TN_Average_Covered_Charge_List_Values = drg_ALCOHOL_DRUG_REHAB_TN_Average_Covered_Charge_List\n",
    "drg_ALCOHOL_DRUG_REHAB_TN_Region_List_Values = drg_ALCOHOL_DRUG_REHAB_TN_Region_List\n",
    "x_axis = np.arange(len(drg_ALCOHOL_DRUG_REHAB_TN_Region_List))\n",
    "\n",
    "plt.bar(x_axis, drg_ALCOHOL_DRUG_REHAB_TN_Average_Covered_Charge_List_Values, alpha=0.5, align=\"center\")\n",
    "\n",
    "tick_locations = [value for value in x_axis]\n",
    "plt.xticks(tick_locations, drg_ALCOHOL_DRUG_REHAB_TN_Region_List_Values, rotation=\"vertical\")\n",
    "\n",
    "plt.xlim(-0.75, len(x_axis)-0.25)\n",
    "\n",
    "plt.title(\"Average Charge per Region for ALCOHOL DRUG REHAB Treatment in TN\")\n",
    "plt.ylabel(\"Average Charge ($)\")\n"
   ]
  },
  {
   "cell_type": "code",
   "execution_count": null,
   "metadata": {},
   "outputs": [],
   "source": [
    "# Filter the data so that only a specific procedure in Nashville TN is in the dataframe\n",
    "\n",
    "DataFrame_drg_ALCOHOL_DRUG_REHAB_TN_Nashville = DataFrame.loc[(DataFrame[\"drg_definition\"] == \"897 - ALCOHOL/DRUG ABUSE OR DEPENDENCE W/O REHABILITATION THERAPY W/O MCC\") & (DataFrame[\"provider_state\"] == \"TN\") & (DataFrame[\"hospital_referral_region\"] == \"TN - Nashville\"),:]\n",
    "\n",
    "DataFrame_drg_ALCOHOL_DRUG_REHAB_TN_Nashville.head()\n"
   ]
  },
  {
   "cell_type": "code",
   "execution_count": null,
   "metadata": {},
   "outputs": [],
   "source": [
    "# Display a statistical overview of the ALCOHOL_DRUG_REHABPROCEDURES Nashville TN DataFrame for reference\n",
    "\n",
    "DataFrame_drg_ALCOHOL_DRUG_REHAB_TN_Nashville.describe()\n",
    "\n"
   ]
  },
  {
   "cell_type": "code",
   "execution_count": null,
   "metadata": {},
   "outputs": [],
   "source": [
    "# Calculate the Number of Unique Providers that serviced DRG ALCOHOL_DRUG_REHABPROCEDURES in Nashville TN\n",
    "Unique_Provider_count_drg_ALCOHOL_DRUG_REHAB_TN_Nashville = len(DataFrame_drg_ALCOHOL_DRUG_REHAB_TN_Nashville[\"provider_id\"].unique())\n",
    "Unique_Provider_count_drg_ALCOHOL_DRUG_REHAB_TN_Nashville\n",
    "\n",
    "# Calculate the Total Number of Discharges for DRG ALCOHOL_DRUG_REHABPROCEDURES in Nasvhville TN\n",
    "Discharge_Count_drg_ALCOHOL_DRUG_REHAB_TN_Nashville = (DataFrame_drg_ALCOHOL_DRUG_REHAB_TN_Nashville[\"total_discharges\"].sum())\n",
    "Discharge_Count_drg_ALCOHOL_DRUG_REHAB_TN_Nashville\n",
    "\n",
    "# Cacluate the average covered charges for DRG ALCOHOL_DRUG_REHABPROCEDURES in Nashville TN\n",
    "Average_Covered_Charges_drg_ALCOHOL_DRUG_REHAB_TN_Nashville = DataFrame_drg_ALCOHOL_DRUG_REHAB_TN_Nashville[\"average_covered_charges\"].mean()\n",
    "Average_Covered_Charges_drg_ALCOHOL_DRUG_REHAB_TN_Nashville\n",
    "\n",
    "# Cacluate the min covered charge amount for DRG ALCOHOL_DRUG_REHABPROCEDURES in Nashville TN\n",
    "Min_Covered_Charges_drg_ALCOHOL_DRUG_REHAB_TN_Nashville = DataFrame_drg_ALCOHOL_DRUG_REHAB_TN_Nashville[\"average_covered_charges\"].min()\n",
    "Min_Covered_Charges_drg_ALCOHOL_DRUG_REHAB_TN_Nashville\n",
    "\n",
    "# Cacluate the max covered charge amount for DRG ALCOHOL_DRUG_REHABPROCEDURES in Nashville TN\n",
    "Max_Covered_Charges_drg_ALCOHOL_DRUG_REHAB_TN_Nashville = DataFrame_drg_ALCOHOL_DRUG_REHAB_TN_Nashville[\"average_covered_charges\"].max()\n",
    "Max_Covered_Charges_drg_ALCOHOL_DRUG_REHAB_TN_Nashville\n",
    "\n",
    "# Calculate the Total Number of Unique Provider Zip Codes that serviced DRG ALCOHOL_DRUG_REHABPROCEDURES in Nashville TN\n",
    "Unique_Provider_ZipCode_Count_drg_ALCOHOL_DRUG_REHAB_TN_Nashville = len(DataFrame_drg_ALCOHOL_DRUG_REHAB_TN_Nashville[\"provider_zip_code\"].unique())\n",
    "Unique_Provider_ZipCode_Count_drg_ALCOHOL_DRUG_REHAB_TN_Nashville\n",
    "\n",
    "# Create a summary data frame to hold the DRG ALCOHOL_DRUG_REHABPROCEDURES in Nashville TN Analysis Results\n",
    "\n",
    "DRG_Analysis_df_drg_ALCOHOL_DRUG_REHAB_TN_Nashville = pd.DataFrame([\n",
    "    {\"Unique Providers that serviced DRG ALCOHOL_DRUG_REHABPROCEDURES in Nashville TN\": Unique_Provider_count_drg_ALCOHOL_DRUG_REHAB_TN_Nashville, \n",
    "     \"Unique Provider Zip Codes that serviced DRG ALCOHOL_DRUG_REHABPROCEDURES in Nashville TN\": Unique_Provider_ZipCode_Count_drg_ALCOHOL_DRUG_REHAB_TN_Nashville, \n",
    "     \"Total Number of Discharges for DRG ALCOHOL_DRUG_REHABPROCEDURES in Nashville TN\": Discharge_Count_drg_ALCOHOL_DRUG_REHAB_TN_Nashville,\n",
    "     \"Average Charge for DRG ALCOHOL_DRUG_REHABPROCEDURES in Nashville TN\": Average_Covered_Charges_drg_ALCOHOL_DRUG_REHAB_TN_Nashville,\n",
    "     \"Max Charge for DRG ALCOHOL_DRUG_REHABPROCEDURES in Nashville TN\": Max_Covered_Charges_drg_ALCOHOL_DRUG_REHAB_TN_Nashville,\n",
    "     \"Min Charge for DRG ALCOHOL_DRUG_REHABPROCEDURES in Nashville TN\": Min_Covered_Charges_drg_ALCOHOL_DRUG_REHAB_TN_Nashville\n",
    "    }\n",
    "])\n",
    "DRG_Analysis_df_drg_ALCOHOL_DRUG_REHAB_TN_Nashville\n"
   ]
  },
  {
   "cell_type": "code",
   "execution_count": null,
   "metadata": {},
   "outputs": [],
   "source": [
    "# Give the displayed data to hold the DRG ALCOHOL_DRUG_REHABPROCEDURES in Nasvhille TN Analysis Results with cleaner formatting\n",
    "\n",
    "DRG_Analysis_Formatted_df_drg_ALCOHOL_DRUG_REHAB_TN_Nashville = DRG_Analysis_df_drg_ALCOHOL_DRUG_REHAB_TN_Nashville\n",
    "\n",
    "DRG_Analysis_Formatted_df_drg_ALCOHOL_DRUG_REHAB_TN_Nashville[\"Average Charge for DRG ALCOHOL_DRUG_REHABPROCEDURES in Nashville TN\"] = DRG_Analysis_df_drg_ALCOHOL_DRUG_REHAB_TN_Nashville[\"Average Charge for DRG ALCOHOL_DRUG_REHABPROCEDURES in Nashville TN\"].map(\"${:,.2f}\".format)\n",
    "DRG_Analysis_Formatted_df_drg_ALCOHOL_DRUG_REHAB_TN_Nashville[\"Max Charge for DRG ALCOHOL_DRUG_REHABPROCEDURES in Nashville TN\"] = DRG_Analysis_df_drg_ALCOHOL_DRUG_REHAB_TN_Nashville[\"Max Charge for DRG ALCOHOL_DRUG_REHABPROCEDURES in Nashville TN\"].map(\"${:,.2f}\".format)\n",
    "DRG_Analysis_Formatted_df_drg_ALCOHOL_DRUG_REHAB_TN_Nashville[\"Min Charge for DRG ALCOHOL_DRUG_REHABPROCEDURES in Nashville TN\"] = DRG_Analysis_df_drg_ALCOHOL_DRUG_REHAB_TN_Nashville[\"Min Charge for DRG ALCOHOL_DRUG_REHABPROCEDURES in Nashville TN\"].map(\"${:,.2f}\".format)\n",
    "\n",
    "DRG_Analysis_Formatted_df_drg_ALCOHOL_DRUG_REHAB_TN_Nashville\n"
   ]
  },
  {
   "cell_type": "code",
   "execution_count": null,
   "metadata": {},
   "outputs": [],
   "source": [
    "# Create list to store data of the Providers in Nashville for the specific procedure\n",
    "\n",
    "drg_ALCOHOL_DRUG_REHAB_TN_Nashville_ProviderList = []\n",
    "\n",
    "for Provider in DataFrame_drg_ALCOHOL_DRUG_REHAB_TN_Nashville[\"provider_name\"]:\n",
    "    if Provider not in drg_ALCOHOL_DRUG_REHAB_TN_Nashville_ProviderList:\n",
    "        drg_ALCOHOL_DRUG_REHAB_TN_Nashville_ProviderList.append(Provider)\n",
    "        \n",
    "drg_ALCOHOL_DRUG_REHAB_TN_Nashville_ProviderList\n"
   ]
  },
  {
   "cell_type": "code",
   "execution_count": null,
   "metadata": {},
   "outputs": [],
   "source": [
    "# Create list to store data of the Average Charge in Nashville for the specific procedure\n",
    "\n",
    "drg_ALCOHOL_DRUG_REHAB_TN_Nashville_Average_Covered_Charge_List = []\n",
    "\n",
    "for Charge in DataFrame_drg_ALCOHOL_DRUG_REHAB_TN_Nashville[\"average_covered_charges\"]:\n",
    "    if Charge not in drg_ALCOHOL_DRUG_REHAB_TN_Nashville_Average_Covered_Charge_List:\n",
    "        drg_ALCOHOL_DRUG_REHAB_TN_Nashville_Average_Covered_Charge_List.append(Charge)\n",
    "        \n",
    "drg_ALCOHOL_DRUG_REHAB_TN_Nashville_Average_Covered_Charge_List\n"
   ]
  },
  {
   "cell_type": "code",
   "execution_count": null,
   "metadata": {},
   "outputs": [],
   "source": [
    "# Create a DataFrame of the Average Charge of ALCOHOL_DRUG_REHABper Provider in Nashville by merging the lists\n",
    "Average_Charge_of_ALCOHOL_DRUG_REHAB_per_Provider_Nashvile_df = pd.DataFrame({\n",
    "    \"DRG\": \"897 - ALCOHOL/DRUG ABUSE OR DEPENDENCE W/O REHABILITATION THERAPY W/O MCC\",\n",
    "    \"Provider\": drg_ALCOHOL_DRUG_REHAB_TN_Nashville_ProviderList,\n",
    "    \"Average Charge\": drg_ALCOHOL_DRUG_REHAB_TN_Nashville_Average_Covered_Charge_List\n",
    "})\n",
    "Average_Charge_of_ALCOHOL_DRUG_REHAB_per_Provider_Nashvile_df\n"
   ]
  },
  {
   "cell_type": "code",
   "execution_count": null,
   "metadata": {},
   "outputs": [],
   "source": [
    "# Create a Bar Chart\n",
    "\n",
    "AverageChargeValue = drg_ALCOHOL_DRUG_REHAB_TN_Nashville_Average_Covered_Charge_List\n",
    "ProviderValues = drg_ALCOHOL_DRUG_REHAB_TN_Nashville_ProviderList\n",
    "x_axis = np.arange(len(drg_ALCOHOL_DRUG_REHAB_TN_Nashville_ProviderList))\n",
    "\n",
    "plt.bar(x_axis, AverageChargeValue, alpha=0.5, align=\"center\")\n",
    "\n",
    "tick_locations = [value for value in x_axis]\n",
    "plt.xticks(tick_locations, ProviderValues, rotation=\"vertical\")\n",
    "\n",
    "plt.xlim(-0.75, len(x_axis)-0.25)\n",
    "\n",
    "plt.title(\"Average Charge per Provider for ALCOHOL DRUG REHAB Treatment in Nashville\")\n",
    "plt.ylabel(\"Average Charge ($)\")\n"
   ]
  },
  {
   "cell_type": "code",
   "execution_count": null,
   "metadata": {},
   "outputs": [],
   "source": [
    "# Store the Average Charge Data for the specific procedure Grouped by State by splitting up the data into groups based upon 'State'\n",
    "# Filter the DataFrame down only to those columns to chart\n",
    "Average_ALCOHOL_DRUG_REHAB_Charge_for_data_grouped_by_State = DataFrame_drg_ALCOHOL_DRUG_REHAB.groupby(['provider_state'])\n",
    "\n",
    "# # Convert to DataFrame\n",
    "\n",
    "Average_ALCOHOL_DRUG_REHAB_Charge_for_data_grouped_by_State_df = Average_ALCOHOL_DRUG_REHAB_Charge_for_data_grouped_by_State[[\"average_covered_charges\"]].mean().reset_index()\n",
    "\n",
    "# Preview DataFrame\n",
    "\n",
    "Average_ALCOHOL_DRUG_REHAB_Charge_for_data_grouped_by_State_df.head()\n"
   ]
  },
  {
   "cell_type": "code",
   "execution_count": null,
   "metadata": {},
   "outputs": [],
   "source": [
    "# Create list to store data of the States for the specific procedure\n",
    "\n",
    "drg_ALCOHOL_DRUG_REHAB_State_List = []\n",
    "\n",
    "for State in Average_ALCOHOL_DRUG_REHAB_Charge_for_data_grouped_by_State_df[\"provider_state\"]:\n",
    "    if State not in drg_ALCOHOL_DRUG_REHAB_State_List:\n",
    "        drg_ALCOHOL_DRUG_REHAB_State_List.append(State)\n",
    "        \n",
    "drg_ALCOHOL_DRUG_REHAB_State_List\n"
   ]
  },
  {
   "cell_type": "code",
   "execution_count": null,
   "metadata": {},
   "outputs": [],
   "source": [
    "# Create list to store data of the Average Charge by State for the specific procedure\n",
    "\n",
    "drg_ALCOHOL_DRUG_REHAB_Average_Covered_Charge_by_State_List = []\n",
    "\n",
    "for Charge in Average_ALCOHOL_DRUG_REHAB_Charge_for_data_grouped_by_State_df[\"average_covered_charges\"]:\n",
    "    if Charge not in drg_ALCOHOL_DRUG_REHAB_Average_Covered_Charge_by_State_List:\n",
    "        drg_ALCOHOL_DRUG_REHAB_Average_Covered_Charge_by_State_List.append(Charge)\n",
    "        \n",
    "drg_ALCOHOL_DRUG_REHAB_Average_Covered_Charge_by_State_List\n"
   ]
  },
  {
   "cell_type": "code",
   "execution_count": null,
   "metadata": {},
   "outputs": [],
   "source": [
    "# Create a DataFrame of the Average Charge by State for the specific procedure by merging the lists\n",
    "Average_Charge_of_ALCOHOL_DRUG_REHAB_per_State = pd.DataFrame({\n",
    "    \"DRG\": \"897 - ALCOHOL/DRUG ABUSE OR DEPENDENCE W/O REHABILITATION THERAPY W/O MCC\",\n",
    "    \"State\": drg_ALCOHOL_DRUG_REHAB_State_List,\n",
    "    \"Average Charge\": drg_ALCOHOL_DRUG_REHAB_Average_Covered_Charge_by_State_List\n",
    "})\n",
    "Average_Charge_of_ALCOHOL_DRUG_REHAB_per_State\n"
   ]
  },
  {
   "cell_type": "code",
   "execution_count": null,
   "metadata": {
    "scrolled": true
   },
   "outputs": [],
   "source": [
    "# Create a Bar Chart of the Average Charge per State for ALCOHOL_DRUG_REHABPROCEDURES\n",
    "\n",
    "drg_ALCOHOL_DRUG_REHAB_Average_Covered_Charge_by_State_List_Values = drg_ALCOHOL_DRUG_REHAB_Average_Covered_Charge_by_State_List\n",
    "drg_ALCOHOL_DRUG_REHAB_State_List_Values = drg_ALCOHOL_DRUG_REHAB_State_List\n",
    "x_axis = np.arange(len(drg_ALCOHOL_DRUG_REHAB_State_List))\n",
    "\n",
    "plt.figure(figsize=(20,5))\n",
    "plt.bar(x_axis, drg_ALCOHOL_DRUG_REHAB_Average_Covered_Charge_by_State_List_Values, alpha=0.5, align=\"center\")\n",
    "\n",
    "tick_locations = [value for value in x_axis]\n",
    "plt.xticks(tick_locations, drg_ALCOHOL_DRUG_REHAB_State_List_Values, rotation=\"vertical\")\n",
    "\n",
    "plt.xlim(-0.75, len(x_axis)-0.25)\n",
    "\n",
    "plt.title(\"Average Charge per State for ALCOHOL DRUG REHAB Treatment\")\n",
    "plt.ylabel(\"Average Charge ($)\")\n"
   ]
  },
  {
   "cell_type": "code",
   "execution_count": null,
   "metadata": {},
   "outputs": [],
   "source": [
    "# Store the Total Discharge Volume Data for the specific procedure Grouped by Provider by splitting up the data into groups based upon 'Provider'\n",
    "# Filter the DataFrame down only to those columns to chart\n",
    "ALCOHOL_DRUG_REHAB_data_grouped_by_Provider = DataFrame_drg_ALCOHOL_DRUG_REHAB.groupby(['provider_name'])\n",
    "\n",
    "# # Convert to DataFrame\n",
    "\n",
    "ALCOHOL_DRUG_REHAB_Total_Discharge_Volume_for_data_grouped_by_Provider_df = ALCOHOL_DRUG_REHAB_data_grouped_by_Provider[[\"total_discharges\"]].sum().reset_index()\n",
    "\n",
    "# Preview DataFrame\n",
    "\n",
    "ALCOHOL_DRUG_REHAB_Total_Discharge_Volume_for_data_grouped_by_Provider_df.head()\n"
   ]
  },
  {
   "cell_type": "code",
   "execution_count": null,
   "metadata": {
    "scrolled": true
   },
   "outputs": [],
   "source": [
    "# Store the Average Charge Data for the specific procedure Grouped by Provider \n",
    "# Filter the DataFrame down only to those columns to chart\n",
    "\n",
    "ALCOHOL_DRUG_REHAB_Average_Charge_for_data_grouped_by_Provider_df = ALCOHOL_DRUG_REHAB_data_grouped_by_Provider[[\"average_covered_charges\"]].mean().reset_index()\n",
    "\n",
    "# Preview DataFrame\n",
    "\n",
    "ALCOHOL_DRUG_REHAB_Average_Charge_for_data_grouped_by_Provider_df.head()\n"
   ]
  },
  {
   "cell_type": "markdown",
   "metadata": {},
   "source": [
    "# DRUG POISONING"
   ]
  },
  {
   "cell_type": "code",
   "execution_count": null,
   "metadata": {},
   "outputs": [],
   "source": [
    "# Filter the data so that only a specific procedure is in the dataframe\n",
    "\n",
    "DataFrame_drg_DRUG_POISONING= DataFrame.loc[DataFrame[\"drg_definition\"] == \"918 - POISONING & TOXIC EFFECTS OF DRUGS W/O MCC\", :]\n",
    "\n",
    "DataFrame_drg_DRUG_POISONING.head()\n"
   ]
  },
  {
   "cell_type": "code",
   "execution_count": null,
   "metadata": {},
   "outputs": [],
   "source": [
    "# Build a scatter plot for Total Discharge Volume vs Price\n",
    "plt.scatter(ALCOHOL_DRUG_REHAB_Total_Discharge_Volume_for_data_grouped_by_Provider_df[\"total_discharges\"], ALCOHOL_DRUG_REHAB_Average_Charge_for_data_grouped_by_Provider_df[\"average_covered_charges\"], marker=\"o\")\n",
    "\n",
    "# Incorporate the other graph properties\n",
    "plt.title(\"Hospital ALCOHOL DRUG REHAB Treatment Volume vs Charge\")\n",
    "plt.ylabel(\"Average Charge ($)\")\n",
    "plt.xlabel(\"Total Case Volume\")\n",
    "plt.grid(True)\n"
   ]
  },
  {
   "cell_type": "code",
   "execution_count": null,
   "metadata": {},
   "outputs": [],
   "source": [
    "# Display a statistical overview of the DRUG_POISONINGPROCEDURES DataFrame for reference\n",
    "\n",
    "DataFrame_drg_DRUG_POISONING.describe()\n"
   ]
  },
  {
   "cell_type": "code",
   "execution_count": null,
   "metadata": {},
   "outputs": [],
   "source": [
    "# Calculate the Number of Unique Providers that serviced DRG DRUG_POISONINGPROCEDURES\n",
    "Unique_Provider_count_drg_DRUG_POISONING= len(DataFrame_drg_DRUG_POISONING[\"provider_id\"].unique())\n",
    "Unique_Provider_count_drg_DRUG_POISONING\n",
    "\n",
    "# Calculate the Unique Number of hospital_referral_region_description that serviced DRG DRUG_POISONINGPROCEDURES in the DataFrame\n",
    "Unique_Hospital_Referral_Region_count_drg_DRUG_POISONING= len(DataFrame_drg_DRUG_POISONING[\"hospital_referral_region\"].unique())\n",
    "Unique_Hospital_Referral_Region_count_drg_DRUG_POISONING\n",
    "\n",
    "# Calculate the Total Number of Discharges for DRG DRUG_POISONINGPROCEDURES in the DataFrame\n",
    "Discharge_Count_drg_DRUG_POISONING= (DataFrame_drg_DRUG_POISONING[\"total_discharges\"].sum())\n",
    "Discharge_Count_drg_DRUG_POISONING\n",
    "\n",
    "# Cacluate the average covered charges for DRG DRUG_POISONINGPROCEDURES\n",
    "Average_Covered_Charges_drg_DRUG_POISONING= DataFrame_drg_DRUG_POISONING[\"average_covered_charges\"].mean()\n",
    "Average_Covered_Charges_drg_DRUG_POISONING\n",
    "# Cacluate the max covered charge amount for DRG DRUG_POISONINGPROCEDURES\n",
    "Max_Covered_Charges_drg_DRUG_POISONING= DataFrame_drg_DRUG_POISONING[\"average_covered_charges\"].max()\n",
    "Max_Covered_Charges_drg_DRUG_POISONING\n",
    "\n",
    "# Cacluate the min covered charge amount for DRG DRUG_POISONINGPROCEDURES\n",
    "Min_Covered_Charges_drg_DRUG_POISONING= DataFrame_drg_DRUG_POISONING[\"average_covered_charges\"].min()\n",
    "Min_Covered_Charges_drg_DRUG_POISONING\n",
    "\n",
    "# Calculate the Total Number of Unique Provider Zip Codes that serviced DRG DRUG_POISONINGPROCEDURES\n",
    "Unique_Provider_ZipCode_Count_drg_DRUG_POISONING= len(DataFrame_drg_DRUG_POISONING[\"provider_zip_code\"].unique())\n",
    "Unique_Provider_ZipCode_Count_drg_DRUG_POISONING\n",
    "\n",
    "# Create a summary data frame to hold the DRG DRUG_POISONINGPROCEDURES Analysis Results\n",
    "\n",
    "DRG_Analysis_df_drg_DRUG_POISONING= pd.DataFrame([\n",
    "    {\"Unique Providers that serviced DRG DRUG_POISONINGPROCEDURES\": Unique_Provider_count_drg_DRUG_POISONING, \n",
    "     \"Unique Provider Zip Codes that serviced DRG DRUG_POISONINGPROCEDURES\": Unique_Provider_ZipCode_Count_drg_DRUG_POISONING, \n",
    "     \"Total Number of Discharges for DRG DRUG_POISONINGPROCEDURES\": Discharge_Count_drg_DRUG_POISONING,\n",
    "     \"Average Charge for DRG DRUG_POISONINGPROCEDURES\": Average_Covered_Charges_drg_DRUG_POISONING,\n",
    "     \"Max Charge for DRG DRUG_POISONINGPROCEDURES\": Max_Covered_Charges_drg_DRUG_POISONING,\n",
    "     \"Min Charge for DRG DRUG_POISONINGPROCEDURES\": Min_Covered_Charges_drg_DRUG_POISONING\n",
    "    }\n",
    "])\n",
    "DRG_Analysis_df_drg_DRUG_POISONING\n",
    "# Give the displayed data to hold the DRG DRUG_POISONINGPROCEDURES Analysis Results with cleaner formatting\n",
    "\n"
   ]
  },
  {
   "cell_type": "code",
   "execution_count": null,
   "metadata": {},
   "outputs": [],
   "source": [
    "# Give the displayed data to hold the DRG DRUG_POISONINGPROCEDURES Analysis Results with cleaner formatting\n",
    "\n",
    "DRG_Analysis_Formatted_df_drg_DRUG_POISONING= DRG_Analysis_df_drg_DRUG_POISONING\n",
    "\n",
    "DRG_Analysis_Formatted_df_drg_DRUG_POISONING[\"Average Charge for DRG DRUG_POISONINGPROCEDURES\"] = DRG_Analysis_df_drg_DRUG_POISONING[\"Average Charge for DRG DRUG_POISONINGPROCEDURES\"].map(\"${:,.2f}\".format)\n",
    "DRG_Analysis_Formatted_df_drg_DRUG_POISONING[\"Max Charge for DRG DRUG_POISONINGPROCEDURES\"] = DRG_Analysis_df_drg_DRUG_POISONING[\"Max Charge for DRG DRUG_POISONINGPROCEDURES\"].map(\"${:,.2f}\".format)\n",
    "DRG_Analysis_Formatted_df_drg_DRUG_POISONING[\"Min Charge for DRG DRUG_POISONINGPROCEDURES\"] = DRG_Analysis_df_drg_DRUG_POISONING[\"Min Charge for DRG DRUG_POISONINGPROCEDURES\"].map(\"${:,.2f}\".format)\n",
    "\n",
    "DRG_Analysis_Formatted_df_drg_DRUG_POISONING\n"
   ]
  },
  {
   "cell_type": "code",
   "execution_count": null,
   "metadata": {
    "scrolled": true
   },
   "outputs": [],
   "source": [
    "# Filter the data so that only a specific procedure in TN is in the dataframe\n",
    "\n",
    "DataFrame_drg_DRUG_POISONING_TN = DataFrame.loc[(DataFrame[\"drg_definition\"] == \"918 - POISONING & TOXIC EFFECTS OF DRUGS W/O MCC\") & (DataFrame[\"provider_state\"] == \"TN\"), :]\n",
    "\n",
    "DataFrame_drg_DRUG_POISONING_TN.head()\n"
   ]
  },
  {
   "cell_type": "code",
   "execution_count": null,
   "metadata": {},
   "outputs": [],
   "source": [
    "# Display a statistical overview of the DRUG_POISONINGPROCEDURES TN DataFrame for reference\n",
    "\n",
    "DataFrame_drg_DRUG_POISONING_TN.describe()\n"
   ]
  },
  {
   "cell_type": "code",
   "execution_count": null,
   "metadata": {},
   "outputs": [],
   "source": [
    "# Calculate the Number of Unique Providers that serviced DRG DRUG_POISONINGPROCEDURES in TN\n",
    "Unique_Provider_count_drg_DRUG_POISONING_TN = len(DataFrame_drg_DRUG_POISONING_TN[\"provider_id\"].unique())\n",
    "Unique_Provider_count_drg_DRUG_POISONING_TN\n",
    "\n",
    "# Calculate the Unique Number of hospital_referral_region_description that serviced DRG DRUG_POISONINGPROCEDURES in TN\n",
    "Unique_Hospital_Referral_Region_count_drg_DRUG_POISONING_TN = len(DataFrame_drg_DRUG_POISONING_TN[\"hospital_referral_region\"].unique())\n",
    "Unique_Hospital_Referral_Region_count_drg_DRUG_POISONING_TN\n",
    "\n",
    "# Calculate the Total Number of Discharges for DRG DRUG_POISONINGPROCEDURES in TN\n",
    "Discharge_Count_drg_DRUG_POISONING_TN = (DataFrame_drg_DRUG_POISONING_TN[\"total_discharges\"].sum())\n",
    "Discharge_Count_drg_DRUG_POISONING_TN\n",
    "\n",
    "# Cacluate the average covered charges for DRG DRUG_POISONINGPROCEDURES in TN\n",
    "Average_Covered_Charges_drg_DRUG_POISONING_TN = DataFrame_drg_DRUG_POISONING_TN[\"average_covered_charges\"].mean()\n",
    "Average_Covered_Charges_drg_DRUG_POISONING_TN\n",
    "\n",
    "# Cacluate the min covered charge amount for DRG DRUG_POISONINGPROCEDURES in TN\n",
    "Min_Covered_Charges_drg_DRUG_POISONING_TN = DataFrame_drg_DRUG_POISONING_TN[\"average_covered_charges\"].min()\n",
    "Min_Covered_Charges_drg_DRUG_POISONING_TN\n",
    "\n",
    "# Cacluate the max covered charge amount for DRG DRUG_POISONINGPROCEDURES in TN\n",
    "Max_Covered_Charges_drg_DRUG_POISONING_TN = DataFrame_drg_DRUG_POISONING_TN[\"average_covered_charges\"].max()\n",
    "Max_Covered_Charges_drg_DRUG_POISONING_TN\n",
    "\n",
    "# Calculate the Total Number of Unique Provider Zip Codes that serviced DRG DRUG_POISONINGPROCEDURES in TN\n",
    "Unique_Provider_ZipCode_Count_drg_DRUG_POISONING_TN = len(DataFrame_drg_DRUG_POISONING_TN[\"provider_zip_code\"].unique())\n",
    "Unique_Provider_ZipCode_Count_drg_DRUG_POISONING_TN\n",
    "\n",
    "# Create a summary data frame to hold the DRG DRUG_POISONINGPROCEDURES in TN Analysis Results\n",
    "\n",
    "DRG_Analysis_df_drg_DRUG_POISONING_TN = pd.DataFrame([\n",
    "    {\"Unique Providers that serviced DRG DRUG_POISONINGPROCEDURES in TN\": Unique_Provider_count_drg_DRUG_POISONING_TN, \n",
    "     \"Unique Provider Zip Codes that serviced DRG DRUG_POISONINGPROCEDURES in TN\": Unique_Provider_ZipCode_Count_drg_DRUG_POISONING_TN, \n",
    "     \"Total Number of Discharges for DRG DRUG_POISONINGPROCEDURES in TN\": Discharge_Count_drg_DRUG_POISONING_TN,\n",
    "     \"Average Charge for DRG DRUG_POISONINGPROCEDURES in TN\": Average_Covered_Charges_drg_DRUG_POISONING_TN,\n",
    "     \"Max Charge for DRG DRUG_POISONINGPROCEDURES in TN\": Max_Covered_Charges_drg_DRUG_POISONING_TN,\n",
    "     \"Min Charge for DRG DRUG_POISONINGPROCEDURES in TN\": Min_Covered_Charges_drg_DRUG_POISONING_TN\n",
    "    }\n",
    "])\n",
    "DRG_Analysis_df_drg_DRUG_POISONING_TN\n"
   ]
  },
  {
   "cell_type": "code",
   "execution_count": null,
   "metadata": {},
   "outputs": [],
   "source": [
    "# Give the displayed data to hold the DRG DRUG_POISONINGPROCEDURES in TN Analysis Results with cleaner formatting\n",
    "\n",
    "DRG_Analysis_Formatted_df_drg_DRUG_POISONING_TN = DRG_Analysis_df_drg_DRUG_POISONING_TN\n",
    "\n",
    "DRG_Analysis_Formatted_df_drg_DRUG_POISONING_TN[\"Average Charge for DRG DRUG_POISONINGPROCEDURES in TN\"] = DRG_Analysis_df_drg_DRUG_POISONING_TN[\"Average Charge for DRG DRUG_POISONINGPROCEDURES in TN\"].map(\"${:,.2f}\".format)\n",
    "DRG_Analysis_Formatted_df_drg_DRUG_POISONING_TN[\"Max Charge for DRG DRUG_POISONINGPROCEDURES in TN\"] = DRG_Analysis_df_drg_DRUG_POISONING_TN[\"Max Charge for DRG DRUG_POISONINGPROCEDURES in TN\"].map(\"${:,.2f}\".format)\n",
    "DRG_Analysis_Formatted_df_drg_DRUG_POISONING_TN[\"Min Charge for DRG DRUG_POISONINGPROCEDURES in TN\"] = DRG_Analysis_df_drg_DRUG_POISONING_TN[\"Min Charge for DRG DRUG_POISONINGPROCEDURES in TN\"].map(\"${:,.2f}\".format)\n",
    "\n",
    "DRG_Analysis_Formatted_df_drg_DRUG_POISONING_TN\n"
   ]
  },
  {
   "cell_type": "code",
   "execution_count": null,
   "metadata": {},
   "outputs": [],
   "source": [
    "# Store the Average Charge Data for the specific procedure Grouped by Region by splitting up the data into groups based upon 'Region'\n",
    "# Filter the DataFrame down only to those columns to chart\n",
    "DRUG_POISONING_data_grouped_by_Region_in_TN = DataFrame_drg_DRUG_POISONING_TN.groupby(['hospital_referral_region'])\n",
    "\n",
    "# Convert to DataFrame\n",
    "\n",
    "DRUG_POISONING_Avg_Charge_data_grouped_by_Region_in_TN_df = DRUG_POISONING_data_grouped_by_Region_in_TN[[\"average_covered_charges\"]].mean().reset_index()\n",
    "\n",
    "# Preview DataFrame\n",
    "\n",
    "DRUG_POISONING_Avg_Charge_data_grouped_by_Region_in_TN_df.head()\n"
   ]
  },
  {
   "cell_type": "code",
   "execution_count": null,
   "metadata": {},
   "outputs": [],
   "source": [
    "# Create list to store data of the Regions in TN for the specific procedure\n",
    "\n",
    "drg_DRUG_POISONING_TN_Region_List = []\n",
    "\n",
    "for Region in DRUG_POISONING_Avg_Charge_data_grouped_by_Region_in_TN_df[\"hospital_referral_region\"]:\n",
    "    if Region not in drg_DRUG_POISONING_TN_Region_List:\n",
    "        drg_DRUG_POISONING_TN_Region_List.append(Region)\n",
    "        \n",
    "drg_DRUG_POISONING_TN_Region_List\n"
   ]
  },
  {
   "cell_type": "code",
   "execution_count": null,
   "metadata": {},
   "outputs": [],
   "source": [
    "# Create list to store data of the Average Charge by Region in TN for the specific procedure\n",
    "\n",
    "drg_DRUG_POISONING_TN_Average_Covered_Charge_List = []\n",
    "\n",
    "for Charge in DRUG_POISONING_Avg_Charge_data_grouped_by_Region_in_TN_df[\"average_covered_charges\"]:\n",
    "    if Charge not in drg_DRUG_POISONING_TN_Average_Covered_Charge_List:\n",
    "        drg_DRUG_POISONING_TN_Average_Covered_Charge_List.append(Charge)\n",
    "        \n",
    "drg_DRUG_POISONING_TN_Average_Covered_Charge_List\n"
   ]
  },
  {
   "cell_type": "code",
   "execution_count": null,
   "metadata": {},
   "outputs": [],
   "source": [
    "# Create a DataFrame of the Average Charge by Region in TN for the specific procedure by merging the lists\n",
    "Average_Charge_of_DRUG_POISONING_per_Region_TN = pd.DataFrame({\n",
    "    \"DRG\": \"918 - POISONING & TOXIC EFFECTS OF DRUGS W/O MCC\",\n",
    "    \"Region\": drg_DRUG_POISONING_TN_Region_List,\n",
    "    \"Average Charge\": drg_DRUG_POISONING_TN_Average_Covered_Charge_List\n",
    "})\n",
    "Average_Charge_of_DRUG_POISONING_per_Region_TN\n"
   ]
  },
  {
   "cell_type": "code",
   "execution_count": null,
   "metadata": {},
   "outputs": [],
   "source": [
    "# Create a Bar Chart of the Average Charge per Region for DRUG_POISONINGPROCEDURES in TN\n",
    "\n",
    "drg_DRUG_POISONING_TN_Average_Covered_Charge_List_Values = drg_DRUG_POISONING_TN_Average_Covered_Charge_List\n",
    "drg_DRUG_POISONING_TN_Region_List_Values = drg_DRUG_POISONING_TN_Region_List\n",
    "x_axis = np.arange(len(drg_DRUG_POISONING_TN_Region_List))\n",
    "\n",
    "plt.bar(x_axis, drg_DRUG_POISONING_TN_Average_Covered_Charge_List_Values, alpha=0.5, align=\"center\")\n",
    "\n",
    "tick_locations = [value for value in x_axis]\n",
    "plt.xticks(tick_locations, drg_DRUG_POISONING_TN_Region_List_Values, rotation=\"vertical\")\n",
    "\n",
    "plt.xlim(-0.75, len(x_axis)-0.25)\n",
    "\n",
    "plt.title(\"Average Charge per Region for DRUG POISONING Treatment in TN\")\n",
    "plt.ylabel(\"Average Charge ($)\")\n"
   ]
  },
  {
   "cell_type": "code",
   "execution_count": null,
   "metadata": {},
   "outputs": [],
   "source": [
    "# Filter the data so that only a specific procedure in Nashville TN is in the dataframe\n",
    "\n",
    "DataFrame_drg_DRUG_POISONING_TN_Nashville = DataFrame.loc[(DataFrame[\"drg_definition\"] == \"918 - POISONING & TOXIC EFFECTS OF DRUGS W/O MCC\") & (DataFrame[\"provider_state\"] == \"TN\") & (DataFrame[\"hospital_referral_region\"] == \"TN - Nashville\"),:]\n",
    "\n",
    "DataFrame_drg_DRUG_POISONING_TN_Nashville.head()\n"
   ]
  },
  {
   "cell_type": "code",
   "execution_count": null,
   "metadata": {},
   "outputs": [],
   "source": [
    "# Display a statistical overview of the DRUG_POISONINGPROCEDURES Nashville TN DataFrame for reference\n",
    "\n",
    "DataFrame_drg_DRUG_POISONING_TN_Nashville.describe()\n"
   ]
  },
  {
   "cell_type": "code",
   "execution_count": null,
   "metadata": {},
   "outputs": [],
   "source": [
    "# Calculate the Number of Unique Providers that serviced DRG DRUG_POISONINGPROCEDURES in Nashville TN\n",
    "Unique_Provider_count_drg_DRUG_POISONING_TN_Nashville = len(DataFrame_drg_DRUG_POISONING_TN_Nashville[\"provider_id\"].unique())\n",
    "Unique_Provider_count_drg_DRUG_POISONING_TN_Nashville\n",
    "\n",
    "# Calculate the Total Number of Discharges for DRG DRUG_POISONINGPROCEDURES in Nasvhville TN\n",
    "Discharge_Count_drg_DRUG_POISONING_TN_Nashville = (DataFrame_drg_DRUG_POISONING_TN_Nashville[\"total_discharges\"].sum())\n",
    "Discharge_Count_drg_DRUG_POISONING_TN_Nashville\n",
    "\n",
    "# Cacluate the average covered charges for DRG DRUG_POISONINGPROCEDURES in Nashville TN\n",
    "Average_Covered_Charges_drg_DRUG_POISONING_TN_Nashville = DataFrame_drg_DRUG_POISONING_TN_Nashville[\"average_covered_charges\"].mean()\n",
    "Average_Covered_Charges_drg_DRUG_POISONING_TN_Nashville\n",
    "\n",
    "# Cacluate the min covered charge amount for DRG DRUG_POISONINGPROCEDURES in Nashville TN\n",
    "Min_Covered_Charges_drg_DRUG_POISONING_TN_Nashville = DataFrame_drg_DRUG_POISONING_TN_Nashville[\"average_covered_charges\"].min()\n",
    "Min_Covered_Charges_drg_DRUG_POISONING_TN_Nashville\n",
    "\n",
    "# Cacluate the max covered charge amount for DRG DRUG_POISONINGPROCEDURES in Nashville TN\n",
    "Max_Covered_Charges_drg_DRUG_POISONING_TN_Nashville = DataFrame_drg_DRUG_POISONING_TN_Nashville[\"average_covered_charges\"].max()\n",
    "Max_Covered_Charges_drg_DRUG_POISONING_TN_Nashville\n",
    "\n",
    "# Calculate the Total Number of Unique Provider Zip Codes that serviced DRG DRUG_POISONINGPROCEDURES in Nashville TN\n",
    "Unique_Provider_ZipCode_Count_drg_DRUG_POISONING_TN_Nashville = len(DataFrame_drg_DRUG_POISONING_TN_Nashville[\"provider_zip_code\"].unique())\n",
    "Unique_Provider_ZipCode_Count_drg_DRUG_POISONING_TN_Nashville\n",
    "\n",
    "# Create a summary data frame to hold the DRG DRUG_POISONINGPROCEDURES in Nashville TN Analysis Results\n",
    "\n",
    "DRG_Analysis_df_drg_DRUG_POISONING_TN_Nashville = pd.DataFrame([\n",
    "    {\"Unique Providers that serviced DRG DRUG_POISONINGPROCEDURES in Nashville TN\": Unique_Provider_count_drg_DRUG_POISONING_TN_Nashville, \n",
    "     \"Unique Provider Zip Codes that serviced DRG DRUG_POISONINGPROCEDURES in Nashville TN\": Unique_Provider_ZipCode_Count_drg_DRUG_POISONING_TN_Nashville, \n",
    "     \"Total Number of Discharges for DRG DRUG_POISONINGPROCEDURES in Nashville TN\": Discharge_Count_drg_DRUG_POISONING_TN_Nashville,\n",
    "     \"Average Charge for DRG DRUG_POISONINGPROCEDURES in Nashville TN\": Average_Covered_Charges_drg_DRUG_POISONING_TN_Nashville,\n",
    "     \"Max Charge for DRG DRUG_POISONINGPROCEDURES in Nashville TN\": Max_Covered_Charges_drg_DRUG_POISONING_TN_Nashville,\n",
    "     \"Min Charge for DRG DRUG_POISONINGPROCEDURES in Nashville TN\": Min_Covered_Charges_drg_DRUG_POISONING_TN_Nashville\n",
    "    }\n",
    "])\n",
    "DRG_Analysis_df_drg_DRUG_POISONING_TN_Nashville\n"
   ]
  },
  {
   "cell_type": "code",
   "execution_count": null,
   "metadata": {},
   "outputs": [],
   "source": [
    "# Give the displayed data to hold the DRG DRUG_POISONINGPROCEDURES in Nasvhille TN Analysis Results with cleaner formatting\n",
    "\n",
    "DRG_Analysis_Formatted_df_drg_DRUG_POISONING_TN_Nashville = DRG_Analysis_df_drg_DRUG_POISONING_TN_Nashville\n",
    "\n",
    "DRG_Analysis_Formatted_df_drg_DRUG_POISONING_TN_Nashville[\"Average Charge for DRG DRUG_POISONINGPROCEDURES in Nashville TN\"] = DRG_Analysis_df_drg_DRUG_POISONING_TN_Nashville[\"Average Charge for DRG DRUG_POISONINGPROCEDURES in Nashville TN\"].map(\"${:,.2f}\".format)\n",
    "DRG_Analysis_Formatted_df_drg_DRUG_POISONING_TN_Nashville[\"Max Charge for DRG DRUG_POISONINGPROCEDURES in Nashville TN\"] = DRG_Analysis_df_drg_DRUG_POISONING_TN_Nashville[\"Max Charge for DRG DRUG_POISONINGPROCEDURES in Nashville TN\"].map(\"${:,.2f}\".format)\n",
    "DRG_Analysis_Formatted_df_drg_DRUG_POISONING_TN_Nashville[\"Min Charge for DRG DRUG_POISONINGPROCEDURES in Nashville TN\"] = DRG_Analysis_df_drg_DRUG_POISONING_TN_Nashville[\"Min Charge for DRG DRUG_POISONINGPROCEDURES in Nashville TN\"].map(\"${:,.2f}\".format)\n",
    "\n",
    "DRG_Analysis_Formatted_df_drg_DRUG_POISONING_TN_Nashville\n"
   ]
  },
  {
   "cell_type": "code",
   "execution_count": null,
   "metadata": {},
   "outputs": [],
   "source": [
    "# Create list to store data of the Providers in Nashville for the specific procedure\n",
    "\n",
    "drg_DRUG_POISONING_TN_Nashville_ProviderList = []\n",
    "\n",
    "for Provider in DataFrame_drg_DRUG_POISONING_TN_Nashville[\"provider_name\"]:\n",
    "    if Provider not in drg_DRUG_POISONING_TN_Nashville_ProviderList:\n",
    "        drg_DRUG_POISONING_TN_Nashville_ProviderList.append(Provider)\n",
    "        \n",
    "drg_DRUG_POISONING_TN_Nashville_ProviderList\n"
   ]
  },
  {
   "cell_type": "code",
   "execution_count": null,
   "metadata": {},
   "outputs": [],
   "source": [
    "# Create list to store data of the Average Charge in Nashville for the specific procedure\n",
    "\n",
    "drg_DRUG_POISONING_TN_Nashville_Average_Covered_Charge_List = []\n",
    "\n",
    "for Charge in DataFrame_drg_DRUG_POISONING_TN_Nashville[\"average_covered_charges\"]:\n",
    "    if Charge not in drg_DRUG_POISONING_TN_Nashville_Average_Covered_Charge_List:\n",
    "        drg_DRUG_POISONING_TN_Nashville_Average_Covered_Charge_List.append(Charge)\n",
    "        \n",
    "drg_DRUG_POISONING_TN_Nashville_Average_Covered_Charge_List\n"
   ]
  },
  {
   "cell_type": "code",
   "execution_count": null,
   "metadata": {},
   "outputs": [],
   "source": [
    "# Create a DataFrame of the Average Charge of DRUG_POISONINGper Provider in Nashville by merging the lists\n",
    "Average_Charge_of_DRUG_POISONING_per_Provider_Nashvile_df = pd.DataFrame({\n",
    "    \"DRG\": \"918 - POISONING & TOXIC EFFECTS OF DRUGS W/O MCC\",\n",
    "    \"Provider\": drg_DRUG_POISONING_TN_Nashville_ProviderList,\n",
    "    \"Average Charge\": drg_DRUG_POISONING_TN_Nashville_Average_Covered_Charge_List\n",
    "})\n",
    "Average_Charge_of_DRUG_POISONING_per_Provider_Nashvile_df\n"
   ]
  },
  {
   "cell_type": "code",
   "execution_count": null,
   "metadata": {},
   "outputs": [],
   "source": [
    "# Create a Bar Chart\n",
    "\n",
    "AverageChargeValue = drg_DRUG_POISONING_TN_Nashville_Average_Covered_Charge_List\n",
    "ProviderValues = drg_DRUG_POISONING_TN_Nashville_ProviderList\n",
    "x_axis = np.arange(len(drg_DRUG_POISONING_TN_Nashville_ProviderList))\n",
    "\n",
    "plt.bar(x_axis, AverageChargeValue, alpha=0.5, align=\"center\")\n",
    "\n",
    "tick_locations = [value for value in x_axis]\n",
    "plt.xticks(tick_locations, ProviderValues, rotation=\"vertical\")\n",
    "\n",
    "plt.xlim(-0.75, len(x_axis)-0.25)\n",
    "\n",
    "plt.title(\"Avg Charge by Hospital for Treating DRUG POISONING in Nashville\")\n",
    "plt.ylabel(\"Average Charge ($)\")\n"
   ]
  },
  {
   "cell_type": "code",
   "execution_count": null,
   "metadata": {},
   "outputs": [],
   "source": [
    "# Store the Average Charge Data for the specific procedure Grouped by State by splitting up the data into groups based upon 'State'\n",
    "# Filter the DataFrame down only to those columns to chart\n",
    "Average_DRUG_POISONING_Charge_for_data_grouped_by_State = DataFrame_drg_DRUG_POISONING.groupby(['provider_state'])\n",
    "\n",
    "# # Convert to DataFrame\n",
    "\n",
    "Average_DRUG_POISONING_Charge_for_data_grouped_by_State_df = Average_DRUG_POISONING_Charge_for_data_grouped_by_State[[\"average_covered_charges\"]].mean().reset_index()\n",
    "\n",
    "# Preview DataFrame\n",
    "\n",
    "Average_DRUG_POISONING_Charge_for_data_grouped_by_State_df.head()\n"
   ]
  },
  {
   "cell_type": "code",
   "execution_count": null,
   "metadata": {},
   "outputs": [],
   "source": [
    "# Create list to store data of the States for the specific procedure\n",
    "\n",
    "drg_DRUG_POISONING_State_List = []\n",
    "\n",
    "for State in Average_DRUG_POISONING_Charge_for_data_grouped_by_State_df[\"provider_state\"]:\n",
    "    if State not in drg_DRUG_POISONING_State_List:\n",
    "        drg_DRUG_POISONING_State_List.append(State)\n",
    "        \n",
    "drg_DRUG_POISONING_State_List\n"
   ]
  },
  {
   "cell_type": "code",
   "execution_count": null,
   "metadata": {},
   "outputs": [],
   "source": [
    "# Create list to store data of the Average Charge by State for the specific procedure\n",
    "\n",
    "drg_DRUG_POISONING_Average_Covered_Charge_by_State_List = []\n",
    "\n",
    "for Charge in Average_DRUG_POISONING_Charge_for_data_grouped_by_State_df[\"average_covered_charges\"]:\n",
    "    if Charge not in drg_DRUG_POISONING_Average_Covered_Charge_by_State_List:\n",
    "        drg_DRUG_POISONING_Average_Covered_Charge_by_State_List.append(Charge)\n",
    "        \n",
    "drg_DRUG_POISONING_Average_Covered_Charge_by_State_List\n"
   ]
  },
  {
   "cell_type": "code",
   "execution_count": null,
   "metadata": {},
   "outputs": [],
   "source": [
    "# Create a DataFrame of the Average Charge by State for the specific procedure by merging the lists\n",
    "Average_Charge_of_DRUG_POISONING_per_State = pd.DataFrame({\n",
    "    \"DRG\": \"918 - POISONING & TOXIC EFFECTS OF DRUGS W/O MCC\",\n",
    "    \"State\": drg_DRUG_POISONING_State_List,\n",
    "    \"Average Charge\": drg_DRUG_POISONING_Average_Covered_Charge_by_State_List\n",
    "})\n",
    "Average_Charge_of_DRUG_POISONING_per_State\n"
   ]
  },
  {
   "cell_type": "code",
   "execution_count": null,
   "metadata": {},
   "outputs": [],
   "source": [
    "# Create a Bar Chart of the Average Charge per State for DRUG_POISONINGPROCEDURES\n",
    "\n",
    "drg_DRUG_POISONING_Average_Covered_Charge_by_State_List_Values = drg_DRUG_POISONING_Average_Covered_Charge_by_State_List\n",
    "drg_DRUG_POISONING_State_List_Values = drg_DRUG_POISONING_State_List\n",
    "x_axis = np.arange(len(drg_DRUG_POISONING_State_List))\n",
    "\n",
    "plt.figure(figsize=(20,5))\n",
    "plt.bar(x_axis, drg_DRUG_POISONING_Average_Covered_Charge_by_State_List_Values, alpha=0.5, align=\"center\")\n",
    "\n",
    "tick_locations = [value for value in x_axis]\n",
    "plt.xticks(tick_locations, drg_DRUG_POISONING_State_List_Values, rotation=\"vertical\")\n",
    "\n",
    "plt.xlim(-0.75, len(x_axis)-0.25)\n",
    "\n",
    "plt.title(\"Average Charge per State for DRUG POISONING Treatment\")\n",
    "plt.ylabel(\"Average Charge ($)\")\n",
    "plt.xlabel (\"US States\")"
   ]
  },
  {
   "cell_type": "code",
   "execution_count": null,
   "metadata": {},
   "outputs": [],
   "source": [
    "# Store the Total Discharge Volume Data for the specific procedure Grouped by Provider by splitting up the data into groups based upon 'Provider'\n",
    "# Filter the DataFrame down only to those columns to chart\n",
    "DRUG_POISONING_data_grouped_by_Provider = DataFrame_drg_DRUG_POISONING.groupby(['provider_name'])\n",
    "\n",
    "# # Convert to DataFrame\n",
    "\n",
    "DRUG_POISONING_Total_Discharge_Volume_for_data_grouped_by_Provider_df = DRUG_POISONING_data_grouped_by_Provider[[\"total_discharges\"]].sum().reset_index()\n",
    "\n",
    "# Preview DataFrame\n",
    "\n",
    "DRUG_POISONING_Total_Discharge_Volume_for_data_grouped_by_Provider_df.head()\n"
   ]
  },
  {
   "cell_type": "code",
   "execution_count": null,
   "metadata": {},
   "outputs": [],
   "source": [
    "# Store the Average Charge Data for the specific procedure Grouped by Provider \n",
    "# Filter the DataFrame down only to those columns to chart\n",
    "\n",
    "DRUG_POISONING_Average_Charge_for_data_grouped_by_Provider_df = DRUG_POISONING_data_grouped_by_Provider[[\"average_covered_charges\"]].mean().reset_index()\n",
    "\n",
    "# Preview DataFrame\n",
    "\n",
    "DRUG_POISONING_Average_Charge_for_data_grouped_by_Provider_df.head()\n"
   ]
  },
  {
   "cell_type": "code",
   "execution_count": null,
   "metadata": {},
   "outputs": [],
   "source": [
    "# Build a scatter plot for Total Discharge Volume vs Price\n",
    "plt.scatter(DRUG_POISONING_Total_Discharge_Volume_for_data_grouped_by_Provider_df[\"total_discharges\"], DRUG_POISONING_Average_Charge_for_data_grouped_by_Provider_df[\"average_covered_charges\"], marker=\"o\")\n",
    "\n",
    "# Incorporate the other graph properties\n",
    "plt.title(\"Hospital DRUG POISONING Treatment Volume vs. Charge\")\n",
    "plt.ylabel(\"Average Charge ($)\")\n",
    "plt.xlabel(\"Total Case Volume\")\n",
    "plt.grid(True)\n"
   ]
  },
  {
   "cell_type": "markdown",
   "metadata": {},
   "source": [
    "#  HEART FAILURE"
   ]
  },
  {
   "cell_type": "code",
   "execution_count": null,
   "metadata": {
    "scrolled": true
   },
   "outputs": [],
   "source": [
    "# Filter the data so that only a specific diagnosis is in the dataframe - HEARTFAILURE\n",
    "\n",
    "DataFrame_drg_HEARTFAILURE= DataFrame.loc[DataFrame[\"drg_definition\"] == \"291 - HEART FAILURE & SHOCK W MCC\", :]\n",
    "\n",
    "DataFrame_drg_HEARTFAILURE.head()\n"
   ]
  },
  {
   "cell_type": "code",
   "execution_count": null,
   "metadata": {},
   "outputs": [],
   "source": [
    "DataFrame_drg_HEARTFAILURE.describe()"
   ]
  },
  {
   "cell_type": "code",
   "execution_count": null,
   "metadata": {},
   "outputs": [],
   "source": [
    "# Calculate the Number of Unique Providers that serviced DRG HEART FAILURE diagnosis\n",
    "Unique_Provider_count_drg_HEARTFAILURE = len(DataFrame_drg_HEARTFAILURE[\"provider_id\"].unique())\n",
    "Unique_Provider_count_drg_HEARTFAILURE"
   ]
  },
  {
   "cell_type": "code",
   "execution_count": null,
   "metadata": {},
   "outputs": [],
   "source": [
    "# Calculate the Unique Number of hospital_referral_region_description that serviced DRG HEART FAILURE diagnosis in the DataFrame\n",
    "Unique_Hospital_Referral_Region_count_drg_HEARTFAILURE = len(DataFrame_drg_HEARTFAILURE[\"hospital_referral_region\"].unique())\n",
    "Unique_Hospital_Referral_Region_count_drg_HEARTFAILURE"
   ]
  },
  {
   "cell_type": "code",
   "execution_count": null,
   "metadata": {},
   "outputs": [],
   "source": [
    "# Calculate the Total Number of Discharges for DRG HEARTFAILURE diagnosis in the DataFrame\n",
    "Discharge_Count_drg_HEARTFAILURE = (DataFrame_drg_HEARTFAILURE[\"total_discharges\"].sum())\n",
    "Discharge_Count_drg_HEARTFAILURE"
   ]
  },
  {
   "cell_type": "code",
   "execution_count": null,
   "metadata": {},
   "outputs": [],
   "source": [
    "# Cacluate the average covered charges for DRG HEART FAILURE diagnosis\n",
    "Average_Covered_Charges_drg_HEARTFAILURE = DataFrame_drg_HEARTFAILURE[\"average_covered_charges\"].mean()\n",
    "Average_Covered_Charges_drg_HEARTFAILURE"
   ]
  },
  {
   "cell_type": "code",
   "execution_count": null,
   "metadata": {},
   "outputs": [],
   "source": [
    "# Cacluate the max covered charge amount for DRG HEARTFAILURE diagnosis\n",
    "Max_Covered_Charges_drg_HEARTFAILURE = DataFrame_drg_HEARTFAILURE[\"average_covered_charges\"].max()\n",
    "Max_Covered_Charges_drg_HEARTFAILURE"
   ]
  },
  {
   "cell_type": "code",
   "execution_count": null,
   "metadata": {},
   "outputs": [],
   "source": [
    "# Cacluate the min covered charge amount for DRG HEARTFAILURE PROCEDURES\n",
    "Min_Covered_Charges_drg_HEARTFAILURE = DataFrame_drg_HEARTFAILURE[\"average_covered_charges\"].min()\n",
    "Min_Covered_Charges_drg_HEARTFAILURE"
   ]
  },
  {
   "cell_type": "code",
   "execution_count": null,
   "metadata": {},
   "outputs": [],
   "source": [
    "# Calculate the Total Number of Unique Provider Zip Codes that serviced DRG HEARTFAILURE PROCEDURES\n",
    "Unique_Provider_ZipCode_Count_drg_HEARTFAILURE = len(DataFrame_drg_HEARTFAILURE[\"provider_zip_code\"].unique())\n",
    "Unique_Provider_ZipCode_Count_drg_HEARTFAILURE"
   ]
  },
  {
   "cell_type": "code",
   "execution_count": null,
   "metadata": {},
   "outputs": [],
   "source": [
    "# Create a summary data frame to hold the DRG HEARTFAILURE PROCEDURES Analysis Results\n",
    "\n",
    "DRG_Analysis_df_drg_HEARTFAILURE = pd.DataFrame([\n",
    "    {\"Unique Providers that serviced DRG HEARTFAILURE DIAGNOSIS\": Unique_Provider_count_drg_HEARTFAILURE, \n",
    "     \"Unique Provider Zip Codes that serviced DRG HEARTFAILURE DIAGNOSIS\": Unique_Provider_ZipCode_Count_drg_HEARTFAILURE, \n",
    "     \"Total Number of Discharges for DRG HEARTFAILURE DIAGNOSIS\": Discharge_Count_drg_HEARTFAILURE,\n",
    "     \"Average Charge for DRG HEARTFAILURE DIAGNOSIS\": Average_Covered_Charges_drg_HEARTFAILURE,\n",
    "     \"Max Charge for DRG HEARTFAILURE DIAGNOSIS\": Max_Covered_Charges_drg_HEARTFAILURE,\n",
    "     \"Min Charge for DRG HEARTFAILURE DIAGNOSIS\": Min_Covered_Charges_drg_HEARTFAILURE\n",
    "    }\n",
    "])\n",
    "DRG_Analysis_df_drg_HEARTFAILURE"
   ]
  },
  {
   "cell_type": "code",
   "execution_count": null,
   "metadata": {},
   "outputs": [],
   "source": [
    "# Give the displayed data to hold the DRG HEARTFAILURE PROCEDURES Analysis Results with cleaner formatting\n",
    "\n",
    "DRG_Analysis_Formatted_df_drg_HEARTFAILURE = DRG_Analysis_df_drg_HEARTFAILURE\n",
    "\n",
    "DRG_Analysis_Formatted_df_drg_HEARTFAILURE[\"Average Charge for DRG HEARTFAILURE DIAGNOSIS\"] = DRG_Analysis_df_drg_HEARTFAILURE[\"Average Charge for DRG HEARTFAILURE DIAGNOSIS\"].map(\"${:,.2f}\".format)\n",
    "DRG_Analysis_Formatted_df_drg_HEARTFAILURE[\"Max Charge for DRG HEARTFAILURE DIAGNOSIS\"] = DRG_Analysis_df_drg_HEARTFAILURE[\"Max Charge for DRG HEARTFAILURE DIAGNOSIS\"].map(\"${:,.2f}\".format)\n",
    "DRG_Analysis_Formatted_df_drg_HEARTFAILURE[\"Min Charge for DRG HEARTFAILURE DIAGNOSIS\"] = DRG_Analysis_df_drg_HEARTFAILURE[\"Min Charge for DRG HEARTFAILURE DIAGNOSIS\"].map(\"${:,.2f}\".format)\n",
    "\n",
    "DRG_Analysis_Formatted_df_drg_HEARTFAILURE"
   ]
  },
  {
   "cell_type": "code",
   "execution_count": null,
   "metadata": {},
   "outputs": [],
   "source": [
    "# Filter the data so that only a specific procedure in TN is in the dataframe\n",
    "\n",
    "DataFrame_drg_HEARTFAILURE_TN = DataFrame.loc[(DataFrame[\"drg_definition\"] == \"291 - HEART FAILURE & SHOCK W MCC\") & (DataFrame[\"provider_state\"] == \"TN\"), :]\n",
    "\n",
    "DataFrame_drg_HEARTFAILURE_TN.head()"
   ]
  },
  {
   "cell_type": "code",
   "execution_count": null,
   "metadata": {},
   "outputs": [],
   "source": [
    "# Display a statistical overview of the HEARTFAILURE PROCEDURES TN DataFrame for reference\n",
    "\n",
    "DataFrame_drg_HEARTFAILURE_TN.describe()"
   ]
  },
  {
   "cell_type": "code",
   "execution_count": null,
   "metadata": {},
   "outputs": [],
   "source": [
    "# Calculate the Number of Unique Providers that serviced DRG HEARTFAILURE PROCEDURES in TN\n",
    "Unique_Provider_count_drg_HEARTFAILURE_TN = len(DataFrame_drg_HEARTFAILURE_TN[\"provider_id\"].unique())\n",
    "Unique_Provider_count_drg_HEARTFAILURE_TN"
   ]
  },
  {
   "cell_type": "code",
   "execution_count": null,
   "metadata": {},
   "outputs": [],
   "source": [
    "# Calculate the Unique Number of hospital_referral_region_description that serviced DRG HEARTFAILURE PROCEDURES in TN\n",
    "Unique_Hospital_Referral_Region_count_drg_HEARTFAILURE_TN = len(DataFrame_drg_HEARTFAILURE_TN[\"hospital_referral_region\"].unique())\n",
    "Unique_Hospital_Referral_Region_count_drg_HEARTFAILURE_TN"
   ]
  },
  {
   "cell_type": "code",
   "execution_count": null,
   "metadata": {},
   "outputs": [],
   "source": [
    "# Calculate the Total Number of Discharges for DRG HEARTFAILURE PROCEDURES in TN\n",
    "Discharge_Count_drg_HEARTFAILURE_TN = (DataFrame_drg_HEARTFAILURE_TN[\"total_discharges\"].sum())\n",
    "Discharge_Count_drg_HEARTFAILURE_TN"
   ]
  },
  {
   "cell_type": "code",
   "execution_count": null,
   "metadata": {},
   "outputs": [],
   "source": [
    "# Cacluate the average covered charges for DRG HEARTFAILURE PROCEDURES in TN\n",
    "Average_Covered_Charges_drg_HEARTFAILURE_TN = DataFrame_drg_HEARTFAILURE_TN[\"average_covered_charges\"].mean()\n",
    "Average_Covered_Charges_drg_HEARTFAILURE_TN"
   ]
  },
  {
   "cell_type": "code",
   "execution_count": null,
   "metadata": {},
   "outputs": [],
   "source": [
    "# Cacluate the min covered charge amount for DRG HEART FAILURE PROCEDURES in TN\n",
    "Min_Covered_Charges_drg_HEARTFAILURE_TN = DataFrame_drg_HEARTFAILURE_TN[\"average_covered_charges\"].min()\n",
    "Min_Covered_Charges_drg_HEARTFAILURE_TN"
   ]
  },
  {
   "cell_type": "code",
   "execution_count": null,
   "metadata": {},
   "outputs": [],
   "source": [
    "# Cacluate the max covered charge amount for DRG HEARTFAILURE PROCEDURES in TN\n",
    "Max_Covered_Charges_drg_HEARTFAILURE_TN = DataFrame_drg_HEARTFAILURE_TN[\"average_covered_charges\"].max()\n",
    "Max_Covered_Charges_drg_HEARTFAILURE_TN"
   ]
  },
  {
   "cell_type": "code",
   "execution_count": null,
   "metadata": {},
   "outputs": [],
   "source": [
    "# Calculate the Total Number of Unique Provider Zip Codes that serviced DRG HEARTFAILURE PROCEDURES in TN\n",
    "Unique_Provider_ZipCode_Count_drg_HEARTFAILURE_TN = len(DataFrame_drg_HEARTFAILURE_TN[\"provider_zip_code\"].unique())\n",
    "Unique_Provider_ZipCode_Count_drg_HEARTFAILURE_TN"
   ]
  },
  {
   "cell_type": "code",
   "execution_count": null,
   "metadata": {},
   "outputs": [],
   "source": [
    "# Create a summary data frame to hold the DRG HEARTFAILURE PROCEDURES in TN Analysis Results\n",
    "\n",
    "DRG_Analysis_df_drg_HEARTFAILURE_TN = pd.DataFrame([\n",
    "    {\"Unique Providers that serviced DRG HEARTFAILURE DIAGNOSIS in TN\": Unique_Provider_count_drg_HEARTFAILURE_TN, \n",
    "     \"Unique Provider Zip Codes that serviced DRG HEARTFAILURE DIAGNOSIS in TN\": Unique_Provider_ZipCode_Count_drg_HEARTFAILURE_TN, \n",
    "     \"Total Number of Discharges for DRG HEARTFAILURE DIAGNOSIS in TN\": Discharge_Count_drg_HEARTFAILURE_TN,\n",
    "     \"Average Charge for DRG HEARTFAILURE DIAGNOSIS in TN\": Average_Covered_Charges_drg_HEARTFAILURE_TN,\n",
    "     \"Max Charge for DRG HEARTFAILURE DIAGNOSIS in TN\": Max_Covered_Charges_drg_HEARTFAILURE_TN,\n",
    "     \"Min Charge for DRG HEARTFAILURE DIAGNOSIS in TN\": Min_Covered_Charges_drg_HEARTFAILURE_TN\n",
    "    }\n",
    "])\n",
    "DRG_Analysis_df_drg_HEARTFAILURE_TN"
   ]
  },
  {
   "cell_type": "code",
   "execution_count": null,
   "metadata": {},
   "outputs": [],
   "source": [
    "# Give the displayed data to hold the DRG HEARTFAILURE PROCEDURES in TN Analysis Results with cleaner formatting\n",
    "\n",
    "DRG_Analysis_Formatted_df_drg_HEARTFAILURE_TN = DRG_Analysis_df_drg_HEARTFAILURE_TN\n",
    "\n",
    "DRG_Analysis_Formatted_df_drg_HEARTFAILURE_TN[\"Average Charge for DRG HEARTFAILURE DIAGNOSIS in TN\"] = DRG_Analysis_df_drg_HEARTFAILURE_TN[\"Average Charge for DRG HEARTFAILURE DIAGNOSIS in TN\"].map(\"${:,.2f}\".format)\n",
    "DRG_Analysis_Formatted_df_drg_HEARTFAILURE_TN[\"Max Charge for DRG HEARTFAILURE DIAGNOSIS in TN\"] = DRG_Analysis_df_drg_HEARTFAILURE_TN[\"Max Charge for DRG HEARTFAILURE DIAGNOSIS in TN\"].map(\"${:,.2f}\".format)\n",
    "DRG_Analysis_Formatted_df_drg_HEARTFAILURE_TN[\"Min Charge for DRG HEARTFAILURE DIAGNOSIS in TN\"] = DRG_Analysis_df_drg_HEARTFAILURE_TN[\"Min Charge for DRG HEARTFAILURE DIAGNOSIS in TN\"].map(\"${:,.2f}\".format)\n",
    "\n",
    "DRG_Analysis_Formatted_df_drg_HEARTFAILURE_TN"
   ]
  },
  {
   "cell_type": "code",
   "execution_count": null,
   "metadata": {},
   "outputs": [],
   "source": [
    "# Store the Average Charge Data for the specific procedure Grouped by Region by splitting up the data into groups based upon 'Region'\n",
    "# Filter the DataFrame down only to those columns to chart\n",
    "HEARTFAILURE_data_grouped_by_Region_in_TN = DataFrame_drg_HEARTFAILURE_TN.groupby(['hospital_referral_region'])\n",
    "\n",
    "# Convert to DataFrame\n",
    "\n",
    "HEARTFAILURE_Avg_Charge_data_grouped_by_Region_in_TN_df = HEARTFAILURE_data_grouped_by_Region_in_TN[[\"average_covered_charges\"]].mean().reset_index()\n",
    "\n",
    "# Preview DataFrame\n",
    "\n",
    "HEARTFAILURE_Avg_Charge_data_grouped_by_Region_in_TN_df.head()"
   ]
  },
  {
   "cell_type": "code",
   "execution_count": null,
   "metadata": {},
   "outputs": [],
   "source": [
    "# Create list to store data of the Regions in TN for the specific procedure\n",
    "\n",
    "drg_HEARTFAILURE_TN_Region_List = []\n",
    "\n",
    "for Region in HEARTFAILURE_Avg_Charge_data_grouped_by_Region_in_TN_df[\"hospital_referral_region\"]:\n",
    "    if Region not in drg_HEARTFAILURE_TN_Region_List:\n",
    "        drg_HEARTFAILURE_TN_Region_List.append(Region)\n",
    "        \n",
    "drg_HEARTFAILURE_TN_Region_List"
   ]
  },
  {
   "cell_type": "code",
   "execution_count": null,
   "metadata": {},
   "outputs": [],
   "source": [
    "# Create list to store data of the Average Charge by Region in TN for the specific procedure\n",
    "\n",
    "drg_HEARTFAILURE_TN_Average_Covered_Charge_List = []\n",
    "\n",
    "for Charge in HEARTFAILURE_Avg_Charge_data_grouped_by_Region_in_TN_df[\"average_covered_charges\"]:\n",
    "    if Charge not in drg_HEARTFAILURE_TN_Average_Covered_Charge_List:\n",
    "        drg_HEARTFAILURE_TN_Average_Covered_Charge_List.append(Charge)\n",
    "        \n",
    "drg_HEARTFAILURE_TN_Average_Covered_Charge_List"
   ]
  },
  {
   "cell_type": "code",
   "execution_count": null,
   "metadata": {},
   "outputs": [],
   "source": [
    "# Create a DataFrame of the Average Charge by Region in TN for the specific procedure by merging the lists\n",
    "Average_Charge_of_HEARTFAILURE_per_Region_TN = pd.DataFrame({\n",
    "    \"DRG\": \"291 - HEART FAILURE & SHOCK W MCC\",\n",
    "    \"Region\": drg_HEARTFAILURE_TN_Region_List,\n",
    "    \"Average Charge\": drg_HEARTFAILURE_TN_Average_Covered_Charge_List\n",
    "})\n",
    "Average_Charge_of_HEARTFAILURE_per_Region_TN"
   ]
  },
  {
   "cell_type": "code",
   "execution_count": null,
   "metadata": {},
   "outputs": [],
   "source": [
    "# Create a Bar Chart of the Average Charge per Region for HEARTFAILURE PROCEDURES in TN\n",
    "\n",
    "drg_HEARTFAILURE_TN_Average_Covered_Charge_List_Values = drg_HEARTFAILURE_TN_Average_Covered_Charge_List\n",
    "drg_HEARTFAILURE_TN_Region_List_Values = drg_HEARTFAILURE_TN_Region_List\n",
    "x_axis = np.arange(len(drg_HEARTFAILURE_TN_Region_List))\n",
    "\n",
    "plt.bar(x_axis, drg_HEARTFAILURE_TN_Average_Covered_Charge_List_Values, alpha=0.5, align=\"center\")\n",
    "\n",
    "tick_locations = [value for value in x_axis]\n",
    "plt.xticks(tick_locations, drg_HEARTFAILURE_TN_Region_List_Values, rotation=\"vertical\")\n",
    "\n",
    "plt.xlim(-0.75, len(x_axis)-0.25)\n",
    "\n",
    "plt.title(\"Average Charge per Region for HEART FAILURE diagnosis in TN\")\n",
    "plt.ylabel(\"Average Charge ($)\")\n",
    "plt.xlabel(\"Hospital Referral Region\")"
   ]
  },
  {
   "cell_type": "code",
   "execution_count": null,
   "metadata": {},
   "outputs": [],
   "source": [
    "# Filter the data so that only a specific procedure in Nashville TN is in the dataframe\n",
    "\n",
    "DataFrame_drg_HEARTFAILURE_TN_Nashville = DataFrame.loc[(DataFrame[\"drg_definition\"] == \"291 - HEART FAILURE & SHOCK W MCC\") & (DataFrame[\"provider_state\"] == \"TN\") & (DataFrame[\"hospital_referral_region\"] == \"TN - Nashville\"),:]\n",
    "\n",
    "DataFrame_drg_HEARTFAILURE_TN_Nashville.head()"
   ]
  },
  {
   "cell_type": "code",
   "execution_count": null,
   "metadata": {},
   "outputs": [],
   "source": [
    "# Display a statistical overview of the HEARTFAILURE PROCEDURES Nashville TN DataFrame for reference\n",
    "\n",
    "DataFrame_drg_HEARTFAILURE_TN_Nashville.describe()"
   ]
  },
  {
   "cell_type": "code",
   "execution_count": null,
   "metadata": {},
   "outputs": [],
   "source": [
    "# Calculate the Number of Unique Providers that serviced DRG HEARTFAILURE PROCEDURES in Nashville TN\n",
    "Unique_Provider_count_drg_HEARTFAILURE_TN_Nashville = len(DataFrame_drg_HEARTFAILURE_TN_Nashville[\"provider_id\"].unique())\n",
    "Unique_Provider_count_drg_HEARTFAILURE_TN_Nashville"
   ]
  },
  {
   "cell_type": "code",
   "execution_count": null,
   "metadata": {},
   "outputs": [],
   "source": [
    "# Calculate the Total Number of Discharges for DRG HEARTFAILURE PROCEDURES in Nasvhville TN\n",
    "Discharge_Count_drg_HEARTFAILURE_TN_Nashville = (DataFrame_drg_HEARTFAILURE_TN_Nashville[\"total_discharges\"].sum())\n",
    "Discharge_Count_drg_HEARTFAILURE_TN_Nashville"
   ]
  },
  {
   "cell_type": "code",
   "execution_count": null,
   "metadata": {},
   "outputs": [],
   "source": [
    "# Cacluate the average covered charges for DRG HEARTFAILURE PROCEDURES in Nashville TN\n",
    "Average_Covered_Charges_drg_HEARTFAILURE_TN_Nashville = DataFrame_drg_HEARTFAILURE_TN_Nashville[\"average_covered_charges\"].mean()\n",
    "Average_Covered_Charges_drg_HEARTFAILURE_TN_Nashville"
   ]
  },
  {
   "cell_type": "code",
   "execution_count": null,
   "metadata": {},
   "outputs": [],
   "source": [
    "# Cacluate the min covered charge amount for DRG HEARTFAILURE PROCEDURES in Nashville TN\n",
    "Min_Covered_Charges_drg_HEARTFAILURE_TN_Nashville = DataFrame_drg_HEARTFAILURE_TN_Nashville[\"average_covered_charges\"].min()\n",
    "Min_Covered_Charges_drg_HEARTFAILURE_TN_Nashville"
   ]
  },
  {
   "cell_type": "code",
   "execution_count": null,
   "metadata": {},
   "outputs": [],
   "source": [
    "# Cacluate the max covered charge amount for DRG HEARTFAILURE PROCEDURES in Nashville TN\n",
    "Max_Covered_Charges_drg_HEARTFAILURE_TN_Nashville = DataFrame_drg_HEARTFAILURE_TN_Nashville[\"average_covered_charges\"].max()\n",
    "Max_Covered_Charges_drg_HEARTFAILURE_TN_Nashville"
   ]
  },
  {
   "cell_type": "code",
   "execution_count": null,
   "metadata": {},
   "outputs": [],
   "source": [
    "# Calculate the Total Number of Unique Provider Zip Codes that serviced DRG HEARTFAILURE PROCEDURES in Nashville TN\n",
    "Unique_Provider_ZipCode_Count_drg_HEARTFAILURE_TN_Nashville = len(DataFrame_drg_HEARTFAILURE_TN_Nashville[\"provider_zip_code\"].unique())\n",
    "Unique_Provider_ZipCode_Count_drg_HEARTFAILURE_TN_Nashville"
   ]
  },
  {
   "cell_type": "code",
   "execution_count": null,
   "metadata": {},
   "outputs": [],
   "source": [
    "# Create a summary data frame to hold the DRG HEARTFAILURE PROCEDURES in Nashville TN Analysis Results\n",
    "\n",
    "DRG_Analysis_df_drg_HEARTFAILURE_TN_Nashville = pd.DataFrame([\n",
    "    {\"Unique Providers that serviced DRG HEARTFAILURE PROCEDURES in Nashville TN\": Unique_Provider_count_drg_HEARTFAILURE_TN_Nashville, \n",
    "     \"Unique Provider Zip Codes that serviced DRG HEARTFAILURE DIAGNOSIS in Nashville TN\": Unique_Provider_ZipCode_Count_drg_HEARTFAILURE_TN_Nashville, \n",
    "     \"Total Number of Discharges for DRG HEARTFAILURE DIAGNOSIS in Nashville TN\": Discharge_Count_drg_HEARTFAILURE_TN_Nashville,\n",
    "     \"Average Charge for DRG HEARTFAILURE DIAGNOSIS in Nashville TN\": Average_Covered_Charges_drg_HEARTFAILURE_TN_Nashville,\n",
    "     \"Max Charge for DRG HEARTFAILURE DIAGNOSIS in Nashville TN\": Max_Covered_Charges_drg_HEARTFAILURE_TN_Nashville,\n",
    "     \"Min Charge for DRG HEARTFAILURE DIAGNOSIS in Nashville TN\": Min_Covered_Charges_drg_HEARTFAILURE_TN_Nashville\n",
    "    }\n",
    "])\n",
    "DRG_Analysis_df_drg_HEARTFAILURE_TN_Nashville"
   ]
  },
  {
   "cell_type": "code",
   "execution_count": null,
   "metadata": {},
   "outputs": [],
   "source": [
    "# Give the displayed data to hold the DRG HEARTFAILURE PROCEDURES in Nasvhille TN Analysis Results with cleaner formatting\n",
    "\n",
    "DRG_Analysis_Formatted_df_drg_HEARTFAILURE_TN_Nashville = DRG_Analysis_df_drg_HEARTFAILURE_TN_Nashville\n",
    "\n",
    "DRG_Analysis_Formatted_df_drg_HEARTFAILURE_TN_Nashville[\"Average Charge for DRG HEARTFAILURE DIAGNOSIS in Nashville TN\"] = DRG_Analysis_df_drg_HEARTFAILURE_TN_Nashville[\"Average Charge for DRG HEARTFAILURE DIAGNOSIS in Nashville TN\"].map(\"${:,.2f}\".format)\n",
    "DRG_Analysis_Formatted_df_drg_HEARTFAILURE_TN_Nashville[\"Max Charge for DRG HEARTFAILURE DIAGNOSIS in Nashville TN\"] = DRG_Analysis_df_drg_HEARTFAILURE_TN_Nashville[\"Max Charge for DRG HEARTFAILURE DIAGNOSIS in Nashville TN\"].map(\"${:,.2f}\".format)\n",
    "DRG_Analysis_Formatted_df_drg_HEARTFAILURE_TN_Nashville[\"Min Charge for DRG HEARTFAILURE DIAGNOSIS in Nashville TN\"] = DRG_Analysis_df_drg_HEARTFAILURE_TN_Nashville[\"Min Charge for DRG HEARTFAILURE DIAGNOSIS in Nashville TN\"].map(\"${:,.2f}\".format)\n",
    "\n",
    "DRG_Analysis_Formatted_df_drg_HEARTFAILURE_TN_Nashville"
   ]
  },
  {
   "cell_type": "code",
   "execution_count": null,
   "metadata": {},
   "outputs": [],
   "source": [
    "# Create list to store data of the Providers in Nashville for the specific procedure\n",
    "\n",
    "drg_HEARTFAILURE_TN_Nashville_ProviderList = []\n",
    "\n",
    "for Provider in DataFrame_drg_HEARTFAILURE_TN_Nashville[\"provider_name\"]:\n",
    "    if Provider not in drg_HEARTFAILURE_TN_Nashville_ProviderList:\n",
    "        drg_HEARTFAILURE_TN_Nashville_ProviderList.append(Provider)\n",
    "        \n",
    "drg_HEARTFAILURE_TN_Nashville_ProviderList"
   ]
  },
  {
   "cell_type": "code",
   "execution_count": null,
   "metadata": {},
   "outputs": [],
   "source": [
    "# Create list to store data of the Average Charge in Nashville for the specific procedure\n",
    "\n",
    "drg_HEARTFAILURE_TN_Nashville_Average_Covered_Charge_List = []\n",
    "\n",
    "for Charge in DataFrame_drg_HEARTFAILURE_TN_Nashville[\"average_covered_charges\"]:\n",
    "    if Charge not in drg_HEARTFAILURE_TN_Nashville_Average_Covered_Charge_List:\n",
    "        drg_HEARTFAILURE_TN_Nashville_Average_Covered_Charge_List.append(Charge)\n",
    "        \n",
    "drg_HEARTFAILURE_TN_Nashville_Average_Covered_Charge_List"
   ]
  },
  {
   "cell_type": "code",
   "execution_count": null,
   "metadata": {},
   "outputs": [],
   "source": [
    "# Create a DataFrame of the Average Charge of HEARTFAILURE per Provider in Nashville by merging the lists\n",
    "Average_Charge_of_HEARTFAILURE_per_Provider_Nashvile_df = pd.DataFrame({\n",
    "    \"DRG\": \"291 - HEART FAILURE & SHOCK W MCC\",\n",
    "    \"Provider\": drg_HEARTFAILURE_TN_Nashville_ProviderList,\n",
    "    \"Average Charge\": drg_HEARTFAILURE_TN_Nashville_Average_Covered_Charge_List\n",
    "})\n",
    "Average_Charge_of_HEARTFAILURE_per_Provider_Nashvile_df"
   ]
  },
  {
   "cell_type": "code",
   "execution_count": null,
   "metadata": {},
   "outputs": [],
   "source": [
    "# Create a Bar Chart\n",
    "\n",
    "AverageChargeValue = drg_HEARTFAILURE_TN_Nashville_Average_Covered_Charge_List\n",
    "ProviderValues = drg_HEARTFAILURE_TN_Nashville_ProviderList\n",
    "x_axis = np.arange(len(drg_HEARTFAILURE_TN_Nashville_ProviderList))\n",
    "\n",
    "plt.bar(x_axis, AverageChargeValue, alpha=0.5, align=\"center\")\n",
    "\n",
    "tick_locations = [value for value in x_axis]\n",
    "plt.xticks(tick_locations, ProviderValues, rotation=\"vertical\")\n",
    "\n",
    "plt.xlim(-0.75, len(x_axis)-0.25)\n",
    "\n",
    "plt.title(\"Average Charge per Provider for HEART FAILURE diagnosis in Nashville\")\n",
    "plt.ylabel(\"Average Charge ($)\")\n",
    "plt.xlabel (\"Providers in Nashville\")"
   ]
  },
  {
   "cell_type": "code",
   "execution_count": null,
   "metadata": {},
   "outputs": [],
   "source": [
    "# Store the Average Charge Data for the specific procedure Grouped by State by splitting up the data into groups based upon 'State'\n",
    "# Filter the DataFrame down only to those columns to chart\n",
    "Average_HEARTFAILURE_Charge_for_data_grouped_by_State = DataFrame_drg_HEARTFAILURE.groupby(['provider_state'])\n",
    "\n",
    "# # Convert to DataFrame\n",
    "\n",
    "Average_HEARTFAILURE_Charge_for_data_grouped_by_State_df = Average_HEARTFAILURE_Charge_for_data_grouped_by_State[[\"average_covered_charges\"]].mean().reset_index()\n",
    "\n",
    "# Preview DataFrame\n",
    "\n",
    "Average_HEARTFAILURE_Charge_for_data_grouped_by_State_df.head()"
   ]
  },
  {
   "cell_type": "code",
   "execution_count": null,
   "metadata": {},
   "outputs": [],
   "source": [
    "# Create list to store data of the States for the specific procedure\n",
    "\n",
    "drg_HEARTFAILURE_State_List = []\n",
    "\n",
    "for State in Average_HEARTFAILURE_Charge_for_data_grouped_by_State_df[\"provider_state\"]:\n",
    "    if State not in drg_HEARTFAILURE_State_List:\n",
    "        drg_HEARTFAILURE_State_List.append(State)\n",
    "        \n",
    "drg_HEARTFAILURE_State_List"
   ]
  },
  {
   "cell_type": "code",
   "execution_count": null,
   "metadata": {},
   "outputs": [],
   "source": [
    "# Create list to store data of the Average Charge by State for the specific procedure\n",
    "\n",
    "drg_HEARTFAILURE_Average_Covered_Charge_by_State_List = []\n",
    "\n",
    "for Charge in Average_HEARTFAILURE_Charge_for_data_grouped_by_State_df[\"average_covered_charges\"]:\n",
    "    if Charge not in drg_HEARTFAILURE_Average_Covered_Charge_by_State_List:\n",
    "        drg_HEARTFAILURE_Average_Covered_Charge_by_State_List.append(Charge)\n",
    "        \n",
    "drg_HEARTFAILURE_Average_Covered_Charge_by_State_List"
   ]
  },
  {
   "cell_type": "code",
   "execution_count": null,
   "metadata": {},
   "outputs": [],
   "source": [
    "# Create a DataFrame of the Average Charge by State for the specific procedure by merging the lists\n",
    "Average_Charge_of_HEARTFAILURE_per_State = pd.DataFrame({\n",
    "    \"DRG\": \"291 - HEART FAILURE & SHOCK W MCC\",\n",
    "    \"State\": drg_HEARTFAILURE_State_List,\n",
    "    \"Average Charge\": drg_HEARTFAILURE_Average_Covered_Charge_by_State_List\n",
    "})\n",
    "Average_Charge_of_HEARTFAILURE_per_State"
   ]
  },
  {
   "cell_type": "code",
   "execution_count": null,
   "metadata": {},
   "outputs": [],
   "source": [
    "# Create a Bar Chart of the Average Charge per State for HEARTFAILURE PROCEDURES\n",
    "\n",
    "drg_HEARTFAILURE_Average_Covered_Charge_by_State_List_Values = drg_HEARTFAILURE_Average_Covered_Charge_by_State_List\n",
    "drg_HEARTFAILURE_State_List_Values = drg_HEARTFAILURE_State_List\n",
    "x_axis = np.arange(len(drg_HEARTFAILURE_State_List))\n",
    "\n",
    "plt.figure(figsize=(20,5))\n",
    "plt.bar(x_axis, drg_HEARTFAILURE_Average_Covered_Charge_by_State_List_Values, alpha=0.5, align=\"center\")\n",
    "\n",
    "tick_locations = [value for value in x_axis]\n",
    "plt.xticks(tick_locations, drg_HEARTFAILURE_State_List_Values, rotation=\"vertical\")\n",
    "\n",
    "plt.xlim(-0.75, len(x_axis)-0.25)\n",
    "\n",
    "plt.title(\"Average Charge per State for HEART FAILURE Diagnosis\")\n",
    "plt.ylabel(\"Average Charge ($)\")\n",
    "plt.xlabel(\"USA states\")"
   ]
  },
  {
   "cell_type": "code",
   "execution_count": null,
   "metadata": {},
   "outputs": [],
   "source": [
    "# Store the Total Discharge Volume Data for the specific procedure Grouped by Provider by splitting up the data into groups based upon 'Provider'\n",
    "# Filter the DataFrame down only to those columns to chart\n",
    "HEARTFAILURE_data_grouped_by_Provider = DataFrame_drg_HEARTFAILURE.groupby(['provider_name'])\n",
    "\n",
    "# # Convert to DataFrame\n",
    "\n",
    "HEARTFAILURE_Total_Discharge_Volume_for_data_grouped_by_Provider_df = HEARTFAILURE_data_grouped_by_Provider[[\"total_discharges\"]].sum().reset_index()\n",
    "\n",
    "# Preview DataFrame\n",
    "\n",
    "HEARTFAILURE_Total_Discharge_Volume_for_data_grouped_by_Provider_df.head()"
   ]
  },
  {
   "cell_type": "code",
   "execution_count": null,
   "metadata": {},
   "outputs": [],
   "source": [
    "# Store the Average Charge Data for the specific procedure Grouped by Provider \n",
    "# Filter the DataFrame down only to those columns to chart\n",
    "\n",
    "HEARTFAILURE_Average_Charge_for_data_grouped_by_Provider_df = HEARTFAILURE_data_grouped_by_Provider[[\"average_covered_charges\"]].mean().reset_index()\n",
    "\n",
    "# Preview DataFrame\n",
    "\n",
    "HEARTFAILURE_Average_Charge_for_data_grouped_by_Provider_df.head()"
   ]
  },
  {
   "cell_type": "code",
   "execution_count": null,
   "metadata": {},
   "outputs": [],
   "source": [
    "# Build a scatter plot for Total Discharge Volume vs Price\n",
    "plt.scatter(HEARTFAILURE_Total_Discharge_Volume_for_data_grouped_by_Provider_df[\"total_discharges\"], HEARTFAILURE_Average_Charge_for_data_grouped_by_Provider_df[\"average_covered_charges\"], marker=\"o\")\n",
    "\n",
    "# Incorporate the other graph properties\n",
    "plt.title(\"Hospital HEART FAILURE diagnosis volume vs. Charge\")\n",
    "plt.ylabel(\"Average Charge ($)\")\n",
    "plt.xlabel(\"Total Discharges\")\n",
    "plt.grid(True)"
   ]
  },
  {
   "cell_type": "code",
   "execution_count": null,
   "metadata": {},
   "outputs": [],
   "source": []
  },
  {
   "cell_type": "code",
   "execution_count": null,
   "metadata": {},
   "outputs": [],
   "source": []
  },
  {
   "cell_type": "code",
   "execution_count": null,
   "metadata": {},
   "outputs": [],
   "source": []
  },
  {
   "cell_type": "code",
   "execution_count": null,
   "metadata": {},
   "outputs": [],
   "source": []
  },
  {
   "cell_type": "code",
   "execution_count": null,
   "metadata": {},
   "outputs": [],
   "source": []
  }
 ],
 "metadata": {
  "anaconda-cloud": {},
  "kernel_info": {
   "name": "python3"
  },
  "kernelspec": {
   "display_name": "Python 3",
   "language": "python",
   "name": "python3"
  },
  "language_info": {
   "codemirror_mode": {
    "name": "ipython",
    "version": 3
   },
   "file_extension": ".py",
   "mimetype": "text/x-python",
   "name": "python",
   "nbconvert_exporter": "python",
   "pygments_lexer": "ipython3",
   "version": "3.7.4"
  },
  "nteract": {
   "version": "0.12.3"
  }
 },
 "nbformat": 4,
 "nbformat_minor": 2
}
